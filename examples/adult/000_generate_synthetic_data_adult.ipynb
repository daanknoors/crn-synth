{
 "cells": [
  {
   "cell_type": "markdown",
   "metadata": {},
   "source": [
    "# Generate synthetic data\n",
    "Generating synthetic data using public libraries for the 'adult' dataset."
   ]
  },
  {
   "cell_type": "markdown",
   "metadata": {},
   "source": [
    "## Load libraries and define settings"
   ]
  },
  {
   "cell_type": "code",
   "execution_count": 1,
   "metadata": {
    "ExecuteTime": {
     "end_time": "2024-04-02T12:30:06.994179Z",
     "start_time": "2024-04-02T12:30:06.992447Z"
    }
   },
   "outputs": [],
   "source": [
    "# general dependencies\n",
    "import numpy as np\n",
    "import pandas as pd\n",
    "import matplotlib.pyplot as plt\n",
    "import seaborn as sns\n",
    "import sys\n",
    "import os\n",
    "from pathlib import Path"
   ]
  },
  {
   "cell_type": "code",
   "execution_count": 10,
   "metadata": {
    "ExecuteTime": {
     "end_time": "2024-04-02T12:30:33.859859Z",
     "start_time": "2024-04-02T12:30:33.844112Z"
    }
   },
   "outputs": [],
   "source": [
    "# package\n",
    "from crnsynth.generators.marginal_generator import MarginalGenerator\n",
    "from crnsynth.generators.privbayes import PrivBayes\n",
    "\n",
    "from crnsynth.process import preprocessing, generalization, synthesization, postprocessing\n",
    "from crnsynth.process.generalization import NumericGeneralizationMech"
   ]
  },
  {
   "cell_type": "code",
   "outputs": [],
   "source": [
    "from examples.adult import adult_synthesis"
   ],
   "metadata": {
    "collapsed": false,
    "ExecuteTime": {
     "end_time": "2024-04-02T12:30:08.937628Z",
     "start_time": "2024-04-02T12:30:08.933467Z"
    }
   },
   "execution_count": 3
  },
  {
   "cell_type": "code",
   "execution_count": 4,
   "metadata": {
    "ExecuteTime": {
     "end_time": "2024-04-02T12:30:09.727378Z",
     "start_time": "2024-04-02T12:30:09.708081Z"
    }
   },
   "outputs": [],
   "source": [
    "# autoreload changes from local files\n",
    "%load_ext autoreload\n",
    "%autoreload 2\n",
    "\n",
    "# pandas show full output\n",
    "pd.set_option('display.max_rows', 500)\n",
    "pd.set_option('display.max_columns', 200)"
   ]
  },
  {
   "cell_type": "code",
   "execution_count": 5,
   "metadata": {
    "ExecuteTime": {
     "end_time": "2024-04-02T12:30:10.226649Z",
     "start_time": "2024-04-02T12:30:10.212726Z"
    }
   },
   "outputs": [],
   "source": [
    "# privacy budget for differentially private algorithms\n",
    "EPSILON = 1\n",
    "\n",
    "# dataset\n",
    "DATASET_NAME = 'adult'\n",
    "\n",
    "# other\n",
    "RANDOM_STATE = 42\n",
    "VERBOSE = 1"
   ]
  },
  {
   "cell_type": "markdown",
   "metadata": {},
   "source": [
    "## Load and process dataset"
   ]
  },
  {
   "cell_type": "code",
   "execution_count": 6,
   "metadata": {
    "ExecuteTime": {
     "end_time": "2024-04-02T12:30:11.227425Z",
     "start_time": "2024-04-02T12:30:11.179992Z"
    }
   },
   "outputs": [
    {
     "data": {
      "text/plain": "   age         workclass  fnlwgt  education  education-num  \\\n0   39         State-gov   77516  Bachelors             13   \n1   50  Self-emp-not-inc   83311  Bachelors             13   \n2   38           Private  215646    HS-grad              9   \n3   53           Private  234721       11th              7   \n4   28           Private  338409  Bachelors             13   \n\n       marital-status         occupation   relationship   race     sex  \\\n0       Never-married       Adm-clerical  Not-in-family  White    Male   \n1  Married-civ-spouse    Exec-managerial        Husband  White    Male   \n2            Divorced  Handlers-cleaners  Not-in-family  White    Male   \n3  Married-civ-spouse  Handlers-cleaners        Husband  Black    Male   \n4  Married-civ-spouse     Prof-specialty           Wife  Black  Female   \n\n   capital-gain  capital-loss  hours-per-week native-country income  \n0          2174             0              40  United-States  <=50K  \n1             0             0              13  United-States  <=50K  \n2             0             0              40  United-States  <=50K  \n3             0             0              40  United-States  <=50K  \n4             0             0              40           Cuba  <=50K  ",
      "text/html": "<div>\n<style scoped>\n    .dataframe tbody tr th:only-of-type {\n        vertical-align: middle;\n    }\n\n    .dataframe tbody tr th {\n        vertical-align: top;\n    }\n\n    .dataframe thead th {\n        text-align: right;\n    }\n</style>\n<table border=\"1\" class=\"dataframe\">\n  <thead>\n    <tr style=\"text-align: right;\">\n      <th></th>\n      <th>age</th>\n      <th>workclass</th>\n      <th>fnlwgt</th>\n      <th>education</th>\n      <th>education-num</th>\n      <th>marital-status</th>\n      <th>occupation</th>\n      <th>relationship</th>\n      <th>race</th>\n      <th>sex</th>\n      <th>capital-gain</th>\n      <th>capital-loss</th>\n      <th>hours-per-week</th>\n      <th>native-country</th>\n      <th>income</th>\n    </tr>\n  </thead>\n  <tbody>\n    <tr>\n      <th>0</th>\n      <td>39</td>\n      <td>State-gov</td>\n      <td>77516</td>\n      <td>Bachelors</td>\n      <td>13</td>\n      <td>Never-married</td>\n      <td>Adm-clerical</td>\n      <td>Not-in-family</td>\n      <td>White</td>\n      <td>Male</td>\n      <td>2174</td>\n      <td>0</td>\n      <td>40</td>\n      <td>United-States</td>\n      <td>&lt;=50K</td>\n    </tr>\n    <tr>\n      <th>1</th>\n      <td>50</td>\n      <td>Self-emp-not-inc</td>\n      <td>83311</td>\n      <td>Bachelors</td>\n      <td>13</td>\n      <td>Married-civ-spouse</td>\n      <td>Exec-managerial</td>\n      <td>Husband</td>\n      <td>White</td>\n      <td>Male</td>\n      <td>0</td>\n      <td>0</td>\n      <td>13</td>\n      <td>United-States</td>\n      <td>&lt;=50K</td>\n    </tr>\n    <tr>\n      <th>2</th>\n      <td>38</td>\n      <td>Private</td>\n      <td>215646</td>\n      <td>HS-grad</td>\n      <td>9</td>\n      <td>Divorced</td>\n      <td>Handlers-cleaners</td>\n      <td>Not-in-family</td>\n      <td>White</td>\n      <td>Male</td>\n      <td>0</td>\n      <td>0</td>\n      <td>40</td>\n      <td>United-States</td>\n      <td>&lt;=50K</td>\n    </tr>\n    <tr>\n      <th>3</th>\n      <td>53</td>\n      <td>Private</td>\n      <td>234721</td>\n      <td>11th</td>\n      <td>7</td>\n      <td>Married-civ-spouse</td>\n      <td>Handlers-cleaners</td>\n      <td>Husband</td>\n      <td>Black</td>\n      <td>Male</td>\n      <td>0</td>\n      <td>0</td>\n      <td>40</td>\n      <td>United-States</td>\n      <td>&lt;=50K</td>\n    </tr>\n    <tr>\n      <th>4</th>\n      <td>28</td>\n      <td>Private</td>\n      <td>338409</td>\n      <td>Bachelors</td>\n      <td>13</td>\n      <td>Married-civ-spouse</td>\n      <td>Prof-specialty</td>\n      <td>Wife</td>\n      <td>Black</td>\n      <td>Female</td>\n      <td>0</td>\n      <td>0</td>\n      <td>40</td>\n      <td>Cuba</td>\n      <td>&lt;=50K</td>\n    </tr>\n  </tbody>\n</table>\n</div>"
     },
     "execution_count": 6,
     "metadata": {},
     "output_type": "execute_result"
    }
   ],
   "source": [
    "df_adult = pd.read_csv(adult_synthesis.PATH_ADULT)\n",
    "df_adult.head()\n"
   ]
  },
  {
   "cell_type": "markdown",
   "metadata": {},
   "source": [
    "## Generate\n",
    "Here we show how step by step how to generate synthetic data."
   ]
  },
  {
   "cell_type": "code",
   "execution_count": 7,
   "metadata": {
    "ExecuteTime": {
     "end_time": "2024-04-02T12:30:12.483673Z",
     "start_time": "2024-04-02T12:30:12.262725Z"
    }
   },
   "outputs": [
    {
     "name": "stdout",
     "output_type": "stream",
     "text": [
      "Marginal fitted: age\n",
      "Marginal fitted: workclass\n",
      "Marginal fitted: fnlwgt\n",
      "Marginal fitted: education\n",
      "Marginal fitted: education-num\n",
      "Marginal fitted: marital-status\n",
      "Marginal fitted: occupation\n",
      "Marginal fitted: relationship\n",
      "Marginal fitted: race\n",
      "Marginal fitted: sex\n",
      "Marginal fitted: capital-gain\n",
      "Marginal fitted: capital-loss\n",
      "Marginal fitted: hours-per-week\n",
      "Marginal fitted: native-country\n",
      "Marginal fitted: income\n",
      "Column sampled: age\n",
      "Column sampled: workclass\n",
      "Column sampled: fnlwgt\n",
      "Column sampled: education\n",
      "Column sampled: education-num\n",
      "Column sampled: marital-status\n",
      "Column sampled: occupation\n",
      "Column sampled: relationship\n",
      "Column sampled: race\n",
      "Column sampled: sex\n",
      "Column sampled: capital-gain\n",
      "Column sampled: capital-loss\n",
      "Column sampled: hours-per-week\n",
      "Column sampled: native-country\n",
      "Column sampled: income\n"
     ]
    },
    {
     "data": {
      "text/plain": "   age         workclass  fnlwgt     education  education-num  \\\n0   24         State-gov  244054     Bachelors             13   \n1   46           Private  136137       HS-grad             13   \n2   22  Self-emp-not-inc  251836  Some-college              6   \n3   46                 ?  156805  Some-college              9   \n4   25           Private  197875     Assoc-voc              6   \n\n       marital-status      occupation relationship   race     sex  \\\n0             Widowed           Sales      Husband  White  Female   \n1            Divorced    Craft-repair    Own-child  White    Male   \n2  Married-civ-spouse           Sales    Own-child  White    Male   \n3       Never-married  Prof-specialty    Own-child  White  Female   \n4            Divorced    Adm-clerical      Husband  White    Male   \n\n   capital-gain  capital-loss  hours-per-week native-country income  \n0             0             0              40  United-States   >50K  \n1             0             0              40  United-States  <=50K  \n2             0             0              86  United-States   >50K  \n3             0             0              25  United-States  <=50K  \n4             0             0              25  United-States  <=50K  ",
      "text/html": "<div>\n<style scoped>\n    .dataframe tbody tr th:only-of-type {\n        vertical-align: middle;\n    }\n\n    .dataframe tbody tr th {\n        vertical-align: top;\n    }\n\n    .dataframe thead th {\n        text-align: right;\n    }\n</style>\n<table border=\"1\" class=\"dataframe\">\n  <thead>\n    <tr style=\"text-align: right;\">\n      <th></th>\n      <th>age</th>\n      <th>workclass</th>\n      <th>fnlwgt</th>\n      <th>education</th>\n      <th>education-num</th>\n      <th>marital-status</th>\n      <th>occupation</th>\n      <th>relationship</th>\n      <th>race</th>\n      <th>sex</th>\n      <th>capital-gain</th>\n      <th>capital-loss</th>\n      <th>hours-per-week</th>\n      <th>native-country</th>\n      <th>income</th>\n    </tr>\n  </thead>\n  <tbody>\n    <tr>\n      <th>0</th>\n      <td>24</td>\n      <td>State-gov</td>\n      <td>244054</td>\n      <td>Bachelors</td>\n      <td>13</td>\n      <td>Widowed</td>\n      <td>Sales</td>\n      <td>Husband</td>\n      <td>White</td>\n      <td>Female</td>\n      <td>0</td>\n      <td>0</td>\n      <td>40</td>\n      <td>United-States</td>\n      <td>&gt;50K</td>\n    </tr>\n    <tr>\n      <th>1</th>\n      <td>46</td>\n      <td>Private</td>\n      <td>136137</td>\n      <td>HS-grad</td>\n      <td>13</td>\n      <td>Divorced</td>\n      <td>Craft-repair</td>\n      <td>Own-child</td>\n      <td>White</td>\n      <td>Male</td>\n      <td>0</td>\n      <td>0</td>\n      <td>40</td>\n      <td>United-States</td>\n      <td>&lt;=50K</td>\n    </tr>\n    <tr>\n      <th>2</th>\n      <td>22</td>\n      <td>Self-emp-not-inc</td>\n      <td>251836</td>\n      <td>Some-college</td>\n      <td>6</td>\n      <td>Married-civ-spouse</td>\n      <td>Sales</td>\n      <td>Own-child</td>\n      <td>White</td>\n      <td>Male</td>\n      <td>0</td>\n      <td>0</td>\n      <td>86</td>\n      <td>United-States</td>\n      <td>&gt;50K</td>\n    </tr>\n    <tr>\n      <th>3</th>\n      <td>46</td>\n      <td>?</td>\n      <td>156805</td>\n      <td>Some-college</td>\n      <td>9</td>\n      <td>Never-married</td>\n      <td>Prof-specialty</td>\n      <td>Own-child</td>\n      <td>White</td>\n      <td>Female</td>\n      <td>0</td>\n      <td>0</td>\n      <td>25</td>\n      <td>United-States</td>\n      <td>&lt;=50K</td>\n    </tr>\n    <tr>\n      <th>4</th>\n      <td>25</td>\n      <td>Private</td>\n      <td>197875</td>\n      <td>Assoc-voc</td>\n      <td>6</td>\n      <td>Divorced</td>\n      <td>Adm-clerical</td>\n      <td>Husband</td>\n      <td>White</td>\n      <td>Male</td>\n      <td>0</td>\n      <td>0</td>\n      <td>25</td>\n      <td>United-States</td>\n      <td>&lt;=50K</td>\n    </tr>\n  </tbody>\n</table>\n</div>"
     },
     "execution_count": 7,
     "metadata": {},
     "output_type": "execute_result"
    }
   ],
   "source": [
    "# define your generator - in this case the simple marginal generator\n",
    "generator = MarginalGenerator(epsilon=EPSILON)\n",
    "\n",
    "# train the generator on the input data\n",
    "generator.fit(df_adult)\n",
    "\n",
    "# generate synthetic data with a desired number of rows\n",
    "df_synth_marginal = generator.generate(n_records=1000)\n",
    "df_synth_marginal.head()"
   ]
  },
  {
   "cell_type": "markdown",
   "metadata": {},
   "source": [
    "## Improving the quality of the synthetic data\n",
    "Additional processing steps can be added to the generation process to improve the quality of the synthetic data."
   ]
  },
  {
   "cell_type": "code",
   "outputs": [
    {
     "data": {
      "text/plain": "       age  workclass     education      marital-status        occupation  \\\n15738   32    Private     Bachelors  Married-civ-spouse   Exec-managerial   \n27985   43    Private       Masters       Never-married   Exec-managerial   \n30673   20          ?       HS-grad       Never-married                 ?   \n9505    40  Local-gov  Some-college            Divorced  Transport-moving   \n26417   24    Private     Bachelors       Never-married    Prof-specialty   \n\n        relationship   race     sex  hours-per-week native-country income  \n15738        Husband  White    Male              45  United-States   >50K  \n27985  Not-in-family  White  Female              45  United-States  <=50K  \n30673  Not-in-family  White  Female              28  United-States  <=50K  \n9505       Unmarried  White    Male              40  United-States  <=50K  \n26417      Own-child  White    Male              40  United-States  <=50K  ",
      "text/html": "<div>\n<style scoped>\n    .dataframe tbody tr th:only-of-type {\n        vertical-align: middle;\n    }\n\n    .dataframe tbody tr th {\n        vertical-align: top;\n    }\n\n    .dataframe thead th {\n        text-align: right;\n    }\n</style>\n<table border=\"1\" class=\"dataframe\">\n  <thead>\n    <tr style=\"text-align: right;\">\n      <th></th>\n      <th>age</th>\n      <th>workclass</th>\n      <th>education</th>\n      <th>marital-status</th>\n      <th>occupation</th>\n      <th>relationship</th>\n      <th>race</th>\n      <th>sex</th>\n      <th>hours-per-week</th>\n      <th>native-country</th>\n      <th>income</th>\n    </tr>\n  </thead>\n  <tbody>\n    <tr>\n      <th>15738</th>\n      <td>32</td>\n      <td>Private</td>\n      <td>Bachelors</td>\n      <td>Married-civ-spouse</td>\n      <td>Exec-managerial</td>\n      <td>Husband</td>\n      <td>White</td>\n      <td>Male</td>\n      <td>45</td>\n      <td>United-States</td>\n      <td>&gt;50K</td>\n    </tr>\n    <tr>\n      <th>27985</th>\n      <td>43</td>\n      <td>Private</td>\n      <td>Masters</td>\n      <td>Never-married</td>\n      <td>Exec-managerial</td>\n      <td>Not-in-family</td>\n      <td>White</td>\n      <td>Female</td>\n      <td>45</td>\n      <td>United-States</td>\n      <td>&lt;=50K</td>\n    </tr>\n    <tr>\n      <th>30673</th>\n      <td>20</td>\n      <td>?</td>\n      <td>HS-grad</td>\n      <td>Never-married</td>\n      <td>?</td>\n      <td>Not-in-family</td>\n      <td>White</td>\n      <td>Female</td>\n      <td>28</td>\n      <td>United-States</td>\n      <td>&lt;=50K</td>\n    </tr>\n    <tr>\n      <th>9505</th>\n      <td>40</td>\n      <td>Local-gov</td>\n      <td>Some-college</td>\n      <td>Divorced</td>\n      <td>Transport-moving</td>\n      <td>Unmarried</td>\n      <td>White</td>\n      <td>Male</td>\n      <td>40</td>\n      <td>United-States</td>\n      <td>&lt;=50K</td>\n    </tr>\n    <tr>\n      <th>26417</th>\n      <td>24</td>\n      <td>Private</td>\n      <td>Bachelors</td>\n      <td>Never-married</td>\n      <td>Prof-specialty</td>\n      <td>Own-child</td>\n      <td>White</td>\n      <td>Male</td>\n      <td>40</td>\n      <td>United-States</td>\n      <td>&lt;=50K</td>\n    </tr>\n  </tbody>\n</table>\n</div>"
     },
     "execution_count": 8,
     "metadata": {},
     "output_type": "execute_result"
    }
   ],
   "source": [
    "def preprocess_real_data(data_real: pd.DataFrame) -> pd.DataFrame:\n",
    "    \"\"\"Process data before fitting the generator.\"\"\"\n",
    "    # reduce columns\n",
    "    columns_subset = [\n",
    "        \"age\",\n",
    "        \"workclass\",\n",
    "        \"education\",\n",
    "        \"marital-status\",\n",
    "        \"occupation\",\n",
    "        \"relationship\",\n",
    "        \"race\",\n",
    "        \"sex\",\n",
    "        \"hours-per-week\",\n",
    "        \"native-country\",\n",
    "        \"income\",\n",
    "    ]\n",
    "    data_real = data_real[columns_subset]\n",
    "    return data_real\n",
    "\n",
    "# create copy to retain original data format\n",
    "df = df_adult.copy()\n",
    "\n",
    "# split in training and holdout set - train is used for fitting the generator, holdout for evaluation\n",
    "df_train, df_holdout = preprocessing.split_train_holdout(df, target_column='income', holdout_size=0.2, random_state=RANDOM_STATE)\n",
    "\n",
    "# preprocess the data\n",
    "df_train = preprocess_real_data(df_train)\n",
    "df_train.head()"
   ],
   "metadata": {
    "collapsed": false,
    "ExecuteTime": {
     "end_time": "2024-04-02T12:30:13.905126Z",
     "start_time": "2024-04-02T12:30:13.865117Z"
    }
   },
   "execution_count": 8
  },
  {
   "cell_type": "markdown",
   "source": [
    "Reducing the dimensionality of the data can help the generator to learn the underlying distribution better. We can generalize the data by binning the numerical columns."
   ],
   "metadata": {
    "collapsed": false
   }
  },
  {
   "cell_type": "code",
   "outputs": [
    {
     "data": {
      "text/plain": "       age  workclass     education      marital-status        occupation  \\\n15738    1    Private     Bachelors  Married-civ-spouse   Exec-managerial   \n27985    1    Private       Masters       Never-married   Exec-managerial   \n30673    0          ?       HS-grad       Never-married                 ?   \n9505     1  Local-gov  Some-college            Divorced  Transport-moving   \n26417    0    Private     Bachelors       Never-married    Prof-specialty   \n\n        relationship   race     sex  hours-per-week native-country income  \n15738        Husband  White    Male               2  United-States   >50K  \n27985  Not-in-family  White  Female               2  United-States  <=50K  \n30673  Not-in-family  White  Female               1  United-States  <=50K  \n9505       Unmarried  White    Male               1  United-States  <=50K  \n26417      Own-child  White    Male               1  United-States  <=50K  ",
      "text/html": "<div>\n<style scoped>\n    .dataframe tbody tr th:only-of-type {\n        vertical-align: middle;\n    }\n\n    .dataframe tbody tr th {\n        vertical-align: top;\n    }\n\n    .dataframe thead th {\n        text-align: right;\n    }\n</style>\n<table border=\"1\" class=\"dataframe\">\n  <thead>\n    <tr style=\"text-align: right;\">\n      <th></th>\n      <th>age</th>\n      <th>workclass</th>\n      <th>education</th>\n      <th>marital-status</th>\n      <th>occupation</th>\n      <th>relationship</th>\n      <th>race</th>\n      <th>sex</th>\n      <th>hours-per-week</th>\n      <th>native-country</th>\n      <th>income</th>\n    </tr>\n  </thead>\n  <tbody>\n    <tr>\n      <th>15738</th>\n      <td>1</td>\n      <td>Private</td>\n      <td>Bachelors</td>\n      <td>Married-civ-spouse</td>\n      <td>Exec-managerial</td>\n      <td>Husband</td>\n      <td>White</td>\n      <td>Male</td>\n      <td>2</td>\n      <td>United-States</td>\n      <td>&gt;50K</td>\n    </tr>\n    <tr>\n      <th>27985</th>\n      <td>1</td>\n      <td>Private</td>\n      <td>Masters</td>\n      <td>Never-married</td>\n      <td>Exec-managerial</td>\n      <td>Not-in-family</td>\n      <td>White</td>\n      <td>Female</td>\n      <td>2</td>\n      <td>United-States</td>\n      <td>&lt;=50K</td>\n    </tr>\n    <tr>\n      <th>30673</th>\n      <td>0</td>\n      <td>?</td>\n      <td>HS-grad</td>\n      <td>Never-married</td>\n      <td>?</td>\n      <td>Not-in-family</td>\n      <td>White</td>\n      <td>Female</td>\n      <td>1</td>\n      <td>United-States</td>\n      <td>&lt;=50K</td>\n    </tr>\n    <tr>\n      <th>9505</th>\n      <td>1</td>\n      <td>Local-gov</td>\n      <td>Some-college</td>\n      <td>Divorced</td>\n      <td>Transport-moving</td>\n      <td>Unmarried</td>\n      <td>White</td>\n      <td>Male</td>\n      <td>1</td>\n      <td>United-States</td>\n      <td>&lt;=50K</td>\n    </tr>\n    <tr>\n      <th>26417</th>\n      <td>0</td>\n      <td>Private</td>\n      <td>Bachelors</td>\n      <td>Never-married</td>\n      <td>Prof-specialty</td>\n      <td>Own-child</td>\n      <td>White</td>\n      <td>Male</td>\n      <td>1</td>\n      <td>United-States</td>\n      <td>&lt;=50K</td>\n    </tr>\n  </tbody>\n</table>\n</div>"
     },
     "execution_count": 12,
     "metadata": {},
     "output_type": "execute_result"
    }
   ],
   "source": [
    "# specify generalization mechanisms\n",
    "generalizers = [\n",
    "    NumericGeneralizationMech(column=\"age\", epsilon=0.05, bins=5, bounds=adult_synthesis.AGE_BOUNDS),\n",
    "    NumericGeneralizationMech(column=\"hours-per-week\", epsilon=0.05, bins=5, bounds=adult_synthesis.HOURS_PER_WEEK_BOUNDS),\n",
    "]\n",
    "\n",
    "# apply generalization mechanisms\n",
    "df_train_input, generalizers = preprocessing.generalize_data(df_train, generalizers=generalizers)\n",
    "df_train_input.head()"
   ],
   "metadata": {
    "collapsed": false,
    "ExecuteTime": {
     "end_time": "2024-04-02T12:30:44.688396Z",
     "start_time": "2024-04-02T12:30:44.656511Z"
    }
   },
   "execution_count": 12
  },
  {
   "cell_type": "markdown",
   "source": [
    "Fit the generator on the preprocessed data and generate synthetic data."
   ],
   "metadata": {
    "collapsed": false
   }
  },
  {
   "cell_type": "code",
   "outputs": [
    {
     "name": "stdout",
     "output_type": "stream",
     "text": [
      "1/11 - Root of network: hours-per-week\n",
      "\n",
      "2/11 - Evaluating next attribute to add to network\n",
      "Number of AttributeParentPair candidates: 10\n",
      "Selected attribute: 'occupation' - with parents: ('hours-per-week',)\n",
      "\n",
      "3/11 - Evaluating next attribute to add to network\n",
      "Number of AttributeParentPair candidates: 14\n",
      "Selected attribute: 'workclass' - with parents: ('occupation',)\n",
      "\n",
      "4/11 - Evaluating next attribute to add to network\n",
      "Number of AttributeParentPair candidates: 19\n",
      "Selected attribute: 'sex' - with parents: ('hours-per-week', 'occupation')\n",
      "\n",
      "5/11 - Evaluating next attribute to add to network\n",
      "Number of AttributeParentPair candidates: 18\n",
      "Selected attribute: 'relationship' - with parents: ('hours-per-week', 'sex')\n",
      "\n",
      "6/11 - Evaluating next attribute to add to network\n",
      "Number of AttributeParentPair candidates: 24\n",
      "Selected attribute: 'marital-status' - with parents: ('sex', 'relationship')\n",
      "\n",
      "7/11 - Evaluating next attribute to add to network\n",
      "Number of AttributeParentPair candidates: 28\n",
      "Selected attribute: 'age' - with parents: ('hours-per-week', 'marital-status')\n",
      "\n",
      "8/11 - Evaluating next attribute to add to network\n",
      "Number of AttributeParentPair candidates: 31\n",
      "Selected attribute: 'income' - with parents: ('occupation', 'relationship')\n",
      "\n",
      "9/11 - Evaluating next attribute to add to network\n",
      "Number of AttributeParentPair candidates: 22\n",
      "Selected attribute: 'education' - with parents: ('hours-per-week', 'income')\n",
      "\n",
      "10/11 - Evaluating next attribute to add to network\n",
      "Number of AttributeParentPair candidates: 15\n",
      "Selected attribute: 'race' - with parents: ('hours-per-week', 'marital-status')\n",
      "\n",
      "11/11 - Evaluating next attribute to add to network\n",
      "Number of AttributeParentPair candidates: 1\n",
      "Selected attribute: 'native-country' - with parents: ('income', 'sex')\n",
      "\n",
      "Learned Network Structure\n",
      "\n",
      "Learning conditional probabilities: hours-per-week - with parents None ~ estimated size: 5\n",
      "Learning conditional probabilities: occupation - with parents ('hours-per-week',) ~ estimated size: 75\n",
      "Learning conditional probabilities: workclass - with parents ('occupation',) ~ estimated size: 135\n",
      "Learning conditional probabilities: sex - with parents ('hours-per-week', 'occupation') ~ estimated size: 150\n",
      "Learning conditional probabilities: relationship - with parents ('hours-per-week', 'sex') ~ estimated size: 60\n",
      "Learning conditional probabilities: marital-status - with parents ('sex', 'relationship') ~ estimated size: 84\n",
      "Learning conditional probabilities: age - with parents ('hours-per-week', 'marital-status') ~ estimated size: 175\n",
      "Learning conditional probabilities: income - with parents ('occupation', 'relationship') ~ estimated size: 180\n",
      "Learning conditional probabilities: education - with parents ('hours-per-week', 'income') ~ estimated size: 160\n",
      "Learning conditional probabilities: race - with parents ('hours-per-week', 'marital-status') ~ estimated size: 175\n",
      "Learning conditional probabilities: native-country - with parents ('income', 'sex') ~ estimated size: 168\n"
     ]
    },
    {
     "name": "stderr",
     "output_type": "stream",
     "text": [
      "/Users/dknoors/miniconda3/envs/crnsynth/lib/python3.9/site-packages/thomas/core/factors/cpt.py:65: RuntimeWarning: invalid value encountered in divide\n",
      "  self.values = self.values / row_sum\n",
      "/Users/dknoors/miniconda3/envs/crnsynth/lib/python3.9/site-packages/thomas/core/factors/cpt.py:65: RuntimeWarning: invalid value encountered in divide\n",
      "  self.values = self.values / row_sum\n"
     ]
    }
   ],
   "source": [
    "generator=PrivBayes(epsilon=EPSILON, verbose=VERBOSE)\n",
    "generator.fit(df_train_input)"
   ],
   "metadata": {
    "collapsed": false,
    "ExecuteTime": {
     "end_time": "2024-04-02T12:30:47.390741Z",
     "start_time": "2024-04-02T12:30:46.244701Z"
    }
   },
   "execution_count": 13
  },
  {
   "cell_type": "code",
   "outputs": [
    {
     "name": "stdout",
     "output_type": "stream",
     "text": [
      "Number of records generated: 2959 / 32561"
     ]
    },
    {
     "name": "stderr",
     "output_type": "stream",
     "text": [
      "IOPub message rate exceeded.\n",
      "The Jupyter server will temporarily stop sending output\n",
      "to the client in order to avoid crashing it.\n",
      "To change this limit, set the config variable\n",
      "`--ServerApp.iopub_msg_rate_limit`.\n",
      "\n",
      "Current values:\n",
      "ServerApp.iopub_msg_rate_limit=1000.0 (msgs/sec)\n",
      "ServerApp.rate_limit_window=3.0 (secs)\n",
      "\n"
     ]
    },
    {
     "name": "stdout",
     "output_type": "stream",
     "text": [
      "Number of records generated: 11357 / 32561"
     ]
    },
    {
     "name": "stderr",
     "output_type": "stream",
     "text": [
      "IOPub message rate exceeded.\n",
      "The Jupyter server will temporarily stop sending output\n",
      "to the client in order to avoid crashing it.\n",
      "To change this limit, set the config variable\n",
      "`--ServerApp.iopub_msg_rate_limit`.\n",
      "\n",
      "Current values:\n",
      "ServerApp.iopub_msg_rate_limit=1000.0 (msgs/sec)\n",
      "ServerApp.rate_limit_window=3.0 (secs)\n",
      "\n"
     ]
    },
    {
     "name": "stdout",
     "output_type": "stream",
     "text": [
      "Number of records generated: 20653 / 32561"
     ]
    },
    {
     "name": "stderr",
     "output_type": "stream",
     "text": [
      "IOPub message rate exceeded.\n",
      "The Jupyter server will temporarily stop sending output\n",
      "to the client in order to avoid crashing it.\n",
      "To change this limit, set the config variable\n",
      "`--ServerApp.iopub_msg_rate_limit`.\n",
      "\n",
      "Current values:\n",
      "ServerApp.iopub_msg_rate_limit=1000.0 (msgs/sec)\n",
      "ServerApp.rate_limit_window=3.0 (secs)\n",
      "\n"
     ]
    },
    {
     "name": "stdout",
     "output_type": "stream",
     "text": [
      "Number of records generated: 29495 / 32561"
     ]
    },
    {
     "name": "stderr",
     "output_type": "stream",
     "text": [
      "IOPub message rate exceeded.\n",
      "The Jupyter server will temporarily stop sending output\n",
      "to the client in order to avoid crashing it.\n",
      "To change this limit, set the config variable\n",
      "`--ServerApp.iopub_msg_rate_limit`.\n",
      "\n",
      "Current values:\n",
      "ServerApp.iopub_msg_rate_limit=1000.0 (msgs/sec)\n",
      "ServerApp.rate_limit_window=3.0 (secs)\n",
      "\n"
     ]
    }
   ],
   "source": [
    "df_synth = generator.generate(n_records=df.shape[0])\n",
    "df_synth.head()"
   ],
   "metadata": {
    "collapsed": false,
    "ExecuteTime": {
     "end_time": "2024-04-02T12:31:00.424572Z",
     "start_time": "2024-04-02T12:30:48.510263Z"
    }
   },
   "execution_count": 14
  },
  {
   "cell_type": "markdown",
   "source": [
    "The synthetic data still has generalized values. We can reverse the generalization by sampling within the bounds of the generalized value to retrieve the original data structure."
   ],
   "metadata": {
    "collapsed": false
   }
  },
  {
   "cell_type": "code",
   "outputs": [
    {
     "data": {
      "text/plain": "   age  workclass    education      marital-status      occupation  \\\n0   28    Private  Prof-school       Never-married           Sales   \n1   48          ?    Bachelors  Married-civ-spouse               ?   \n2   46  Local-gov  Prof-school       Never-married  Prof-specialty   \n3   45  Local-gov      HS-grad  Married-civ-spouse  Prof-specialty   \n4   27    Private         11th       Never-married  Prof-specialty   \n\n    relationship   race     sex  hours-per-week native-country income  \n0  Not-in-family  White  Female              30  United-States   >50K  \n1        Husband  White    Male              36  United-States  <=50K  \n2  Not-in-family  White    Male              36  United-States  <=50K  \n3        Husband  White    Male              30  United-States  <=50K  \n4      Own-child  White  Female              26  United-States  <=50K  ",
      "text/html": "<div>\n<style scoped>\n    .dataframe tbody tr th:only-of-type {\n        vertical-align: middle;\n    }\n\n    .dataframe tbody tr th {\n        vertical-align: top;\n    }\n\n    .dataframe thead th {\n        text-align: right;\n    }\n</style>\n<table border=\"1\" class=\"dataframe\">\n  <thead>\n    <tr style=\"text-align: right;\">\n      <th></th>\n      <th>age</th>\n      <th>workclass</th>\n      <th>education</th>\n      <th>marital-status</th>\n      <th>occupation</th>\n      <th>relationship</th>\n      <th>race</th>\n      <th>sex</th>\n      <th>hours-per-week</th>\n      <th>native-country</th>\n      <th>income</th>\n    </tr>\n  </thead>\n  <tbody>\n    <tr>\n      <th>0</th>\n      <td>28</td>\n      <td>Private</td>\n      <td>Prof-school</td>\n      <td>Never-married</td>\n      <td>Sales</td>\n      <td>Not-in-family</td>\n      <td>White</td>\n      <td>Female</td>\n      <td>30</td>\n      <td>United-States</td>\n      <td>&gt;50K</td>\n    </tr>\n    <tr>\n      <th>1</th>\n      <td>48</td>\n      <td>?</td>\n      <td>Bachelors</td>\n      <td>Married-civ-spouse</td>\n      <td>?</td>\n      <td>Husband</td>\n      <td>White</td>\n      <td>Male</td>\n      <td>36</td>\n      <td>United-States</td>\n      <td>&lt;=50K</td>\n    </tr>\n    <tr>\n      <th>2</th>\n      <td>46</td>\n      <td>Local-gov</td>\n      <td>Prof-school</td>\n      <td>Never-married</td>\n      <td>Prof-specialty</td>\n      <td>Not-in-family</td>\n      <td>White</td>\n      <td>Male</td>\n      <td>36</td>\n      <td>United-States</td>\n      <td>&lt;=50K</td>\n    </tr>\n    <tr>\n      <th>3</th>\n      <td>45</td>\n      <td>Local-gov</td>\n      <td>HS-grad</td>\n      <td>Married-civ-spouse</td>\n      <td>Prof-specialty</td>\n      <td>Husband</td>\n      <td>White</td>\n      <td>Male</td>\n      <td>30</td>\n      <td>United-States</td>\n      <td>&lt;=50K</td>\n    </tr>\n    <tr>\n      <th>4</th>\n      <td>27</td>\n      <td>Private</td>\n      <td>11th</td>\n      <td>Never-married</td>\n      <td>Prof-specialty</td>\n      <td>Own-child</td>\n      <td>White</td>\n      <td>Female</td>\n      <td>26</td>\n      <td>United-States</td>\n      <td>&lt;=50K</td>\n    </tr>\n  </tbody>\n</table>\n</div>"
     },
     "execution_count": 15,
     "metadata": {},
     "output_type": "execute_result"
    }
   ],
   "source": [
    "df_synth_inv, generalizers = postprocessing.reverse_generalization(df_synth, generalizers)\n",
    "df_synth_inv.head()"
   ],
   "metadata": {
    "collapsed": false,
    "ExecuteTime": {
     "end_time": "2024-04-02T12:31:01.056279Z",
     "start_time": "2024-04-02T12:31:01.011216Z"
    }
   },
   "execution_count": 15
  },
  {
   "cell_type": "markdown",
   "source": [
    "Addtional postprocessing steps can be added to the pipeline to improve the quality of the synthetic data."
   ],
   "metadata": {
    "collapsed": false
   }
  },
  {
   "cell_type": "code",
   "outputs": [
    {
     "data": {
      "text/plain": "              id  age  workclass    education      marital-status  \\\n0  FAKE_PERSON_1   28    Private  Prof-school       Never-married   \n1  FAKE_PERSON_2   48          ?    Bachelors  Married-civ-spouse   \n2  FAKE_PERSON_3   46  Local-gov  Prof-school       Never-married   \n3  FAKE_PERSON_4   45  Local-gov      HS-grad  Married-civ-spouse   \n4  FAKE_PERSON_5   27    Private         11th       Never-married   \n\n       occupation   relationship   race     sex  hours-per-week  \\\n0           Sales  Not-in-family  White  Female              30   \n1               ?        Husband  White    Male              36   \n2  Prof-specialty  Not-in-family  White    Male              36   \n3  Prof-specialty        Husband  White    Male              30   \n4  Prof-specialty      Own-child  White  Female              26   \n\n  native-country income  \n0  United-States   >50K  \n1  United-States  <=50K  \n2  United-States  <=50K  \n3  United-States  <=50K  \n4  United-States  <=50K  ",
      "text/html": "<div>\n<style scoped>\n    .dataframe tbody tr th:only-of-type {\n        vertical-align: middle;\n    }\n\n    .dataframe tbody tr th {\n        vertical-align: top;\n    }\n\n    .dataframe thead th {\n        text-align: right;\n    }\n</style>\n<table border=\"1\" class=\"dataframe\">\n  <thead>\n    <tr style=\"text-align: right;\">\n      <th></th>\n      <th>id</th>\n      <th>age</th>\n      <th>workclass</th>\n      <th>education</th>\n      <th>marital-status</th>\n      <th>occupation</th>\n      <th>relationship</th>\n      <th>race</th>\n      <th>sex</th>\n      <th>hours-per-week</th>\n      <th>native-country</th>\n      <th>income</th>\n    </tr>\n  </thead>\n  <tbody>\n    <tr>\n      <th>0</th>\n      <td>FAKE_PERSON_1</td>\n      <td>28</td>\n      <td>Private</td>\n      <td>Prof-school</td>\n      <td>Never-married</td>\n      <td>Sales</td>\n      <td>Not-in-family</td>\n      <td>White</td>\n      <td>Female</td>\n      <td>30</td>\n      <td>United-States</td>\n      <td>&gt;50K</td>\n    </tr>\n    <tr>\n      <th>1</th>\n      <td>FAKE_PERSON_2</td>\n      <td>48</td>\n      <td>?</td>\n      <td>Bachelors</td>\n      <td>Married-civ-spouse</td>\n      <td>?</td>\n      <td>Husband</td>\n      <td>White</td>\n      <td>Male</td>\n      <td>36</td>\n      <td>United-States</td>\n      <td>&lt;=50K</td>\n    </tr>\n    <tr>\n      <th>2</th>\n      <td>FAKE_PERSON_3</td>\n      <td>46</td>\n      <td>Local-gov</td>\n      <td>Prof-school</td>\n      <td>Never-married</td>\n      <td>Prof-specialty</td>\n      <td>Not-in-family</td>\n      <td>White</td>\n      <td>Male</td>\n      <td>36</td>\n      <td>United-States</td>\n      <td>&lt;=50K</td>\n    </tr>\n    <tr>\n      <th>3</th>\n      <td>FAKE_PERSON_4</td>\n      <td>45</td>\n      <td>Local-gov</td>\n      <td>HS-grad</td>\n      <td>Married-civ-spouse</td>\n      <td>Prof-specialty</td>\n      <td>Husband</td>\n      <td>White</td>\n      <td>Male</td>\n      <td>30</td>\n      <td>United-States</td>\n      <td>&lt;=50K</td>\n    </tr>\n    <tr>\n      <th>4</th>\n      <td>FAKE_PERSON_5</td>\n      <td>27</td>\n      <td>Private</td>\n      <td>11th</td>\n      <td>Never-married</td>\n      <td>Prof-specialty</td>\n      <td>Own-child</td>\n      <td>White</td>\n      <td>Female</td>\n      <td>26</td>\n      <td>United-States</td>\n      <td>&lt;=50K</td>\n    </tr>\n  </tbody>\n</table>\n</div>"
     },
     "execution_count": 16,
     "metadata": {},
     "output_type": "execute_result"
    }
   ],
   "source": [
    "def postprocess_synth_data(data_synth: pd.DataFrame) -> pd.DataFrame:\n",
    "    \"\"\"Post-process the synthetic data.\"\"\"\n",
    "    # add identifier to notify user that this is synthetic data (fake)\n",
    "    id_string = 'FAKE_PERSON_'\n",
    "    data_synth['id'] = [id_string + str(i) for i in np.arange(1, data_synth.shape[0]+1)]\n",
    "    \n",
    "    # make id column first\n",
    "    cols = data_synth.columns.tolist()\n",
    "    cols = cols[-1:] + cols[:-1]\n",
    "    data_synth = data_synth[cols]\n",
    "    return data_synth\n",
    "\n",
    "df_synth_final = postprocess_synth_data(df_synth_inv)\n",
    "df_synth_final.head()"
   ],
   "metadata": {
    "collapsed": false,
    "ExecuteTime": {
     "end_time": "2024-04-02T12:31:02.793675Z",
     "start_time": "2024-04-02T12:31:02.756841Z"
    }
   },
   "execution_count": 16
  },
  {
   "cell_type": "markdown",
   "source": [
    "## Synth Pipeline\n",
    "All these steps can be combined in a single function to create a pipeline for generating synthetic data. Note this function provides a consistent structure for creating synthetic data, but can also serve as an example for creating your own pipeline in case you need a bit more flexibility."
   ],
   "metadata": {
    "collapsed": false
   }
  },
  {
   "cell_type": "code",
   "outputs": [
    {
     "name": "stdout",
     "output_type": "stream",
     "text": [
      "Fitting generator PrivBayes({'epsilon': 1, 'verbose': 1, 'theta_usefulness': 4, 'epsilon_split': 0.3, 'score_function': 'R', 'network_init': None, 'n_cpus': None}) on input data\n",
      "1/11 - Root of network: occupation\n",
      "\n",
      "2/11 - Evaluating next attribute to add to network\n",
      "Number of AttributeParentPair candidates: 10\n",
      "Selected attribute: 'workclass' - with parents: ('occupation',)\n",
      "\n",
      "3/11 - Evaluating next attribute to add to network\n",
      "Number of AttributeParentPair candidates: 16\n",
      "Selected attribute: 'sex' - with parents: ('occupation',)\n",
      "\n",
      "4/11 - Evaluating next attribute to add to network\n",
      "Number of AttributeParentPair candidates: 15\n",
      "Selected attribute: 'relationship' - with parents: ('sex', 'occupation')\n",
      "\n",
      "5/11 - Evaluating next attribute to add to network\n",
      "Number of AttributeParentPair candidates: 20\n",
      "Selected attribute: 'marital-status' - with parents: ('sex', 'relationship')\n",
      "\n",
      "6/11 - Evaluating next attribute to add to network\n",
      "Number of AttributeParentPair candidates: 22\n",
      "Selected attribute: 'age' - with parents: ('sex', 'marital-status')\n",
      "\n",
      "7/11 - Evaluating next attribute to add to network\n",
      "Number of AttributeParentPair candidates: 28\n",
      "Selected attribute: 'income' - with parents: ('occupation', 'relationship')\n",
      "\n",
      "8/11 - Evaluating next attribute to add to network\n",
      "Number of AttributeParentPair candidates: 24\n",
      "Selected attribute: 'hours-per-week' - with parents: ('income', 'sex', 'relationship')\n",
      "\n",
      "9/11 - Evaluating next attribute to add to network\n",
      "Number of AttributeParentPair candidates: 22\n",
      "Selected attribute: 'education' - with parents: ('income', 'age')\n",
      "\n",
      "10/11 - Evaluating next attribute to add to network\n",
      "Number of AttributeParentPair candidates: 15\n",
      "Selected attribute: 'race' - with parents: ('age', 'relationship')\n",
      "\n",
      "11/11 - Evaluating next attribute to add to network\n",
      "Number of AttributeParentPair candidates: 1\n",
      "Selected attribute: 'native-country' - with parents: ('income', 'sex')\n",
      "\n",
      "Learned Network Structure\n",
      "\n",
      "Learning conditional probabilities: occupation - with parents None ~ estimated size: 15\n",
      "Learning conditional probabilities: workclass - with parents ('occupation',) ~ estimated size: 135\n",
      "Learning conditional probabilities: sex - with parents ('occupation',) ~ estimated size: 30\n",
      "Learning conditional probabilities: relationship - with parents ('sex', 'occupation') ~ estimated size: 180\n",
      "Learning conditional probabilities: marital-status - with parents ('sex', 'relationship') ~ estimated size: 84\n",
      "Learning conditional probabilities: age - with parents ('sex', 'marital-status') ~ estimated size: 70\n",
      "Learning conditional probabilities: income - with parents ('occupation', 'relationship') ~ estimated size: 180\n",
      "Learning conditional probabilities: hours-per-week - with parents ('income', 'sex', 'relationship') ~ estimated size: 120\n",
      "Learning conditional probabilities: education - with parents ('income', 'age') ~ estimated size: 160\n",
      "Learning conditional probabilities: race - with parents ('age', 'relationship') ~ estimated size: 150\n",
      "Learning conditional probabilities: native-country - with parents ('income', 'sex') ~ estimated size: 168\n",
      "Generator fitted. Generating 1000 records\n",
      "Number of records generated: 608 / 1000"
     ]
    },
    {
     "name": "stderr",
     "output_type": "stream",
     "text": [
      "/Users/dknoors/miniconda3/envs/crnsynth/lib/python3.9/site-packages/thomas/core/factors/cpt.py:65: RuntimeWarning: invalid value encountered in divide\n",
      "  self.values = self.values / row_sum\n",
      "/Users/dknoors/miniconda3/envs/crnsynth/lib/python3.9/site-packages/thomas/core/factors/cpt.py:65: RuntimeWarning: invalid value encountered in divide\n",
      "  self.values = self.values / row_sum\n",
      "/Users/dknoors/miniconda3/envs/crnsynth/lib/python3.9/site-packages/thomas/core/factors/cpt.py:65: RuntimeWarning: invalid value encountered in divide\n",
      "  self.values = self.values / row_sum\n"
     ]
    },
    {
     "name": "stdout",
     "output_type": "stream",
     "text": [
      "Number of records generated: 1000 / 1000\n",
      "Synthetic Data Generated\n"
     ]
    },
    {
     "data": {
      "text/plain": "   age  workclass   education      marital-status         occupation  \\\n0   37    Private     Masters  Married-civ-spouse       Craft-repair   \n1   31    Private   Bachelors       Never-married  Handlers-cleaners   \n2   29    Private     HS-grad       Never-married    Farming-fishing   \n3   40    Private     HS-grad  Married-civ-spouse  Handlers-cleaners   \n4   34  State-gov  Assoc-acdm       Never-married              Sales   \n\n    relationship                race     sex  hours-per-week native-country  \\\n0        Husband               White    Male              63  United-States   \n1      Own-child               White    Male              39  United-States   \n2  Not-in-family  Amer-Indian-Eskimo  Female              36        Germany   \n3        Husband               Black    Male              65  United-States   \n4      Own-child               Black  Female              26  United-States   \n\n  income  \n0  <=50K  \n1  <=50K  \n2  <=50K  \n3  <=50K  \n4  <=50K  ",
      "text/html": "<div>\n<style scoped>\n    .dataframe tbody tr th:only-of-type {\n        vertical-align: middle;\n    }\n\n    .dataframe tbody tr th {\n        vertical-align: top;\n    }\n\n    .dataframe thead th {\n        text-align: right;\n    }\n</style>\n<table border=\"1\" class=\"dataframe\">\n  <thead>\n    <tr style=\"text-align: right;\">\n      <th></th>\n      <th>age</th>\n      <th>workclass</th>\n      <th>education</th>\n      <th>marital-status</th>\n      <th>occupation</th>\n      <th>relationship</th>\n      <th>race</th>\n      <th>sex</th>\n      <th>hours-per-week</th>\n      <th>native-country</th>\n      <th>income</th>\n    </tr>\n  </thead>\n  <tbody>\n    <tr>\n      <th>0</th>\n      <td>37</td>\n      <td>Private</td>\n      <td>Masters</td>\n      <td>Married-civ-spouse</td>\n      <td>Craft-repair</td>\n      <td>Husband</td>\n      <td>White</td>\n      <td>Male</td>\n      <td>63</td>\n      <td>United-States</td>\n      <td>&lt;=50K</td>\n    </tr>\n    <tr>\n      <th>1</th>\n      <td>31</td>\n      <td>Private</td>\n      <td>Bachelors</td>\n      <td>Never-married</td>\n      <td>Handlers-cleaners</td>\n      <td>Own-child</td>\n      <td>White</td>\n      <td>Male</td>\n      <td>39</td>\n      <td>United-States</td>\n      <td>&lt;=50K</td>\n    </tr>\n    <tr>\n      <th>2</th>\n      <td>29</td>\n      <td>Private</td>\n      <td>HS-grad</td>\n      <td>Never-married</td>\n      <td>Farming-fishing</td>\n      <td>Not-in-family</td>\n      <td>Amer-Indian-Eskimo</td>\n      <td>Female</td>\n      <td>36</td>\n      <td>Germany</td>\n      <td>&lt;=50K</td>\n    </tr>\n    <tr>\n      <th>3</th>\n      <td>40</td>\n      <td>Private</td>\n      <td>HS-grad</td>\n      <td>Married-civ-spouse</td>\n      <td>Handlers-cleaners</td>\n      <td>Husband</td>\n      <td>Black</td>\n      <td>Male</td>\n      <td>65</td>\n      <td>United-States</td>\n      <td>&lt;=50K</td>\n    </tr>\n    <tr>\n      <th>4</th>\n      <td>34</td>\n      <td>State-gov</td>\n      <td>Assoc-acdm</td>\n      <td>Never-married</td>\n      <td>Sales</td>\n      <td>Own-child</td>\n      <td>Black</td>\n      <td>Female</td>\n      <td>26</td>\n      <td>United-States</td>\n      <td>&lt;=50K</td>\n    </tr>\n  </tbody>\n</table>\n</div>"
     },
     "execution_count": 17,
     "metadata": {},
     "output_type": "execute_result"
    }
   ],
   "source": [
    "# create a synthetic pipeline\n",
    "df = df_adult.copy()\n",
    "generator=PrivBayes(epsilon=EPSILON, verbose=VERBOSE)\n",
    "generalizers = [\n",
    "    NumericGeneralizationMech(column=\"age\", epsilon=0.05, bins=5, bounds=adult_synthesis.AGE_BOUNDS, inverse='truncated_normal', random_state=RANDOM_STATE),\n",
    "    NumericGeneralizationMech(column=\"hours-per-week\", epsilon=0.05, bins=5, bounds=adult_synthesis.HOURS_PER_WEEK_BOUNDS, inverse='truncated_normal', random_state=RANDOM_STATE)\n",
    "]\n",
    "output = synthesization.run_synth_pipeline(\n",
    "    data_real=df,\n",
    "    generator=generator,\n",
    "    preprocess_func=adult_synthesis.preprocess_real_data,\n",
    "    generalizers=generalizers,\n",
    "    postprocess_func=adult_synthesis.postprocess_synthetic_data,\n",
    "    holdout_size=0.2,\n",
    "    target_column='income',\n",
    "    random_state=RANDOM_STATE,\n",
    "    n_records=1000,\n",
    "    output_keys= [\"train\", \"holdout\", \"synth\", \"generators\"],\n",
    "    verbose=VERBOSE\n",
    ")\n",
    "output['synth'].head()"
   ],
   "metadata": {
    "collapsed": false,
    "ExecuteTime": {
     "end_time": "2024-04-02T12:32:05.586859Z",
     "start_time": "2024-04-02T12:32:04.149653Z"
    }
   },
   "execution_count": 17
  }
 ],
 "metadata": {
  "kernelspec": {
   "display_name": "synth",
   "language": "python",
   "name": "python3"
  },
  "language_info": {
   "codemirror_mode": {
    "name": "ipython",
    "version": 3
   },
   "file_extension": ".py",
   "mimetype": "text/x-python",
   "name": "python",
   "nbconvert_exporter": "python",
   "pygments_lexer": "ipython3",
   "version": "3.9.undefined"
  },
  "orig_nbformat": 4
 },
 "nbformat": 4,
 "nbformat_minor": 2
}
