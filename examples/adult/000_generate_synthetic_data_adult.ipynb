{
 "cells": [
  {
   "cell_type": "markdown",
   "metadata": {},
   "source": [
    "# Generate synthetic data\n",
    "Generating synthetic data using public libraries for the 'adult' dataset."
   ]
  },
  {
   "cell_type": "markdown",
   "metadata": {},
   "source": [
    "## Load libraries and define settings"
   ]
  },
  {
   "cell_type": "code",
   "execution_count": 59,
   "metadata": {},
   "outputs": [],
   "source": [
    "# general dependencies\n",
    "import numpy as np\n",
    "import pandas as pd\n",
    "import matplotlib.pyplot as plt\n",
    "import seaborn as sns\n",
    "import sys\n",
    "import os\n",
    "from pathlib import Path"
   ]
  },
  {
   "cell_type": "code",
   "execution_count": 60,
   "metadata": {},
   "outputs": [],
   "source": [
    "# package\n",
    "from crnsynth2.generators.marginal_generator import MarginalGenerator\n",
    "from crnsynth2.generators.privbayes import PrivBayes"
   ]
  },
  {
   "cell_type": "code",
   "execution_count": 61,
   "metadata": {},
   "outputs": [],
   "source": [
    "# data-specific\n",
    "from examples.adult.adult_config import PATH_ADULT, PATH_RESULTS\n",
    "from examples.adult.adult_synthpipe import AdultSynthPipe\n"
   ]
  },
  {
   "cell_type": "code",
   "execution_count": 62,
   "metadata": {},
   "outputs": [
    {
     "name": "stdout",
     "output_type": "stream",
     "text": [
      "The autoreload extension is already loaded. To reload it, use:\n",
      "  %reload_ext autoreload\n"
     ]
    }
   ],
   "source": [
    "# autoreload changes from local files\n",
    "%load_ext autoreload\n",
    "%autoreload 2\n",
    "\n",
    "# pandas show full output\n",
    "pd.set_option('display.max_rows', 500)\n",
    "pd.set_option('display.max_columns', 200)"
   ]
  },
  {
   "cell_type": "code",
   "execution_count": 63,
   "metadata": {},
   "outputs": [],
   "source": [
    "# privacy budget for differentially private algorithms\n",
    "EPSILON = 1\n",
    "\n",
    "# dataset\n",
    "DATASET_NAME = 'adult'\n",
    "\n",
    "# other\n",
    "RANDOM_STATE = 42"
   ]
  },
  {
   "cell_type": "markdown",
   "metadata": {},
   "source": [
    "## Load and process dataset"
   ]
  },
  {
   "cell_type": "code",
   "execution_count": 64,
   "metadata": {},
   "outputs": [
    {
     "data": {
      "text/html": [
       "<div>\n",
       "<style scoped>\n",
       "    .dataframe tbody tr th:only-of-type {\n",
       "        vertical-align: middle;\n",
       "    }\n",
       "\n",
       "    .dataframe tbody tr th {\n",
       "        vertical-align: top;\n",
       "    }\n",
       "\n",
       "    .dataframe thead th {\n",
       "        text-align: right;\n",
       "    }\n",
       "</style>\n",
       "<table border=\"1\" class=\"dataframe\">\n",
       "  <thead>\n",
       "    <tr style=\"text-align: right;\">\n",
       "      <th></th>\n",
       "      <th>age</th>\n",
       "      <th>workclass</th>\n",
       "      <th>fnlwgt</th>\n",
       "      <th>education</th>\n",
       "      <th>education-num</th>\n",
       "      <th>marital-status</th>\n",
       "      <th>occupation</th>\n",
       "      <th>relationship</th>\n",
       "      <th>race</th>\n",
       "      <th>sex</th>\n",
       "      <th>capital-gain</th>\n",
       "      <th>capital-loss</th>\n",
       "      <th>hours-per-week</th>\n",
       "      <th>native-country</th>\n",
       "      <th>income</th>\n",
       "    </tr>\n",
       "  </thead>\n",
       "  <tbody>\n",
       "    <tr>\n",
       "      <th>0</th>\n",
       "      <td>39</td>\n",
       "      <td>State-gov</td>\n",
       "      <td>77516</td>\n",
       "      <td>Bachelors</td>\n",
       "      <td>13</td>\n",
       "      <td>Never-married</td>\n",
       "      <td>Adm-clerical</td>\n",
       "      <td>Not-in-family</td>\n",
       "      <td>White</td>\n",
       "      <td>Male</td>\n",
       "      <td>2174</td>\n",
       "      <td>0</td>\n",
       "      <td>40</td>\n",
       "      <td>United-States</td>\n",
       "      <td>&lt;=50K</td>\n",
       "    </tr>\n",
       "    <tr>\n",
       "      <th>1</th>\n",
       "      <td>50</td>\n",
       "      <td>Self-emp-not-inc</td>\n",
       "      <td>83311</td>\n",
       "      <td>Bachelors</td>\n",
       "      <td>13</td>\n",
       "      <td>Married-civ-spouse</td>\n",
       "      <td>Exec-managerial</td>\n",
       "      <td>Husband</td>\n",
       "      <td>White</td>\n",
       "      <td>Male</td>\n",
       "      <td>0</td>\n",
       "      <td>0</td>\n",
       "      <td>13</td>\n",
       "      <td>United-States</td>\n",
       "      <td>&lt;=50K</td>\n",
       "    </tr>\n",
       "    <tr>\n",
       "      <th>2</th>\n",
       "      <td>38</td>\n",
       "      <td>Private</td>\n",
       "      <td>215646</td>\n",
       "      <td>HS-grad</td>\n",
       "      <td>9</td>\n",
       "      <td>Divorced</td>\n",
       "      <td>Handlers-cleaners</td>\n",
       "      <td>Not-in-family</td>\n",
       "      <td>White</td>\n",
       "      <td>Male</td>\n",
       "      <td>0</td>\n",
       "      <td>0</td>\n",
       "      <td>40</td>\n",
       "      <td>United-States</td>\n",
       "      <td>&lt;=50K</td>\n",
       "    </tr>\n",
       "    <tr>\n",
       "      <th>3</th>\n",
       "      <td>53</td>\n",
       "      <td>Private</td>\n",
       "      <td>234721</td>\n",
       "      <td>11th</td>\n",
       "      <td>7</td>\n",
       "      <td>Married-civ-spouse</td>\n",
       "      <td>Handlers-cleaners</td>\n",
       "      <td>Husband</td>\n",
       "      <td>Black</td>\n",
       "      <td>Male</td>\n",
       "      <td>0</td>\n",
       "      <td>0</td>\n",
       "      <td>40</td>\n",
       "      <td>United-States</td>\n",
       "      <td>&lt;=50K</td>\n",
       "    </tr>\n",
       "    <tr>\n",
       "      <th>4</th>\n",
       "      <td>28</td>\n",
       "      <td>Private</td>\n",
       "      <td>338409</td>\n",
       "      <td>Bachelors</td>\n",
       "      <td>13</td>\n",
       "      <td>Married-civ-spouse</td>\n",
       "      <td>Prof-specialty</td>\n",
       "      <td>Wife</td>\n",
       "      <td>Black</td>\n",
       "      <td>Female</td>\n",
       "      <td>0</td>\n",
       "      <td>0</td>\n",
       "      <td>40</td>\n",
       "      <td>Cuba</td>\n",
       "      <td>&lt;=50K</td>\n",
       "    </tr>\n",
       "  </tbody>\n",
       "</table>\n",
       "</div>"
      ],
      "text/plain": [
       "   age         workclass  fnlwgt  education  education-num  \\\n",
       "0   39         State-gov   77516  Bachelors             13   \n",
       "1   50  Self-emp-not-inc   83311  Bachelors             13   \n",
       "2   38           Private  215646    HS-grad              9   \n",
       "3   53           Private  234721       11th              7   \n",
       "4   28           Private  338409  Bachelors             13   \n",
       "\n",
       "       marital-status         occupation   relationship   race     sex  \\\n",
       "0       Never-married       Adm-clerical  Not-in-family  White    Male   \n",
       "1  Married-civ-spouse    Exec-managerial        Husband  White    Male   \n",
       "2            Divorced  Handlers-cleaners  Not-in-family  White    Male   \n",
       "3  Married-civ-spouse  Handlers-cleaners        Husband  Black    Male   \n",
       "4  Married-civ-spouse     Prof-specialty           Wife  Black  Female   \n",
       "\n",
       "   capital-gain  capital-loss  hours-per-week native-country income  \n",
       "0          2174             0              40  United-States  <=50K  \n",
       "1             0             0              13  United-States  <=50K  \n",
       "2             0             0              40  United-States  <=50K  \n",
       "3             0             0              40  United-States  <=50K  \n",
       "4             0             0              40           Cuba  <=50K  "
      ]
     },
     "execution_count": 64,
     "metadata": {},
     "output_type": "execute_result"
    }
   ],
   "source": [
    "\n",
    "df_adult = pd.read_csv(PATH_ADULT)\n",
    "df_adult.head()\n"
   ]
  },
  {
   "cell_type": "markdown",
   "metadata": {},
   "source": [
    "## Generate\n",
    "Here we show how step by step how to generate synthetic data."
   ]
  },
  {
   "cell_type": "code",
   "execution_count": 65,
   "metadata": {},
   "outputs": [
    {
     "name": "stdout",
     "output_type": "stream",
     "text": [
      "Marginal fitted: age\n",
      "Marginal fitted: workclass\n",
      "Marginal fitted: fnlwgt\n",
      "Marginal fitted: education\n",
      "Marginal fitted: education-num\n",
      "Marginal fitted: marital-status\n",
      "Marginal fitted: occupation\n",
      "Marginal fitted: relationship\n",
      "Marginal fitted: race\n",
      "Marginal fitted: sex\n",
      "Marginal fitted: capital-gain\n",
      "Marginal fitted: capital-loss\n",
      "Marginal fitted: hours-per-week\n",
      "Marginal fitted: native-country\n",
      "Marginal fitted: income\n",
      "Column sampled: age\n",
      "Column sampled: workclass\n",
      "Column sampled: fnlwgt\n",
      "Column sampled: education\n",
      "Column sampled: education-num\n",
      "Column sampled: marital-status\n",
      "Column sampled: occupation\n",
      "Column sampled: relationship\n",
      "Column sampled: race\n",
      "Column sampled: sex\n",
      "Column sampled: capital-gain\n",
      "Column sampled: capital-loss\n",
      "Column sampled: hours-per-week\n",
      "Column sampled: native-country\n",
      "Column sampled: income\n"
     ]
    },
    {
     "data": {
      "text/html": [
       "<div>\n",
       "<style scoped>\n",
       "    .dataframe tbody tr th:only-of-type {\n",
       "        vertical-align: middle;\n",
       "    }\n",
       "\n",
       "    .dataframe tbody tr th {\n",
       "        vertical-align: top;\n",
       "    }\n",
       "\n",
       "    .dataframe thead th {\n",
       "        text-align: right;\n",
       "    }\n",
       "</style>\n",
       "<table border=\"1\" class=\"dataframe\">\n",
       "  <thead>\n",
       "    <tr style=\"text-align: right;\">\n",
       "      <th></th>\n",
       "      <th>age</th>\n",
       "      <th>workclass</th>\n",
       "      <th>fnlwgt</th>\n",
       "      <th>education</th>\n",
       "      <th>education-num</th>\n",
       "      <th>marital-status</th>\n",
       "      <th>occupation</th>\n",
       "      <th>relationship</th>\n",
       "      <th>race</th>\n",
       "      <th>sex</th>\n",
       "      <th>capital-gain</th>\n",
       "      <th>capital-loss</th>\n",
       "      <th>hours-per-week</th>\n",
       "      <th>native-country</th>\n",
       "      <th>income</th>\n",
       "    </tr>\n",
       "  </thead>\n",
       "  <tbody>\n",
       "    <tr>\n",
       "      <th>0</th>\n",
       "      <td>44</td>\n",
       "      <td>Private</td>\n",
       "      <td>116608</td>\n",
       "      <td>Some-college</td>\n",
       "      <td>10</td>\n",
       "      <td>Never-married</td>\n",
       "      <td>Farming-fishing</td>\n",
       "      <td>Husband</td>\n",
       "      <td>White</td>\n",
       "      <td>Male</td>\n",
       "      <td>0</td>\n",
       "      <td>1977</td>\n",
       "      <td>46</td>\n",
       "      <td>United-States</td>\n",
       "      <td>&lt;=50K</td>\n",
       "    </tr>\n",
       "    <tr>\n",
       "      <th>1</th>\n",
       "      <td>40</td>\n",
       "      <td>Private</td>\n",
       "      <td>150057</td>\n",
       "      <td>HS-grad</td>\n",
       "      <td>10</td>\n",
       "      <td>Married-civ-spouse</td>\n",
       "      <td>Tech-support</td>\n",
       "      <td>Husband</td>\n",
       "      <td>White</td>\n",
       "      <td>Male</td>\n",
       "      <td>0</td>\n",
       "      <td>0</td>\n",
       "      <td>42</td>\n",
       "      <td>United-States</td>\n",
       "      <td>&gt;50K</td>\n",
       "    </tr>\n",
       "    <tr>\n",
       "      <th>2</th>\n",
       "      <td>66</td>\n",
       "      <td>Self-emp-not-inc</td>\n",
       "      <td>216666</td>\n",
       "      <td>Prof-school</td>\n",
       "      <td>14</td>\n",
       "      <td>Never-married</td>\n",
       "      <td>Prof-specialty</td>\n",
       "      <td>Not-in-family</td>\n",
       "      <td>White</td>\n",
       "      <td>Female</td>\n",
       "      <td>0</td>\n",
       "      <td>0</td>\n",
       "      <td>40</td>\n",
       "      <td>United-States</td>\n",
       "      <td>&gt;50K</td>\n",
       "    </tr>\n",
       "    <tr>\n",
       "      <th>3</th>\n",
       "      <td>30</td>\n",
       "      <td>Private</td>\n",
       "      <td>181863</td>\n",
       "      <td>HS-grad</td>\n",
       "      <td>7</td>\n",
       "      <td>Married-civ-spouse</td>\n",
       "      <td>Exec-managerial</td>\n",
       "      <td>Own-child</td>\n",
       "      <td>White</td>\n",
       "      <td>Male</td>\n",
       "      <td>0</td>\n",
       "      <td>0</td>\n",
       "      <td>40</td>\n",
       "      <td>United-States</td>\n",
       "      <td>&gt;50K</td>\n",
       "    </tr>\n",
       "    <tr>\n",
       "      <th>4</th>\n",
       "      <td>46</td>\n",
       "      <td>Local-gov</td>\n",
       "      <td>143083</td>\n",
       "      <td>Some-college</td>\n",
       "      <td>10</td>\n",
       "      <td>Never-married</td>\n",
       "      <td>Transport-moving</td>\n",
       "      <td>Own-child</td>\n",
       "      <td>White</td>\n",
       "      <td>Male</td>\n",
       "      <td>0</td>\n",
       "      <td>0</td>\n",
       "      <td>21</td>\n",
       "      <td>United-States</td>\n",
       "      <td>&lt;=50K</td>\n",
       "    </tr>\n",
       "  </tbody>\n",
       "</table>\n",
       "</div>"
      ],
      "text/plain": [
       "   age         workclass  fnlwgt     education  education-num  \\\n",
       "0   44           Private  116608  Some-college             10   \n",
       "1   40           Private  150057       HS-grad             10   \n",
       "2   66  Self-emp-not-inc  216666   Prof-school             14   \n",
       "3   30           Private  181863       HS-grad              7   \n",
       "4   46         Local-gov  143083  Some-college             10   \n",
       "\n",
       "       marital-status        occupation   relationship   race     sex  \\\n",
       "0       Never-married   Farming-fishing        Husband  White    Male   \n",
       "1  Married-civ-spouse      Tech-support        Husband  White    Male   \n",
       "2       Never-married    Prof-specialty  Not-in-family  White  Female   \n",
       "3  Married-civ-spouse   Exec-managerial      Own-child  White    Male   \n",
       "4       Never-married  Transport-moving      Own-child  White    Male   \n",
       "\n",
       "   capital-gain  capital-loss  hours-per-week native-country income  \n",
       "0             0          1977              46  United-States  <=50K  \n",
       "1             0             0              42  United-States   >50K  \n",
       "2             0             0              40  United-States   >50K  \n",
       "3             0             0              40  United-States   >50K  \n",
       "4             0             0              21  United-States  <=50K  "
      ]
     },
     "execution_count": 65,
     "metadata": {},
     "output_type": "execute_result"
    }
   ],
   "source": [
    "# define your generator - in this case the simple marginal generator\n",
    "generator = MarginalGenerator(epsilon=EPSILON)\n",
    "\n",
    "# train the generator on the input data\n",
    "generator.fit(df_adult)\n",
    "\n",
    "# generate synthetic data with a desired number of rows\n",
    "df_synth_marginal = generator.generate(n_records=1000)\n",
    "df_synth_marginal.head()"
   ]
  },
  {
   "cell_type": "markdown",
   "metadata": {},
   "source": [
    "## Synth Pipeline"
   ]
  },
  {
   "cell_type": "markdown",
   "metadata": {},
   "source": [
    "More often than not, you will need to some extra processing steps to improve the quality of the synthetic data - similar to training a machine learning model. These steps can be put in a pipeline, consisting of the following steps:\n",
    "1. pre-processing: process the original data by removing or altering information you do not want to capture in the synthetic dataset, e.g. sensitive information or incorrect values.\n",
    "2. fit: train the generator algorithm on the processed data\n",
    "3. generate: generate a desired number of samples\n",
    "4. post-process: post-process the synthetic data to remove inconsistencies or add additional information to the synthetic dataset\n",
    "\n",
    "We defined a pipeline for the adult dataset. If you're curious on how to define such pipelines yourself, look at the code in `examples/adult/adult_synthpipe.py`"
   ]
  },
  {
   "cell_type": "code",
   "execution_count": 66,
   "metadata": {},
   "outputs": [
    {
     "name": "stdout",
     "output_type": "stream",
     "text": [
      "Computing DP parameter mean on column age\n",
      "Computing DP parameter std on column age\n",
      "Computing DP parameter mean on column hours-per-week\n",
      "Computing DP parameter std on column hours-per-week\n",
      "\n",
      "Epsilon params: 0.1\n",
      "Epsilon generator: 0.1\n",
      "Total epsilon: 0.2\n",
      "\n",
      "1/11 - Root of network: income\n",
      "\n",
      "2/11 - Evaluating next attribute to add to network\n",
      "Number of AttributeParentPair candidates: 10\n",
      "Selected attribute: 'relationship' - with parents: ('income',)\n",
      "\n",
      "3/11 - Evaluating next attribute to add to network\n",
      "Number of AttributeParentPair candidates: 10\n",
      "Selected attribute: 'marital-status' - with parents: ('income',)\n",
      "\n",
      "4/11 - Evaluating next attribute to add to network\n",
      "Number of AttributeParentPair candidates: 10\n",
      "Selected attribute: 'sex' - with parents: ('marital-status',)\n",
      "\n",
      "5/11 - Evaluating next attribute to add to network\n",
      "Number of AttributeParentPair candidates: 8\n",
      "Selected attribute: 'workclass' - with parents: ('income',)\n",
      "\n",
      "6/11 - Evaluating next attribute to add to network\n",
      "Number of AttributeParentPair candidates: 6\n",
      "Selected attribute: 'age' - with parents: ('income', 'sex')\n",
      "\n",
      "7/11 - Evaluating next attribute to add to network\n",
      "Number of AttributeParentPair candidates: 6\n",
      "Selected attribute: 'hours-per-week' - with parents: ('age',)\n",
      "\n",
      "8/11 - Evaluating next attribute to add to network\n",
      "Number of AttributeParentPair candidates: 5\n",
      "Selected attribute: 'native-country' - with parents: None\n",
      "\n",
      "9/11 - Evaluating next attribute to add to network\n",
      "Number of AttributeParentPair candidates: 4\n"
     ]
    },
    {
     "name": "stderr",
     "output_type": "stream",
     "text": [
      "/Users/dknoors/Projects/synthesis-dk/synthetic-data-generation/synthesis/transformers/generalization.py:53: UserWarning: Bins whose width are too small (i.e., <= 1e-8). Consider decreasing the number of bins.\n",
      "  warnings.warn('Bins whose width are too small (i.e., <= '\n"
     ]
    },
    {
     "name": "stdout",
     "output_type": "stream",
     "text": [
      "Selected attribute: 'race' - with parents: ('hours-per-week',)\n",
      "\n",
      "10/11 - Evaluating next attribute to add to network\n",
      "Number of AttributeParentPair candidates: 2\n",
      "Selected attribute: 'education' - with parents: None\n",
      "\n",
      "11/11 - Evaluating next attribute to add to network\n",
      "Number of AttributeParentPair candidates: 1\n",
      "Selected attribute: 'occupation' - with parents: None\n",
      "\n",
      "Learned Network Structure\n",
      "\n",
      "Learning conditional probabilities: income - with parents None ~ estimated size: 2\n",
      "Learning conditional probabilities: relationship - with parents ('income',) ~ estimated size: 12\n",
      "Learning conditional probabilities: marital-status - with parents ('income',) ~ estimated size: 14\n",
      "Learning conditional probabilities: sex - with parents ('marital-status',) ~ estimated size: 14\n",
      "Learning conditional probabilities: workclass - with parents ('income',) ~ estimated size: 18\n",
      "Learning conditional probabilities: age - with parents ('income', 'sex') ~ estimated size: 20\n",
      "Learning conditional probabilities: hours-per-week - with parents ('age',) ~ estimated size: 20\n",
      "Learning conditional probabilities: native-country - with parents None ~ estimated size: 42\n",
      "Learning conditional probabilities: race - with parents ('hours-per-week',) ~ estimated size: 20\n",
      "Learning conditional probabilities: education - with parents None ~ estimated size: 16\n",
      "Learning conditional probabilities: occupation - with parents None ~ estimated size: 15\n",
      "Number of records generated: 1000 / 1000\n",
      "Synthetic Data Generated\n",
      "\n"
     ]
    },
    {
     "data": {
      "text/html": [
       "<div>\n",
       "<style scoped>\n",
       "    .dataframe tbody tr th:only-of-type {\n",
       "        vertical-align: middle;\n",
       "    }\n",
       "\n",
       "    .dataframe tbody tr th {\n",
       "        vertical-align: top;\n",
       "    }\n",
       "\n",
       "    .dataframe thead th {\n",
       "        text-align: right;\n",
       "    }\n",
       "</style>\n",
       "<table border=\"1\" class=\"dataframe\">\n",
       "  <thead>\n",
       "    <tr style=\"text-align: right;\">\n",
       "      <th></th>\n",
       "      <th>age</th>\n",
       "      <th>workclass</th>\n",
       "      <th>education</th>\n",
       "      <th>marital-status</th>\n",
       "      <th>occupation</th>\n",
       "      <th>relationship</th>\n",
       "      <th>race</th>\n",
       "      <th>sex</th>\n",
       "      <th>hours-per-week</th>\n",
       "      <th>native-country</th>\n",
       "      <th>income</th>\n",
       "    </tr>\n",
       "  </thead>\n",
       "  <tbody>\n",
       "    <tr>\n",
       "      <th>0</th>\n",
       "      <td>54</td>\n",
       "      <td>Private</td>\n",
       "      <td>Bachelors</td>\n",
       "      <td>Married-civ-spouse</td>\n",
       "      <td>Other-service</td>\n",
       "      <td>Husband</td>\n",
       "      <td>White</td>\n",
       "      <td>Male</td>\n",
       "      <td>25</td>\n",
       "      <td>United-States</td>\n",
       "      <td>&gt;50K</td>\n",
       "    </tr>\n",
       "    <tr>\n",
       "      <th>1</th>\n",
       "      <td>49</td>\n",
       "      <td>Private</td>\n",
       "      <td>Assoc-acdm</td>\n",
       "      <td>Married-civ-spouse</td>\n",
       "      <td>Adm-clerical</td>\n",
       "      <td>Husband</td>\n",
       "      <td>White</td>\n",
       "      <td>Female</td>\n",
       "      <td>70</td>\n",
       "      <td>United-States</td>\n",
       "      <td>&lt;=50K</td>\n",
       "    </tr>\n",
       "    <tr>\n",
       "      <th>2</th>\n",
       "      <td>47</td>\n",
       "      <td>Private</td>\n",
       "      <td>HS-grad</td>\n",
       "      <td>Never-married</td>\n",
       "      <td>Farming-fishing</td>\n",
       "      <td>Husband</td>\n",
       "      <td>White</td>\n",
       "      <td>Female</td>\n",
       "      <td>60</td>\n",
       "      <td>Thailand</td>\n",
       "      <td>&lt;=50K</td>\n",
       "    </tr>\n",
       "    <tr>\n",
       "      <th>3</th>\n",
       "      <td>30</td>\n",
       "      <td>Private</td>\n",
       "      <td>Bachelors</td>\n",
       "      <td>Married-civ-spouse</td>\n",
       "      <td>Adm-clerical</td>\n",
       "      <td>Not-in-family</td>\n",
       "      <td>White</td>\n",
       "      <td>Female</td>\n",
       "      <td>45</td>\n",
       "      <td>United-States</td>\n",
       "      <td>&lt;=50K</td>\n",
       "    </tr>\n",
       "    <tr>\n",
       "      <th>4</th>\n",
       "      <td>19</td>\n",
       "      <td>Private</td>\n",
       "      <td>HS-grad</td>\n",
       "      <td>Married-civ-spouse</td>\n",
       "      <td>Exec-managerial</td>\n",
       "      <td>Husband</td>\n",
       "      <td>White</td>\n",
       "      <td>Male</td>\n",
       "      <td>51</td>\n",
       "      <td>United-States</td>\n",
       "      <td>&lt;=50K</td>\n",
       "    </tr>\n",
       "  </tbody>\n",
       "</table>\n",
       "</div>"
      ],
      "text/plain": [
       "   age workclass   education      marital-status       occupation  \\\n",
       "0   54   Private   Bachelors  Married-civ-spouse    Other-service   \n",
       "1   49   Private  Assoc-acdm  Married-civ-spouse     Adm-clerical   \n",
       "2   47   Private     HS-grad       Never-married  Farming-fishing   \n",
       "3   30   Private   Bachelors  Married-civ-spouse     Adm-clerical   \n",
       "4   19   Private     HS-grad  Married-civ-spouse  Exec-managerial   \n",
       "\n",
       "    relationship   race     sex  hours-per-week native-country income  \n",
       "0        Husband  White    Male              25  United-States   >50K  \n",
       "1        Husband  White  Female              70  United-States  <=50K  \n",
       "2        Husband  White  Female              60       Thailand  <=50K  \n",
       "3  Not-in-family  White  Female              45  United-States  <=50K  \n",
       "4        Husband  White    Male              51  United-States  <=50K  "
      ]
     },
     "execution_count": 66,
     "metadata": {},
     "output_type": "execute_result"
    }
   ],
   "source": [
    "# create copy to retain original data format\n",
    "df = df_adult.copy()\n",
    "\n",
    "# create a synthetic pipeline\n",
    "generator=PrivBayes(epsilon=0.1)\n",
    "synth_pipe = AdultSynthPipe(generator=generator, holdout_size=0.2, generalize=True, target_column='income', random_state=RANDOM_STATE)\n",
    "\n",
    "data_out = synth_pipe.run(df, n_records=1000)\n",
    "data_out['synth'].head()"
   ]
  },
  {
   "cell_type": "markdown",
   "metadata": {},
   "source": [
    "## Experiment\n",
    "Run multiple synthesis experiments"
   ]
  },
  {
   "cell_type": "code",
   "execution_count": 12,
   "metadata": {},
   "outputs": [],
   "source": [
    "from crnsynth2.experiment.experiment import SynthExperiment\n",
    "from crnsynth2.metrics import DEFAULT_METRICS, PRIVACY_METRICS\n",
    "from crnsynth2.experiment import utils"
   ]
  },
  {
   "cell_type": "code",
   "execution_count": 17,
   "metadata": {},
   "outputs": [
    {
     "name": "stdout",
     "output_type": "stream",
     "text": [
      "{'epsilon': 0.01, 'holdout_size': 0.2}\n",
      "{'epsilon': 0.01, 'holdout_size': 0.3}\n",
      "{'epsilon': 0.01, 'holdout_size': 0.4}\n",
      "{'epsilon': 0.1, 'holdout_size': 0.2}\n",
      "{'epsilon': 0.1, 'holdout_size': 0.3}\n",
      "{'epsilon': 0.1, 'holdout_size': 0.4}\n",
      "{'epsilon': 1, 'holdout_size': 0.2}\n",
      "{'epsilon': 1, 'holdout_size': 0.3}\n",
      "{'epsilon': 1, 'holdout_size': 0.4}\n"
     ]
    }
   ],
   "source": [
    "from sklearn.model_selection import ParameterGrid\n",
    "\n",
    "pg = ParameterGrid(param_grid=param_grid)\n",
    "for p in pg:\n",
    "    print(p)\n"
   ]
  },
  {
   "cell_type": "code",
   "execution_count": 26,
   "metadata": {},
   "outputs": [
    {
     "data": {
      "text/plain": [
       "[AdultSynthPipe(generator=PrivBayes({'random_state': 42, 'epsilon': 1, 'model': <synthesis.synthesizers.privbayes.PrivBayes object at 0x2877aab20>})),\n",
       " AdultSynthPipe(generator=PrivBayes({'random_state': 42, 'epsilon': 1, 'model': <synthesis.synthesizers.privbayes.PrivBayes object at 0x2877aab20>})),\n",
       " AdultSynthPipe(generator=PrivBayes({'random_state': 42, 'epsilon': 1, 'model': <synthesis.synthesizers.privbayes.PrivBayes object at 0x2877aab20>})),\n",
       " AdultSynthPipe(generator=PrivBayes({'random_state': 42, 'epsilon': 1, 'model': <synthesis.synthesizers.privbayes.PrivBayes object at 0x2877aab20>})),\n",
       " AdultSynthPipe(generator=PrivBayes({'random_state': 42, 'epsilon': 1, 'model': <synthesis.synthesizers.privbayes.PrivBayes object at 0x2877aab20>})),\n",
       " AdultSynthPipe(generator=PrivBayes({'random_state': 42, 'epsilon': 1, 'model': <synthesis.synthesizers.privbayes.PrivBayes object at 0x2877aab20>})),\n",
       " AdultSynthPipe(generator=PrivBayes({'random_state': 42, 'epsilon': 1, 'model': <synthesis.synthesizers.privbayes.PrivBayes object at 0x2877aab20>})),\n",
       " AdultSynthPipe(generator=PrivBayes({'random_state': 42, 'epsilon': 1, 'model': <synthesis.synthesizers.privbayes.PrivBayes object at 0x2877aab20>})),\n",
       " AdultSynthPipe(generator=PrivBayes({'random_state': 42, 'epsilon': 1, 'model': <synthesis.synthesizers.privbayes.PrivBayes object at 0x2877aab20>})),\n",
       " AdultSynthPipe(generator=MarginalGenerator({'random_state': None, 'model': <synthesis.synthesizers.marginal.MarginalSynthesizer object at 0x2877aaa30>})),\n",
       " AdultSynthPipe(generator=MarginalGenerator({'random_state': None, 'model': <synthesis.synthesizers.marginal.MarginalSynthesizer object at 0x2877aaa30>})),\n",
       " AdultSynthPipe(generator=MarginalGenerator({'random_state': None, 'model': <synthesis.synthesizers.marginal.MarginalSynthesizer object at 0x2877aaa30>})),\n",
       " AdultSynthPipe(generator=MarginalGenerator({'random_state': None, 'model': <synthesis.synthesizers.marginal.MarginalSynthesizer object at 0x2877aaa30>})),\n",
       " AdultSynthPipe(generator=MarginalGenerator({'random_state': None, 'model': <synthesis.synthesizers.marginal.MarginalSynthesizer object at 0x2877aaa30>})),\n",
       " AdultSynthPipe(generator=MarginalGenerator({'random_state': None, 'model': <synthesis.synthesizers.marginal.MarginalSynthesizer object at 0x2877aaa30>})),\n",
       " AdultSynthPipe(generator=MarginalGenerator({'random_state': None, 'model': <synthesis.synthesizers.marginal.MarginalSynthesizer object at 0x2877aaa30>})),\n",
       " AdultSynthPipe(generator=MarginalGenerator({'random_state': None, 'model': <synthesis.synthesizers.marginal.MarginalSynthesizer object at 0x2877aaa30>})),\n",
       " AdultSynthPipe(generator=MarginalGenerator({'random_state': None, 'model': <synthesis.synthesizers.marginal.MarginalSynthesizer object at 0x2877aaa30>}))]"
      ]
     },
     "execution_count": 26,
     "metadata": {},
     "output_type": "execute_result"
    }
   ],
   "source": [
    "# def create_synthpipes(default_pipeline, generators):\n",
    "#     synthpipes = [default_pipeline.__copy__().set_generator(generator) for generator in generators]\n",
    "#     return synthpipes\n",
    "\n",
    "# create synthpipes\n",
    "default_pipe = AdultSynthPipe(holdout_size=0.2, random_state=RANDOM_STATE)\n",
    "generators = [PrivBayes(epsilon=1, random_state=RANDOM_STATE), MarginalGenerator(epsilon=1)]\n",
    "\n",
    "param_grid = {\n",
    "    'epsilon': [0.01, 0.1, 1],\n",
    "    'holdout_size': [0.2, 0.3, 0.4]\n",
    "}\n",
    "\n",
    "synth_pipes = utils.init_synthpipes(default_pipe, generators, param_grid=param_grid)\n",
    "synth_pipes"
   ]
  },
  {
   "cell_type": "code",
   "execution_count": 25,
   "metadata": {},
   "outputs": [
    {
     "data": {
      "text/plain": [
       "1"
      ]
     },
     "execution_count": 25,
     "metadata": {},
     "output_type": "execute_result"
    }
   ],
   "source": [
    "synth_pipes[1].generator.epsilon"
   ]
  },
  {
   "cell_type": "code",
   "execution_count": 10,
   "metadata": {},
   "outputs": [
    {
     "data": {
      "text/plain": [
       "<function crnsynth2.metrics.privacy.dcr.DistanceClosestRecord.name() -> str>"
      ]
     },
     "execution_count": 10,
     "metadata": {},
     "output_type": "execute_result"
    }
   ],
   "source": [
    "from crnsynth2.metrics.privacy.dcr import DistanceClosestRecord\n",
    "DistanceClosestRecord().name"
   ]
  },
  {
   "cell_type": "code",
   "execution_count": 11,
   "metadata": {},
   "outputs": [
    {
     "data": {
      "text/plain": [
       "[DistanceClosestRecord({'quantile': 0.5, 'metric': 'gower', 'categorical_columns': None}),\n",
       " NearestNeighborDistanceRatio({'quantile': 0.5, 'metric': 'gower', 'n_neighbors': 5, 'categorical_columns': None})]"
      ]
     },
     "execution_count": 11,
     "metadata": {},
     "output_type": "execute_result"
    }
   ],
   "source": [
    "PRIVACY_METRICS"
   ]
  },
  {
   "cell_type": "code",
   "execution_count": 12,
   "metadata": {},
   "outputs": [
    {
     "name": "stdout",
     "output_type": "stream",
     "text": [
      "Running synthesis experiment for PrivBayes\n",
      "Computing DP parameter mean on column age\n",
      "Computing DP parameter std on column age\n",
      "Computing DP parameter mean on column hours-per-week\n",
      "Computing DP parameter std on column hours-per-week\n",
      "\n",
      "Epsilon params: 0.1\n",
      "Epsilon generator: 1\n",
      "Total epsilon: 1.1\n",
      "\n",
      "1/11 - Root of network: income\n",
      "\n",
      "2/11 - Evaluating next attribute to add to network\n",
      "Number of AttributeParentPair candidates: 10\n",
      "Selected attribute: 'relationship' - with parents: ('income',)\n",
      "\n",
      "3/11 - Evaluating next attribute to add to network\n",
      "Number of AttributeParentPair candidates: 9\n",
      "Selected attribute: 'marital-status' - with parents: ('relationship', 'income')\n",
      "\n",
      "4/11 - Evaluating next attribute to add to network\n",
      "Number of AttributeParentPair candidates: 15\n"
     ]
    },
    {
     "name": "stderr",
     "output_type": "stream",
     "text": [
      "/Users/dknoors/Projects/synthesis-dk/synthetic-data-generation/synthesis/transformers/generalization.py:53: UserWarning: Bins whose width are too small (i.e., <= 1e-8). Consider decreasing the number of bins.\n",
      "  warnings.warn('Bins whose width are too small (i.e., <= '\n"
     ]
    },
    {
     "name": "stdout",
     "output_type": "stream",
     "text": [
      "Selected attribute: 'sex' - with parents: ('marital-status', 'relationship', 'income')\n",
      "\n",
      "5/11 - Evaluating next attribute to add to network\n",
      "Number of AttributeParentPair candidates: 21\n",
      "Selected attribute: 'age' - with parents: ('marital-status', 'sex', 'income')\n",
      "\n",
      "6/11 - Evaluating next attribute to add to network\n",
      "Number of AttributeParentPair candidates: 29\n",
      "Selected attribute: 'occupation' - with parents: ('sex', 'income')\n",
      "\n",
      "7/11 - Evaluating next attribute to add to network\n",
      "Number of AttributeParentPair candidates: 28\n",
      "Selected attribute: 'workclass' - with parents: ('occupation',)\n",
      "\n",
      "8/11 - Evaluating next attribute to add to network\n",
      "Number of AttributeParentPair candidates: 26\n",
      "Selected attribute: 'hours-per-week' - with parents: ('income', 'occupation')\n",
      "\n",
      "9/11 - Evaluating next attribute to add to network\n",
      "Number of AttributeParentPair candidates: 25\n",
      "Selected attribute: 'education' - with parents: ('income', 'age')\n",
      "\n",
      "10/11 - Evaluating next attribute to add to network\n",
      "Number of AttributeParentPair candidates: 18\n",
      "Selected attribute: 'race' - with parents: ('hours-per-week', 'relationship')\n",
      "\n",
      "11/11 - Evaluating next attribute to add to network\n",
      "Number of AttributeParentPair candidates: 2\n",
      "Selected attribute: 'native-country' - with parents: ('sex', 'income')\n",
      "\n",
      "Learned Network Structure\n",
      "\n",
      "Learning conditional probabilities: income - with parents None ~ estimated size: 2\n",
      "Learning conditional probabilities: relationship - with parents ('income',) ~ estimated size: 12\n",
      "Learning conditional probabilities: marital-status - with parents ('relationship', 'income') ~ estimated size: 84\n",
      "Learning conditional probabilities: sex - with parents ('marital-status', 'relationship', 'income') ~ estimated size: 168\n",
      "Learning conditional probabilities: age - with parents ('marital-status', 'sex', 'income') ~ estimated size: 140\n",
      "Learning conditional probabilities: occupation - with parents ('sex', 'income') ~ estimated size: 60\n",
      "Learning conditional probabilities: workclass - with parents ('occupation',) ~ estimated size: 135\n",
      "Learning conditional probabilities: hours-per-week - with parents ('income', 'occupation') ~ estimated size: 120\n",
      "Learning conditional probabilities: education - with parents ('income', 'age') ~ estimated size: 160\n",
      "Learning conditional probabilities: race - with parents ('hours-per-week', 'relationship') ~ estimated size: 120\n",
      "Learning conditional probabilities: native-country - with parents ('sex', 'income') ~ estimated size: 168\n",
      "Number of records generated: 585 / 1000"
     ]
    },
    {
     "name": "stderr",
     "output_type": "stream",
     "text": [
      "/Users/dknoors/miniconda3/envs/crnsynth/lib/python3.9/site-packages/thomas/core/factors/cpt.py:65: RuntimeWarning: invalid value encountered in divide\n",
      "  self.values = self.values / row_sum\n"
     ]
    },
    {
     "name": "stdout",
     "output_type": "stream",
     "text": [
      "Number of records generated: 1000 / 1000\n",
      "Synthetic Data Generated\n",
      "\n"
     ]
    },
    {
     "ename": "ValueError",
     "evalue": "could not convert string to float: 'Private'",
     "output_type": "error",
     "traceback": [
      "\u001b[0;31m---------------------------------------------------------------------------\u001b[0m",
      "\u001b[0;31mValueError\u001b[0m                                Traceback (most recent call last)",
      "Cell \u001b[0;32mIn[12], line 2\u001b[0m\n\u001b[1;32m      1\u001b[0m synth_experiment \u001b[38;5;241m=\u001b[39m SynthExperiment(experiment_name\u001b[38;5;241m=\u001b[39m\u001b[38;5;124m'\u001b[39m\u001b[38;5;124madult_synthesis\u001b[39m\u001b[38;5;124m'\u001b[39m, synth_pipes\u001b[38;5;241m=\u001b[39msynth_pipes, metrics\u001b[38;5;241m=\u001b[39mPRIVACY_METRICS, path_out\u001b[38;5;241m=\u001b[39mPATH_RESULTS)\n\u001b[0;32m----> 2\u001b[0m \u001b[43msynth_experiment\u001b[49m\u001b[38;5;241;43m.\u001b[39;49m\u001b[43mrun\u001b[49m\u001b[43m(\u001b[49m\u001b[43mdf_adult\u001b[49m\u001b[43m,\u001b[49m\u001b[43m \u001b[49m\u001b[43mn_records\u001b[49m\u001b[38;5;241;43m=\u001b[39;49m\u001b[38;5;241;43m1000\u001b[39;49m\u001b[43m)\u001b[49m\n",
      "File \u001b[0;32m~/Projects/synthesis-dk/crn-synth/crnsynth2/experiment/experiment.py:69\u001b[0m, in \u001b[0;36mSynthExperiment.run\u001b[0;34m(self, data_real, n_records)\u001b[0m\n\u001b[1;32m     67\u001b[0m \u001b[38;5;28mself\u001b[39m\u001b[38;5;241m.\u001b[39mscores_[synth_pipe\u001b[38;5;241m.\u001b[39mgenerator\u001b[38;5;241m.\u001b[39mname] \u001b[38;5;241m=\u001b[39m {}\n\u001b[1;32m     68\u001b[0m \u001b[38;5;28;01mfor\u001b[39;00m metric \u001b[38;5;129;01min\u001b[39;00m \u001b[38;5;28mself\u001b[39m\u001b[38;5;241m.\u001b[39mmetrics:\n\u001b[0;32m---> 69\u001b[0m     \u001b[38;5;28mself\u001b[39m\u001b[38;5;241m.\u001b[39mscores_[synth_pipe\u001b[38;5;241m.\u001b[39mgenerator\u001b[38;5;241m.\u001b[39mname][metric\u001b[38;5;241m.\u001b[39mname] \u001b[38;5;241m=\u001b[39m \u001b[43mmetric\u001b[49m\u001b[38;5;241;43m.\u001b[39;49m\u001b[43mcompute\u001b[49m\u001b[43m(\u001b[49m\n\u001b[1;32m     70\u001b[0m \u001b[43m        \u001b[49m\u001b[43mdata_train\u001b[49m\u001b[38;5;241;43m=\u001b[39;49m\u001b[43mdata_out\u001b[49m\u001b[43m[\u001b[49m\u001b[38;5;124;43m'\u001b[39;49m\u001b[38;5;124;43mtrain\u001b[39;49m\u001b[38;5;124;43m'\u001b[39;49m\u001b[43m]\u001b[49m\u001b[43m,\u001b[49m\u001b[43m \u001b[49m\u001b[43mdata_synth\u001b[49m\u001b[38;5;241;43m=\u001b[39;49m\u001b[43mdata_out\u001b[49m\u001b[43m[\u001b[49m\u001b[38;5;124;43m'\u001b[39;49m\u001b[38;5;124;43msynth\u001b[39;49m\u001b[38;5;124;43m'\u001b[39;49m\u001b[43m]\u001b[49m\u001b[43m,\u001b[49m\u001b[43m \u001b[49m\u001b[43mdata_holdout\u001b[49m\u001b[38;5;241;43m=\u001b[39;49m\u001b[43mdata_out\u001b[49m\u001b[43m[\u001b[49m\u001b[38;5;124;43m'\u001b[39;49m\u001b[38;5;124;43mholdout\u001b[39;49m\u001b[38;5;124;43m'\u001b[39;49m\u001b[43m]\u001b[49m\n\u001b[1;32m     71\u001b[0m \u001b[43m    \u001b[49m\u001b[43m)\u001b[49m\n\u001b[1;32m     73\u001b[0m \u001b[38;5;66;03m# save the synth data\u001b[39;00m\n\u001b[1;32m     74\u001b[0m fname \u001b[38;5;241m=\u001b[39m \u001b[38;5;124mf\u001b[39m\u001b[38;5;124m\"\u001b[39m\u001b[38;5;132;01m{\u001b[39;00m\u001b[38;5;28mself\u001b[39m\u001b[38;5;241m.\u001b[39mexperiment_name\u001b[38;5;132;01m}\u001b[39;00m\u001b[38;5;124m_\u001b[39m\u001b[38;5;132;01m{\u001b[39;00msynth_pipe\u001b[38;5;241m.\u001b[39mgenerator\u001b[38;5;241m.\u001b[39mname\u001b[38;5;132;01m}\u001b[39;00m\u001b[38;5;124m\"\u001b[39m\n",
      "File \u001b[0;32m~/Projects/synthesis-dk/crn-synth/crnsynth2/metrics/privacy/dcr.py:76\u001b[0m, in \u001b[0;36mDistanceClosestRecord.compute\u001b[0;34m(self, data_train, data_synth, data_holdout)\u001b[0m\n\u001b[1;32m     73\u001b[0m     \u001b[38;5;28;01mraise\u001b[39;00m \u001b[38;5;167;01mValueError\u001b[39;00m(\u001b[38;5;124m\"\u001b[39m\u001b[38;5;124mHoldout data is required for computing this metric.\u001b[39m\u001b[38;5;124m\"\u001b[39m)\n\u001b[1;32m     75\u001b[0m \u001b[38;5;66;03m# compute distances to closest real record\u001b[39;00m\n\u001b[0;32m---> 76\u001b[0m distances_holdout, distances_synth \u001b[38;5;241m=\u001b[39m \u001b[43mcompute_closest_distances\u001b[49m\u001b[43m(\u001b[49m\n\u001b[1;32m     77\u001b[0m \u001b[43m    \u001b[49m\u001b[43mdata_train\u001b[49m\u001b[38;5;241;43m=\u001b[39;49m\u001b[43mdata_train\u001b[49m\u001b[43m,\u001b[49m\n\u001b[1;32m     78\u001b[0m \u001b[43m    \u001b[49m\u001b[43mdata_holdout\u001b[49m\u001b[38;5;241;43m=\u001b[39;49m\u001b[43mdata_holdout\u001b[49m\u001b[43m,\u001b[49m\n\u001b[1;32m     79\u001b[0m \u001b[43m    \u001b[49m\u001b[43mdata_synth\u001b[49m\u001b[38;5;241;43m=\u001b[39;49m\u001b[43mdata_synth\u001b[49m\u001b[43m,\u001b[49m\n\u001b[1;32m     80\u001b[0m \u001b[43m    \u001b[49m\u001b[43mcategorical_columns\u001b[49m\u001b[38;5;241;43m=\u001b[39;49m\u001b[38;5;28;43mself\u001b[39;49m\u001b[38;5;241;43m.\u001b[39;49m\u001b[43mcategorical_columns\u001b[49m\u001b[43m,\u001b[49m\n\u001b[1;32m     81\u001b[0m \u001b[43m    \u001b[49m\u001b[43mdistance_metric\u001b[49m\u001b[38;5;241;43m=\u001b[39;49m\u001b[38;5;28;43mself\u001b[39;49m\u001b[38;5;241;43m.\u001b[39;49m\u001b[43mmetric\u001b[49m\u001b[43m,\u001b[49m\n\u001b[1;32m     82\u001b[0m \u001b[43m\u001b[49m\u001b[43m)\u001b[49m\n\u001b[1;32m     84\u001b[0m \u001b[38;5;66;03m# take the quantile of distances to closest real record\u001b[39;00m\n\u001b[1;32m     85\u001b[0m dcr_holdout \u001b[38;5;241m=\u001b[39m np\u001b[38;5;241m.\u001b[39mquantile(distances_holdout[:, \u001b[38;5;241m0\u001b[39m], \u001b[38;5;28mself\u001b[39m\u001b[38;5;241m.\u001b[39mquantile)\n",
      "File \u001b[0;32m~/Projects/synthesis-dk/crn-synth/crnsynth2/metrics/privacy/dcr.py:13\u001b[0m, in \u001b[0;36mcompute_closest_distances\u001b[0;34m(data_train, data_synth, data_holdout, categorical_columns, distance_metric)\u001b[0m\n\u001b[1;32m     10\u001b[0m \u001b[38;5;28;01mdef\u001b[39;00m \u001b[38;5;21mcompute_closest_distances\u001b[39m(\n\u001b[1;32m     11\u001b[0m     data_train, data_synth, data_holdout, categorical_columns, distance_metric\u001b[38;5;241m=\u001b[39m\u001b[38;5;124m\"\u001b[39m\u001b[38;5;124mgower\u001b[39m\u001b[38;5;124m\"\u001b[39m\n\u001b[1;32m     12\u001b[0m ):\n\u001b[0;32m---> 13\u001b[0m     distances_test, distances_synth \u001b[38;5;241m=\u001b[39m \u001b[43mcompute_distance_nn\u001b[49m\u001b[43m(\u001b[49m\n\u001b[1;32m     14\u001b[0m \u001b[43m        \u001b[49m\u001b[43mdata_train\u001b[49m\u001b[38;5;241;43m=\u001b[39;49m\u001b[43mdata_train\u001b[49m\u001b[43m,\u001b[49m\n\u001b[1;32m     15\u001b[0m \u001b[43m        \u001b[49m\u001b[43mdata_synth\u001b[49m\u001b[38;5;241;43m=\u001b[39;49m\u001b[43mdata_synth\u001b[49m\u001b[43m,\u001b[49m\n\u001b[1;32m     16\u001b[0m \u001b[43m        \u001b[49m\u001b[43mdata_holdout\u001b[49m\u001b[38;5;241;43m=\u001b[39;49m\u001b[43mdata_holdout\u001b[49m\u001b[43m,\u001b[49m\n\u001b[1;32m     17\u001b[0m \u001b[43m        \u001b[49m\u001b[43mcategorical_columns\u001b[49m\u001b[38;5;241;43m=\u001b[39;49m\u001b[43mcategorical_columns\u001b[49m\u001b[43m,\u001b[49m\n\u001b[1;32m     18\u001b[0m \u001b[43m        \u001b[49m\u001b[43mn_neighbors\u001b[49m\u001b[38;5;241;43m=\u001b[39;49m\u001b[38;5;241;43m1\u001b[39;49m\u001b[43m,\u001b[49m\n\u001b[1;32m     19\u001b[0m \u001b[43m        \u001b[49m\u001b[43mnormalize\u001b[49m\u001b[38;5;241;43m=\u001b[39;49m\u001b[38;5;28;43;01mTrue\u001b[39;49;00m\u001b[43m,\u001b[49m\n\u001b[1;32m     20\u001b[0m \u001b[43m        \u001b[49m\u001b[43mdistance_metric\u001b[49m\u001b[38;5;241;43m=\u001b[39;49m\u001b[43mdistance_metric\u001b[49m\u001b[43m,\u001b[49m\n\u001b[1;32m     21\u001b[0m \u001b[43m    \u001b[49m\u001b[43m)\u001b[49m\n\u001b[1;32m     23\u001b[0m     \u001b[38;5;28;01mreturn\u001b[39;00m distances_test, distances_synth\n",
      "File \u001b[0;32m~/Projects/synthesis-dk/crn-synth/crnsynth2/metrics/privacy/utils.py:61\u001b[0m, in \u001b[0;36mcompute_distance_nn\u001b[0;34m(data_train, data_synth, data_holdout, categorical_columns, normalize, n_neighbors, distance_metric)\u001b[0m\n\u001b[1;32m     58\u001b[0m     \u001b[38;5;28;01mreturn\u001b[39;00m dist_holdout, dist_synth\n\u001b[1;32m     60\u001b[0m \u001b[38;5;28;01mif\u001b[39;00m distance_metric \u001b[38;5;241m==\u001b[39m \u001b[38;5;124m\"\u001b[39m\u001b[38;5;124mgower\u001b[39m\u001b[38;5;124m\"\u001b[39m:\n\u001b[0;32m---> 61\u001b[0m     dist_holdout \u001b[38;5;241m=\u001b[39m \u001b[43mgower_distance\u001b[49m\u001b[43m(\u001b[49m\n\u001b[1;32m     62\u001b[0m \u001b[43m        \u001b[49m\u001b[43mdata_holdout\u001b[49m\u001b[43m,\u001b[49m\u001b[43m \u001b[49m\u001b[43mdata_train\u001b[49m\u001b[43m,\u001b[49m\u001b[43m \u001b[49m\u001b[43mcategorical_columns\u001b[49m\u001b[43m,\u001b[49m\u001b[43m \u001b[49m\u001b[43mn_neighbors\u001b[49m\u001b[38;5;241;43m=\u001b[39;49m\u001b[43mn_neighbors\u001b[49m\n\u001b[1;32m     63\u001b[0m \u001b[43m    \u001b[49m\u001b[43m)\u001b[49m\n\u001b[1;32m     64\u001b[0m     dist_synth \u001b[38;5;241m=\u001b[39m gower_distance(\n\u001b[1;32m     65\u001b[0m         data_synth, data_train, categorical_columns, n_neighbors\u001b[38;5;241m=\u001b[39mn_neighbors\n\u001b[1;32m     66\u001b[0m     )\n\u001b[1;32m     67\u001b[0m \u001b[38;5;28;01melse\u001b[39;00m:\n",
      "File \u001b[0;32m~/Projects/synthesis-dk/crn-synth/crnsynth2/metrics/privacy/utils.py:33\u001b[0m, in \u001b[0;36mcompute_distance_nn.<locals>.gower_distance\u001b[0;34m(x, y, categorical_columns, n_neighbors)\u001b[0m\n\u001b[1;32m     30\u001b[0m     num_cols \u001b[38;5;241m=\u001b[39m x\u001b[38;5;241m.\u001b[39mcolumns\n\u001b[1;32m     31\u001b[0m     cat_columns_bool_mask \u001b[38;5;241m=\u001b[39m \u001b[38;5;28;01mNone\u001b[39;00m\n\u001b[0;32m---> 33\u001b[0m x[num_cols] \u001b[38;5;241m=\u001b[39m \u001b[43mx\u001b[49m\u001b[43m[\u001b[49m\u001b[43mnum_cols\u001b[49m\u001b[43m]\u001b[49m\u001b[38;5;241;43m.\u001b[39;49m\u001b[43mastype\u001b[49m\u001b[43m(\u001b[49m\u001b[38;5;124;43m\"\u001b[39;49m\u001b[38;5;124;43mfloat\u001b[39;49m\u001b[38;5;124;43m\"\u001b[39;49m\u001b[43m)\u001b[49m\n\u001b[1;32m     34\u001b[0m y[num_cols] \u001b[38;5;241m=\u001b[39m y[num_cols]\u001b[38;5;241m.\u001b[39mastype(\u001b[38;5;124m\"\u001b[39m\u001b[38;5;124mfloat\u001b[39m\u001b[38;5;124m\"\u001b[39m)\n\u001b[1;32m     36\u001b[0m \u001b[38;5;66;03m# compute distance matrix\u001b[39;00m\n",
      "File \u001b[0;32m~/miniconda3/envs/crnsynth/lib/python3.9/site-packages/pandas/core/generic.py:6240\u001b[0m, in \u001b[0;36mNDFrame.astype\u001b[0;34m(self, dtype, copy, errors)\u001b[0m\n\u001b[1;32m   6233\u001b[0m     results \u001b[38;5;241m=\u001b[39m [\n\u001b[1;32m   6234\u001b[0m         \u001b[38;5;28mself\u001b[39m\u001b[38;5;241m.\u001b[39miloc[:, i]\u001b[38;5;241m.\u001b[39mastype(dtype, copy\u001b[38;5;241m=\u001b[39mcopy)\n\u001b[1;32m   6235\u001b[0m         \u001b[38;5;28;01mfor\u001b[39;00m i \u001b[38;5;129;01min\u001b[39;00m \u001b[38;5;28mrange\u001b[39m(\u001b[38;5;28mlen\u001b[39m(\u001b[38;5;28mself\u001b[39m\u001b[38;5;241m.\u001b[39mcolumns))\n\u001b[1;32m   6236\u001b[0m     ]\n\u001b[1;32m   6238\u001b[0m \u001b[38;5;28;01melse\u001b[39;00m:\n\u001b[1;32m   6239\u001b[0m     \u001b[38;5;66;03m# else, only a single dtype is given\u001b[39;00m\n\u001b[0;32m-> 6240\u001b[0m     new_data \u001b[38;5;241m=\u001b[39m \u001b[38;5;28;43mself\u001b[39;49m\u001b[38;5;241;43m.\u001b[39;49m\u001b[43m_mgr\u001b[49m\u001b[38;5;241;43m.\u001b[39;49m\u001b[43mastype\u001b[49m\u001b[43m(\u001b[49m\u001b[43mdtype\u001b[49m\u001b[38;5;241;43m=\u001b[39;49m\u001b[43mdtype\u001b[49m\u001b[43m,\u001b[49m\u001b[43m \u001b[49m\u001b[43mcopy\u001b[49m\u001b[38;5;241;43m=\u001b[39;49m\u001b[43mcopy\u001b[49m\u001b[43m,\u001b[49m\u001b[43m \u001b[49m\u001b[43merrors\u001b[49m\u001b[38;5;241;43m=\u001b[39;49m\u001b[43merrors\u001b[49m\u001b[43m)\u001b[49m\n\u001b[1;32m   6241\u001b[0m     \u001b[38;5;28;01mreturn\u001b[39;00m \u001b[38;5;28mself\u001b[39m\u001b[38;5;241m.\u001b[39m_constructor(new_data)\u001b[38;5;241m.\u001b[39m__finalize__(\u001b[38;5;28mself\u001b[39m, method\u001b[38;5;241m=\u001b[39m\u001b[38;5;124m\"\u001b[39m\u001b[38;5;124mastype\u001b[39m\u001b[38;5;124m\"\u001b[39m)\n\u001b[1;32m   6243\u001b[0m \u001b[38;5;66;03m# GH 33113: handle empty frame or series\u001b[39;00m\n",
      "File \u001b[0;32m~/miniconda3/envs/crnsynth/lib/python3.9/site-packages/pandas/core/internals/managers.py:448\u001b[0m, in \u001b[0;36mBaseBlockManager.astype\u001b[0;34m(self, dtype, copy, errors)\u001b[0m\n\u001b[1;32m    447\u001b[0m \u001b[38;5;28;01mdef\u001b[39;00m \u001b[38;5;21mastype\u001b[39m(\u001b[38;5;28mself\u001b[39m: T, dtype, copy: \u001b[38;5;28mbool\u001b[39m \u001b[38;5;241m=\u001b[39m \u001b[38;5;28;01mFalse\u001b[39;00m, errors: \u001b[38;5;28mstr\u001b[39m \u001b[38;5;241m=\u001b[39m \u001b[38;5;124m\"\u001b[39m\u001b[38;5;124mraise\u001b[39m\u001b[38;5;124m\"\u001b[39m) \u001b[38;5;241m-\u001b[39m\u001b[38;5;241m>\u001b[39m T:\n\u001b[0;32m--> 448\u001b[0m     \u001b[38;5;28;01mreturn\u001b[39;00m \u001b[38;5;28;43mself\u001b[39;49m\u001b[38;5;241;43m.\u001b[39;49m\u001b[43mapply\u001b[49m\u001b[43m(\u001b[49m\u001b[38;5;124;43m\"\u001b[39;49m\u001b[38;5;124;43mastype\u001b[39;49m\u001b[38;5;124;43m\"\u001b[39;49m\u001b[43m,\u001b[49m\u001b[43m \u001b[49m\u001b[43mdtype\u001b[49m\u001b[38;5;241;43m=\u001b[39;49m\u001b[43mdtype\u001b[49m\u001b[43m,\u001b[49m\u001b[43m \u001b[49m\u001b[43mcopy\u001b[49m\u001b[38;5;241;43m=\u001b[39;49m\u001b[43mcopy\u001b[49m\u001b[43m,\u001b[49m\u001b[43m \u001b[49m\u001b[43merrors\u001b[49m\u001b[38;5;241;43m=\u001b[39;49m\u001b[43merrors\u001b[49m\u001b[43m)\u001b[49m\n",
      "File \u001b[0;32m~/miniconda3/envs/crnsynth/lib/python3.9/site-packages/pandas/core/internals/managers.py:352\u001b[0m, in \u001b[0;36mBaseBlockManager.apply\u001b[0;34m(self, f, align_keys, ignore_failures, **kwargs)\u001b[0m\n\u001b[1;32m    350\u001b[0m         applied \u001b[38;5;241m=\u001b[39m b\u001b[38;5;241m.\u001b[39mapply(f, \u001b[38;5;241m*\u001b[39m\u001b[38;5;241m*\u001b[39mkwargs)\n\u001b[1;32m    351\u001b[0m     \u001b[38;5;28;01melse\u001b[39;00m:\n\u001b[0;32m--> 352\u001b[0m         applied \u001b[38;5;241m=\u001b[39m \u001b[38;5;28;43mgetattr\u001b[39;49m\u001b[43m(\u001b[49m\u001b[43mb\u001b[49m\u001b[43m,\u001b[49m\u001b[43m \u001b[49m\u001b[43mf\u001b[49m\u001b[43m)\u001b[49m\u001b[43m(\u001b[49m\u001b[38;5;241;43m*\u001b[39;49m\u001b[38;5;241;43m*\u001b[39;49m\u001b[43mkwargs\u001b[49m\u001b[43m)\u001b[49m\n\u001b[1;32m    353\u001b[0m \u001b[38;5;28;01mexcept\u001b[39;00m (\u001b[38;5;167;01mTypeError\u001b[39;00m, \u001b[38;5;167;01mNotImplementedError\u001b[39;00m):\n\u001b[1;32m    354\u001b[0m     \u001b[38;5;28;01mif\u001b[39;00m \u001b[38;5;129;01mnot\u001b[39;00m ignore_failures:\n",
      "File \u001b[0;32m~/miniconda3/envs/crnsynth/lib/python3.9/site-packages/pandas/core/internals/blocks.py:526\u001b[0m, in \u001b[0;36mBlock.astype\u001b[0;34m(self, dtype, copy, errors)\u001b[0m\n\u001b[1;32m    508\u001b[0m \u001b[38;5;250m\u001b[39m\u001b[38;5;124;03m\"\"\"\u001b[39;00m\n\u001b[1;32m    509\u001b[0m \u001b[38;5;124;03mCoerce to the new dtype.\u001b[39;00m\n\u001b[1;32m    510\u001b[0m \n\u001b[0;32m   (...)\u001b[0m\n\u001b[1;32m    522\u001b[0m \u001b[38;5;124;03mBlock\u001b[39;00m\n\u001b[1;32m    523\u001b[0m \u001b[38;5;124;03m\"\"\"\u001b[39;00m\n\u001b[1;32m    524\u001b[0m values \u001b[38;5;241m=\u001b[39m \u001b[38;5;28mself\u001b[39m\u001b[38;5;241m.\u001b[39mvalues\n\u001b[0;32m--> 526\u001b[0m new_values \u001b[38;5;241m=\u001b[39m \u001b[43mastype_array_safe\u001b[49m\u001b[43m(\u001b[49m\u001b[43mvalues\u001b[49m\u001b[43m,\u001b[49m\u001b[43m \u001b[49m\u001b[43mdtype\u001b[49m\u001b[43m,\u001b[49m\u001b[43m \u001b[49m\u001b[43mcopy\u001b[49m\u001b[38;5;241;43m=\u001b[39;49m\u001b[43mcopy\u001b[49m\u001b[43m,\u001b[49m\u001b[43m \u001b[49m\u001b[43merrors\u001b[49m\u001b[38;5;241;43m=\u001b[39;49m\u001b[43merrors\u001b[49m\u001b[43m)\u001b[49m\n\u001b[1;32m    528\u001b[0m new_values \u001b[38;5;241m=\u001b[39m maybe_coerce_values(new_values)\n\u001b[1;32m    529\u001b[0m newb \u001b[38;5;241m=\u001b[39m \u001b[38;5;28mself\u001b[39m\u001b[38;5;241m.\u001b[39mmake_block(new_values)\n",
      "File \u001b[0;32m~/miniconda3/envs/crnsynth/lib/python3.9/site-packages/pandas/core/dtypes/astype.py:299\u001b[0m, in \u001b[0;36mastype_array_safe\u001b[0;34m(values, dtype, copy, errors)\u001b[0m\n\u001b[1;32m    296\u001b[0m     \u001b[38;5;28;01mreturn\u001b[39;00m values\u001b[38;5;241m.\u001b[39mcopy()\n\u001b[1;32m    298\u001b[0m \u001b[38;5;28;01mtry\u001b[39;00m:\n\u001b[0;32m--> 299\u001b[0m     new_values \u001b[38;5;241m=\u001b[39m \u001b[43mastype_array\u001b[49m\u001b[43m(\u001b[49m\u001b[43mvalues\u001b[49m\u001b[43m,\u001b[49m\u001b[43m \u001b[49m\u001b[43mdtype\u001b[49m\u001b[43m,\u001b[49m\u001b[43m \u001b[49m\u001b[43mcopy\u001b[49m\u001b[38;5;241;43m=\u001b[39;49m\u001b[43mcopy\u001b[49m\u001b[43m)\u001b[49m\n\u001b[1;32m    300\u001b[0m \u001b[38;5;28;01mexcept\u001b[39;00m (\u001b[38;5;167;01mValueError\u001b[39;00m, \u001b[38;5;167;01mTypeError\u001b[39;00m):\n\u001b[1;32m    301\u001b[0m     \u001b[38;5;66;03m# e.g. astype_nansafe can fail on object-dtype of strings\u001b[39;00m\n\u001b[1;32m    302\u001b[0m     \u001b[38;5;66;03m#  trying to convert to float\u001b[39;00m\n\u001b[1;32m    303\u001b[0m     \u001b[38;5;28;01mif\u001b[39;00m errors \u001b[38;5;241m==\u001b[39m \u001b[38;5;124m\"\u001b[39m\u001b[38;5;124mignore\u001b[39m\u001b[38;5;124m\"\u001b[39m:\n",
      "File \u001b[0;32m~/miniconda3/envs/crnsynth/lib/python3.9/site-packages/pandas/core/dtypes/astype.py:230\u001b[0m, in \u001b[0;36mastype_array\u001b[0;34m(values, dtype, copy)\u001b[0m\n\u001b[1;32m    227\u001b[0m     values \u001b[38;5;241m=\u001b[39m values\u001b[38;5;241m.\u001b[39mastype(dtype, copy\u001b[38;5;241m=\u001b[39mcopy)\n\u001b[1;32m    229\u001b[0m \u001b[38;5;28;01melse\u001b[39;00m:\n\u001b[0;32m--> 230\u001b[0m     values \u001b[38;5;241m=\u001b[39m \u001b[43mastype_nansafe\u001b[49m\u001b[43m(\u001b[49m\u001b[43mvalues\u001b[49m\u001b[43m,\u001b[49m\u001b[43m \u001b[49m\u001b[43mdtype\u001b[49m\u001b[43m,\u001b[49m\u001b[43m \u001b[49m\u001b[43mcopy\u001b[49m\u001b[38;5;241;43m=\u001b[39;49m\u001b[43mcopy\u001b[49m\u001b[43m)\u001b[49m\n\u001b[1;32m    232\u001b[0m \u001b[38;5;66;03m# in pandas we don't store numpy str dtypes, so convert to object\u001b[39;00m\n\u001b[1;32m    233\u001b[0m \u001b[38;5;28;01mif\u001b[39;00m \u001b[38;5;28misinstance\u001b[39m(dtype, np\u001b[38;5;241m.\u001b[39mdtype) \u001b[38;5;129;01mand\u001b[39;00m \u001b[38;5;28missubclass\u001b[39m(values\u001b[38;5;241m.\u001b[39mdtype\u001b[38;5;241m.\u001b[39mtype, \u001b[38;5;28mstr\u001b[39m):\n",
      "File \u001b[0;32m~/miniconda3/envs/crnsynth/lib/python3.9/site-packages/pandas/core/dtypes/astype.py:170\u001b[0m, in \u001b[0;36mastype_nansafe\u001b[0;34m(arr, dtype, copy, skipna)\u001b[0m\n\u001b[1;32m    166\u001b[0m     \u001b[38;5;28;01mraise\u001b[39;00m \u001b[38;5;167;01mValueError\u001b[39;00m(msg)\n\u001b[1;32m    168\u001b[0m \u001b[38;5;28;01mif\u001b[39;00m copy \u001b[38;5;129;01mor\u001b[39;00m is_object_dtype(arr\u001b[38;5;241m.\u001b[39mdtype) \u001b[38;5;129;01mor\u001b[39;00m is_object_dtype(dtype):\n\u001b[1;32m    169\u001b[0m     \u001b[38;5;66;03m# Explicit copy, or required since NumPy can't view from / to object.\u001b[39;00m\n\u001b[0;32m--> 170\u001b[0m     \u001b[38;5;28;01mreturn\u001b[39;00m \u001b[43marr\u001b[49m\u001b[38;5;241;43m.\u001b[39;49m\u001b[43mastype\u001b[49m\u001b[43m(\u001b[49m\u001b[43mdtype\u001b[49m\u001b[43m,\u001b[49m\u001b[43m \u001b[49m\u001b[43mcopy\u001b[49m\u001b[38;5;241;43m=\u001b[39;49m\u001b[38;5;28;43;01mTrue\u001b[39;49;00m\u001b[43m)\u001b[49m\n\u001b[1;32m    172\u001b[0m \u001b[38;5;28;01mreturn\u001b[39;00m arr\u001b[38;5;241m.\u001b[39mastype(dtype, copy\u001b[38;5;241m=\u001b[39mcopy)\n",
      "\u001b[0;31mValueError\u001b[0m: could not convert string to float: 'Private'"
     ]
    }
   ],
   "source": [
    "synth_experiment = SynthExperiment(experiment_name='adult_synthesis', synth_pipes=synth_pipes, metrics=PRIVACY_METRICS, path_out=PATH_RESULTS)\n",
    "synth_experiment.run(df_adult, n_records=1000)"
   ]
  },
  {
   "cell_type": "code",
   "execution_count": null,
   "metadata": {},
   "outputs": [],
   "source": []
  }
 ],
 "metadata": {
  "kernelspec": {
   "display_name": "synth",
   "language": "python",
   "name": "python3"
  },
  "language_info": {
   "codemirror_mode": {
    "name": "ipython",
    "version": 3
   },
   "file_extension": ".py",
   "mimetype": "text/x-python",
   "name": "python",
   "nbconvert_exporter": "python",
   "pygments_lexer": "ipython3",
   "version": "3.9.18"
  },
  "orig_nbformat": 4
 },
 "nbformat": 4,
 "nbformat_minor": 2
}
