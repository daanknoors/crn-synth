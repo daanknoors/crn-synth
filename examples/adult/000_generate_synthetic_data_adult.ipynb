{
 "cells": [
  {
   "cell_type": "markdown",
   "metadata": {},
   "source": [
    "# Generate synthetic data\n",
    "Generating synthetic data using public libraries for the 'adult' dataset."
   ]
  },
  {
   "cell_type": "markdown",
   "metadata": {},
   "source": [
    "## Load libraries and define settings"
   ]
  },
  {
   "cell_type": "code",
   "execution_count": 2,
   "metadata": {},
   "outputs": [],
   "source": [
    "# general dependencies\n",
    "import numpy as np\n",
    "import pandas as pd\n",
    "import matplotlib.pyplot as plt\n",
    "import seaborn as sns\n",
    "import sys\n",
    "import os\n",
    "from pathlib import Path"
   ]
  },
  {
   "cell_type": "code",
   "execution_count": 22,
   "metadata": {},
   "outputs": [],
   "source": [
    "# package\n",
    "from crnsynth2.generators.privbayes import PrivBayes"
   ]
  },
  {
   "cell_type": "code",
   "execution_count": 12,
   "metadata": {},
   "outputs": [],
   "source": [
    "# data-specific\n",
    "from examples.adult.adult_config import PATH_ADULT\n",
    "from examples.adult.adult_synthpipe import AdultSynthPipe\n"
   ]
  },
  {
   "cell_type": "code",
   "execution_count": 13,
   "metadata": {},
   "outputs": [
    {
     "name": "stdout",
     "output_type": "stream",
     "text": [
      "The autoreload extension is already loaded. To reload it, use:\n",
      "  %reload_ext autoreload\n"
     ]
    }
   ],
   "source": [
    "# autoreload changes from local files\n",
    "%load_ext autoreload\n",
    "%autoreload 2\n",
    "\n",
    "# pandas show full output\n",
    "pd.set_option('display.max_rows', 500)\n",
    "pd.set_option('display.max_columns', 200)"
   ]
  },
  {
   "cell_type": "code",
   "execution_count": 14,
   "metadata": {},
   "outputs": [],
   "source": [
    "# privacy budget for differentially private algorithms\n",
    "EPSILON = 1\n",
    "\n",
    "# dataset\n",
    "DATASET_NAME = 'adult'\n",
    "\n",
    "# other\n",
    "RANDOM_STATE = 42"
   ]
  },
  {
   "cell_type": "markdown",
   "metadata": {},
   "source": [
    "## Load and process dataset"
   ]
  },
  {
   "cell_type": "code",
   "execution_count": 15,
   "metadata": {},
   "outputs": [
    {
     "data": {
      "text/html": [
       "<div>\n",
       "<style scoped>\n",
       "    .dataframe tbody tr th:only-of-type {\n",
       "        vertical-align: middle;\n",
       "    }\n",
       "\n",
       "    .dataframe tbody tr th {\n",
       "        vertical-align: top;\n",
       "    }\n",
       "\n",
       "    .dataframe thead th {\n",
       "        text-align: right;\n",
       "    }\n",
       "</style>\n",
       "<table border=\"1\" class=\"dataframe\">\n",
       "  <thead>\n",
       "    <tr style=\"text-align: right;\">\n",
       "      <th></th>\n",
       "      <th>age</th>\n",
       "      <th>workclass</th>\n",
       "      <th>fnlwgt</th>\n",
       "      <th>education</th>\n",
       "      <th>education-num</th>\n",
       "      <th>marital-status</th>\n",
       "      <th>occupation</th>\n",
       "      <th>relationship</th>\n",
       "      <th>race</th>\n",
       "      <th>sex</th>\n",
       "      <th>capital-gain</th>\n",
       "      <th>capital-loss</th>\n",
       "      <th>hours-per-week</th>\n",
       "      <th>native-country</th>\n",
       "      <th>income</th>\n",
       "    </tr>\n",
       "  </thead>\n",
       "  <tbody>\n",
       "    <tr>\n",
       "      <th>0</th>\n",
       "      <td>39</td>\n",
       "      <td>State-gov</td>\n",
       "      <td>77516</td>\n",
       "      <td>Bachelors</td>\n",
       "      <td>13</td>\n",
       "      <td>Never-married</td>\n",
       "      <td>Adm-clerical</td>\n",
       "      <td>Not-in-family</td>\n",
       "      <td>White</td>\n",
       "      <td>Male</td>\n",
       "      <td>2174</td>\n",
       "      <td>0</td>\n",
       "      <td>40</td>\n",
       "      <td>United-States</td>\n",
       "      <td>&lt;=50K</td>\n",
       "    </tr>\n",
       "    <tr>\n",
       "      <th>1</th>\n",
       "      <td>50</td>\n",
       "      <td>Self-emp-not-inc</td>\n",
       "      <td>83311</td>\n",
       "      <td>Bachelors</td>\n",
       "      <td>13</td>\n",
       "      <td>Married-civ-spouse</td>\n",
       "      <td>Exec-managerial</td>\n",
       "      <td>Husband</td>\n",
       "      <td>White</td>\n",
       "      <td>Male</td>\n",
       "      <td>0</td>\n",
       "      <td>0</td>\n",
       "      <td>13</td>\n",
       "      <td>United-States</td>\n",
       "      <td>&lt;=50K</td>\n",
       "    </tr>\n",
       "    <tr>\n",
       "      <th>2</th>\n",
       "      <td>38</td>\n",
       "      <td>Private</td>\n",
       "      <td>215646</td>\n",
       "      <td>HS-grad</td>\n",
       "      <td>9</td>\n",
       "      <td>Divorced</td>\n",
       "      <td>Handlers-cleaners</td>\n",
       "      <td>Not-in-family</td>\n",
       "      <td>White</td>\n",
       "      <td>Male</td>\n",
       "      <td>0</td>\n",
       "      <td>0</td>\n",
       "      <td>40</td>\n",
       "      <td>United-States</td>\n",
       "      <td>&lt;=50K</td>\n",
       "    </tr>\n",
       "    <tr>\n",
       "      <th>3</th>\n",
       "      <td>53</td>\n",
       "      <td>Private</td>\n",
       "      <td>234721</td>\n",
       "      <td>11th</td>\n",
       "      <td>7</td>\n",
       "      <td>Married-civ-spouse</td>\n",
       "      <td>Handlers-cleaners</td>\n",
       "      <td>Husband</td>\n",
       "      <td>Black</td>\n",
       "      <td>Male</td>\n",
       "      <td>0</td>\n",
       "      <td>0</td>\n",
       "      <td>40</td>\n",
       "      <td>United-States</td>\n",
       "      <td>&lt;=50K</td>\n",
       "    </tr>\n",
       "    <tr>\n",
       "      <th>4</th>\n",
       "      <td>28</td>\n",
       "      <td>Private</td>\n",
       "      <td>338409</td>\n",
       "      <td>Bachelors</td>\n",
       "      <td>13</td>\n",
       "      <td>Married-civ-spouse</td>\n",
       "      <td>Prof-specialty</td>\n",
       "      <td>Wife</td>\n",
       "      <td>Black</td>\n",
       "      <td>Female</td>\n",
       "      <td>0</td>\n",
       "      <td>0</td>\n",
       "      <td>40</td>\n",
       "      <td>Cuba</td>\n",
       "      <td>&lt;=50K</td>\n",
       "    </tr>\n",
       "  </tbody>\n",
       "</table>\n",
       "</div>"
      ],
      "text/plain": [
       "   age         workclass  fnlwgt  education  education-num  \\\n",
       "0   39         State-gov   77516  Bachelors             13   \n",
       "1   50  Self-emp-not-inc   83311  Bachelors             13   \n",
       "2   38           Private  215646    HS-grad              9   \n",
       "3   53           Private  234721       11th              7   \n",
       "4   28           Private  338409  Bachelors             13   \n",
       "\n",
       "       marital-status         occupation   relationship   race     sex  \\\n",
       "0       Never-married       Adm-clerical  Not-in-family  White    Male   \n",
       "1  Married-civ-spouse    Exec-managerial        Husband  White    Male   \n",
       "2            Divorced  Handlers-cleaners  Not-in-family  White    Male   \n",
       "3  Married-civ-spouse  Handlers-cleaners        Husband  Black    Male   \n",
       "4  Married-civ-spouse     Prof-specialty           Wife  Black  Female   \n",
       "\n",
       "   capital-gain  capital-loss  hours-per-week native-country income  \n",
       "0          2174             0              40  United-States  <=50K  \n",
       "1             0             0              13  United-States  <=50K  \n",
       "2             0             0              40  United-States  <=50K  \n",
       "3             0             0              40  United-States  <=50K  \n",
       "4             0             0              40           Cuba  <=50K  "
      ]
     },
     "execution_count": 15,
     "metadata": {},
     "output_type": "execute_result"
    }
   ],
   "source": [
    "\n",
    "df_adult = pd.read_csv(PATH_ADULT)\n",
    "df_adult.head()\n"
   ]
  },
  {
   "cell_type": "markdown",
   "metadata": {},
   "source": [
    "## Generate\n",
    "Here we show how step by step how to generate synthetic data.\n",
    "\n",
    "Advise you to look at the implementation of the AdultSynthPipe to see what steps it performs to go from raw to synthetic data."
   ]
  },
  {
   "cell_type": "code",
   "execution_count": 23,
   "metadata": {},
   "outputs": [
    {
     "name": "stderr",
     "output_type": "stream",
     "text": [
      "/Users/dknoors/Projects/synthesis-dk/synthetic-data-generation/synthesis/transformers/generalization.py:53: UserWarning: Bins whose width are too small (i.e., <= 1e-8). Consider decreasing the number of bins.\n",
      "  warnings.warn('Bins whose width are too small (i.e., <= '\n"
     ]
    },
    {
     "name": "stdout",
     "output_type": "stream",
     "text": [
      "1/11 - Root of network: income\n",
      "\n",
      "2/11 - Evaluating next attribute to add to network\n",
      "Number of AttributeParentPair candidates: 10\n",
      "Selected attribute: 'marital-status' - with parents: ('income',)\n",
      "\n",
      "3/11 - Evaluating next attribute to add to network\n",
      "Number of AttributeParentPair candidates: 11\n",
      "Selected attribute: 'relationship' - with parents: ('marital-status', 'income')\n",
      "\n",
      "4/11 - Evaluating next attribute to add to network\n",
      "Number of AttributeParentPair candidates: 15\n",
      "Selected attribute: 'sex' - with parents: ('relationship', 'marital-status', 'income')\n",
      "\n",
      "5/11 - Evaluating next attribute to add to network\n",
      "Number of AttributeParentPair candidates: 21\n",
      "Selected attribute: 'age' - with parents: ('sex', 'marital-status', 'income')\n",
      "\n",
      "6/11 - Evaluating next attribute to add to network\n",
      "Number of AttributeParentPair candidates: 29\n",
      "Selected attribute: 'occupation' - with parents: ('sex', 'income')\n",
      "\n",
      "7/11 - Evaluating next attribute to add to network\n",
      "Number of AttributeParentPair candidates: 28\n",
      "Selected attribute: 'workclass' - with parents: ('occupation',)\n",
      "\n",
      "8/11 - Evaluating next attribute to add to network\n",
      "Number of AttributeParentPair candidates: 26\n",
      "Selected attribute: 'hours-per-week' - with parents: ('sex', 'occupation')\n",
      "\n",
      "9/11 - Evaluating next attribute to add to network\n",
      "Number of AttributeParentPair candidates: 25\n",
      "Selected attribute: 'education' - with parents: ('income', 'age')\n",
      "\n",
      "10/11 - Evaluating next attribute to add to network\n",
      "Number of AttributeParentPair candidates: 18\n",
      "Selected attribute: 'race' - with parents: ('occupation', 'sex')\n",
      "\n",
      "11/11 - Evaluating next attribute to add to network\n",
      "Number of AttributeParentPair candidates: 2\n",
      "Selected attribute: 'native-country' - with parents: ('sex', 'income')\n",
      "\n",
      "Learned Network Structure\n",
      "\n",
      "Learning conditional probabilities: income - with parents None ~ estimated size: 2\n",
      "Learning conditional probabilities: marital-status - with parents ('income',) ~ estimated size: 14\n",
      "Learning conditional probabilities: relationship - with parents ('marital-status', 'income') ~ estimated size: 84\n",
      "Learning conditional probabilities: sex - with parents ('relationship', 'marital-status', 'income') ~ estimated size: 168\n",
      "Learning conditional probabilities: age - with parents ('sex', 'marital-status', 'income') ~ estimated size: 140\n",
      "Learning conditional probabilities: occupation - with parents ('sex', 'income') ~ estimated size: 60\n",
      "Learning conditional probabilities: workclass - with parents ('occupation',) ~ estimated size: 135\n",
      "Learning conditional probabilities: hours-per-week - with parents ('sex', 'occupation') ~ estimated size: 120\n",
      "Learning conditional probabilities: education - with parents ('income', 'age') ~ estimated size: 160\n",
      "Learning conditional probabilities: race - with parents ('occupation', 'sex') ~ estimated size: 150\n",
      "Learning conditional probabilities: native-country - with parents ('sex', 'income') ~ estimated size: 168\n",
      "Number of records generated: 541 / 32561"
     ]
    },
    {
     "name": "stderr",
     "output_type": "stream",
     "text": [
      "/Users/dknoors/miniconda3/envs/crnsynth/lib/python3.9/site-packages/thomas/core/factors/cpt.py:65: RuntimeWarning: invalid value encountered in divide\n",
      "  self.values = self.values / row_sum\n"
     ]
    },
    {
     "name": "stdout",
     "output_type": "stream",
     "text": [
      "Number of records generated: 32561 / 32561\n",
      "Synthetic Data Generated\n",
      "\n"
     ]
    }
   ],
   "source": [
    "# create copy to retain original data format\n",
    "df = df_adult.copy()\n",
    "\n",
    "# prepare data\n",
    "generator = PrivBayes(epsilon=EPSILON)\n",
    "synth_pipe = AdultSynthPipe(generator=generator, test_size=0.2, generalize=True, target_column='income', random_state=RANDOM_STATE)\n",
    "\n",
    "df_synth = synth_pipe.run(df)"
   ]
  }
 ],
 "metadata": {
  "kernelspec": {
   "display_name": "synth",
   "language": "python",
   "name": "python3"
  },
  "language_info": {
   "codemirror_mode": {
    "name": "ipython",
    "version": 3
   },
   "file_extension": ".py",
   "mimetype": "text/x-python",
   "name": "python",
   "nbconvert_exporter": "python",
   "pygments_lexer": "ipython3",
   "version": "3.9.18"
  },
  "orig_nbformat": 4
 },
 "nbformat": 4,
 "nbformat_minor": 2
}
