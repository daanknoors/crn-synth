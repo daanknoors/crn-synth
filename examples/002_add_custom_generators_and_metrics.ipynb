{
 "cells": [
  {
   "metadata": {},
   "cell_type": "markdown",
   "source": [
    "# Add custom generators and metrics\n",
    "Benchmarking requires a common API, where generators have a fit() and generate() method and metrics have a compute() method. You can add custom generators and metrics by subclassing the BaseGenerator and BaseMetric classes, so these are interoperable with the benchmarking framework."
   ],
   "id": "f9bbb9d96a0f967c"
  },
  {
   "metadata": {
    "ExecuteTime": {
     "end_time": "2024-04-19T14:55:17.514539Z",
     "start_time": "2024-04-19T14:55:17.511469Z"
    }
   },
   "cell_type": "code",
   "source": [
    "import numpy as np\n",
    "import pandas as pd\n",
    "import warnings\n",
    "warnings.filterwarnings(\"ignore\", category=DeprecationWarning)\n"
   ],
   "id": "ed484d4e352ff742",
   "outputs": [],
   "execution_count": 8
  },
  {
   "metadata": {
    "ExecuteTime": {
     "end_time": "2024-04-19T14:54:53.970529Z",
     "start_time": "2024-04-19T14:54:53.645197Z"
    }
   },
   "cell_type": "code",
   "source": [
    "from crnsynth.serialization import paths\n",
    "from crnsynth.benchmark.benchmark import benchmark_generators\n",
    "from crnsynth.benchmark.review import SyntheticDataReview\n",
    "from crnsynth.metrics.privacy.dcr import DistanceClosestRecord\n",
    "from crnsynth.generators.marginal_generator import MarginalGenerator\n",
    "from crnsynth.generators.base_generator import BaseGenerator\n",
    "from crnsynth.metrics.base_metric import BaseMetric\n",
    "from crnsynth.processing.preprocessing import split_train_holdout"
   ],
   "id": "1529cd2983ca024f",
   "outputs": [],
   "execution_count": 2
  },
  {
   "metadata": {},
   "cell_type": "markdown",
   "source": "## Add custom generator",
   "id": "c9a3ea134bbb508d"
  },
  {
   "metadata": {},
   "cell_type": "markdown",
   "source": "For example here we add the CTGAN generator from SDV.",
   "id": "c9869a0bbc1132fb"
  },
  {
   "metadata": {
    "ExecuteTime": {
     "end_time": "2024-04-19T14:54:55.257225Z",
     "start_time": "2024-04-19T14:54:54.827585Z"
    }
   },
   "cell_type": "code",
   "source": [
    "from sdv.single_table import CTGANSynthesizer\n",
    "\n",
    "class CTGANGenerator(BaseGenerator):\n",
    "    def __init__(self, metadata):\n",
    "        self.generator = CTGANSynthesizer(metadata)\n",
    "    \n",
    "    def fit(self, real_data):\n",
    "        self.generator.fit(real_data)\n",
    "\n",
    "    def generate(self, n):\n",
    "        return self.generator.sample(n)"
   ],
   "id": "a3c376c5a8283ed5",
   "outputs": [],
   "execution_count": 3
  },
  {
   "metadata": {
    "ExecuteTime": {
     "end_time": "2024-04-19T14:54:56.517121Z",
     "start_time": "2024-04-19T14:54:55.736649Z"
    }
   },
   "cell_type": "code",
   "source": [
    "from sdv.datasets.demo import download_demo\n",
    "\n",
    "df, metadata = download_demo(\n",
    "    modality='single_table',\n",
    "    dataset_name='fake_hotel_guests'\n",
    ")\n",
    "\n",
    "df_train, df_holdout = split_train_holdout(df, holdout_size=0.2)\n",
    "df_train.head()"
   ],
   "id": "1a54171437e991dd",
   "outputs": [
    {
     "data": {
      "text/plain": [
       "                          guest_email  has_rewards room_type  amenities_fee  \\\n",
       "276  sullivanjoshua@dorsey-obrien.com        False     BASIC            NaN   \n",
       "90                melissa09@bryan.com        False     BASIC           0.72   \n",
       "32             spencershawn@clark.com        False     BASIC          30.86   \n",
       "74         lance88@snow-rodriguez.net        False    DELUXE          27.41   \n",
       "38       toddkaitlin@leon-collier.com         True     BASIC           0.00   \n",
       "\n",
       "    checkin_date checkout_date  room_rate  \\\n",
       "276  27 Sep 2020   29 Sep 2020     137.67   \n",
       "90   15 Feb 2020   17 Feb 2020     162.90   \n",
       "32   14 Nov 2020   16 Nov 2020     119.96   \n",
       "74   16 Oct 2020   19 Oct 2020     181.27   \n",
       "38   20 Feb 2020   23 Feb 2020      98.41   \n",
       "\n",
       "                                     billing_address   credit_card_number  \n",
       "276                 PSC 3710, Box 0259\\nAPO AA 17597  4214783741962784604  \n",
       "90            1234 Corporate Drive\\nBoston, MA 02116        4491757306201  \n",
       "32         5678 Office Road\\nSan Francisco, CA 94103        4196831074465  \n",
       "74   42400 Bryan View Apt. 310\\nGarciaside, NY 01999      213100856267969  \n",
       "38         5678 Office Road\\nSan Francisco, CA 94103     4942094262703149  "
      ],
      "text/html": [
       "<div>\n",
       "<style scoped>\n",
       "    .dataframe tbody tr th:only-of-type {\n",
       "        vertical-align: middle;\n",
       "    }\n",
       "\n",
       "    .dataframe tbody tr th {\n",
       "        vertical-align: top;\n",
       "    }\n",
       "\n",
       "    .dataframe thead th {\n",
       "        text-align: right;\n",
       "    }\n",
       "</style>\n",
       "<table border=\"1\" class=\"dataframe\">\n",
       "  <thead>\n",
       "    <tr style=\"text-align: right;\">\n",
       "      <th></th>\n",
       "      <th>guest_email</th>\n",
       "      <th>has_rewards</th>\n",
       "      <th>room_type</th>\n",
       "      <th>amenities_fee</th>\n",
       "      <th>checkin_date</th>\n",
       "      <th>checkout_date</th>\n",
       "      <th>room_rate</th>\n",
       "      <th>billing_address</th>\n",
       "      <th>credit_card_number</th>\n",
       "    </tr>\n",
       "  </thead>\n",
       "  <tbody>\n",
       "    <tr>\n",
       "      <th>276</th>\n",
       "      <td>sullivanjoshua@dorsey-obrien.com</td>\n",
       "      <td>False</td>\n",
       "      <td>BASIC</td>\n",
       "      <td>NaN</td>\n",
       "      <td>27 Sep 2020</td>\n",
       "      <td>29 Sep 2020</td>\n",
       "      <td>137.67</td>\n",
       "      <td>PSC 3710, Box 0259\\nAPO AA 17597</td>\n",
       "      <td>4214783741962784604</td>\n",
       "    </tr>\n",
       "    <tr>\n",
       "      <th>90</th>\n",
       "      <td>melissa09@bryan.com</td>\n",
       "      <td>False</td>\n",
       "      <td>BASIC</td>\n",
       "      <td>0.72</td>\n",
       "      <td>15 Feb 2020</td>\n",
       "      <td>17 Feb 2020</td>\n",
       "      <td>162.90</td>\n",
       "      <td>1234 Corporate Drive\\nBoston, MA 02116</td>\n",
       "      <td>4491757306201</td>\n",
       "    </tr>\n",
       "    <tr>\n",
       "      <th>32</th>\n",
       "      <td>spencershawn@clark.com</td>\n",
       "      <td>False</td>\n",
       "      <td>BASIC</td>\n",
       "      <td>30.86</td>\n",
       "      <td>14 Nov 2020</td>\n",
       "      <td>16 Nov 2020</td>\n",
       "      <td>119.96</td>\n",
       "      <td>5678 Office Road\\nSan Francisco, CA 94103</td>\n",
       "      <td>4196831074465</td>\n",
       "    </tr>\n",
       "    <tr>\n",
       "      <th>74</th>\n",
       "      <td>lance88@snow-rodriguez.net</td>\n",
       "      <td>False</td>\n",
       "      <td>DELUXE</td>\n",
       "      <td>27.41</td>\n",
       "      <td>16 Oct 2020</td>\n",
       "      <td>19 Oct 2020</td>\n",
       "      <td>181.27</td>\n",
       "      <td>42400 Bryan View Apt. 310\\nGarciaside, NY 01999</td>\n",
       "      <td>213100856267969</td>\n",
       "    </tr>\n",
       "    <tr>\n",
       "      <th>38</th>\n",
       "      <td>toddkaitlin@leon-collier.com</td>\n",
       "      <td>True</td>\n",
       "      <td>BASIC</td>\n",
       "      <td>0.00</td>\n",
       "      <td>20 Feb 2020</td>\n",
       "      <td>23 Feb 2020</td>\n",
       "      <td>98.41</td>\n",
       "      <td>5678 Office Road\\nSan Francisco, CA 94103</td>\n",
       "      <td>4942094262703149</td>\n",
       "    </tr>\n",
       "  </tbody>\n",
       "</table>\n",
       "</div>"
      ]
     },
     "execution_count": 4,
     "metadata": {},
     "output_type": "execute_result"
    }
   ],
   "execution_count": 4
  },
  {
   "metadata": {
    "ExecuteTime": {
     "end_time": "2024-04-19T14:55:03.996361Z",
     "start_time": "2024-04-19T14:54:56.589254Z"
    }
   },
   "cell_type": "code",
   "source": [
    "generator = CTGANGenerator(metadata=metadata)\n",
    "generator.fit(df_train)\n",
    "df_synth = generator.generate(1000)\n",
    "df_synth.head()"
   ],
   "id": "45caaa10aea10ce",
   "outputs": [
    {
     "name": "stderr",
     "output_type": "stream",
     "text": [
      "/Users/dknoors/miniconda3/envs/crnsynth/lib/python3.9/site-packages/rdt/transformers/pii/anonymizer.py:118: FutureWarning: The 'enforce_uniqueness' parameter is no longer supported. Please use the 'cardinality_rule' parameter instead.\n",
      "  warnings.warn(\n",
      "/Users/dknoors/miniconda3/envs/crnsynth/lib/python3.9/site-packages/pandas/core/dtypes/cast.py:1641: DeprecationWarning: np.find_common_type is deprecated.  Please use `np.result_type` or `np.promote_types`.\n",
      "See https://numpy.org/devdocs/release/1.25.0-notes.html and the docs for more information.  (Deprecated NumPy 1.25)\n",
      "  return np.find_common_type(types, [])\n",
      "/Users/dknoors/miniconda3/envs/crnsynth/lib/python3.9/site-packages/pandas/core/dtypes/cast.py:1641: DeprecationWarning: np.find_common_type is deprecated.  Please use `np.result_type` or `np.promote_types`.\n",
      "See https://numpy.org/devdocs/release/1.25.0-notes.html and the docs for more information.  (Deprecated NumPy 1.25)\n",
      "  return np.find_common_type(types, [])\n",
      "/Users/dknoors/miniconda3/envs/crnsynth/lib/python3.9/site-packages/pandas/core/dtypes/cast.py:1641: DeprecationWarning: np.find_common_type is deprecated.  Please use `np.result_type` or `np.promote_types`.\n",
      "See https://numpy.org/devdocs/release/1.25.0-notes.html and the docs for more information.  (Deprecated NumPy 1.25)\n",
      "  return np.find_common_type(types, [])\n",
      "/Users/dknoors/miniconda3/envs/crnsynth/lib/python3.9/site-packages/pandas/core/dtypes/cast.py:1641: DeprecationWarning: np.find_common_type is deprecated.  Please use `np.result_type` or `np.promote_types`.\n",
      "See https://numpy.org/devdocs/release/1.25.0-notes.html and the docs for more information.  (Deprecated NumPy 1.25)\n",
      "  return np.find_common_type(types, [])\n"
     ]
    },
    {
     "data": {
      "text/plain": [
       "                 guest_email  has_rewards room_type  amenities_fee  \\\n",
       "0  laurencamacho@example.org        False    DELUXE          10.77   \n",
       "1       xhoffman@example.net        False     SUITE          19.17   \n",
       "2  timothypeters@example.org         True     BASIC           9.61   \n",
       "3        edudley@example.org        False     BASIC           0.00   \n",
       "4         adam06@example.com         True     SUITE            NaN   \n",
       "\n",
       "  checkin_date checkout_date  room_rate  \\\n",
       "0  14 Sep 2020   29 May 2020     127.32   \n",
       "1  03 Nov 2020   08 Jan 2021     154.18   \n",
       "2  08 Sep 2020   28 Jun 2020     132.91   \n",
       "3  06 Jan 2020   21 Jul 2020     261.38   \n",
       "4  29 Jan 2020   02 Mar 2020     136.54   \n",
       "\n",
       "                                     billing_address   credit_card_number  \n",
       "0  138 Amanda Dale Apt. 815\\nEast Susantown, MO 4...        4230479351149  \n",
       "1  95472 Christopher Fall Apt. 623\\nPort Sabrinat...       30303133881252  \n",
       "2  804 Dalton Springs Apt. 328\\nPort Royfort, SD ...  4755628253310338134  \n",
       "3        46722 Finley Isle\\nLake Kathybury, NC 81662      180074697686936  \n",
       "4                   Unit 2430 Box 4042\\nDPO AE 86481      180051900850376  "
      ],
      "text/html": [
       "<div>\n",
       "<style scoped>\n",
       "    .dataframe tbody tr th:only-of-type {\n",
       "        vertical-align: middle;\n",
       "    }\n",
       "\n",
       "    .dataframe tbody tr th {\n",
       "        vertical-align: top;\n",
       "    }\n",
       "\n",
       "    .dataframe thead th {\n",
       "        text-align: right;\n",
       "    }\n",
       "</style>\n",
       "<table border=\"1\" class=\"dataframe\">\n",
       "  <thead>\n",
       "    <tr style=\"text-align: right;\">\n",
       "      <th></th>\n",
       "      <th>guest_email</th>\n",
       "      <th>has_rewards</th>\n",
       "      <th>room_type</th>\n",
       "      <th>amenities_fee</th>\n",
       "      <th>checkin_date</th>\n",
       "      <th>checkout_date</th>\n",
       "      <th>room_rate</th>\n",
       "      <th>billing_address</th>\n",
       "      <th>credit_card_number</th>\n",
       "    </tr>\n",
       "  </thead>\n",
       "  <tbody>\n",
       "    <tr>\n",
       "      <th>0</th>\n",
       "      <td>laurencamacho@example.org</td>\n",
       "      <td>False</td>\n",
       "      <td>DELUXE</td>\n",
       "      <td>10.77</td>\n",
       "      <td>14 Sep 2020</td>\n",
       "      <td>29 May 2020</td>\n",
       "      <td>127.32</td>\n",
       "      <td>138 Amanda Dale Apt. 815\\nEast Susantown, MO 4...</td>\n",
       "      <td>4230479351149</td>\n",
       "    </tr>\n",
       "    <tr>\n",
       "      <th>1</th>\n",
       "      <td>xhoffman@example.net</td>\n",
       "      <td>False</td>\n",
       "      <td>SUITE</td>\n",
       "      <td>19.17</td>\n",
       "      <td>03 Nov 2020</td>\n",
       "      <td>08 Jan 2021</td>\n",
       "      <td>154.18</td>\n",
       "      <td>95472 Christopher Fall Apt. 623\\nPort Sabrinat...</td>\n",
       "      <td>30303133881252</td>\n",
       "    </tr>\n",
       "    <tr>\n",
       "      <th>2</th>\n",
       "      <td>timothypeters@example.org</td>\n",
       "      <td>True</td>\n",
       "      <td>BASIC</td>\n",
       "      <td>9.61</td>\n",
       "      <td>08 Sep 2020</td>\n",
       "      <td>28 Jun 2020</td>\n",
       "      <td>132.91</td>\n",
       "      <td>804 Dalton Springs Apt. 328\\nPort Royfort, SD ...</td>\n",
       "      <td>4755628253310338134</td>\n",
       "    </tr>\n",
       "    <tr>\n",
       "      <th>3</th>\n",
       "      <td>edudley@example.org</td>\n",
       "      <td>False</td>\n",
       "      <td>BASIC</td>\n",
       "      <td>0.00</td>\n",
       "      <td>06 Jan 2020</td>\n",
       "      <td>21 Jul 2020</td>\n",
       "      <td>261.38</td>\n",
       "      <td>46722 Finley Isle\\nLake Kathybury, NC 81662</td>\n",
       "      <td>180074697686936</td>\n",
       "    </tr>\n",
       "    <tr>\n",
       "      <th>4</th>\n",
       "      <td>adam06@example.com</td>\n",
       "      <td>True</td>\n",
       "      <td>SUITE</td>\n",
       "      <td>NaN</td>\n",
       "      <td>29 Jan 2020</td>\n",
       "      <td>02 Mar 2020</td>\n",
       "      <td>136.54</td>\n",
       "      <td>Unit 2430 Box 4042\\nDPO AE 86481</td>\n",
       "      <td>180051900850376</td>\n",
       "    </tr>\n",
       "  </tbody>\n",
       "</table>\n",
       "</div>"
      ]
     },
     "execution_count": 5,
     "metadata": {},
     "output_type": "execute_result"
    }
   ],
   "execution_count": 5
  },
  {
   "metadata": {},
   "cell_type": "markdown",
   "source": "## Add custom metric",
   "id": "7193b312e25df607"
  },
  {
   "metadata": {
    "ExecuteTime": {
     "end_time": "2024-04-19T14:55:04.018304Z",
     "start_time": "2024-04-19T14:55:04.013705Z"
    }
   },
   "cell_type": "code",
   "source": [
    "class AverageCardinalityPreserved(BaseMetric):\n",
    "    \"\"\"Compute percentage of cardinality of categorical columns in synthetic data compared to real data.\"\"\"\n",
    "\n",
    "    \n",
    "    def __init__(self, categorical_columns=None):\n",
    "        self.categorical_columns = categorical_columns\n",
    "        \n",
    "        self.scores_ = {}\n",
    "        \n",
    "    def compute(self, real_data, synthetic_data, holdout=None):\n",
    "        if self.categorical_columns is None:\n",
    "            self.categorical_columns = real_data.select_dtypes(include='object').columns.tolist()\n",
    "        \n",
    "        cardinality_scores = np.zeros(len(self.categorical_columns))\n",
    "        for i, col in enumerate(self.categorical_columns):\n",
    "            # get unique values of each column\n",
    "            unique_real = real_data[col].unique()\n",
    "            unique_synth = synthetic_data[col].unique()\n",
    "            \n",
    "            # calculate percentage of categories from real data that are in the synth data\n",
    "            percentage_overlap = len(set(unique_real).intersection(set(unique_synth))) / len(unique_real)\n",
    "            cardinality_scores[i] = percentage_overlap\n",
    "            \n",
    "        # take average of all columns\n",
    "        self.scores_['score'] = np.mean(cardinality_scores)\n",
    "        return self.scores_\n",
    "    \n",
    "metric_cardinality = AverageCardinalityPreserved(categorical_columns=['has_rewards', 'room_type'])\n",
    "metric_cardinality.compute(df_train, df_synth)\n",
    "                            \n",
    "    "
   ],
   "id": "9f7c9b5792fa6a0",
   "outputs": [
    {
     "data": {
      "text/plain": [
       "{'score': 1.0}"
      ]
     },
     "execution_count": 6,
     "metadata": {},
     "output_type": "execute_result"
    }
   ],
   "execution_count": 6
  },
  {
   "metadata": {},
   "cell_type": "markdown",
   "source": "## Benchmark",
   "id": "baea83ec9a6d7ba1"
  },
  {
   "metadata": {
    "ExecuteTime": {
     "end_time": "2024-04-19T14:59:07.535037Z",
     "start_time": "2024-04-19T14:59:01.951128Z"
    }
   },
   "cell_type": "code",
   "source": [
    "reviewer = SyntheticDataReview(\n",
    "    metrics=[AverageCardinalityPreserved(), DistanceClosestRecord(quantile=0.05)],\n",
    "    metric_kwargs = {'categorical_columns': ['has_rewards', 'room_type']}\n",
    ")\n",
    "\n",
    "benchmark_generators(\n",
    "    data_real=df_train,\n",
    "    data_holdout=df_holdout,    \n",
    "    generators=[MarginalGenerator(epsilon=0.1), CTGANGenerator(metadata=metadata)],\n",
    "    reviewer=reviewer,\n",
    "    path_out = paths.PATH_RESULTS / 'fake_hotel_guests',\n",
    ")"
   ],
   "id": "85fb01a38a245534",
   "outputs": [
    {
     "name": "stdout",
     "output_type": "stream",
     "text": [
      "Running generator MarginalGenerator\n",
      "Fitting generator MarginalGenerator on input data\n",
      "Marginal fitted: guest_email\n",
      "Marginal fitted: has_rewards\n",
      "Marginal fitted: room_type\n",
      "Marginal fitted: amenities_fee\n",
      "Marginal fitted: checkin_date\n",
      "Marginal fitted: checkout_date\n",
      "Marginal fitted: room_rate\n",
      "Marginal fitted: billing_address\n",
      "Marginal fitted: credit_card_number\n",
      "Generator fitted. Generating 400 records\n",
      "Column sampled: guest_email\n",
      "Column sampled: has_rewards\n",
      "Column sampled: room_type\n",
      "Column sampled: amenities_fee\n",
      "Column sampled: checkin_date\n",
      "Column sampled: checkout_date\n",
      "Column sampled: room_rate\n",
      "Column sampled: billing_address\n",
      "Column sampled: credit_card_number\n",
      "Saved synthetic data and generator for 0_MarginalGenerator at /Users/dknoors/Projects/synthesis-dk/crn-synth/results/fake_hotel_guests\n",
      "Running reviewer for 0_MarginalGenerator\n",
      "Running metric AverageCardinalityPreserved\n",
      "Running metric DistanceClosestRecord\n",
      "Running generator CTGANGenerator\n",
      "Fitting generator CTGANGenerator on input data\n"
     ]
    },
    {
     "name": "stderr",
     "output_type": "stream",
     "text": [
      "/Users/dknoors/miniconda3/envs/crnsynth/lib/python3.9/site-packages/rdt/transformers/pii/anonymizer.py:118: FutureWarning: The 'enforce_uniqueness' parameter is no longer supported. Please use the 'cardinality_rule' parameter instead.\n",
      "  warnings.warn(\n"
     ]
    },
    {
     "name": "stdout",
     "output_type": "stream",
     "text": [
      "Generator fitted. Generating 400 records\n",
      "Saved synthetic data and generator for 1_CTGANGenerator at /Users/dknoors/Projects/synthesis-dk/crn-synth/results/fake_hotel_guests\n",
      "Running reviewer for 1_CTGANGenerator\n",
      "Running metric AverageCardinalityPreserved\n",
      "Running metric DistanceClosestRecord\n",
      "Saved scores at /Users/dknoors/Projects/synthesis-dk/crn-synth/results/fake_hotel_guests/reports/scores.csv\n"
     ]
    }
   ],
   "execution_count": 14
  },
  {
   "metadata": {
    "ExecuteTime": {
     "end_time": "2024-04-19T14:59:07.540135Z",
     "start_time": "2024-04-19T14:59:07.535956Z"
    }
   },
   "cell_type": "code",
   "source": [
    "# load results\n",
    "scores_benchmark = pd.read_csv(paths.PATH_RESULTS / 'fake_hotel_guests/reports/scores.csv')\n",
    "scores_benchmark"
   ],
   "id": "292fe3099143a991",
   "outputs": [
    {
     "data": {
      "text/plain": [
       "                              metric  0_MarginalGenerator  1_CTGANGenerator\n",
       "0  AverageCardinalityPreserved_score             1.000000               1.0\n",
       "1      DistanceClosestRecord_holdout             1.000000               1.0\n",
       "2        DistanceClosestRecord_synth             0.004376               1.0"
      ],
      "text/html": [
       "<div>\n",
       "<style scoped>\n",
       "    .dataframe tbody tr th:only-of-type {\n",
       "        vertical-align: middle;\n",
       "    }\n",
       "\n",
       "    .dataframe tbody tr th {\n",
       "        vertical-align: top;\n",
       "    }\n",
       "\n",
       "    .dataframe thead th {\n",
       "        text-align: right;\n",
       "    }\n",
       "</style>\n",
       "<table border=\"1\" class=\"dataframe\">\n",
       "  <thead>\n",
       "    <tr style=\"text-align: right;\">\n",
       "      <th></th>\n",
       "      <th>metric</th>\n",
       "      <th>0_MarginalGenerator</th>\n",
       "      <th>1_CTGANGenerator</th>\n",
       "    </tr>\n",
       "  </thead>\n",
       "  <tbody>\n",
       "    <tr>\n",
       "      <th>0</th>\n",
       "      <td>AverageCardinalityPreserved_score</td>\n",
       "      <td>1.000000</td>\n",
       "      <td>1.0</td>\n",
       "    </tr>\n",
       "    <tr>\n",
       "      <th>1</th>\n",
       "      <td>DistanceClosestRecord_holdout</td>\n",
       "      <td>1.000000</td>\n",
       "      <td>1.0</td>\n",
       "    </tr>\n",
       "    <tr>\n",
       "      <th>2</th>\n",
       "      <td>DistanceClosestRecord_synth</td>\n",
       "      <td>0.004376</td>\n",
       "      <td>1.0</td>\n",
       "    </tr>\n",
       "  </tbody>\n",
       "</table>\n",
       "</div>"
      ]
     },
     "execution_count": 15,
     "metadata": {},
     "output_type": "execute_result"
    }
   ],
   "execution_count": 15
  },
  {
   "metadata": {},
   "cell_type": "code",
   "outputs": [],
   "execution_count": null,
   "source": "",
   "id": "123b22527258216e"
  }
 ],
 "metadata": {
  "kernelspec": {
   "display_name": "Python 3",
   "language": "python",
   "name": "python3"
  },
  "language_info": {
   "codemirror_mode": {
    "name": "ipython",
    "version": 2
   },
   "file_extension": ".py",
   "mimetype": "text/x-python",
   "name": "python",
   "nbconvert_exporter": "python",
   "pygments_lexer": "ipython2",
   "version": "2.7.6"
  }
 },
 "nbformat": 4,
 "nbformat_minor": 5
}
