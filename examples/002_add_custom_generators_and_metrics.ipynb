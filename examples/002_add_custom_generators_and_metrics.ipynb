{
 "cells": [
  {
   "metadata": {},
   "cell_type": "markdown",
   "source": [
    "# Add custom generators and metrics\n",
    "Benchmarking requires a common API, where generators have a fit() and generate() method and metrics have a compute() method. You can add custom generators and metrics by subclassing the BaseGenerator and BaseMetric classes, so these are interoperable with the benchmarking framework."
   ],
   "id": "f9bbb9d96a0f967c"
  },
  {
   "metadata": {
    "ExecuteTime": {
     "end_time": "2024-05-06T08:06:57.324883Z",
     "start_time": "2024-05-06T08:06:57.323256Z"
    }
   },
   "cell_type": "code",
   "source": [
    "import numpy as np\n",
    "import pandas as pd\n",
    "import warnings"
   ],
   "id": "ed484d4e352ff742",
   "outputs": [],
   "execution_count": 7
  },
  {
   "metadata": {
    "ExecuteTime": {
     "end_time": "2024-05-06T08:06:57.700373Z",
     "start_time": "2024-05-06T08:06:57.666727Z"
    }
   },
   "cell_type": "code",
   "source": [
    "# ignore warnings\n",
    "warnings.filterwarnings(\"ignore\", category=DeprecationWarning)\n",
    "warnings.filterwarnings(\"ignore\", category=FutureWarning)\n",
    "\n",
    "# autoreload changes from local files\n",
    "%load_ext autoreload\n",
    "%autoreload 2\n",
    "\n",
    "# pandas show full output\n",
    "pd.set_option('display.max_rows', 500)\n",
    "pd.set_option('display.max_columns', 200)"
   ],
   "id": "3e8e039b8226a77f",
   "outputs": [],
   "execution_count": 8
  },
  {
   "metadata": {
    "ExecuteTime": {
     "end_time": "2024-05-06T08:06:39.654899Z",
     "start_time": "2024-05-06T08:06:38.802129Z"
    }
   },
   "cell_type": "code",
   "source": [
    "from crnsynth.serialization import paths\n",
    "from crnsynth.benchmark.benchmark import benchmark_generators\n",
    "from crnsynth.benchmark.review import SyntheticDataReview\n",
    "from crnsynth.metrics.privacy.dcr import DistanceClosestRecord\n",
    "from crnsynth.generators.marginal import MarginalGenerator\n",
    "from crnsynth.generators.base import BaseGenerator\n",
    "from crnsynth.metrics.base import BaseMetric\n",
    "from crnsynth.processing.preprocessing import split_train_holdout"
   ],
   "id": "1529cd2983ca024f",
   "outputs": [],
   "execution_count": 1
  },
  {
   "metadata": {},
   "cell_type": "markdown",
   "source": "## Add custom generator",
   "id": "c9a3ea134bbb508d"
  },
  {
   "metadata": {},
   "cell_type": "markdown",
   "source": "For example here we add the CTGAN generator from SDV.",
   "id": "c9869a0bbc1132fb"
  },
  {
   "metadata": {
    "ExecuteTime": {
     "end_time": "2024-05-06T08:06:40.204034Z",
     "start_time": "2024-05-06T08:06:39.739841Z"
    }
   },
   "cell_type": "code",
   "source": [
    "from sdv.single_table import CTGANSynthesizer\n",
    "\n",
    "class CTGANGenerator(BaseGenerator):\n",
    "    def __init__(self, metadata):\n",
    "        self.generator = CTGANSynthesizer(metadata)\n",
    "    \n",
    "    def fit(self, real_data):\n",
    "        self.generator.fit(real_data)\n",
    "\n",
    "    def generate(self, n):\n",
    "        return self.generator.sample(n)"
   ],
   "id": "a3c376c5a8283ed5",
   "outputs": [],
   "execution_count": 2
  },
  {
   "metadata": {
    "ExecuteTime": {
     "end_time": "2024-05-06T08:06:40.923633Z",
     "start_time": "2024-05-06T08:06:40.265396Z"
    }
   },
   "cell_type": "code",
   "source": [
    "from sdv.datasets.demo import download_demo\n",
    "\n",
    "df, metadata = download_demo(\n",
    "    modality='single_table',\n",
    "    dataset_name='fake_hotel_guests'\n",
    ")\n",
    "\n",
    "df_train, df_holdout = split_train_holdout(df, holdout_size=0.2)\n",
    "df_train.head()"
   ],
   "id": "1a54171437e991dd",
   "outputs": [
    {
     "data": {
      "text/plain": [
       "                        guest_email  has_rewards room_type  amenities_fee  \\\n",
       "165          robertomorris@long.com         True     SUITE           0.00   \n",
       "144            juanwatson@chung.org         True     SUITE           0.00   \n",
       "362  stephanie09@sexton-spencer.com        False     BASIC           9.88   \n",
       "467    belljose@goodwin-farrell.net        False     BASIC          23.41   \n",
       "231    elizabethedwards@edwards.net        False     BASIC          34.92   \n",
       "\n",
       "    checkin_date checkout_date  room_rate  \\\n",
       "165  07 Dec 2020   10 Dec 2020     230.38   \n",
       "144  20 Feb 2020   21 Feb 2020     204.06   \n",
       "362  17 Feb 2020   19 Feb 2020     108.53   \n",
       "467  06 Nov 2020   07 Nov 2020     103.17   \n",
       "231  03 Aug 2020   04 Aug 2020     107.92   \n",
       "\n",
       "                                       billing_address   credit_card_number  \n",
       "165          77 Massachusetts Ave\\nCambridge, MA 02139         561674411369  \n",
       "144          5678 Office Road\\nSan Francisco, CA 94103     4432016585990225  \n",
       "362          77 Massachusetts Ave\\nCambridge, MA 02139  4285102311649280378  \n",
       "467    45274 Andrew Bridge\\nNew Elizabethton, FL 05037     4534892217780995  \n",
       "231  9280 Laura Prairie Suite 706\\nRomerochester, M...     6576864934777079  "
      ],
      "text/html": [
       "<div>\n",
       "<style scoped>\n",
       "    .dataframe tbody tr th:only-of-type {\n",
       "        vertical-align: middle;\n",
       "    }\n",
       "\n",
       "    .dataframe tbody tr th {\n",
       "        vertical-align: top;\n",
       "    }\n",
       "\n",
       "    .dataframe thead th {\n",
       "        text-align: right;\n",
       "    }\n",
       "</style>\n",
       "<table border=\"1\" class=\"dataframe\">\n",
       "  <thead>\n",
       "    <tr style=\"text-align: right;\">\n",
       "      <th></th>\n",
       "      <th>guest_email</th>\n",
       "      <th>has_rewards</th>\n",
       "      <th>room_type</th>\n",
       "      <th>amenities_fee</th>\n",
       "      <th>checkin_date</th>\n",
       "      <th>checkout_date</th>\n",
       "      <th>room_rate</th>\n",
       "      <th>billing_address</th>\n",
       "      <th>credit_card_number</th>\n",
       "    </tr>\n",
       "  </thead>\n",
       "  <tbody>\n",
       "    <tr>\n",
       "      <th>165</th>\n",
       "      <td>robertomorris@long.com</td>\n",
       "      <td>True</td>\n",
       "      <td>SUITE</td>\n",
       "      <td>0.00</td>\n",
       "      <td>07 Dec 2020</td>\n",
       "      <td>10 Dec 2020</td>\n",
       "      <td>230.38</td>\n",
       "      <td>77 Massachusetts Ave\\nCambridge, MA 02139</td>\n",
       "      <td>561674411369</td>\n",
       "    </tr>\n",
       "    <tr>\n",
       "      <th>144</th>\n",
       "      <td>juanwatson@chung.org</td>\n",
       "      <td>True</td>\n",
       "      <td>SUITE</td>\n",
       "      <td>0.00</td>\n",
       "      <td>20 Feb 2020</td>\n",
       "      <td>21 Feb 2020</td>\n",
       "      <td>204.06</td>\n",
       "      <td>5678 Office Road\\nSan Francisco, CA 94103</td>\n",
       "      <td>4432016585990225</td>\n",
       "    </tr>\n",
       "    <tr>\n",
       "      <th>362</th>\n",
       "      <td>stephanie09@sexton-spencer.com</td>\n",
       "      <td>False</td>\n",
       "      <td>BASIC</td>\n",
       "      <td>9.88</td>\n",
       "      <td>17 Feb 2020</td>\n",
       "      <td>19 Feb 2020</td>\n",
       "      <td>108.53</td>\n",
       "      <td>77 Massachusetts Ave\\nCambridge, MA 02139</td>\n",
       "      <td>4285102311649280378</td>\n",
       "    </tr>\n",
       "    <tr>\n",
       "      <th>467</th>\n",
       "      <td>belljose@goodwin-farrell.net</td>\n",
       "      <td>False</td>\n",
       "      <td>BASIC</td>\n",
       "      <td>23.41</td>\n",
       "      <td>06 Nov 2020</td>\n",
       "      <td>07 Nov 2020</td>\n",
       "      <td>103.17</td>\n",
       "      <td>45274 Andrew Bridge\\nNew Elizabethton, FL 05037</td>\n",
       "      <td>4534892217780995</td>\n",
       "    </tr>\n",
       "    <tr>\n",
       "      <th>231</th>\n",
       "      <td>elizabethedwards@edwards.net</td>\n",
       "      <td>False</td>\n",
       "      <td>BASIC</td>\n",
       "      <td>34.92</td>\n",
       "      <td>03 Aug 2020</td>\n",
       "      <td>04 Aug 2020</td>\n",
       "      <td>107.92</td>\n",
       "      <td>9280 Laura Prairie Suite 706\\nRomerochester, M...</td>\n",
       "      <td>6576864934777079</td>\n",
       "    </tr>\n",
       "  </tbody>\n",
       "</table>\n",
       "</div>"
      ]
     },
     "execution_count": 3,
     "metadata": {},
     "output_type": "execute_result"
    }
   ],
   "execution_count": 3
  },
  {
   "metadata": {
    "ExecuteTime": {
     "end_time": "2024-05-06T08:07:06.085590Z",
     "start_time": "2024-05-06T08:07:00.680560Z"
    }
   },
   "cell_type": "code",
   "source": [
    "generator = CTGANGenerator(metadata=metadata)\n",
    "generator.fit(df_train)\n",
    "df_synth = generator.generate(1000)\n",
    "df_synth.head()"
   ],
   "id": "45caaa10aea10ce",
   "outputs": [
    {
     "data": {
      "text/plain": [
       "                        guest_email  has_rewards room_type  amenities_fee  \\\n",
       "0               sarah63@example.net        False     BASIC           0.00   \n",
       "1            sarahortiz@example.com        False    DELUXE           0.00   \n",
       "2  dominguezchristopher@example.net        False     SUITE          25.34   \n",
       "3        cantrelljoshua@example.org         True    DELUXE           0.00   \n",
       "4          yvonnenorton@example.org        False    DELUXE            NaN   \n",
       "\n",
       "  checkin_date checkout_date  room_rate  \\\n",
       "0  04 Apr 2020   27 Jun 2020      86.31   \n",
       "1  07 Jan 2021   08 Jan 2021     352.39   \n",
       "2  17 Jun 2020   08 Jan 2021      86.62   \n",
       "3  04 Sep 2020   23 Oct 2020     118.07   \n",
       "4  24 Apr 2020   19 May 2020      83.80   \n",
       "\n",
       "                                     billing_address  credit_card_number  \n",
       "0              63520 John Stream\\nDawnview, DE 36491    4384922664587519  \n",
       "1    36680 Lori Village Apt. 439\\nEast Ray, MS 95382    5568254531057640  \n",
       "2  74167 Laura Street Apt. 788\\nWest Robertfurt, ...    4816260594545267  \n",
       "3   710 Fuller Station Apt. 020\\nEast Beth, NV 87797    4618523508526800  \n",
       "4         097 Christina Avenue\\nGordonfort, AL 38610    5526638030276589  "
      ],
      "text/html": [
       "<div>\n",
       "<style scoped>\n",
       "    .dataframe tbody tr th:only-of-type {\n",
       "        vertical-align: middle;\n",
       "    }\n",
       "\n",
       "    .dataframe tbody tr th {\n",
       "        vertical-align: top;\n",
       "    }\n",
       "\n",
       "    .dataframe thead th {\n",
       "        text-align: right;\n",
       "    }\n",
       "</style>\n",
       "<table border=\"1\" class=\"dataframe\">\n",
       "  <thead>\n",
       "    <tr style=\"text-align: right;\">\n",
       "      <th></th>\n",
       "      <th>guest_email</th>\n",
       "      <th>has_rewards</th>\n",
       "      <th>room_type</th>\n",
       "      <th>amenities_fee</th>\n",
       "      <th>checkin_date</th>\n",
       "      <th>checkout_date</th>\n",
       "      <th>room_rate</th>\n",
       "      <th>billing_address</th>\n",
       "      <th>credit_card_number</th>\n",
       "    </tr>\n",
       "  </thead>\n",
       "  <tbody>\n",
       "    <tr>\n",
       "      <th>0</th>\n",
       "      <td>sarah63@example.net</td>\n",
       "      <td>False</td>\n",
       "      <td>BASIC</td>\n",
       "      <td>0.00</td>\n",
       "      <td>04 Apr 2020</td>\n",
       "      <td>27 Jun 2020</td>\n",
       "      <td>86.31</td>\n",
       "      <td>63520 John Stream\\nDawnview, DE 36491</td>\n",
       "      <td>4384922664587519</td>\n",
       "    </tr>\n",
       "    <tr>\n",
       "      <th>1</th>\n",
       "      <td>sarahortiz@example.com</td>\n",
       "      <td>False</td>\n",
       "      <td>DELUXE</td>\n",
       "      <td>0.00</td>\n",
       "      <td>07 Jan 2021</td>\n",
       "      <td>08 Jan 2021</td>\n",
       "      <td>352.39</td>\n",
       "      <td>36680 Lori Village Apt. 439\\nEast Ray, MS 95382</td>\n",
       "      <td>5568254531057640</td>\n",
       "    </tr>\n",
       "    <tr>\n",
       "      <th>2</th>\n",
       "      <td>dominguezchristopher@example.net</td>\n",
       "      <td>False</td>\n",
       "      <td>SUITE</td>\n",
       "      <td>25.34</td>\n",
       "      <td>17 Jun 2020</td>\n",
       "      <td>08 Jan 2021</td>\n",
       "      <td>86.62</td>\n",
       "      <td>74167 Laura Street Apt. 788\\nWest Robertfurt, ...</td>\n",
       "      <td>4816260594545267</td>\n",
       "    </tr>\n",
       "    <tr>\n",
       "      <th>3</th>\n",
       "      <td>cantrelljoshua@example.org</td>\n",
       "      <td>True</td>\n",
       "      <td>DELUXE</td>\n",
       "      <td>0.00</td>\n",
       "      <td>04 Sep 2020</td>\n",
       "      <td>23 Oct 2020</td>\n",
       "      <td>118.07</td>\n",
       "      <td>710 Fuller Station Apt. 020\\nEast Beth, NV 87797</td>\n",
       "      <td>4618523508526800</td>\n",
       "    </tr>\n",
       "    <tr>\n",
       "      <th>4</th>\n",
       "      <td>yvonnenorton@example.org</td>\n",
       "      <td>False</td>\n",
       "      <td>DELUXE</td>\n",
       "      <td>NaN</td>\n",
       "      <td>24 Apr 2020</td>\n",
       "      <td>19 May 2020</td>\n",
       "      <td>83.80</td>\n",
       "      <td>097 Christina Avenue\\nGordonfort, AL 38610</td>\n",
       "      <td>5526638030276589</td>\n",
       "    </tr>\n",
       "  </tbody>\n",
       "</table>\n",
       "</div>"
      ]
     },
     "execution_count": 9,
     "metadata": {},
     "output_type": "execute_result"
    }
   ],
   "execution_count": 9
  },
  {
   "metadata": {},
   "cell_type": "markdown",
   "source": "## Add custom metric",
   "id": "7193b312e25df607"
  },
  {
   "metadata": {
    "ExecuteTime": {
     "end_time": "2024-05-06T08:07:09.333493Z",
     "start_time": "2024-05-06T08:07:09.299986Z"
    }
   },
   "cell_type": "code",
   "source": [
    "class AverageCardinalityPreserved(BaseMetric):\n",
    "    \"\"\"Compute percentage of cardinality of categorical columns in synthetic data compared to real data.\"\"\"\n",
    "\n",
    "    \n",
    "    def __init__(self, categorical_columns=None):\n",
    "        self.categorical_columns = categorical_columns\n",
    "        \n",
    "        self.scores_ = {}\n",
    "    \n",
    "    @staticmethod\n",
    "    def type() -> str:\n",
    "        return 'similarity'\n",
    "    \n",
    "    @staticmethod\n",
    "    def direction() -> str:\n",
    "        return 'maximize'\n",
    "    \n",
    "    def compute(self, real_data, synthetic_data, holdout=None, **kwargs):\n",
    "        if self.categorical_columns is None:\n",
    "            self.categorical_columns = real_data.select_dtypes(include='object').columns.tolist()\n",
    "        \n",
    "        cardinality_scores = np.zeros(len(self.categorical_columns))\n",
    "        for i, col in enumerate(self.categorical_columns):\n",
    "            # get unique values of each column\n",
    "            unique_real = real_data[col].unique()\n",
    "            unique_synth = synthetic_data[col].unique()\n",
    "            \n",
    "            # calculate percentage of categories from real data that are in the synth data\n",
    "            percentage_overlap = len(set(unique_real).intersection(set(unique_synth))) / len(unique_real)\n",
    "            cardinality_scores[i] = percentage_overlap\n",
    "            \n",
    "        # take average of all columns\n",
    "        self.scores_['score'] = np.mean(cardinality_scores)\n",
    "        return self.scores_\n",
    "    \n",
    "metric_cardinality = AverageCardinalityPreserved(categorical_columns=['has_rewards', 'room_type'])\n",
    "metric_cardinality.compute(df_train, df_synth)\n",
    "                            \n",
    "    "
   ],
   "id": "9f7c9b5792fa6a0",
   "outputs": [
    {
     "data": {
      "text/plain": [
       "{'score': 1.0}"
      ]
     },
     "execution_count": 10,
     "metadata": {},
     "output_type": "execute_result"
    }
   ],
   "execution_count": 10
  },
  {
   "metadata": {},
   "cell_type": "markdown",
   "source": "Metrics can also be imported from other libraries. These just need to have the compute() method. For the popular libraries, like `synthcity`, we created a wrapper class that allows you to import the metric and use it in the benchmarking framework.",
   "id": "aa5b265c460587ac"
  },
  {
   "metadata": {
    "ExecuteTime": {
     "end_time": "2024-05-06T08:07:41.728460Z",
     "start_time": "2024-05-06T08:07:41.617139Z"
    }
   },
   "cell_type": "code",
   "source": [
    "from crnsynth.integration.metrics import SynthcityMetricWrapper\n",
    "from synthcity.metrics.eval_statistical import JensenShannonDistance\n",
    "    \n",
    "sc_js = SynthcityMetricWrapper(metric=JensenShannonDistance(), encoder='ordinal')\n",
    "sc_js.compute(df_train, df_synth, df_holdout)"
   ],
   "id": "94256d2498c2bdd9",
   "outputs": [
    {
     "data": {
      "text/plain": [
       "{'marginal': 0.06122683436385463}"
      ]
     },
     "execution_count": 12,
     "metadata": {},
     "output_type": "execute_result"
    }
   ],
   "execution_count": 12
  },
  {
   "metadata": {},
   "cell_type": "markdown",
   "source": "## Benchmark",
   "id": "baea83ec9a6d7ba1"
  },
  {
   "metadata": {
    "ExecuteTime": {
     "end_time": "2024-05-06T08:07:52.637430Z",
     "start_time": "2024-05-06T08:07:46.867044Z"
    }
   },
   "cell_type": "code",
   "source": [
    "reviewer = SyntheticDataReview(\n",
    "    metrics=[AverageCardinalityPreserved(), DistanceClosestRecord(quantile=0.05), sc_js],\n",
    "    metric_kwargs = {'categorical_columns': ['has_rewards', 'room_type']}\n",
    ")\n",
    "\n",
    "benchmark_generators(\n",
    "    data_real=df_train,\n",
    "    data_holdout=df_holdout,    \n",
    "    generators=[MarginalGenerator(epsilon=0.1), CTGANGenerator(metadata=metadata)],\n",
    "    reviewer=reviewer,\n",
    "    path_out = paths.PATH_RESULTS / 'fake_hotel_guests',\n",
    ")"
   ],
   "id": "85fb01a38a245534",
   "outputs": [
    {
     "name": "stdout",
     "output_type": "stream",
     "text": [
      "Running generator MarginalGenerator\n",
      "Fitting generator MarginalGenerator on input data\n",
      "Marginal fitted: guest_email\n",
      "Marginal fitted: has_rewards\n",
      "Marginal fitted: room_type\n",
      "Marginal fitted: amenities_fee\n",
      "Marginal fitted: checkin_date\n",
      "Marginal fitted: checkout_date\n",
      "Marginal fitted: room_rate\n",
      "Marginal fitted: billing_address\n",
      "Marginal fitted: credit_card_number\n",
      "Generator fitted. Generating 400 records\n",
      "Column sampled: guest_email\n",
      "Column sampled: has_rewards\n",
      "Column sampled: room_type\n",
      "Column sampled: amenities_fee\n",
      "Column sampled: checkin_date\n",
      "Column sampled: checkout_date\n",
      "Column sampled: room_rate\n",
      "Column sampled: billing_address\n",
      "Column sampled: credit_card_number\n",
      "Saved to disk: /Users/dknoors/Projects/synthesis-dk/crn-synth/results/fake_hotel_guests/configs/0_MarginalGenerator.json\n",
      "Saved synthetic data, generator and configs for 0_MarginalGenerator at /Users/dknoors/Projects/synthesis-dk/crn-synth/results/fake_hotel_guests\n",
      "Running reviewer for 0_MarginalGenerator\n",
      "Running metric AverageCardinalityPreserved\n",
      "Running metric DistanceClosestRecord\n",
      "Running metric JensenShannonDistance\n",
      "Running generator CTGANGenerator\n",
      "Fitting generator CTGANGenerator on input data\n",
      "Generator fitted. Generating 400 records\n",
      "Saved to disk: /Users/dknoors/Projects/synthesis-dk/crn-synth/results/fake_hotel_guests/configs/1_CTGANGenerator.json\n",
      "Saved synthetic data, generator and configs for 1_CTGANGenerator at /Users/dknoors/Projects/synthesis-dk/crn-synth/results/fake_hotel_guests\n",
      "Running reviewer for 1_CTGANGenerator\n",
      "Running metric AverageCardinalityPreserved\n",
      "Running metric DistanceClosestRecord\n",
      "Running metric JensenShannonDistance\n",
      "Saved scores at /Users/dknoors/Projects/synthesis-dk/crn-synth/results/fake_hotel_guests/reports/scores.csv\n"
     ]
    }
   ],
   "execution_count": 13
  },
  {
   "metadata": {
    "ExecuteTime": {
     "end_time": "2024-05-06T08:07:52.669185Z",
     "start_time": "2024-05-06T08:07:52.638583Z"
    }
   },
   "cell_type": "code",
   "source": [
    "# load results\n",
    "scores_benchmark = pd.read_csv(paths.PATH_RESULTS / 'fake_hotel_guests/reports/scores.csv')\n",
    "scores_benchmark"
   ],
   "id": "292fe3099143a991",
   "outputs": [
    {
     "data": {
      "text/plain": [
       "                              metric  0_MarginalGenerator  1_CTGANGenerator\n",
       "0  AverageCardinalityPreserved_score             1.000000          1.000000\n",
       "1      DistanceClosestRecord_holdout             1.000000          1.000000\n",
       "2        DistanceClosestRecord_synth             0.004453          1.000000\n",
       "3     JensenShannonDistance_marginal             0.019594          0.061232"
      ],
      "text/html": [
       "<div>\n",
       "<style scoped>\n",
       "    .dataframe tbody tr th:only-of-type {\n",
       "        vertical-align: middle;\n",
       "    }\n",
       "\n",
       "    .dataframe tbody tr th {\n",
       "        vertical-align: top;\n",
       "    }\n",
       "\n",
       "    .dataframe thead th {\n",
       "        text-align: right;\n",
       "    }\n",
       "</style>\n",
       "<table border=\"1\" class=\"dataframe\">\n",
       "  <thead>\n",
       "    <tr style=\"text-align: right;\">\n",
       "      <th></th>\n",
       "      <th>metric</th>\n",
       "      <th>0_MarginalGenerator</th>\n",
       "      <th>1_CTGANGenerator</th>\n",
       "    </tr>\n",
       "  </thead>\n",
       "  <tbody>\n",
       "    <tr>\n",
       "      <th>0</th>\n",
       "      <td>AverageCardinalityPreserved_score</td>\n",
       "      <td>1.000000</td>\n",
       "      <td>1.000000</td>\n",
       "    </tr>\n",
       "    <tr>\n",
       "      <th>1</th>\n",
       "      <td>DistanceClosestRecord_holdout</td>\n",
       "      <td>1.000000</td>\n",
       "      <td>1.000000</td>\n",
       "    </tr>\n",
       "    <tr>\n",
       "      <th>2</th>\n",
       "      <td>DistanceClosestRecord_synth</td>\n",
       "      <td>0.004453</td>\n",
       "      <td>1.000000</td>\n",
       "    </tr>\n",
       "    <tr>\n",
       "      <th>3</th>\n",
       "      <td>JensenShannonDistance_marginal</td>\n",
       "      <td>0.019594</td>\n",
       "      <td>0.061232</td>\n",
       "    </tr>\n",
       "  </tbody>\n",
       "</table>\n",
       "</div>"
      ]
     },
     "execution_count": 14,
     "metadata": {},
     "output_type": "execute_result"
    }
   ],
   "execution_count": 14
  },
  {
   "metadata": {},
   "cell_type": "code",
   "outputs": [],
   "execution_count": null,
   "source": "",
   "id": "841a1a37e134a028"
  }
 ],
 "metadata": {
  "kernelspec": {
   "display_name": "Python 3",
   "language": "python",
   "name": "python3"
  },
  "language_info": {
   "codemirror_mode": {
    "name": "ipython",
    "version": 2
   },
   "file_extension": ".py",
   "mimetype": "text/x-python",
   "name": "python",
   "nbconvert_exporter": "python",
   "pygments_lexer": "ipython2",
   "version": "2.7.6"
  }
 },
 "nbformat": 4,
 "nbformat_minor": 5
}
