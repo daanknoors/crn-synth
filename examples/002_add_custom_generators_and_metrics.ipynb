{
 "cells": [
  {
   "metadata": {},
   "cell_type": "markdown",
   "source": [
    "# Add custom generators and metrics\n",
    "Benchmarking requires a common API, where generators have a fit() and generate() method and metrics have a compute() method. You can add custom generators and metrics by subclassing the BaseGenerator and BaseMetric classes, so these are interoperable with the benchmarking framework."
   ],
   "id": "f9bbb9d96a0f967c"
  },
  {
   "metadata": {
    "ExecuteTime": {
     "end_time": "2024-04-22T13:28:45.269750Z",
     "start_time": "2024-04-22T13:28:45.266766Z"
    }
   },
   "cell_type": "code",
   "source": [
    "import numpy as np\n",
    "import pandas as pd\n",
    "import warnings\n",
    "warnings.filterwarnings(\"ignore\", category=DeprecationWarning)\n",
    "warnings.filterwarnings(\"ignore\", category=FutureWarning)\n"
   ],
   "id": "ed484d4e352ff742",
   "outputs": [],
   "execution_count": 9
  },
  {
   "metadata": {
    "ExecuteTime": {
     "end_time": "2024-04-22T13:26:51.433138Z",
     "start_time": "2024-04-22T13:26:50.437382Z"
    }
   },
   "cell_type": "code",
   "source": [
    "from crnsynth.serialization import paths\n",
    "from crnsynth.benchmark.benchmark import benchmark_generators\n",
    "from crnsynth.benchmark.review import SyntheticDataReview\n",
    "from crnsynth.metrics.privacy.dcr import DistanceClosestRecord\n",
    "from crnsynth.generators.marginal_generator import MarginalGenerator\n",
    "from crnsynth.generators.base_generator import BaseGenerator\n",
    "from crnsynth.metrics.base_metric import BaseMetric\n",
    "from crnsynth.processing.preprocessing import split_train_holdout"
   ],
   "id": "1529cd2983ca024f",
   "outputs": [],
   "execution_count": 2
  },
  {
   "metadata": {},
   "cell_type": "markdown",
   "source": "## Add custom generator",
   "id": "c9a3ea134bbb508d"
  },
  {
   "metadata": {},
   "cell_type": "markdown",
   "source": "For example here we add the CTGAN generator from SDV.",
   "id": "c9869a0bbc1132fb"
  },
  {
   "metadata": {
    "ExecuteTime": {
     "end_time": "2024-04-22T13:26:52.120811Z",
     "start_time": "2024-04-22T13:26:51.433771Z"
    }
   },
   "cell_type": "code",
   "source": [
    "from sdv.single_table import CTGANSynthesizer\n",
    "\n",
    "class CTGANGenerator(BaseGenerator):\n",
    "    def __init__(self, metadata):\n",
    "        self.generator = CTGANSynthesizer(metadata)\n",
    "    \n",
    "    def fit(self, real_data):\n",
    "        self.generator.fit(real_data)\n",
    "\n",
    "    def generate(self, n):\n",
    "        return self.generator.sample(n)"
   ],
   "id": "a3c376c5a8283ed5",
   "outputs": [],
   "execution_count": 3
  },
  {
   "metadata": {
    "ExecuteTime": {
     "end_time": "2024-04-22T13:26:52.992702Z",
     "start_time": "2024-04-22T13:26:52.122024Z"
    }
   },
   "cell_type": "code",
   "source": [
    "from sdv.datasets.demo import download_demo\n",
    "\n",
    "df, metadata = download_demo(\n",
    "    modality='single_table',\n",
    "    dataset_name='fake_hotel_guests'\n",
    ")\n",
    "\n",
    "df_train, df_holdout = split_train_holdout(df, holdout_size=0.2)\n",
    "df_train.head()"
   ],
   "id": "1a54171437e991dd",
   "outputs": [
    {
     "data": {
      "text/plain": [
       "                       guest_email  has_rewards room_type  amenities_fee  \\\n",
       "495  laurabennett@jones-duncan.net        False     BASIC           8.71   \n",
       "65          craiglawson@wilson.com        False     BASIC          23.72   \n",
       "174        obrienbrenda@gentry.biz        False     BASIC          11.62   \n",
       "367     ptaylor@rhodes-johnson.org        False     BASIC            NaN   \n",
       "237      jack98@riley-roberson.biz        False     BASIC          22.54   \n",
       "\n",
       "    checkin_date checkout_date  room_rate  \\\n",
       "495  04 Jan 2021   06 Jan 2021     103.25   \n",
       "65   20 Jul 2020   21 Jul 2020     120.34   \n",
       "174  25 Feb 2020   27 Feb 2020     132.06   \n",
       "367  05 Jul 2020   08 Jul 2020     109.80   \n",
       "237  20 May 2020   24 May 2020     154.27   \n",
       "\n",
       "                                       billing_address  credit_card_number  \n",
       "495          5678 Office Road\\nSan Francisco, CA 94103    3505516387300030  \n",
       "65              463 Simmons Forks\\nPort Eric, VA 11253      38651500078643  \n",
       "174          5678 Office Road\\nSan Francisco, CA 94103    3554356011481199  \n",
       "367          77 Massachusetts Ave\\nCambridge, MA 02139    3527546197874381  \n",
       "237  853 Alexandra Center Apt. 179\\nEast Christinev...     180006078094389  "
      ],
      "text/html": [
       "<div>\n",
       "<style scoped>\n",
       "    .dataframe tbody tr th:only-of-type {\n",
       "        vertical-align: middle;\n",
       "    }\n",
       "\n",
       "    .dataframe tbody tr th {\n",
       "        vertical-align: top;\n",
       "    }\n",
       "\n",
       "    .dataframe thead th {\n",
       "        text-align: right;\n",
       "    }\n",
       "</style>\n",
       "<table border=\"1\" class=\"dataframe\">\n",
       "  <thead>\n",
       "    <tr style=\"text-align: right;\">\n",
       "      <th></th>\n",
       "      <th>guest_email</th>\n",
       "      <th>has_rewards</th>\n",
       "      <th>room_type</th>\n",
       "      <th>amenities_fee</th>\n",
       "      <th>checkin_date</th>\n",
       "      <th>checkout_date</th>\n",
       "      <th>room_rate</th>\n",
       "      <th>billing_address</th>\n",
       "      <th>credit_card_number</th>\n",
       "    </tr>\n",
       "  </thead>\n",
       "  <tbody>\n",
       "    <tr>\n",
       "      <th>495</th>\n",
       "      <td>laurabennett@jones-duncan.net</td>\n",
       "      <td>False</td>\n",
       "      <td>BASIC</td>\n",
       "      <td>8.71</td>\n",
       "      <td>04 Jan 2021</td>\n",
       "      <td>06 Jan 2021</td>\n",
       "      <td>103.25</td>\n",
       "      <td>5678 Office Road\\nSan Francisco, CA 94103</td>\n",
       "      <td>3505516387300030</td>\n",
       "    </tr>\n",
       "    <tr>\n",
       "      <th>65</th>\n",
       "      <td>craiglawson@wilson.com</td>\n",
       "      <td>False</td>\n",
       "      <td>BASIC</td>\n",
       "      <td>23.72</td>\n",
       "      <td>20 Jul 2020</td>\n",
       "      <td>21 Jul 2020</td>\n",
       "      <td>120.34</td>\n",
       "      <td>463 Simmons Forks\\nPort Eric, VA 11253</td>\n",
       "      <td>38651500078643</td>\n",
       "    </tr>\n",
       "    <tr>\n",
       "      <th>174</th>\n",
       "      <td>obrienbrenda@gentry.biz</td>\n",
       "      <td>False</td>\n",
       "      <td>BASIC</td>\n",
       "      <td>11.62</td>\n",
       "      <td>25 Feb 2020</td>\n",
       "      <td>27 Feb 2020</td>\n",
       "      <td>132.06</td>\n",
       "      <td>5678 Office Road\\nSan Francisco, CA 94103</td>\n",
       "      <td>3554356011481199</td>\n",
       "    </tr>\n",
       "    <tr>\n",
       "      <th>367</th>\n",
       "      <td>ptaylor@rhodes-johnson.org</td>\n",
       "      <td>False</td>\n",
       "      <td>BASIC</td>\n",
       "      <td>NaN</td>\n",
       "      <td>05 Jul 2020</td>\n",
       "      <td>08 Jul 2020</td>\n",
       "      <td>109.80</td>\n",
       "      <td>77 Massachusetts Ave\\nCambridge, MA 02139</td>\n",
       "      <td>3527546197874381</td>\n",
       "    </tr>\n",
       "    <tr>\n",
       "      <th>237</th>\n",
       "      <td>jack98@riley-roberson.biz</td>\n",
       "      <td>False</td>\n",
       "      <td>BASIC</td>\n",
       "      <td>22.54</td>\n",
       "      <td>20 May 2020</td>\n",
       "      <td>24 May 2020</td>\n",
       "      <td>154.27</td>\n",
       "      <td>853 Alexandra Center Apt. 179\\nEast Christinev...</td>\n",
       "      <td>180006078094389</td>\n",
       "    </tr>\n",
       "  </tbody>\n",
       "</table>\n",
       "</div>"
      ]
     },
     "execution_count": 4,
     "metadata": {},
     "output_type": "execute_result"
    }
   ],
   "execution_count": 4
  },
  {
   "metadata": {
    "ExecuteTime": {
     "end_time": "2024-04-22T13:28:55.495907Z",
     "start_time": "2024-04-22T13:28:49.850385Z"
    }
   },
   "cell_type": "code",
   "source": [
    "generator = CTGANGenerator(metadata=metadata)\n",
    "generator.fit(df_train)\n",
    "df_synth = generator.generate(1000)\n",
    "df_synth.head()"
   ],
   "id": "45caaa10aea10ce",
   "outputs": [
    {
     "data": {
      "text/plain": [
       "                   guest_email  has_rewards room_type  amenities_fee  \\\n",
       "0  dawsonalexander@example.com        False     BASIC           0.10   \n",
       "1           mmills@example.org        False     SUITE          10.39   \n",
       "2     castrojeremy@example.net         True     BASIC          26.95   \n",
       "3          kwerner@example.net        False     BASIC          25.12   \n",
       "4        josecross@example.com        False     SUITE            NaN   \n",
       "\n",
       "  checkin_date checkout_date  room_rate  \\\n",
       "0  17 May 2020   04 Aug 2020     261.28   \n",
       "1  05 Jan 2020   20 May 2020     170.00   \n",
       "2  23 Jun 2020   27 Oct 2020     255.35   \n",
       "3  05 Jan 2020   15 Oct 2020     105.41   \n",
       "4  08 Jul 2020   05 Dec 2020     218.43   \n",
       "\n",
       "                                     billing_address  credit_card_number  \n",
       "0           1225 Melissa Neck\\nLake Dennis, AS 41867    4657132433426482  \n",
       "1         0374 Karen Island\\nFranklinmouth, IL 83721     347942082550059  \n",
       "2         448 Adkins Field\\nWest Ryanburgh, DC 13761    4188558408990755  \n",
       "3  686 Vance Route Suite 272\\nCampbellmouth, UT 7...       4928393065485  \n",
       "4  61851 Stone Via Apt. 773\\nSouth Allenville, KY...        503842511399  "
      ],
      "text/html": [
       "<div>\n",
       "<style scoped>\n",
       "    .dataframe tbody tr th:only-of-type {\n",
       "        vertical-align: middle;\n",
       "    }\n",
       "\n",
       "    .dataframe tbody tr th {\n",
       "        vertical-align: top;\n",
       "    }\n",
       "\n",
       "    .dataframe thead th {\n",
       "        text-align: right;\n",
       "    }\n",
       "</style>\n",
       "<table border=\"1\" class=\"dataframe\">\n",
       "  <thead>\n",
       "    <tr style=\"text-align: right;\">\n",
       "      <th></th>\n",
       "      <th>guest_email</th>\n",
       "      <th>has_rewards</th>\n",
       "      <th>room_type</th>\n",
       "      <th>amenities_fee</th>\n",
       "      <th>checkin_date</th>\n",
       "      <th>checkout_date</th>\n",
       "      <th>room_rate</th>\n",
       "      <th>billing_address</th>\n",
       "      <th>credit_card_number</th>\n",
       "    </tr>\n",
       "  </thead>\n",
       "  <tbody>\n",
       "    <tr>\n",
       "      <th>0</th>\n",
       "      <td>dawsonalexander@example.com</td>\n",
       "      <td>False</td>\n",
       "      <td>BASIC</td>\n",
       "      <td>0.10</td>\n",
       "      <td>17 May 2020</td>\n",
       "      <td>04 Aug 2020</td>\n",
       "      <td>261.28</td>\n",
       "      <td>1225 Melissa Neck\\nLake Dennis, AS 41867</td>\n",
       "      <td>4657132433426482</td>\n",
       "    </tr>\n",
       "    <tr>\n",
       "      <th>1</th>\n",
       "      <td>mmills@example.org</td>\n",
       "      <td>False</td>\n",
       "      <td>SUITE</td>\n",
       "      <td>10.39</td>\n",
       "      <td>05 Jan 2020</td>\n",
       "      <td>20 May 2020</td>\n",
       "      <td>170.00</td>\n",
       "      <td>0374 Karen Island\\nFranklinmouth, IL 83721</td>\n",
       "      <td>347942082550059</td>\n",
       "    </tr>\n",
       "    <tr>\n",
       "      <th>2</th>\n",
       "      <td>castrojeremy@example.net</td>\n",
       "      <td>True</td>\n",
       "      <td>BASIC</td>\n",
       "      <td>26.95</td>\n",
       "      <td>23 Jun 2020</td>\n",
       "      <td>27 Oct 2020</td>\n",
       "      <td>255.35</td>\n",
       "      <td>448 Adkins Field\\nWest Ryanburgh, DC 13761</td>\n",
       "      <td>4188558408990755</td>\n",
       "    </tr>\n",
       "    <tr>\n",
       "      <th>3</th>\n",
       "      <td>kwerner@example.net</td>\n",
       "      <td>False</td>\n",
       "      <td>BASIC</td>\n",
       "      <td>25.12</td>\n",
       "      <td>05 Jan 2020</td>\n",
       "      <td>15 Oct 2020</td>\n",
       "      <td>105.41</td>\n",
       "      <td>686 Vance Route Suite 272\\nCampbellmouth, UT 7...</td>\n",
       "      <td>4928393065485</td>\n",
       "    </tr>\n",
       "    <tr>\n",
       "      <th>4</th>\n",
       "      <td>josecross@example.com</td>\n",
       "      <td>False</td>\n",
       "      <td>SUITE</td>\n",
       "      <td>NaN</td>\n",
       "      <td>08 Jul 2020</td>\n",
       "      <td>05 Dec 2020</td>\n",
       "      <td>218.43</td>\n",
       "      <td>61851 Stone Via Apt. 773\\nSouth Allenville, KY...</td>\n",
       "      <td>503842511399</td>\n",
       "    </tr>\n",
       "  </tbody>\n",
       "</table>\n",
       "</div>"
      ]
     },
     "execution_count": 10,
     "metadata": {},
     "output_type": "execute_result"
    }
   ],
   "execution_count": 10
  },
  {
   "metadata": {},
   "cell_type": "markdown",
   "source": "## Add custom metric",
   "id": "7193b312e25df607"
  },
  {
   "metadata": {
    "ExecuteTime": {
     "end_time": "2024-04-22T13:28:14.704680Z",
     "start_time": "2024-04-22T13:28:14.696724Z"
    }
   },
   "cell_type": "code",
   "source": [
    "class AverageCardinalityPreserved(BaseMetric):\n",
    "    \"\"\"Compute percentage of cardinality of categorical columns in synthetic data compared to real data.\"\"\"\n",
    "\n",
    "    \n",
    "    def __init__(self, categorical_columns=None):\n",
    "        self.categorical_columns = categorical_columns\n",
    "        \n",
    "        self.scores_ = {}\n",
    "    \n",
    "    @staticmethod\n",
    "    def type() -> str:\n",
    "        return 'similarity'\n",
    "    \n",
    "    @staticmethod\n",
    "    def direction() -> str:\n",
    "        return 'maximize'\n",
    "    \n",
    "    def compute(self, real_data, synthetic_data, holdout=None):\n",
    "        if self.categorical_columns is None:\n",
    "            self.categorical_columns = real_data.select_dtypes(include='object').columns.tolist()\n",
    "        \n",
    "        cardinality_scores = np.zeros(len(self.categorical_columns))\n",
    "        for i, col in enumerate(self.categorical_columns):\n",
    "            # get unique values of each column\n",
    "            unique_real = real_data[col].unique()\n",
    "            unique_synth = synthetic_data[col].unique()\n",
    "            \n",
    "            # calculate percentage of categories from real data that are in the synth data\n",
    "            percentage_overlap = len(set(unique_real).intersection(set(unique_synth))) / len(unique_real)\n",
    "            cardinality_scores[i] = percentage_overlap\n",
    "            \n",
    "        # take average of all columns\n",
    "        self.scores_['score'] = np.mean(cardinality_scores)\n",
    "        return self.scores_\n",
    "    \n",
    "metric_cardinality = AverageCardinalityPreserved(categorical_columns=['has_rewards', 'room_type'])\n",
    "metric_cardinality.compute(df_train, df_synth)\n",
    "                            \n",
    "    "
   ],
   "id": "9f7c9b5792fa6a0",
   "outputs": [
    {
     "data": {
      "text/plain": [
       "{'score': 1.0}"
      ]
     },
     "execution_count": 6,
     "metadata": {},
     "output_type": "execute_result"
    }
   ],
   "execution_count": 6
  },
  {
   "metadata": {},
   "cell_type": "markdown",
   "source": "## Benchmark",
   "id": "baea83ec9a6d7ba1"
  },
  {
   "metadata": {
    "ExecuteTime": {
     "end_time": "2024-04-22T13:29:05.580687Z",
     "start_time": "2024-04-22T13:29:00.046627Z"
    }
   },
   "cell_type": "code",
   "source": [
    "reviewer = SyntheticDataReview(\n",
    "    metrics=[AverageCardinalityPreserved(), DistanceClosestRecord(quantile=0.05)],\n",
    "    metric_kwargs = {'categorical_columns': ['has_rewards', 'room_type']}\n",
    ")\n",
    "\n",
    "benchmark_generators(\n",
    "    data_real=df_train,\n",
    "    data_holdout=df_holdout,    \n",
    "    generators=[MarginalGenerator(epsilon=0.1), CTGANGenerator(metadata=metadata)],\n",
    "    reviewer=reviewer,\n",
    "    path_out = paths.PATH_RESULTS / 'fake_hotel_guests',\n",
    ")"
   ],
   "id": "85fb01a38a245534",
   "outputs": [
    {
     "name": "stdout",
     "output_type": "stream",
     "text": [
      "Running generator MarginalGenerator\n",
      "Fitting generator MarginalGenerator on input data\n",
      "Marginal fitted: guest_email\n",
      "Marginal fitted: has_rewards\n",
      "Marginal fitted: room_type\n",
      "Marginal fitted: amenities_fee\n",
      "Marginal fitted: checkin_date\n",
      "Marginal fitted: checkout_date\n",
      "Marginal fitted: room_rate\n",
      "Marginal fitted: billing_address\n",
      "Marginal fitted: credit_card_number\n",
      "Generator fitted. Generating 400 records\n",
      "Column sampled: guest_email\n",
      "Column sampled: has_rewards\n",
      "Column sampled: room_type\n",
      "Column sampled: amenities_fee\n",
      "Column sampled: checkin_date\n",
      "Column sampled: checkout_date\n",
      "Column sampled: room_rate\n",
      "Column sampled: billing_address\n",
      "Column sampled: credit_card_number\n",
      "Saved synthetic data and generator for 0_MarginalGenerator at /Users/dknoors/Projects/synthesis-dk/crn-synth/results/fake_hotel_guests\n",
      "Running reviewer for 0_MarginalGenerator\n",
      "Running metric AverageCardinalityPreserved\n",
      "Running metric DistanceClosestRecord\n",
      "Running generator CTGANGenerator\n",
      "Fitting generator CTGANGenerator on input data\n",
      "Generator fitted. Generating 400 records\n",
      "Saved synthetic data and generator for 1_CTGANGenerator at /Users/dknoors/Projects/synthesis-dk/crn-synth/results/fake_hotel_guests\n",
      "Running reviewer for 1_CTGANGenerator\n",
      "Running metric AverageCardinalityPreserved\n",
      "Running metric DistanceClosestRecord\n",
      "Saved scores at /Users/dknoors/Projects/synthesis-dk/crn-synth/results/fake_hotel_guests/reports/scores.csv\n"
     ]
    }
   ],
   "execution_count": 11
  },
  {
   "metadata": {
    "ExecuteTime": {
     "end_time": "2024-04-22T13:29:09.250143Z",
     "start_time": "2024-04-22T13:29:09.242705Z"
    }
   },
   "cell_type": "code",
   "source": [
    "# load results\n",
    "scores_benchmark = pd.read_csv(paths.PATH_RESULTS / 'fake_hotel_guests/reports/scores.csv')\n",
    "scores_benchmark"
   ],
   "id": "292fe3099143a991",
   "outputs": [
    {
     "data": {
      "text/plain": [
       "                              metric  0_MarginalGenerator  1_CTGANGenerator\n",
       "0  AverageCardinalityPreserved_score             1.000000               1.0\n",
       "1      DistanceClosestRecord_holdout             1.000000               1.0\n",
       "2        DistanceClosestRecord_synth             0.004561               1.0"
      ],
      "text/html": [
       "<div>\n",
       "<style scoped>\n",
       "    .dataframe tbody tr th:only-of-type {\n",
       "        vertical-align: middle;\n",
       "    }\n",
       "\n",
       "    .dataframe tbody tr th {\n",
       "        vertical-align: top;\n",
       "    }\n",
       "\n",
       "    .dataframe thead th {\n",
       "        text-align: right;\n",
       "    }\n",
       "</style>\n",
       "<table border=\"1\" class=\"dataframe\">\n",
       "  <thead>\n",
       "    <tr style=\"text-align: right;\">\n",
       "      <th></th>\n",
       "      <th>metric</th>\n",
       "      <th>0_MarginalGenerator</th>\n",
       "      <th>1_CTGANGenerator</th>\n",
       "    </tr>\n",
       "  </thead>\n",
       "  <tbody>\n",
       "    <tr>\n",
       "      <th>0</th>\n",
       "      <td>AverageCardinalityPreserved_score</td>\n",
       "      <td>1.000000</td>\n",
       "      <td>1.0</td>\n",
       "    </tr>\n",
       "    <tr>\n",
       "      <th>1</th>\n",
       "      <td>DistanceClosestRecord_holdout</td>\n",
       "      <td>1.000000</td>\n",
       "      <td>1.0</td>\n",
       "    </tr>\n",
       "    <tr>\n",
       "      <th>2</th>\n",
       "      <td>DistanceClosestRecord_synth</td>\n",
       "      <td>0.004561</td>\n",
       "      <td>1.0</td>\n",
       "    </tr>\n",
       "  </tbody>\n",
       "</table>\n",
       "</div>"
      ]
     },
     "execution_count": 12,
     "metadata": {},
     "output_type": "execute_result"
    }
   ],
   "execution_count": 12
  },
  {
   "metadata": {},
   "cell_type": "code",
   "outputs": [],
   "execution_count": null,
   "source": "",
   "id": "123b22527258216e"
  }
 ],
 "metadata": {
  "kernelspec": {
   "display_name": "Python 3",
   "language": "python",
   "name": "python3"
  },
  "language_info": {
   "codemirror_mode": {
    "name": "ipython",
    "version": 2
   },
   "file_extension": ".py",
   "mimetype": "text/x-python",
   "name": "python",
   "nbconvert_exporter": "python",
   "pygments_lexer": "ipython2",
   "version": "2.7.6"
  }
 },
 "nbformat": 4,
 "nbformat_minor": 5
}
