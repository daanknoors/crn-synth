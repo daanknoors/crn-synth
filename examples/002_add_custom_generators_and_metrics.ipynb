{
 "cells": [
  {
   "metadata": {},
   "cell_type": "markdown",
   "source": [
    "# Add custom generators and metrics\n",
    "Benchmarking requires a common API, where generators have a fit() and generate() method and metrics have a compute() method. You can add custom generators and metrics by subclassing the BaseGenerator and BaseMetric classes, so these are interoperable with the benchmarking framework."
   ],
   "id": "f9bbb9d96a0f967c"
  },
  {
   "metadata": {
    "ExecuteTime": {
     "end_time": "2024-04-23T08:01:44.105256Z",
     "start_time": "2024-04-23T08:01:44.101521Z"
    }
   },
   "cell_type": "code",
   "source": [
    "import numpy as np\n",
    "import pandas as pd\n",
    "import warnings\n",
    "warnings.filterwarnings(\"ignore\", category=DeprecationWarning)\n",
    "warnings.filterwarnings(\"ignore\", category=FutureWarning)\n"
   ],
   "id": "ed484d4e352ff742",
   "outputs": [],
   "execution_count": 6
  },
  {
   "metadata": {
    "ExecuteTime": {
     "end_time": "2024-04-23T08:01:25.022422Z",
     "start_time": "2024-04-23T08:01:24.707894Z"
    }
   },
   "cell_type": "code",
   "source": [
    "from crnsynth.serialization import paths\n",
    "from crnsynth.benchmark.benchmark import benchmark_generators\n",
    "from crnsynth.benchmark.review import SyntheticDataReview\n",
    "from crnsynth.metrics.privacy.dcr import DistanceClosestRecord\n",
    "from crnsynth.generators.marginal import MarginalGenerator\n",
    "from crnsynth.generators.base import BaseGenerator\n",
    "from crnsynth.metrics.base import BaseMetric\n",
    "from crnsynth.processing.preprocessing import split_train_holdout"
   ],
   "id": "1529cd2983ca024f",
   "outputs": [],
   "execution_count": 2
  },
  {
   "metadata": {},
   "cell_type": "markdown",
   "source": "## Add custom generator",
   "id": "c9a3ea134bbb508d"
  },
  {
   "metadata": {},
   "cell_type": "markdown",
   "source": "For example here we add the CTGAN generator from SDV.",
   "id": "c9869a0bbc1132fb"
  },
  {
   "metadata": {
    "ExecuteTime": {
     "end_time": "2024-04-23T08:01:27.378366Z",
     "start_time": "2024-04-23T08:01:26.659839Z"
    }
   },
   "cell_type": "code",
   "source": [
    "from sdv.single_table import CTGANSynthesizer\n",
    "\n",
    "class CTGANGenerator(BaseGenerator):\n",
    "    def __init__(self, metadata):\n",
    "        self.generator = CTGANSynthesizer(metadata)\n",
    "    \n",
    "    def fit(self, real_data):\n",
    "        self.generator.fit(real_data)\n",
    "\n",
    "    def generate(self, n):\n",
    "        return self.generator.sample(n)"
   ],
   "id": "a3c376c5a8283ed5",
   "outputs": [],
   "execution_count": 3
  },
  {
   "metadata": {
    "ExecuteTime": {
     "end_time": "2024-04-23T08:01:47.269087Z",
     "start_time": "2024-04-23T08:01:46.605044Z"
    }
   },
   "cell_type": "code",
   "source": [
    "from sdv.datasets.demo import download_demo\n",
    "\n",
    "df, metadata = download_demo(\n",
    "    modality='single_table',\n",
    "    dataset_name='fake_hotel_guests'\n",
    ")\n",
    "\n",
    "df_train, df_holdout = split_train_holdout(df, holdout_size=0.2)\n",
    "df_train.head()"
   ],
   "id": "1a54171437e991dd",
   "outputs": [
    {
     "data": {
      "text/plain": [
       "                        guest_email  has_rewards room_type  amenities_fee  \\\n",
       "414   adamsmark@phillips-barnes.com        False     BASIC          46.27   \n",
       "84           myersmonica@jacobs.net        False     BASIC          10.45   \n",
       "437             joshua15@gaines.com         True    DELUXE           0.00   \n",
       "259  castromelissa@scott-flores.com        False     BASIC          19.93   \n",
       "331      elizabethvaldez@torres.org        False     BASIC          19.36   \n",
       "\n",
       "    checkin_date checkout_date  room_rate  \\\n",
       "414  26 May 2020   27 May 2020     141.68   \n",
       "84   04 Feb 2020           NaN     155.61   \n",
       "437  22 Jun 2020   24 Jun 2020     204.11   \n",
       "259  21 May 2020   22 May 2020     119.39   \n",
       "331  15 Sep 2020   17 Sep 2020     115.68   \n",
       "\n",
       "                                      billing_address   credit_card_number  \n",
       "414  7874 Joshua Hills Apt. 837\\nFullerfort, HI 81547     2224569421948456  \n",
       "84     216 Stephanie Islands\\nElainechester, DE 62055     4997172877158950  \n",
       "437          361 Compton Harbor\\nYvetteland, KS 17306  4523783681085860804  \n",
       "259            0784 Todd Manors\\nJonesmouth, WY 42593  4150943237171848754  \n",
       "331         77 Massachusetts Ave\\nCambridge, MA 02139        4626586438747  "
      ],
      "text/html": [
       "<div>\n",
       "<style scoped>\n",
       "    .dataframe tbody tr th:only-of-type {\n",
       "        vertical-align: middle;\n",
       "    }\n",
       "\n",
       "    .dataframe tbody tr th {\n",
       "        vertical-align: top;\n",
       "    }\n",
       "\n",
       "    .dataframe thead th {\n",
       "        text-align: right;\n",
       "    }\n",
       "</style>\n",
       "<table border=\"1\" class=\"dataframe\">\n",
       "  <thead>\n",
       "    <tr style=\"text-align: right;\">\n",
       "      <th></th>\n",
       "      <th>guest_email</th>\n",
       "      <th>has_rewards</th>\n",
       "      <th>room_type</th>\n",
       "      <th>amenities_fee</th>\n",
       "      <th>checkin_date</th>\n",
       "      <th>checkout_date</th>\n",
       "      <th>room_rate</th>\n",
       "      <th>billing_address</th>\n",
       "      <th>credit_card_number</th>\n",
       "    </tr>\n",
       "  </thead>\n",
       "  <tbody>\n",
       "    <tr>\n",
       "      <th>414</th>\n",
       "      <td>adamsmark@phillips-barnes.com</td>\n",
       "      <td>False</td>\n",
       "      <td>BASIC</td>\n",
       "      <td>46.27</td>\n",
       "      <td>26 May 2020</td>\n",
       "      <td>27 May 2020</td>\n",
       "      <td>141.68</td>\n",
       "      <td>7874 Joshua Hills Apt. 837\\nFullerfort, HI 81547</td>\n",
       "      <td>2224569421948456</td>\n",
       "    </tr>\n",
       "    <tr>\n",
       "      <th>84</th>\n",
       "      <td>myersmonica@jacobs.net</td>\n",
       "      <td>False</td>\n",
       "      <td>BASIC</td>\n",
       "      <td>10.45</td>\n",
       "      <td>04 Feb 2020</td>\n",
       "      <td>NaN</td>\n",
       "      <td>155.61</td>\n",
       "      <td>216 Stephanie Islands\\nElainechester, DE 62055</td>\n",
       "      <td>4997172877158950</td>\n",
       "    </tr>\n",
       "    <tr>\n",
       "      <th>437</th>\n",
       "      <td>joshua15@gaines.com</td>\n",
       "      <td>True</td>\n",
       "      <td>DELUXE</td>\n",
       "      <td>0.00</td>\n",
       "      <td>22 Jun 2020</td>\n",
       "      <td>24 Jun 2020</td>\n",
       "      <td>204.11</td>\n",
       "      <td>361 Compton Harbor\\nYvetteland, KS 17306</td>\n",
       "      <td>4523783681085860804</td>\n",
       "    </tr>\n",
       "    <tr>\n",
       "      <th>259</th>\n",
       "      <td>castromelissa@scott-flores.com</td>\n",
       "      <td>False</td>\n",
       "      <td>BASIC</td>\n",
       "      <td>19.93</td>\n",
       "      <td>21 May 2020</td>\n",
       "      <td>22 May 2020</td>\n",
       "      <td>119.39</td>\n",
       "      <td>0784 Todd Manors\\nJonesmouth, WY 42593</td>\n",
       "      <td>4150943237171848754</td>\n",
       "    </tr>\n",
       "    <tr>\n",
       "      <th>331</th>\n",
       "      <td>elizabethvaldez@torres.org</td>\n",
       "      <td>False</td>\n",
       "      <td>BASIC</td>\n",
       "      <td>19.36</td>\n",
       "      <td>15 Sep 2020</td>\n",
       "      <td>17 Sep 2020</td>\n",
       "      <td>115.68</td>\n",
       "      <td>77 Massachusetts Ave\\nCambridge, MA 02139</td>\n",
       "      <td>4626586438747</td>\n",
       "    </tr>\n",
       "  </tbody>\n",
       "</table>\n",
       "</div>"
      ]
     },
     "execution_count": 7,
     "metadata": {},
     "output_type": "execute_result"
    }
   ],
   "execution_count": 7
  },
  {
   "metadata": {
    "ExecuteTime": {
     "end_time": "2024-04-23T08:01:54.346237Z",
     "start_time": "2024-04-23T08:01:48.591441Z"
    }
   },
   "cell_type": "code",
   "source": [
    "generator = CTGANGenerator(metadata=metadata)\n",
    "generator.fit(df_train)\n",
    "df_synth = generator.generate(1000)\n",
    "df_synth.head()"
   ],
   "id": "45caaa10aea10ce",
   "outputs": [
    {
     "data": {
      "text/plain": [
       "                   guest_email  has_rewards room_type  amenities_fee  \\\n",
       "0  marshallmatthew@example.net        False    DELUXE           0.00   \n",
       "1       nrodriguez@example.org        False     SUITE           5.45   \n",
       "2        whitney60@example.org        False     BASIC           0.00   \n",
       "3   anthonyrosales@example.org        False     BASIC           0.00   \n",
       "4     brentaguirre@example.com        False     SUITE            NaN   \n",
       "\n",
       "  checkin_date checkout_date  room_rate  \\\n",
       "0  03 Aug 2020   07 Oct 2020     144.96   \n",
       "1  06 Jan 2021   10 Oct 2020     149.44   \n",
       "2  16 Nov 2020   07 Jan 2020     218.57   \n",
       "3  27 Sep 2020   04 Feb 2020     167.60   \n",
       "4  25 Oct 2020   29 Apr 2020     257.67   \n",
       "\n",
       "                                   billing_address  credit_card_number  \n",
       "0  401 Gould Glen Suite 244\\nWalterville, FM 20462    6543609979607503  \n",
       "1      815 Michael Throughway\\nToddhaven, MP 80482    6503840662536059  \n",
       "2           030 Diane Parks\\nBartonmouth, ND 67470    4228737522997993  \n",
       "3                 Unit 1489 Box 4235\\nDPO AE 64043    3544641794792067  \n",
       "4         735 Hobbs Ridges\\nPort Anthony, ND 57086    3529271628138698  "
      ],
      "text/html": [
       "<div>\n",
       "<style scoped>\n",
       "    .dataframe tbody tr th:only-of-type {\n",
       "        vertical-align: middle;\n",
       "    }\n",
       "\n",
       "    .dataframe tbody tr th {\n",
       "        vertical-align: top;\n",
       "    }\n",
       "\n",
       "    .dataframe thead th {\n",
       "        text-align: right;\n",
       "    }\n",
       "</style>\n",
       "<table border=\"1\" class=\"dataframe\">\n",
       "  <thead>\n",
       "    <tr style=\"text-align: right;\">\n",
       "      <th></th>\n",
       "      <th>guest_email</th>\n",
       "      <th>has_rewards</th>\n",
       "      <th>room_type</th>\n",
       "      <th>amenities_fee</th>\n",
       "      <th>checkin_date</th>\n",
       "      <th>checkout_date</th>\n",
       "      <th>room_rate</th>\n",
       "      <th>billing_address</th>\n",
       "      <th>credit_card_number</th>\n",
       "    </tr>\n",
       "  </thead>\n",
       "  <tbody>\n",
       "    <tr>\n",
       "      <th>0</th>\n",
       "      <td>marshallmatthew@example.net</td>\n",
       "      <td>False</td>\n",
       "      <td>DELUXE</td>\n",
       "      <td>0.00</td>\n",
       "      <td>03 Aug 2020</td>\n",
       "      <td>07 Oct 2020</td>\n",
       "      <td>144.96</td>\n",
       "      <td>401 Gould Glen Suite 244\\nWalterville, FM 20462</td>\n",
       "      <td>6543609979607503</td>\n",
       "    </tr>\n",
       "    <tr>\n",
       "      <th>1</th>\n",
       "      <td>nrodriguez@example.org</td>\n",
       "      <td>False</td>\n",
       "      <td>SUITE</td>\n",
       "      <td>5.45</td>\n",
       "      <td>06 Jan 2021</td>\n",
       "      <td>10 Oct 2020</td>\n",
       "      <td>149.44</td>\n",
       "      <td>815 Michael Throughway\\nToddhaven, MP 80482</td>\n",
       "      <td>6503840662536059</td>\n",
       "    </tr>\n",
       "    <tr>\n",
       "      <th>2</th>\n",
       "      <td>whitney60@example.org</td>\n",
       "      <td>False</td>\n",
       "      <td>BASIC</td>\n",
       "      <td>0.00</td>\n",
       "      <td>16 Nov 2020</td>\n",
       "      <td>07 Jan 2020</td>\n",
       "      <td>218.57</td>\n",
       "      <td>030 Diane Parks\\nBartonmouth, ND 67470</td>\n",
       "      <td>4228737522997993</td>\n",
       "    </tr>\n",
       "    <tr>\n",
       "      <th>3</th>\n",
       "      <td>anthonyrosales@example.org</td>\n",
       "      <td>False</td>\n",
       "      <td>BASIC</td>\n",
       "      <td>0.00</td>\n",
       "      <td>27 Sep 2020</td>\n",
       "      <td>04 Feb 2020</td>\n",
       "      <td>167.60</td>\n",
       "      <td>Unit 1489 Box 4235\\nDPO AE 64043</td>\n",
       "      <td>3544641794792067</td>\n",
       "    </tr>\n",
       "    <tr>\n",
       "      <th>4</th>\n",
       "      <td>brentaguirre@example.com</td>\n",
       "      <td>False</td>\n",
       "      <td>SUITE</td>\n",
       "      <td>NaN</td>\n",
       "      <td>25 Oct 2020</td>\n",
       "      <td>29 Apr 2020</td>\n",
       "      <td>257.67</td>\n",
       "      <td>735 Hobbs Ridges\\nPort Anthony, ND 57086</td>\n",
       "      <td>3529271628138698</td>\n",
       "    </tr>\n",
       "  </tbody>\n",
       "</table>\n",
       "</div>"
      ]
     },
     "execution_count": 8,
     "metadata": {},
     "output_type": "execute_result"
    }
   ],
   "execution_count": 8
  },
  {
   "metadata": {},
   "cell_type": "markdown",
   "source": "## Add custom metric",
   "id": "7193b312e25df607"
  },
  {
   "metadata": {
    "ExecuteTime": {
     "end_time": "2024-04-23T08:01:55.153998Z",
     "start_time": "2024-04-23T08:01:55.144127Z"
    }
   },
   "cell_type": "code",
   "source": [
    "class AverageCardinalityPreserved(BaseMetric):\n",
    "    \"\"\"Compute percentage of cardinality of categorical columns in synthetic data compared to real data.\"\"\"\n",
    "\n",
    "    \n",
    "    def __init__(self, categorical_columns=None):\n",
    "        self.categorical_columns = categorical_columns\n",
    "        \n",
    "        self.scores_ = {}\n",
    "    \n",
    "    @staticmethod\n",
    "    def type() -> str:\n",
    "        return 'similarity'\n",
    "    \n",
    "    @staticmethod\n",
    "    def direction() -> str:\n",
    "        return 'maximize'\n",
    "    \n",
    "    def compute(self, real_data, synthetic_data, holdout=None):\n",
    "        if self.categorical_columns is None:\n",
    "            self.categorical_columns = real_data.select_dtypes(include='object').columns.tolist()\n",
    "        \n",
    "        cardinality_scores = np.zeros(len(self.categorical_columns))\n",
    "        for i, col in enumerate(self.categorical_columns):\n",
    "            # get unique values of each column\n",
    "            unique_real = real_data[col].unique()\n",
    "            unique_synth = synthetic_data[col].unique()\n",
    "            \n",
    "            # calculate percentage of categories from real data that are in the synth data\n",
    "            percentage_overlap = len(set(unique_real).intersection(set(unique_synth))) / len(unique_real)\n",
    "            cardinality_scores[i] = percentage_overlap\n",
    "            \n",
    "        # take average of all columns\n",
    "        self.scores_['score'] = np.mean(cardinality_scores)\n",
    "        return self.scores_\n",
    "    \n",
    "metric_cardinality = AverageCardinalityPreserved(categorical_columns=['has_rewards', 'room_type'])\n",
    "metric_cardinality.compute(df_train, df_synth)\n",
    "                            \n",
    "    "
   ],
   "id": "9f7c9b5792fa6a0",
   "outputs": [
    {
     "data": {
      "text/plain": [
       "{'score': 1.0}"
      ]
     },
     "execution_count": 9,
     "metadata": {},
     "output_type": "execute_result"
    }
   ],
   "execution_count": 9
  },
  {
   "metadata": {},
   "cell_type": "markdown",
   "source": "## Benchmark",
   "id": "baea83ec9a6d7ba1"
  },
  {
   "metadata": {
    "ExecuteTime": {
     "end_time": "2024-04-23T08:02:05.917509Z",
     "start_time": "2024-04-23T08:02:00.381263Z"
    }
   },
   "cell_type": "code",
   "source": [
    "reviewer = SyntheticDataReview(\n",
    "    metrics=[AverageCardinalityPreserved(), DistanceClosestRecord(quantile=0.05)],\n",
    "    metric_kwargs = {'categorical_columns': ['has_rewards', 'room_type']}\n",
    ")\n",
    "\n",
    "benchmark_generators(\n",
    "    data_real=df_train,\n",
    "    data_holdout=df_holdout,    \n",
    "    generators=[MarginalGenerator(epsilon=0.1), CTGANGenerator(metadata=metadata)],\n",
    "    reviewer=reviewer,\n",
    "    path_out = paths.PATH_RESULTS / 'fake_hotel_guests',\n",
    ")"
   ],
   "id": "85fb01a38a245534",
   "outputs": [
    {
     "name": "stdout",
     "output_type": "stream",
     "text": [
      "Running generator MarginalGenerator\n",
      "Fitting generator MarginalGenerator on input data\n",
      "Marginal fitted: guest_email\n",
      "Marginal fitted: has_rewards\n",
      "Marginal fitted: room_type\n",
      "Marginal fitted: amenities_fee\n",
      "Marginal fitted: checkin_date\n",
      "Marginal fitted: checkout_date\n",
      "Marginal fitted: room_rate\n",
      "Marginal fitted: billing_address\n",
      "Marginal fitted: credit_card_number\n",
      "Generator fitted. Generating 400 records\n",
      "Column sampled: guest_email\n",
      "Column sampled: has_rewards\n",
      "Column sampled: room_type\n",
      "Column sampled: amenities_fee\n",
      "Column sampled: checkin_date\n",
      "Column sampled: checkout_date\n",
      "Column sampled: room_rate\n",
      "Column sampled: billing_address\n",
      "Column sampled: credit_card_number\n",
      "Saved synthetic data and generator for 0_MarginalGenerator at /Users/dknoors/Projects/synthesis-dk/crn-synth/results/fake_hotel_guests\n",
      "Running reviewer for 0_MarginalGenerator\n",
      "Running metric AverageCardinalityPreserved\n",
      "Running metric DistanceClosestRecord\n",
      "Running generator CTGANGenerator\n",
      "Fitting generator CTGANGenerator on input data\n",
      "Generator fitted. Generating 400 records\n",
      "Saved synthetic data and generator for 1_CTGANGenerator at /Users/dknoors/Projects/synthesis-dk/crn-synth/results/fake_hotel_guests\n",
      "Running reviewer for 1_CTGANGenerator\n",
      "Running metric AverageCardinalityPreserved\n",
      "Running metric DistanceClosestRecord\n",
      "Saved scores at /Users/dknoors/Projects/synthesis-dk/crn-synth/results/fake_hotel_guests/reports/scores.csv\n"
     ]
    }
   ],
   "execution_count": 10
  },
  {
   "metadata": {
    "ExecuteTime": {
     "end_time": "2024-04-23T08:02:05.922812Z",
     "start_time": "2024-04-23T08:02:05.918461Z"
    }
   },
   "cell_type": "code",
   "source": [
    "# load results\n",
    "scores_benchmark = pd.read_csv(paths.PATH_RESULTS / 'fake_hotel_guests/reports/scores.csv')\n",
    "scores_benchmark"
   ],
   "id": "292fe3099143a991",
   "outputs": [
    {
     "data": {
      "text/plain": [
       "                              metric  0_MarginalGenerator  1_CTGANGenerator\n",
       "0  AverageCardinalityPreserved_score             0.833333               1.0\n",
       "1      DistanceClosestRecord_holdout             1.000000               1.0\n",
       "2        DistanceClosestRecord_synth             0.003982               1.0"
      ],
      "text/html": [
       "<div>\n",
       "<style scoped>\n",
       "    .dataframe tbody tr th:only-of-type {\n",
       "        vertical-align: middle;\n",
       "    }\n",
       "\n",
       "    .dataframe tbody tr th {\n",
       "        vertical-align: top;\n",
       "    }\n",
       "\n",
       "    .dataframe thead th {\n",
       "        text-align: right;\n",
       "    }\n",
       "</style>\n",
       "<table border=\"1\" class=\"dataframe\">\n",
       "  <thead>\n",
       "    <tr style=\"text-align: right;\">\n",
       "      <th></th>\n",
       "      <th>metric</th>\n",
       "      <th>0_MarginalGenerator</th>\n",
       "      <th>1_CTGANGenerator</th>\n",
       "    </tr>\n",
       "  </thead>\n",
       "  <tbody>\n",
       "    <tr>\n",
       "      <th>0</th>\n",
       "      <td>AverageCardinalityPreserved_score</td>\n",
       "      <td>0.833333</td>\n",
       "      <td>1.0</td>\n",
       "    </tr>\n",
       "    <tr>\n",
       "      <th>1</th>\n",
       "      <td>DistanceClosestRecord_holdout</td>\n",
       "      <td>1.000000</td>\n",
       "      <td>1.0</td>\n",
       "    </tr>\n",
       "    <tr>\n",
       "      <th>2</th>\n",
       "      <td>DistanceClosestRecord_synth</td>\n",
       "      <td>0.003982</td>\n",
       "      <td>1.0</td>\n",
       "    </tr>\n",
       "  </tbody>\n",
       "</table>\n",
       "</div>"
      ]
     },
     "execution_count": 11,
     "metadata": {},
     "output_type": "execute_result"
    }
   ],
   "execution_count": 11
  },
  {
   "metadata": {},
   "cell_type": "code",
   "outputs": [],
   "execution_count": null,
   "source": "",
   "id": "123b22527258216e"
  }
 ],
 "metadata": {
  "kernelspec": {
   "display_name": "Python 3",
   "language": "python",
   "name": "python3"
  },
  "language_info": {
   "codemirror_mode": {
    "name": "ipython",
    "version": 2
   },
   "file_extension": ".py",
   "mimetype": "text/x-python",
   "name": "python",
   "nbconvert_exporter": "python",
   "pygments_lexer": "ipython2",
   "version": "2.7.6"
  }
 },
 "nbformat": 4,
 "nbformat_minor": 5
}
