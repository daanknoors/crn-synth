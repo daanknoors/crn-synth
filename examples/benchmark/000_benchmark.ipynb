{
 "cells": [
  {
   "cell_type": "markdown",
   "metadata": {},
   "source": [
    "# Benchmark\n",
    "Run a suite of metrics to evaluate the utility and privacy of synthetic data."
   ]
  },
  {
   "cell_type": "markdown",
   "metadata": {},
   "source": [
    "## Load libraries and define settings"
   ]
  },
  {
   "cell_type": "code",
   "metadata": {
    "ExecuteTime": {
     "end_time": "2024-04-10T08:48:29.843303Z",
     "start_time": "2024-04-10T08:48:29.840714Z"
    }
   },
   "source": [
    "# general dependencies\n",
    "import numpy as np\n",
    "import pandas as pd\n",
    "import warnings\n",
    "import matplotlib.pyplot as plt\n",
    "import seaborn as sns\n",
    "import sys\n",
    "import os\n",
    "from pathlib import Path"
   ],
   "outputs": [],
   "execution_count": 2
  },
  {
   "cell_type": "code",
   "metadata": {
    "ExecuteTime": {
     "end_time": "2024-04-10T08:48:30.511211Z",
     "start_time": "2024-04-10T08:48:30.059723Z"
    }
   },
   "source": [
    "# package\n",
    "from crnsynth.generators.marginal_generator import MarginalGenerator\n",
    "from crnsynth.generators.privbayes import PrivBayes\n",
    "\n",
    "from crnsynth.processing import preprocessing, generalization, postprocessing\n",
    "from crnsynth.synthesization import synthesization, pipeline\n",
    "from crnsynth.processing.generalization import NumericGeneralizationMech\n",
    "\n",
    "from crnsynth.metrics import PRIVACY_METRICS, ALL_METRICS\n",
    "from crnsynth.benchmark.benchmark import SyntheticDataBenchmark"
   ],
   "outputs": [],
   "execution_count": 3
  },
  {
   "cell_type": "code",
   "source": [
    "from examples.synthesization import adult_synthesis"
   ],
   "metadata": {
    "collapsed": false,
    "ExecuteTime": {
     "end_time": "2024-04-10T08:48:30.516320Z",
     "start_time": "2024-04-10T08:48:30.512512Z"
    }
   },
   "outputs": [],
   "execution_count": 4
  },
  {
   "cell_type": "code",
   "metadata": {
    "ExecuteTime": {
     "end_time": "2024-04-10T08:48:30.533680Z",
     "start_time": "2024-04-10T08:48:30.517104Z"
    }
   },
   "source": [
    "# ignore deprecation warning\n",
    "warnings.filterwarnings(\"ignore\", category=DeprecationWarning) \n",
    "\n",
    "# autoreload changes from local files\n",
    "%load_ext autoreload\n",
    "%autoreload 2\n",
    "\n",
    "# pandas show full output\n",
    "pd.set_option('display.max_rows', 500)\n",
    "pd.set_option('display.max_columns', 200)"
   ],
   "outputs": [],
   "execution_count": 5
  },
  {
   "cell_type": "code",
   "metadata": {
    "ExecuteTime": {
     "end_time": "2024-04-10T08:48:31.292576Z",
     "start_time": "2024-04-10T08:48:31.273050Z"
    }
   },
   "source": [
    "# privacy budget for differentially private algorithms\n",
    "EPSILON = 1\n",
    "\n",
    "# other params\n",
    "N_JOBS = 1\n",
    "RANDOM_STATE = 42\n",
    "VERBOSE = 1"
   ],
   "outputs": [],
   "execution_count": 6
  },
  {
   "cell_type": "markdown",
   "metadata": {},
   "source": [
    "## Load and process dataset"
   ]
  },
  {
   "cell_type": "code",
   "metadata": {
    "ExecuteTime": {
     "end_time": "2024-04-10T08:48:32.212033Z",
     "start_time": "2024-04-10T08:48:32.157591Z"
    }
   },
   "source": [
    "df_adult = pd.read_csv(adult_synthesis.PATH_ADULT)\n",
    "df_adult.head()\n"
   ],
   "outputs": [
    {
     "data": {
      "text/plain": [
       "   age         workclass  fnlwgt  education  education-num  \\\n",
       "0   39         State-gov   77516  Bachelors             13   \n",
       "1   50  Self-emp-not-inc   83311  Bachelors             13   \n",
       "2   38           Private  215646    HS-grad              9   \n",
       "3   53           Private  234721       11th              7   \n",
       "4   28           Private  338409  Bachelors             13   \n",
       "\n",
       "       marital-status         occupation   relationship   race     sex  \\\n",
       "0       Never-married       Adm-clerical  Not-in-family  White    Male   \n",
       "1  Married-civ-spouse    Exec-managerial        Husband  White    Male   \n",
       "2            Divorced  Handlers-cleaners  Not-in-family  White    Male   \n",
       "3  Married-civ-spouse  Handlers-cleaners        Husband  Black    Male   \n",
       "4  Married-civ-spouse     Prof-specialty           Wife  Black  Female   \n",
       "\n",
       "   capital-gain  capital-loss  hours-per-week native-country income  \n",
       "0          2174             0              40  United-States  <=50K  \n",
       "1             0             0              13  United-States  <=50K  \n",
       "2             0             0              40  United-States  <=50K  \n",
       "3             0             0              40  United-States  <=50K  \n",
       "4             0             0              40           Cuba  <=50K  "
      ],
      "text/html": [
       "<div>\n",
       "<style scoped>\n",
       "    .dataframe tbody tr th:only-of-type {\n",
       "        vertical-align: middle;\n",
       "    }\n",
       "\n",
       "    .dataframe tbody tr th {\n",
       "        vertical-align: top;\n",
       "    }\n",
       "\n",
       "    .dataframe thead th {\n",
       "        text-align: right;\n",
       "    }\n",
       "</style>\n",
       "<table border=\"1\" class=\"dataframe\">\n",
       "  <thead>\n",
       "    <tr style=\"text-align: right;\">\n",
       "      <th></th>\n",
       "      <th>age</th>\n",
       "      <th>workclass</th>\n",
       "      <th>fnlwgt</th>\n",
       "      <th>education</th>\n",
       "      <th>education-num</th>\n",
       "      <th>marital-status</th>\n",
       "      <th>occupation</th>\n",
       "      <th>relationship</th>\n",
       "      <th>race</th>\n",
       "      <th>sex</th>\n",
       "      <th>capital-gain</th>\n",
       "      <th>capital-loss</th>\n",
       "      <th>hours-per-week</th>\n",
       "      <th>native-country</th>\n",
       "      <th>income</th>\n",
       "    </tr>\n",
       "  </thead>\n",
       "  <tbody>\n",
       "    <tr>\n",
       "      <th>0</th>\n",
       "      <td>39</td>\n",
       "      <td>State-gov</td>\n",
       "      <td>77516</td>\n",
       "      <td>Bachelors</td>\n",
       "      <td>13</td>\n",
       "      <td>Never-married</td>\n",
       "      <td>Adm-clerical</td>\n",
       "      <td>Not-in-family</td>\n",
       "      <td>White</td>\n",
       "      <td>Male</td>\n",
       "      <td>2174</td>\n",
       "      <td>0</td>\n",
       "      <td>40</td>\n",
       "      <td>United-States</td>\n",
       "      <td>&lt;=50K</td>\n",
       "    </tr>\n",
       "    <tr>\n",
       "      <th>1</th>\n",
       "      <td>50</td>\n",
       "      <td>Self-emp-not-inc</td>\n",
       "      <td>83311</td>\n",
       "      <td>Bachelors</td>\n",
       "      <td>13</td>\n",
       "      <td>Married-civ-spouse</td>\n",
       "      <td>Exec-managerial</td>\n",
       "      <td>Husband</td>\n",
       "      <td>White</td>\n",
       "      <td>Male</td>\n",
       "      <td>0</td>\n",
       "      <td>0</td>\n",
       "      <td>13</td>\n",
       "      <td>United-States</td>\n",
       "      <td>&lt;=50K</td>\n",
       "    </tr>\n",
       "    <tr>\n",
       "      <th>2</th>\n",
       "      <td>38</td>\n",
       "      <td>Private</td>\n",
       "      <td>215646</td>\n",
       "      <td>HS-grad</td>\n",
       "      <td>9</td>\n",
       "      <td>Divorced</td>\n",
       "      <td>Handlers-cleaners</td>\n",
       "      <td>Not-in-family</td>\n",
       "      <td>White</td>\n",
       "      <td>Male</td>\n",
       "      <td>0</td>\n",
       "      <td>0</td>\n",
       "      <td>40</td>\n",
       "      <td>United-States</td>\n",
       "      <td>&lt;=50K</td>\n",
       "    </tr>\n",
       "    <tr>\n",
       "      <th>3</th>\n",
       "      <td>53</td>\n",
       "      <td>Private</td>\n",
       "      <td>234721</td>\n",
       "      <td>11th</td>\n",
       "      <td>7</td>\n",
       "      <td>Married-civ-spouse</td>\n",
       "      <td>Handlers-cleaners</td>\n",
       "      <td>Husband</td>\n",
       "      <td>Black</td>\n",
       "      <td>Male</td>\n",
       "      <td>0</td>\n",
       "      <td>0</td>\n",
       "      <td>40</td>\n",
       "      <td>United-States</td>\n",
       "      <td>&lt;=50K</td>\n",
       "    </tr>\n",
       "    <tr>\n",
       "      <th>4</th>\n",
       "      <td>28</td>\n",
       "      <td>Private</td>\n",
       "      <td>338409</td>\n",
       "      <td>Bachelors</td>\n",
       "      <td>13</td>\n",
       "      <td>Married-civ-spouse</td>\n",
       "      <td>Prof-specialty</td>\n",
       "      <td>Wife</td>\n",
       "      <td>Black</td>\n",
       "      <td>Female</td>\n",
       "      <td>0</td>\n",
       "      <td>0</td>\n",
       "      <td>40</td>\n",
       "      <td>Cuba</td>\n",
       "      <td>&lt;=50K</td>\n",
       "    </tr>\n",
       "  </tbody>\n",
       "</table>\n",
       "</div>"
      ]
     },
     "execution_count": 7,
     "metadata": {},
     "output_type": "execute_result"
    }
   ],
   "execution_count": 7
  },
  {
   "cell_type": "markdown",
   "metadata": {},
   "source": [
    "## Generate\n",
    "Here we show how step by step how to generate synthetic data."
   ]
  },
  {
   "cell_type": "code",
   "metadata": {
    "ExecuteTime": {
     "end_time": "2024-04-10T08:48:34.212196Z",
     "start_time": "2024-04-10T08:48:33.231172Z"
    }
   },
   "source": [
    "df = df_adult.copy()\n",
    "\n",
    "# process data\n",
    "df = adult_synthesis.preprocess_real_data(df)\n",
    "\n",
    "# split data\n",
    "df_train, df_holdout = preprocessing.split_train_holdout(df, target_column='income', holdout_size=0.2, random_state=RANDOM_STATE)\n",
    "\n",
    "# define your generator \n",
    "generator = PrivBayes(epsilon=EPSILON)\n",
    "\n",
    "# train the generator on the input data\n",
    "generator.fit(df_train)\n",
    "\n",
    "# generate synthetic data with a desired number of rows\n",
    "df_synth = generator.generate(n_records=1000)\n",
    "\n",
    "# post process the synthetic data\n",
    "df_synth = adult_synthesis.postprocess_synthetic_data(df_synth)\n",
    "\n",
    "df_synth.head()"
   ],
   "outputs": [
    {
     "name": "stdout",
     "output_type": "stream",
     "text": [
      "1/11 - Root of network: race\n",
      "\n",
      "2/11 - Evaluating next attribute to add to network\n",
      "Number of AttributeParentPair candidates: 10\n",
      "Selected attribute: 'occupation' - with parents: ('race',)\n",
      "\n",
      "3/11 - Evaluating next attribute to add to network\n",
      "Number of AttributeParentPair candidates: 12\n",
      "Selected attribute: 'workclass' - with parents: ('occupation',)\n",
      "\n",
      "4/11 - Evaluating next attribute to add to network\n",
      "Number of AttributeParentPair candidates: 15\n",
      "Selected attribute: 'sex' - with parents: ('occupation', 'race')\n",
      "\n",
      "5/11 - Evaluating next attribute to add to network\n",
      "Number of AttributeParentPair candidates: 14\n",
      "Selected attribute: 'relationship' - with parents: ('sex', 'race')\n",
      "\n",
      "6/11 - Evaluating next attribute to add to network\n",
      "Number of AttributeParentPair candidates: 16\n",
      "Selected attribute: 'marital-status' - with parents: ('sex', 'relationship')\n",
      "\n",
      "7/11 - Evaluating next attribute to add to network\n",
      "Number of AttributeParentPair candidates: 16\n",
      "Selected attribute: 'income' - with parents: ('occupation', 'relationship')\n",
      "\n",
      "8/11 - Evaluating next attribute to add to network\n",
      "Number of AttributeParentPair candidates: 12\n",
      "Selected attribute: 'education' - with parents: ('relationship', 'income')\n",
      "\n",
      "9/11 - Evaluating next attribute to add to network\n",
      "Number of AttributeParentPair candidates: 5\n",
      "Selected attribute: 'age' - with parents: ('income',)\n",
      "\n",
      "10/11 - Evaluating next attribute to add to network\n",
      "Number of AttributeParentPair candidates: 3\n",
      "Selected attribute: 'hours-per-week' - with parents: ('income',)\n",
      "\n",
      "11/11 - Evaluating next attribute to add to network\n",
      "Number of AttributeParentPair candidates: 1\n",
      "Selected attribute: 'native-country' - with parents: ('sex', 'income')\n",
      "\n",
      "Learned Network Structure\n",
      "\n",
      "Learning conditional probabilities: race - with parents None ~ estimated size: 5\n",
      "Learning conditional probabilities: occupation - with parents ('race',) ~ estimated size: 75\n",
      "Learning conditional probabilities: workclass - with parents ('occupation',) ~ estimated size: 135\n",
      "Learning conditional probabilities: sex - with parents ('occupation', 'race') ~ estimated size: 150\n",
      "Learning conditional probabilities: relationship - with parents ('sex', 'race') ~ estimated size: 60\n",
      "Learning conditional probabilities: marital-status - with parents ('sex', 'relationship') ~ estimated size: 84\n",
      "Learning conditional probabilities: income - with parents ('occupation', 'relationship') ~ estimated size: 180\n",
      "Learning conditional probabilities: education - with parents ('relationship', 'income') ~ estimated size: 192\n",
      "Learning conditional probabilities: age - with parents ('income',) ~ estimated size: 142\n",
      "Learning conditional probabilities: hours-per-week - with parents ('income',) ~ estimated size: 188\n",
      "Learning conditional probabilities: native-country - with parents ('sex', 'income') ~ estimated size: 168\n",
      "Number of records generated: 592 / 1000"
     ]
    },
    {
     "name": "stderr",
     "output_type": "stream",
     "text": [
      "/Users/dknoors/miniconda3/envs/crnsynth/lib/python3.9/site-packages/thomas/core/factors/cpt.py:65: RuntimeWarning: invalid value encountered in divide\n",
      "  self.values = self.values / row_sum\n",
      "/Users/dknoors/miniconda3/envs/crnsynth/lib/python3.9/site-packages/thomas/core/factors/cpt.py:65: RuntimeWarning: invalid value encountered in divide\n",
      "  self.values = self.values / row_sum\n"
     ]
    },
    {
     "name": "stdout",
     "output_type": "stream",
     "text": [
      "Number of records generated: 1000 / 1000\n",
      "Synthetic Data Generated\n",
      "\n"
     ]
    },
    {
     "data": {
      "text/plain": [
       "   age  hours-per-week  workclass     education      marital-status  \\\n",
       "0   30              43    Private       HS-grad  Married-civ-spouse   \n",
       "1   41              51    Private  Some-college       Never-married   \n",
       "2   23              30    Private  Some-college       Never-married   \n",
       "3   21              65  Local-gov       HS-grad       Never-married   \n",
       "4   57              40    Private     Bachelors  Married-civ-spouse   \n",
       "\n",
       "         occupation   relationship   race     sex native-country income  \n",
       "0      Craft-repair        Husband  White    Male  United-States  <=50K  \n",
       "1      Adm-clerical  Not-in-family  White  Female  United-States  <=50K  \n",
       "2   Farming-fishing  Not-in-family  White    Male  United-States  <=50K  \n",
       "3      Craft-repair  Not-in-family  White    Male  United-States  <=50K  \n",
       "4  Transport-moving        Husband  White    Male  United-States  <=50K  "
      ],
      "text/html": [
       "<div>\n",
       "<style scoped>\n",
       "    .dataframe tbody tr th:only-of-type {\n",
       "        vertical-align: middle;\n",
       "    }\n",
       "\n",
       "    .dataframe tbody tr th {\n",
       "        vertical-align: top;\n",
       "    }\n",
       "\n",
       "    .dataframe thead th {\n",
       "        text-align: right;\n",
       "    }\n",
       "</style>\n",
       "<table border=\"1\" class=\"dataframe\">\n",
       "  <thead>\n",
       "    <tr style=\"text-align: right;\">\n",
       "      <th></th>\n",
       "      <th>age</th>\n",
       "      <th>hours-per-week</th>\n",
       "      <th>workclass</th>\n",
       "      <th>education</th>\n",
       "      <th>marital-status</th>\n",
       "      <th>occupation</th>\n",
       "      <th>relationship</th>\n",
       "      <th>race</th>\n",
       "      <th>sex</th>\n",
       "      <th>native-country</th>\n",
       "      <th>income</th>\n",
       "    </tr>\n",
       "  </thead>\n",
       "  <tbody>\n",
       "    <tr>\n",
       "      <th>0</th>\n",
       "      <td>30</td>\n",
       "      <td>43</td>\n",
       "      <td>Private</td>\n",
       "      <td>HS-grad</td>\n",
       "      <td>Married-civ-spouse</td>\n",
       "      <td>Craft-repair</td>\n",
       "      <td>Husband</td>\n",
       "      <td>White</td>\n",
       "      <td>Male</td>\n",
       "      <td>United-States</td>\n",
       "      <td>&lt;=50K</td>\n",
       "    </tr>\n",
       "    <tr>\n",
       "      <th>1</th>\n",
       "      <td>41</td>\n",
       "      <td>51</td>\n",
       "      <td>Private</td>\n",
       "      <td>Some-college</td>\n",
       "      <td>Never-married</td>\n",
       "      <td>Adm-clerical</td>\n",
       "      <td>Not-in-family</td>\n",
       "      <td>White</td>\n",
       "      <td>Female</td>\n",
       "      <td>United-States</td>\n",
       "      <td>&lt;=50K</td>\n",
       "    </tr>\n",
       "    <tr>\n",
       "      <th>2</th>\n",
       "      <td>23</td>\n",
       "      <td>30</td>\n",
       "      <td>Private</td>\n",
       "      <td>Some-college</td>\n",
       "      <td>Never-married</td>\n",
       "      <td>Farming-fishing</td>\n",
       "      <td>Not-in-family</td>\n",
       "      <td>White</td>\n",
       "      <td>Male</td>\n",
       "      <td>United-States</td>\n",
       "      <td>&lt;=50K</td>\n",
       "    </tr>\n",
       "    <tr>\n",
       "      <th>3</th>\n",
       "      <td>21</td>\n",
       "      <td>65</td>\n",
       "      <td>Local-gov</td>\n",
       "      <td>HS-grad</td>\n",
       "      <td>Never-married</td>\n",
       "      <td>Craft-repair</td>\n",
       "      <td>Not-in-family</td>\n",
       "      <td>White</td>\n",
       "      <td>Male</td>\n",
       "      <td>United-States</td>\n",
       "      <td>&lt;=50K</td>\n",
       "    </tr>\n",
       "    <tr>\n",
       "      <th>4</th>\n",
       "      <td>57</td>\n",
       "      <td>40</td>\n",
       "      <td>Private</td>\n",
       "      <td>Bachelors</td>\n",
       "      <td>Married-civ-spouse</td>\n",
       "      <td>Transport-moving</td>\n",
       "      <td>Husband</td>\n",
       "      <td>White</td>\n",
       "      <td>Male</td>\n",
       "      <td>United-States</td>\n",
       "      <td>&lt;=50K</td>\n",
       "    </tr>\n",
       "  </tbody>\n",
       "</table>\n",
       "</div>"
      ]
     },
     "execution_count": 8,
     "metadata": {},
     "output_type": "execute_result"
    }
   ],
   "execution_count": 8
  },
  {
   "cell_type": "code",
   "source": [
    "from crnsynth.metrics import PRIVACY_METRICS\n",
    "\n",
    "PRIVACY_METRICS"
   ],
   "metadata": {
    "collapsed": false,
    "ExecuteTime": {
     "end_time": "2024-04-10T08:48:35.461582Z",
     "start_time": "2024-04-10T08:48:35.440834Z"
    }
   },
   "outputs": [
    {
     "data": {
      "text/plain": [
       "[DistanceClosestRecord({'encoder': 'ordinal', 'quantile': 0.5, 'metric': 'gower', 'categorical_columns': None}),\n",
       " NearestNeighborDistanceRatio({'encoder': 'ordinal', 'quantile': 0.5, 'metric': 'gower', 'n_neighbors': 2, 'categorical_columns': None}),\n",
       " CategoricalCAPScore({'encoder': 'ordinal', 'categorical_columns': None, 'frac_sensitive': 0.5, 'random_state': None})]"
      ]
     },
     "execution_count": 9,
     "metadata": {},
     "output_type": "execute_result"
    }
   ],
   "execution_count": 9
  },
  {
   "cell_type": "code",
   "source": [
    "PRIVACY_METRICS "
   ],
   "metadata": {
    "collapsed": false,
    "ExecuteTime": {
     "end_time": "2024-04-10T08:48:36.580456Z",
     "start_time": "2024-04-10T08:48:36.561935Z"
    }
   },
   "outputs": [
    {
     "data": {
      "text/plain": [
       "[DistanceClosestRecord({'encoder': 'ordinal', 'quantile': 0.5, 'metric': 'gower', 'categorical_columns': None}),\n",
       " NearestNeighborDistanceRatio({'encoder': 'ordinal', 'quantile': 0.5, 'metric': 'gower', 'n_neighbors': 2, 'categorical_columns': None}),\n",
       " CategoricalCAPScore({'encoder': 'ordinal', 'categorical_columns': None, 'frac_sensitive': 0.5, 'random_state': None})]"
      ]
     },
     "execution_count": 10,
     "metadata": {},
     "output_type": "execute_result"
    }
   ],
   "execution_count": 10
  },
  {
   "cell_type": "markdown",
   "source": [
    "## Benchmark \n",
    "Run a suite of metrics to evaluate the utility and privacy of synthetic data."
   ],
   "metadata": {
    "collapsed": false
   }
  },
  {
   "cell_type": "code",
   "source": [
    "# metrics that have any of the parameters below are updated with the following values\n",
    "# alternatively, instead of setting a global value, you can set the values for each metric individually as well\n",
    "metric_kwargs = {\n",
    "    'categorical_columns': adult_synthesis.NOMINAL_COLUMNS,\n",
    "    'frac_sensitive': 0.5,\n",
    "    'random_state': RANDOM_STATE,\n",
    "}\n",
    "\n",
    "# metrics can either be a list or dictionary\n",
    "metrics = PRIVACY_METRICS\n",
    "\n",
    "benchmark = SyntheticDataBenchmark(metrics=metrics, metric_kwargs=metric_kwargs, encoder='ordinal', n_jobs=-1, verbose=VERBOSE)\n",
    "scores = benchmark.compute(df_train, df_synth, df_holdout)\n",
    "scores"
   ],
   "metadata": {
    "collapsed": false,
    "ExecuteTime": {
     "end_time": "2024-04-10T08:52:29.696196Z",
     "start_time": "2024-04-10T08:52:14.082225Z"
    }
   },
   "outputs": [
    {
     "data": {
      "text/plain": [
       "{'distance_closest_record': {'holdout': 0.0031013367760234613,\n",
       "  'synth': 0.07257493565662783},\n",
       " 'nearest_neighbor_distance_ratio': {'holdout': 0.6242069835342642,\n",
       "  'synth': 0.8121807792011112},\n",
       " 'cap_categorical_score': {'score': 0.9253376479200569}}"
      ]
     },
     "execution_count": 12,
     "metadata": {},
     "output_type": "execute_result"
    }
   ],
   "execution_count": 12
  },
  {
   "cell_type": "markdown",
   "source": [
    "After computation scores can also be accessed via the `scores_` attribute."
   ],
   "metadata": {
    "collapsed": false
   }
  },
  {
   "cell_type": "code",
   "source": [
    "benchmark1 = SyntheticDataBenchmark(metrics=metrics, metric_kwargs=metric_kwargs, encoder='ordinal', n_jobs=1, verbose=VERBOSE)\n",
    "scores1 = benchmark1.compute(df_train, df_synth, df_holdout)\n",
    "\n",
    "benchmark1.scores_"
   ],
   "metadata": {
    "collapsed": false,
    "ExecuteTime": {
     "end_time": "2024-04-10T12:14:00.011770Z",
     "start_time": "2024-04-10T12:13:24.052804Z"
    }
   },
   "outputs": [
    {
     "name": "stdout",
     "output_type": "stream",
     "text": [
      "Running metric distance_closest_record\n",
      "Running metric nearest_neighbor_distance_ratio\n",
      "Running metric cap_categorical_score\n"
     ]
    },
    {
     "data": {
      "text/plain": [
       "{'distance_closest_record': {'holdout': 0.0031013367760234613,\n",
       "  'synth': 0.07257493565662783},\n",
       " 'nearest_neighbor_distance_ratio': {'holdout': 0.6242069835342642,\n",
       "  'synth': 0.8121807792011112},\n",
       " 'cap_categorical_score': {'score': 0.906064766169854}}"
      ]
     },
     "execution_count": 18,
     "metadata": {},
     "output_type": "execute_result"
    }
   ],
   "execution_count": 18
  },
  {
   "metadata": {
    "ExecuteTime": {
     "end_time": "2024-04-10T12:15:01.248784Z",
     "start_time": "2024-04-10T12:15:01.228411Z"
    }
   },
   "cell_type": "code",
   "source": "scores1",
   "outputs": [
    {
     "data": {
      "text/plain": [
       "{'distance_closest_record': {'holdout': 0.0031013367760234613,\n",
       "  'synth': 0.07257493565662783},\n",
       " 'nearest_neighbor_distance_ratio': {'holdout': 0.6242069835342642,\n",
       "  'synth': 0.8121807792011112},\n",
       " 'cap_categorical_score': {'score': 0.906064766169854}}"
      ]
     },
     "execution_count": 19,
     "metadata": {},
     "output_type": "execute_result"
    }
   ],
   "execution_count": 19
  },
  {
   "metadata": {
    "ExecuteTime": {
     "end_time": "2024-04-10T12:12:25.860374Z",
     "start_time": "2024-04-10T12:12:25.839678Z"
    }
   },
   "cell_type": "code",
   "source": "benchmark1.scores_",
   "outputs": [
    {
     "data": {
      "text/plain": [
       "{}"
      ]
     },
     "execution_count": 17,
     "metadata": {},
     "output_type": "execute_result"
    }
   ],
   "execution_count": 17
  },
  {
   "cell_type": "markdown",
   "source": [
    "You can see how the metrics within the `SyntheticDataBenchmark` class are affected by the `metic_kwargs` parameters and computation on the data."
   ],
   "metadata": {
    "collapsed": false
   }
  },
  {
   "cell_type": "code",
   "outputs": [
    {
     "data": {
      "text/plain": "{'privacy': [DistanceClosestRecord({'encoder': None, 'quantile': 0.5, 'metric': 'gower', 'categorical_columns': ['workclass', 'education', 'marital-status', 'occupation', 'relationship', 'race', 'sex', 'native-country', 'income']}),\n  NearestNeighborDistanceRatio({'encoder': None, 'quantile': 0.5, 'metric': 'gower', 'n_neighbors': 2, 'categorical_columns': ['workclass', 'education', 'marital-status', 'occupation', 'relationship', 'race', 'sex', 'native-country', 'income']}),\n  CategoricalCAPScore({'encoder': None, 'categorical_columns': ['workclass', 'education', 'marital-status', 'occupation', 'relationship', 'race', 'sex', 'native-country', 'income'], 'frac_sensitive': 0.5, 'random_state': 42})]}"
     },
     "execution_count": 21,
     "metadata": {},
     "output_type": "execute_result"
    }
   ],
   "source": [
    "benchmark.metrics"
   ],
   "metadata": {
    "collapsed": false,
    "ExecuteTime": {
     "end_time": "2024-04-09T10:17:33.300889Z",
     "start_time": "2024-04-09T10:17:33.283383Z"
    }
   },
   "execution_count": 21
  }
 ],
 "metadata": {
  "kernelspec": {
   "display_name": "synth",
   "language": "python",
   "name": "python3"
  },
  "language_info": {
   "codemirror_mode": {
    "name": "ipython",
    "version": 3
   },
   "file_extension": ".py",
   "mimetype": "text/x-python",
   "name": "python",
   "nbconvert_exporter": "python",
   "pygments_lexer": "ipython3",
   "version": "3.9.undefined"
  },
  "orig_nbformat": 4
 },
 "nbformat": 4,
 "nbformat_minor": 2
}
