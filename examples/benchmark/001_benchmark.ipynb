{
 "cells": [
  {
   "cell_type": "markdown",
   "metadata": {},
   "source": [
    "# Synthetic Data Benchmark\n",
    "In the previous notebook we show how we can review a synthetic dataset by running a list of metrics.\n",
    "\n",
    "We can now benchmark its performance by comparing the reviews of multiple synthetic datasets."
   ]
  },
  {
   "cell_type": "markdown",
   "metadata": {},
   "source": [
    "## Load libraries and define settings"
   ]
  },
  {
   "cell_type": "code",
   "metadata": {
    "ExecuteTime": {
     "end_time": "2024-04-11T12:43:27.480313Z",
     "start_time": "2024-04-11T12:43:27.477327Z"
    }
   },
   "source": [
    "# general dependencies\n",
    "import numpy as np\n",
    "import pandas as pd\n",
    "import warnings\n",
    "import matplotlib.pyplot as plt\n",
    "import seaborn as sns\n",
    "import sys\n",
    "import os\n",
    "from pathlib import Path"
   ],
   "outputs": [],
   "execution_count": 3
  },
  {
   "cell_type": "code",
   "metadata": {
    "ExecuteTime": {
     "end_time": "2024-04-11T12:43:28.119596Z",
     "start_time": "2024-04-11T12:43:27.671238Z"
    }
   },
   "source": [
    "# package\n",
    "from crnsynth.generators.privbayes import PrivBayes\n",
    "\n",
    "from crnsynth.processing import preprocessing\n",
    "\n",
    "from crnsynth.metrics import PRIVACY_METRICS, ALL_METRICS\n",
    "from crnsynth.benchmark.review import SyntheticDataReview\n",
    "from crnsynth.benchmark.benchmark import SyntheticDataBenchmark"
   ],
   "outputs": [],
   "execution_count": 4
  },
  {
   "cell_type": "code",
   "source": [
    "from examples.synthesization import adult_synthesis"
   ],
   "metadata": {
    "collapsed": false,
    "ExecuteTime": {
     "end_time": "2024-04-11T12:43:28.124039Z",
     "start_time": "2024-04-11T12:43:28.120500Z"
    }
   },
   "outputs": [],
   "execution_count": 5
  },
  {
   "cell_type": "code",
   "metadata": {
    "ExecuteTime": {
     "end_time": "2024-04-11T12:43:28.143915Z",
     "start_time": "2024-04-11T12:43:28.124819Z"
    }
   },
   "source": [
    "# ignore deprecation warning\n",
    "warnings.filterwarnings(\"ignore\", category=DeprecationWarning) \n",
    "\n",
    "# autoreload changes from local files\n",
    "%load_ext autoreload\n",
    "%autoreload 2\n",
    "\n",
    "# pandas show full output\n",
    "pd.set_option('display.max_rows', 500)\n",
    "pd.set_option('display.max_columns', 200)"
   ],
   "outputs": [],
   "execution_count": 6
  },
  {
   "cell_type": "code",
   "metadata": {
    "ExecuteTime": {
     "end_time": "2024-04-11T12:43:28.158692Z",
     "start_time": "2024-04-11T12:43:28.145029Z"
    }
   },
   "source": [
    "# privacy budget for differentially private algorithms\n",
    "EPSILON = 1\n",
    "\n",
    "# other params\n",
    "RANDOM_STATE = 42\n",
    "VERBOSE = 1"
   ],
   "outputs": [],
   "execution_count": 7
  },
  {
   "cell_type": "markdown",
   "metadata": {},
   "source": [
    "## Load and process dataset"
   ]
  },
  {
   "cell_type": "code",
   "metadata": {
    "ExecuteTime": {
     "end_time": "2024-04-11T12:43:28.874938Z",
     "start_time": "2024-04-11T12:43:28.812873Z"
    }
   },
   "source": [
    "df_adult = pd.read_csv(adult_synthesis.PATH_ADULT)\n",
    "df_adult.head()\n"
   ],
   "outputs": [
    {
     "data": {
      "text/plain": [
       "   age         workclass  fnlwgt  education  education-num  \\\n",
       "0   39         State-gov   77516  Bachelors             13   \n",
       "1   50  Self-emp-not-inc   83311  Bachelors             13   \n",
       "2   38           Private  215646    HS-grad              9   \n",
       "3   53           Private  234721       11th              7   \n",
       "4   28           Private  338409  Bachelors             13   \n",
       "\n",
       "       marital-status         occupation   relationship   race     sex  \\\n",
       "0       Never-married       Adm-clerical  Not-in-family  White    Male   \n",
       "1  Married-civ-spouse    Exec-managerial        Husband  White    Male   \n",
       "2            Divorced  Handlers-cleaners  Not-in-family  White    Male   \n",
       "3  Married-civ-spouse  Handlers-cleaners        Husband  Black    Male   \n",
       "4  Married-civ-spouse     Prof-specialty           Wife  Black  Female   \n",
       "\n",
       "   capital-gain  capital-loss  hours-per-week native-country income  \n",
       "0          2174             0              40  United-States  <=50K  \n",
       "1             0             0              13  United-States  <=50K  \n",
       "2             0             0              40  United-States  <=50K  \n",
       "3             0             0              40  United-States  <=50K  \n",
       "4             0             0              40           Cuba  <=50K  "
      ],
      "text/html": [
       "<div>\n",
       "<style scoped>\n",
       "    .dataframe tbody tr th:only-of-type {\n",
       "        vertical-align: middle;\n",
       "    }\n",
       "\n",
       "    .dataframe tbody tr th {\n",
       "        vertical-align: top;\n",
       "    }\n",
       "\n",
       "    .dataframe thead th {\n",
       "        text-align: right;\n",
       "    }\n",
       "</style>\n",
       "<table border=\"1\" class=\"dataframe\">\n",
       "  <thead>\n",
       "    <tr style=\"text-align: right;\">\n",
       "      <th></th>\n",
       "      <th>age</th>\n",
       "      <th>workclass</th>\n",
       "      <th>fnlwgt</th>\n",
       "      <th>education</th>\n",
       "      <th>education-num</th>\n",
       "      <th>marital-status</th>\n",
       "      <th>occupation</th>\n",
       "      <th>relationship</th>\n",
       "      <th>race</th>\n",
       "      <th>sex</th>\n",
       "      <th>capital-gain</th>\n",
       "      <th>capital-loss</th>\n",
       "      <th>hours-per-week</th>\n",
       "      <th>native-country</th>\n",
       "      <th>income</th>\n",
       "    </tr>\n",
       "  </thead>\n",
       "  <tbody>\n",
       "    <tr>\n",
       "      <th>0</th>\n",
       "      <td>39</td>\n",
       "      <td>State-gov</td>\n",
       "      <td>77516</td>\n",
       "      <td>Bachelors</td>\n",
       "      <td>13</td>\n",
       "      <td>Never-married</td>\n",
       "      <td>Adm-clerical</td>\n",
       "      <td>Not-in-family</td>\n",
       "      <td>White</td>\n",
       "      <td>Male</td>\n",
       "      <td>2174</td>\n",
       "      <td>0</td>\n",
       "      <td>40</td>\n",
       "      <td>United-States</td>\n",
       "      <td>&lt;=50K</td>\n",
       "    </tr>\n",
       "    <tr>\n",
       "      <th>1</th>\n",
       "      <td>50</td>\n",
       "      <td>Self-emp-not-inc</td>\n",
       "      <td>83311</td>\n",
       "      <td>Bachelors</td>\n",
       "      <td>13</td>\n",
       "      <td>Married-civ-spouse</td>\n",
       "      <td>Exec-managerial</td>\n",
       "      <td>Husband</td>\n",
       "      <td>White</td>\n",
       "      <td>Male</td>\n",
       "      <td>0</td>\n",
       "      <td>0</td>\n",
       "      <td>13</td>\n",
       "      <td>United-States</td>\n",
       "      <td>&lt;=50K</td>\n",
       "    </tr>\n",
       "    <tr>\n",
       "      <th>2</th>\n",
       "      <td>38</td>\n",
       "      <td>Private</td>\n",
       "      <td>215646</td>\n",
       "      <td>HS-grad</td>\n",
       "      <td>9</td>\n",
       "      <td>Divorced</td>\n",
       "      <td>Handlers-cleaners</td>\n",
       "      <td>Not-in-family</td>\n",
       "      <td>White</td>\n",
       "      <td>Male</td>\n",
       "      <td>0</td>\n",
       "      <td>0</td>\n",
       "      <td>40</td>\n",
       "      <td>United-States</td>\n",
       "      <td>&lt;=50K</td>\n",
       "    </tr>\n",
       "    <tr>\n",
       "      <th>3</th>\n",
       "      <td>53</td>\n",
       "      <td>Private</td>\n",
       "      <td>234721</td>\n",
       "      <td>11th</td>\n",
       "      <td>7</td>\n",
       "      <td>Married-civ-spouse</td>\n",
       "      <td>Handlers-cleaners</td>\n",
       "      <td>Husband</td>\n",
       "      <td>Black</td>\n",
       "      <td>Male</td>\n",
       "      <td>0</td>\n",
       "      <td>0</td>\n",
       "      <td>40</td>\n",
       "      <td>United-States</td>\n",
       "      <td>&lt;=50K</td>\n",
       "    </tr>\n",
       "    <tr>\n",
       "      <th>4</th>\n",
       "      <td>28</td>\n",
       "      <td>Private</td>\n",
       "      <td>338409</td>\n",
       "      <td>Bachelors</td>\n",
       "      <td>13</td>\n",
       "      <td>Married-civ-spouse</td>\n",
       "      <td>Prof-specialty</td>\n",
       "      <td>Wife</td>\n",
       "      <td>Black</td>\n",
       "      <td>Female</td>\n",
       "      <td>0</td>\n",
       "      <td>0</td>\n",
       "      <td>40</td>\n",
       "      <td>Cuba</td>\n",
       "      <td>&lt;=50K</td>\n",
       "    </tr>\n",
       "  </tbody>\n",
       "</table>\n",
       "</div>"
      ]
     },
     "execution_count": 8,
     "metadata": {},
     "output_type": "execute_result"
    }
   ],
   "execution_count": 8
  },
  {
   "cell_type": "markdown",
   "metadata": {},
   "source": [
    "## Generate\n",
    "Here we show how step by step how to generate synthetic data."
   ]
  },
  {
   "cell_type": "code",
   "metadata": {
    "ExecuteTime": {
     "end_time": "2024-04-11T12:43:31.349140Z",
     "start_time": "2024-04-11T12:43:30.285385Z"
    }
   },
   "source": [
    "df = df_adult.copy()\n",
    "\n",
    "# process data\n",
    "df = adult_synthesis.preprocess_real_data(df)\n",
    "\n",
    "# split data\n",
    "df_train, df_holdout = preprocessing.split_train_holdout(df, target_column='income', holdout_size=0.2, random_state=RANDOM_STATE)\n",
    "\n",
    "# define your generator \n",
    "generator = PrivBayes(epsilon=EPSILON)\n",
    "\n",
    "# train the generator on the input data\n",
    "generator.fit(df_train)\n",
    "\n",
    "# generate synthetic data with a desired number of rows\n",
    "df_synth = generator.generate(n_records=1000)\n",
    "\n",
    "# post process the synthetic data\n",
    "df_synth = adult_synthesis.postprocess_synthetic_data(df_synth)\n",
    "\n",
    "df_synth.head()"
   ],
   "outputs": [
    {
     "name": "stdout",
     "output_type": "stream",
     "text": [
      "1/11 - Root of network: sex\n",
      "\n",
      "2/11 - Evaluating next attribute to add to network\n",
      "Number of AttributeParentPair candidates: 10\n",
      "Selected attribute: 'relationship' - with parents: ('sex',)\n",
      "\n",
      "3/11 - Evaluating next attribute to add to network\n",
      "Number of AttributeParentPair candidates: 9\n",
      "Selected attribute: 'marital-status' - with parents: ('relationship', 'sex')\n",
      "\n",
      "4/11 - Evaluating next attribute to add to network\n",
      "Number of AttributeParentPair candidates: 12\n",
      "Selected attribute: 'occupation' - with parents: ('relationship', 'sex')\n",
      "\n",
      "5/11 - Evaluating next attribute to add to network\n",
      "Number of AttributeParentPair candidates: 14\n",
      "Selected attribute: 'workclass' - with parents: ('occupation',)\n",
      "\n",
      "6/11 - Evaluating next attribute to add to network\n",
      "Number of AttributeParentPair candidates: 16\n",
      "Selected attribute: 'income' - with parents: ('workclass', 'relationship')\n",
      "\n",
      "7/11 - Evaluating next attribute to add to network\n",
      "Number of AttributeParentPair candidates: 15\n",
      "Selected attribute: 'education' - with parents: ('income', 'relationship')\n",
      "\n",
      "8/11 - Evaluating next attribute to add to network\n",
      "Number of AttributeParentPair candidates: 12\n",
      "Selected attribute: 'age' - with parents: ('income',)\n",
      "\n",
      "9/11 - Evaluating next attribute to add to network\n",
      "Number of AttributeParentPair candidates: 10\n",
      "Selected attribute: 'hours-per-week' - with parents: ('sex',)\n",
      "\n",
      "10/11 - Evaluating next attribute to add to network\n",
      "Number of AttributeParentPair candidates: 8\n",
      "Selected attribute: 'race' - with parents: ('education', 'sex')\n",
      "\n",
      "11/11 - Evaluating next attribute to add to network\n",
      "Number of AttributeParentPair candidates: 1\n",
      "Selected attribute: 'native-country' - with parents: ('income', 'sex')\n",
      "\n",
      "Learned Network Structure\n",
      "\n",
      "Learning conditional probabilities: sex - with parents None ~ estimated size: 2\n",
      "Learning conditional probabilities: relationship - with parents ('sex',) ~ estimated size: 12\n",
      "Learning conditional probabilities: marital-status - with parents ('relationship', 'sex') ~ estimated size: 84\n",
      "Learning conditional probabilities: occupation - with parents ('relationship', 'sex') ~ estimated size: 180\n",
      "Learning conditional probabilities: workclass - with parents ('occupation',) ~ estimated size: 135\n",
      "Learning conditional probabilities: income - with parents ('workclass', 'relationship') ~ estimated size: 108\n",
      "Learning conditional probabilities: education - with parents ('income', 'relationship') ~ estimated size: 192\n",
      "Learning conditional probabilities: age - with parents ('income',) ~ estimated size: 142\n",
      "Learning conditional probabilities: hours-per-week - with parents ('sex',) ~ estimated size: 188\n",
      "Learning conditional probabilities: race - with parents ('education', 'sex') ~ estimated size: 160\n",
      "Learning conditional probabilities: native-country - with parents ('income', 'sex') ~ estimated size: 168\n",
      "Number of records generated: 588 / 1000"
     ]
    },
    {
     "name": "stderr",
     "output_type": "stream",
     "text": [
      "/Users/dknoors/miniconda3/envs/crnsynth/lib/python3.9/site-packages/thomas/core/factors/cpt.py:65: RuntimeWarning: invalid value encountered in divide\n",
      "  self.values = self.values / row_sum\n"
     ]
    },
    {
     "name": "stdout",
     "output_type": "stream",
     "text": [
      "Number of records generated: 1000 / 1000\n",
      "Synthetic Data Generated\n",
      "\n"
     ]
    },
    {
     "data": {
      "text/plain": [
       "   age  hours-per-week         workclass     education      marital-status  \\\n",
       "0   40              40                 ?     Bachelors  Married-civ-spouse   \n",
       "1   54              40  Self-emp-not-inc  Some-college  Married-civ-spouse   \n",
       "2   51              99           Private          11th       Never-married   \n",
       "3   35              55      Self-emp-inc  Some-college  Married-civ-spouse   \n",
       "4   49              33                 ?       HS-grad  Married-civ-spouse   \n",
       "\n",
       "        occupation relationship   race   sex native-country income  \n",
       "0                ?      Husband  White  Male  United-States   >50K  \n",
       "1  Exec-managerial      Husband  White  Male  United-States   >50K  \n",
       "2  Farming-fishing    Own-child  White  Male  United-States  <=50K  \n",
       "3  Exec-managerial      Husband  White  Male  United-States   >50K  \n",
       "4                ?      Husband  White  Male  United-States  <=50K  "
      ],
      "text/html": [
       "<div>\n",
       "<style scoped>\n",
       "    .dataframe tbody tr th:only-of-type {\n",
       "        vertical-align: middle;\n",
       "    }\n",
       "\n",
       "    .dataframe tbody tr th {\n",
       "        vertical-align: top;\n",
       "    }\n",
       "\n",
       "    .dataframe thead th {\n",
       "        text-align: right;\n",
       "    }\n",
       "</style>\n",
       "<table border=\"1\" class=\"dataframe\">\n",
       "  <thead>\n",
       "    <tr style=\"text-align: right;\">\n",
       "      <th></th>\n",
       "      <th>age</th>\n",
       "      <th>hours-per-week</th>\n",
       "      <th>workclass</th>\n",
       "      <th>education</th>\n",
       "      <th>marital-status</th>\n",
       "      <th>occupation</th>\n",
       "      <th>relationship</th>\n",
       "      <th>race</th>\n",
       "      <th>sex</th>\n",
       "      <th>native-country</th>\n",
       "      <th>income</th>\n",
       "    </tr>\n",
       "  </thead>\n",
       "  <tbody>\n",
       "    <tr>\n",
       "      <th>0</th>\n",
       "      <td>40</td>\n",
       "      <td>40</td>\n",
       "      <td>?</td>\n",
       "      <td>Bachelors</td>\n",
       "      <td>Married-civ-spouse</td>\n",
       "      <td>?</td>\n",
       "      <td>Husband</td>\n",
       "      <td>White</td>\n",
       "      <td>Male</td>\n",
       "      <td>United-States</td>\n",
       "      <td>&gt;50K</td>\n",
       "    </tr>\n",
       "    <tr>\n",
       "      <th>1</th>\n",
       "      <td>54</td>\n",
       "      <td>40</td>\n",
       "      <td>Self-emp-not-inc</td>\n",
       "      <td>Some-college</td>\n",
       "      <td>Married-civ-spouse</td>\n",
       "      <td>Exec-managerial</td>\n",
       "      <td>Husband</td>\n",
       "      <td>White</td>\n",
       "      <td>Male</td>\n",
       "      <td>United-States</td>\n",
       "      <td>&gt;50K</td>\n",
       "    </tr>\n",
       "    <tr>\n",
       "      <th>2</th>\n",
       "      <td>51</td>\n",
       "      <td>99</td>\n",
       "      <td>Private</td>\n",
       "      <td>11th</td>\n",
       "      <td>Never-married</td>\n",
       "      <td>Farming-fishing</td>\n",
       "      <td>Own-child</td>\n",
       "      <td>White</td>\n",
       "      <td>Male</td>\n",
       "      <td>United-States</td>\n",
       "      <td>&lt;=50K</td>\n",
       "    </tr>\n",
       "    <tr>\n",
       "      <th>3</th>\n",
       "      <td>35</td>\n",
       "      <td>55</td>\n",
       "      <td>Self-emp-inc</td>\n",
       "      <td>Some-college</td>\n",
       "      <td>Married-civ-spouse</td>\n",
       "      <td>Exec-managerial</td>\n",
       "      <td>Husband</td>\n",
       "      <td>White</td>\n",
       "      <td>Male</td>\n",
       "      <td>United-States</td>\n",
       "      <td>&gt;50K</td>\n",
       "    </tr>\n",
       "    <tr>\n",
       "      <th>4</th>\n",
       "      <td>49</td>\n",
       "      <td>33</td>\n",
       "      <td>?</td>\n",
       "      <td>HS-grad</td>\n",
       "      <td>Married-civ-spouse</td>\n",
       "      <td>?</td>\n",
       "      <td>Husband</td>\n",
       "      <td>White</td>\n",
       "      <td>Male</td>\n",
       "      <td>United-States</td>\n",
       "      <td>&lt;=50K</td>\n",
       "    </tr>\n",
       "  </tbody>\n",
       "</table>\n",
       "</div>"
      ]
     },
     "execution_count": 9,
     "metadata": {},
     "output_type": "execute_result"
    }
   ],
   "execution_count": 9
  },
  {
   "cell_type": "code",
   "source": [
    "from crnsynth.metrics import PRIVACY_METRICS, ALL_METRICS\n",
    "\n",
    "PRIVACY_METRICS"
   ],
   "metadata": {
    "collapsed": false,
    "ExecuteTime": {
     "end_time": "2024-04-11T12:43:43.024210Z",
     "start_time": "2024-04-11T12:43:43.003130Z"
    }
   },
   "outputs": [
    {
     "data": {
      "text/plain": [
       "[DistanceClosestRecord({'encoder': 'ordinal', 'quantile': 0.5, 'metric': 'gower', 'categorical_columns': None}),\n",
       " NearestNeighborDistanceRatio({'encoder': 'ordinal', 'quantile': 0.5, 'metric': 'gower', 'n_neighbors': 2, 'categorical_columns': None}),\n",
       " CategoricalCAPScore({'encoder': 'ordinal', 'categorical_columns': None, 'frac_sensitive': 0.5, 'random_state': None})]"
      ]
     },
     "execution_count": 11,
     "metadata": {},
     "output_type": "execute_result"
    }
   ],
   "execution_count": 11
  },
  {
   "cell_type": "code",
   "source": "ALL_METRICS",
   "metadata": {
    "collapsed": false,
    "ExecuteTime": {
     "end_time": "2024-04-11T12:43:55.687275Z",
     "start_time": "2024-04-11T12:43:55.671588Z"
    }
   },
   "outputs": [
    {
     "data": {
      "text/plain": [
       "{'privacy': [DistanceClosestRecord({'encoder': 'ordinal', 'quantile': 0.5, 'metric': 'gower', 'categorical_columns': None}),\n",
       "  NearestNeighborDistanceRatio({'encoder': 'ordinal', 'quantile': 0.5, 'metric': 'gower', 'n_neighbors': 2, 'categorical_columns': None}),\n",
       "  CategoricalCAPScore({'encoder': 'ordinal', 'categorical_columns': None, 'frac_sensitive': 0.5, 'random_state': None})]}"
      ]
     },
     "execution_count": 13,
     "metadata": {},
     "output_type": "execute_result"
    }
   ],
   "execution_count": 13
  },
  {
   "cell_type": "markdown",
   "source": [
    "## Benchmark \n",
    "Run a suite of metrics to evaluate the utility and privacy of synthetic data."
   ],
   "metadata": {
    "collapsed": false
   }
  },
  {
   "cell_type": "code",
   "source": [
    "# metrics that have any of the parameters below are updated with the following values\n",
    "# alternatively, instead of setting a global value, you can set the values for each metric individually as well\n",
    "metric_kwargs = {\n",
    "    'categorical_columns': adult_synthesis.NOMINAL_COLUMNS,\n",
    "    'frac_sensitive': 0.5,\n",
    "    'random_state': RANDOM_STATE,\n",
    "}\n",
    "\n",
    "# define number of jobs for sequential (n_jobs == 1) or parallel computation (n_jobs > 1 or -1 for all cores)\n",
    "n_jobs = -1 \n",
    "\n",
    "# metrics can either be a list or dictionary\n",
    "metrics = ALL_METRICS\n",
    "\n",
    "benchmark = SyntheticDataBenchmark(metrics=metrics, metric_kwargs=metric_kwargs, encoder='ordinal', n_jobs=n_jobs, verbose=VERBOSE)\n",
    "scores = benchmark.compute(df_train, df_synth, df_holdout)\n",
    "scores"
   ],
   "metadata": {
    "collapsed": false,
    "ExecuteTime": {
     "end_time": "2024-04-11T12:45:41.240256Z",
     "start_time": "2024-04-11T12:45:26.253200Z"
    }
   },
   "outputs": [
    {
     "data": {
      "text/plain": [
       "{'privacy': {'distance_closest_record': {'holdout': 0.0031013367760234613,\n",
       "   'synth': 0.14251987036667593},\n",
       "  'nearest_neighbor_distance_ratio': {'holdout': 0.6242069835342642,\n",
       "   'synth': 0.7812455106876648},\n",
       "  'cap_categorical_score': {'score': 0.9316764207864838}}}"
      ]
     },
     "execution_count": 14,
     "metadata": {},
     "output_type": "execute_result"
    }
   ],
   "execution_count": 14
  },
  {
   "cell_type": "markdown",
   "source": [
    "After computation scores can also be accessed via the `scores_` attribute."
   ],
   "metadata": {
    "collapsed": false
   }
  },
  {
   "cell_type": "code",
   "source": "benchmark.scores_",
   "metadata": {
    "collapsed": false,
    "ExecuteTime": {
     "end_time": "2024-04-11T12:45:55.593151Z",
     "start_time": "2024-04-11T12:45:55.568551Z"
    }
   },
   "outputs": [
    {
     "data": {
      "text/plain": [
       "{'privacy': {'distance_closest_record': {'holdout': 0.0031013367760234613,\n",
       "   'synth': 0.14251987036667593},\n",
       "  'nearest_neighbor_distance_ratio': {'holdout': 0.6242069835342642,\n",
       "   'synth': 0.7812455106876648},\n",
       "  'cap_categorical_score': {'score': 0.9316764207864838}}}"
      ]
     },
     "execution_count": 15,
     "metadata": {},
     "output_type": "execute_result"
    }
   ],
   "execution_count": 15
  },
  {
   "cell_type": "markdown",
   "source": [
    "You can see how the metrics within the `SyntheticDataBenchmark` class are affected by the `metic_kwargs` parameters and computation on the data."
   ],
   "metadata": {
    "collapsed": false
   }
  },
  {
   "cell_type": "code",
   "source": [
    "benchmark.metrics"
   ],
   "metadata": {
    "collapsed": false,
    "ExecuteTime": {
     "end_time": "2024-04-11T12:46:19.025732Z",
     "start_time": "2024-04-11T12:46:19.004072Z"
    }
   },
   "outputs": [
    {
     "data": {
      "text/plain": [
       "{'privacy': [DistanceClosestRecord({'encoder': None, 'quantile': 0.5, 'metric': 'gower', 'categorical_columns': ['workclass', 'education', 'marital-status', 'occupation', 'relationship', 'race', 'sex', 'native-country', 'income']}),\n",
       "  NearestNeighborDistanceRatio({'encoder': None, 'quantile': 0.5, 'metric': 'gower', 'n_neighbors': 2, 'categorical_columns': ['workclass', 'education', 'marital-status', 'occupation', 'relationship', 'race', 'sex', 'native-country', 'income']}),\n",
       "  CategoricalCAPScore({'encoder': None, 'categorical_columns': ['workclass', 'education', 'marital-status', 'occupation', 'relationship', 'race', 'sex', 'native-country', 'income'], 'frac_sensitive': 0.5, 'random_state': 42})]}"
      ]
     },
     "execution_count": 16,
     "metadata": {},
     "output_type": "execute_result"
    }
   ],
   "execution_count": 16
  },
  {
   "metadata": {},
   "cell_type": "code",
   "outputs": [],
   "execution_count": null,
   "source": ""
  }
 ],
 "metadata": {
  "kernelspec": {
   "display_name": "synth",
   "language": "python",
   "name": "python3"
  },
  "language_info": {
   "codemirror_mode": {
    "name": "ipython",
    "version": 3
   },
   "file_extension": ".py",
   "mimetype": "text/x-python",
   "name": "python",
   "nbconvert_exporter": "python",
   "pygments_lexer": "ipython3",
   "version": "3.9.undefined"
  },
  "orig_nbformat": 4
 },
 "nbformat": 4,
 "nbformat_minor": 2
}
