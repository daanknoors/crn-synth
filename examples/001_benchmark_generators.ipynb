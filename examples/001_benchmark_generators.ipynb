{
 "cells": [
  {
   "cell_type": "markdown",
   "metadata": {},
   "source": [
    "# Benchmark generators\n",
    "Run a suite of metrics to evaluate the utility and privacy of synthetic data."
   ]
  },
  {
   "cell_type": "markdown",
   "metadata": {},
   "source": [
    "## Load libraries and define settings"
   ]
  },
  {
   "cell_type": "code",
   "metadata": {
    "ExecuteTime": {
     "end_time": "2024-04-24T09:08:06.167222Z",
     "start_time": "2024-04-24T09:08:06.029017Z"
    }
   },
   "source": [
    "# general dependencies\n",
    "import numpy as np\n",
    "import pandas as pd\n",
    "import warnings\n",
    "import matplotlib.pyplot as plt\n",
    "import seaborn as sns\n",
    "import sys\n",
    "import os\n",
    "from pathlib import Path"
   ],
   "outputs": [],
   "execution_count": 21
  },
  {
   "cell_type": "code",
   "metadata": {
    "ExecuteTime": {
     "end_time": "2024-04-24T14:28:23.827506Z",
     "start_time": "2024-04-24T14:28:23.803827Z"
    }
   },
   "source": [
    "# package\n",
    "from crnsynth.generators.marginal import MarginalGenerator\n",
    "from crnsynth.generators.privbayes import PrivBayes\n",
    "\n",
    "from crnsynth.processing import preprocessing\n",
    "\n",
    "from crnsynth.metrics import PRIVACY_METRICS, ALL_METRICS\n",
    "from crnsynth.benchmark.review import SyntheticDataReview\n",
    "from crnsynth.benchmark import benchmark\n",
    "from crnsynth.serialization import paths, save, load"
   ],
   "outputs": [],
   "execution_count": 76
  },
  {
   "cell_type": "code",
   "metadata": {
    "collapsed": false,
    "jupyter": {
     "outputs_hidden": false
    },
    "ExecuteTime": {
     "end_time": "2024-04-24T09:08:06.450915Z",
     "start_time": "2024-04-24T09:08:06.430916Z"
    }
   },
   "source": [
    "from examples import adult_synthesis"
   ],
   "outputs": [],
   "execution_count": 23
  },
  {
   "cell_type": "code",
   "metadata": {
    "ExecuteTime": {
     "end_time": "2024-04-24T09:08:06.625460Z",
     "start_time": "2024-04-24T09:08:06.608690Z"
    }
   },
   "source": [
    "# ignore deprecation warning\n",
    "warnings.filterwarnings(\"ignore\", category=DeprecationWarning) \n",
    "\n",
    "# autoreload changes from local files\n",
    "%load_ext autoreload\n",
    "%autoreload 2\n",
    "\n",
    "# pandas show full output\n",
    "pd.set_option('display.max_rows', 500)\n",
    "pd.set_option('display.max_columns', 200)"
   ],
   "outputs": [
    {
     "name": "stdout",
     "output_type": "stream",
     "text": [
      "The autoreload extension is already loaded. To reload it, use:\n",
      "  %reload_ext autoreload\n"
     ]
    }
   ],
   "execution_count": 24
  },
  {
   "cell_type": "code",
   "metadata": {
    "ExecuteTime": {
     "end_time": "2024-04-24T09:08:06.843490Z",
     "start_time": "2024-04-24T09:08:06.823740Z"
    }
   },
   "source": [
    "# privacy budget for differentially private algorithms\n",
    "EPSILON = 1\n",
    "\n",
    "# other params\n",
    "RANDOM_STATE = 42\n",
    "VERBOSE = 1"
   ],
   "outputs": [],
   "execution_count": 25
  },
  {
   "cell_type": "markdown",
   "metadata": {},
   "source": [
    "## Load and process dataset"
   ]
  },
  {
   "cell_type": "code",
   "metadata": {
    "ExecuteTime": {
     "end_time": "2024-04-24T09:08:08.315961Z",
     "start_time": "2024-04-24T09:08:08.253064Z"
    }
   },
   "source": [
    "df_adult = pd.read_csv(adult_synthesis.PATH_ADULT)\n",
    "df_adult.head()\n"
   ],
   "outputs": [
    {
     "data": {
      "text/plain": [
       "   age         workclass  fnlwgt  education  education-num  \\\n",
       "0   39         State-gov   77516  Bachelors             13   \n",
       "1   50  Self-emp-not-inc   83311  Bachelors             13   \n",
       "2   38           Private  215646    HS-grad              9   \n",
       "3   53           Private  234721       11th              7   \n",
       "4   28           Private  338409  Bachelors             13   \n",
       "\n",
       "       marital-status         occupation   relationship   race     sex  \\\n",
       "0       Never-married       Adm-clerical  Not-in-family  White    Male   \n",
       "1  Married-civ-spouse    Exec-managerial        Husband  White    Male   \n",
       "2            Divorced  Handlers-cleaners  Not-in-family  White    Male   \n",
       "3  Married-civ-spouse  Handlers-cleaners        Husband  Black    Male   \n",
       "4  Married-civ-spouse     Prof-specialty           Wife  Black  Female   \n",
       "\n",
       "   capital-gain  capital-loss  hours-per-week native-country income  \n",
       "0          2174             0              40  United-States  <=50K  \n",
       "1             0             0              13  United-States  <=50K  \n",
       "2             0             0              40  United-States  <=50K  \n",
       "3             0             0              40  United-States  <=50K  \n",
       "4             0             0              40           Cuba  <=50K  "
      ],
      "text/html": [
       "<div>\n",
       "<style scoped>\n",
       "    .dataframe tbody tr th:only-of-type {\n",
       "        vertical-align: middle;\n",
       "    }\n",
       "\n",
       "    .dataframe tbody tr th {\n",
       "        vertical-align: top;\n",
       "    }\n",
       "\n",
       "    .dataframe thead th {\n",
       "        text-align: right;\n",
       "    }\n",
       "</style>\n",
       "<table border=\"1\" class=\"dataframe\">\n",
       "  <thead>\n",
       "    <tr style=\"text-align: right;\">\n",
       "      <th></th>\n",
       "      <th>age</th>\n",
       "      <th>workclass</th>\n",
       "      <th>fnlwgt</th>\n",
       "      <th>education</th>\n",
       "      <th>education-num</th>\n",
       "      <th>marital-status</th>\n",
       "      <th>occupation</th>\n",
       "      <th>relationship</th>\n",
       "      <th>race</th>\n",
       "      <th>sex</th>\n",
       "      <th>capital-gain</th>\n",
       "      <th>capital-loss</th>\n",
       "      <th>hours-per-week</th>\n",
       "      <th>native-country</th>\n",
       "      <th>income</th>\n",
       "    </tr>\n",
       "  </thead>\n",
       "  <tbody>\n",
       "    <tr>\n",
       "      <th>0</th>\n",
       "      <td>39</td>\n",
       "      <td>State-gov</td>\n",
       "      <td>77516</td>\n",
       "      <td>Bachelors</td>\n",
       "      <td>13</td>\n",
       "      <td>Never-married</td>\n",
       "      <td>Adm-clerical</td>\n",
       "      <td>Not-in-family</td>\n",
       "      <td>White</td>\n",
       "      <td>Male</td>\n",
       "      <td>2174</td>\n",
       "      <td>0</td>\n",
       "      <td>40</td>\n",
       "      <td>United-States</td>\n",
       "      <td>&lt;=50K</td>\n",
       "    </tr>\n",
       "    <tr>\n",
       "      <th>1</th>\n",
       "      <td>50</td>\n",
       "      <td>Self-emp-not-inc</td>\n",
       "      <td>83311</td>\n",
       "      <td>Bachelors</td>\n",
       "      <td>13</td>\n",
       "      <td>Married-civ-spouse</td>\n",
       "      <td>Exec-managerial</td>\n",
       "      <td>Husband</td>\n",
       "      <td>White</td>\n",
       "      <td>Male</td>\n",
       "      <td>0</td>\n",
       "      <td>0</td>\n",
       "      <td>13</td>\n",
       "      <td>United-States</td>\n",
       "      <td>&lt;=50K</td>\n",
       "    </tr>\n",
       "    <tr>\n",
       "      <th>2</th>\n",
       "      <td>38</td>\n",
       "      <td>Private</td>\n",
       "      <td>215646</td>\n",
       "      <td>HS-grad</td>\n",
       "      <td>9</td>\n",
       "      <td>Divorced</td>\n",
       "      <td>Handlers-cleaners</td>\n",
       "      <td>Not-in-family</td>\n",
       "      <td>White</td>\n",
       "      <td>Male</td>\n",
       "      <td>0</td>\n",
       "      <td>0</td>\n",
       "      <td>40</td>\n",
       "      <td>United-States</td>\n",
       "      <td>&lt;=50K</td>\n",
       "    </tr>\n",
       "    <tr>\n",
       "      <th>3</th>\n",
       "      <td>53</td>\n",
       "      <td>Private</td>\n",
       "      <td>234721</td>\n",
       "      <td>11th</td>\n",
       "      <td>7</td>\n",
       "      <td>Married-civ-spouse</td>\n",
       "      <td>Handlers-cleaners</td>\n",
       "      <td>Husband</td>\n",
       "      <td>Black</td>\n",
       "      <td>Male</td>\n",
       "      <td>0</td>\n",
       "      <td>0</td>\n",
       "      <td>40</td>\n",
       "      <td>United-States</td>\n",
       "      <td>&lt;=50K</td>\n",
       "    </tr>\n",
       "    <tr>\n",
       "      <th>4</th>\n",
       "      <td>28</td>\n",
       "      <td>Private</td>\n",
       "      <td>338409</td>\n",
       "      <td>Bachelors</td>\n",
       "      <td>13</td>\n",
       "      <td>Married-civ-spouse</td>\n",
       "      <td>Prof-specialty</td>\n",
       "      <td>Wife</td>\n",
       "      <td>Black</td>\n",
       "      <td>Female</td>\n",
       "      <td>0</td>\n",
       "      <td>0</td>\n",
       "      <td>40</td>\n",
       "      <td>Cuba</td>\n",
       "      <td>&lt;=50K</td>\n",
       "    </tr>\n",
       "  </tbody>\n",
       "</table>\n",
       "</div>"
      ]
     },
     "execution_count": 26,
     "metadata": {},
     "output_type": "execute_result"
    }
   ],
   "execution_count": 26
  },
  {
   "cell_type": "markdown",
   "metadata": {},
   "source": [
    "## Generate\n",
    "Here we show how step by step how to generate synthetic data."
   ]
  },
  {
   "cell_type": "code",
   "metadata": {
    "ExecuteTime": {
     "end_time": "2024-04-24T14:30:23.457561Z",
     "start_time": "2024-04-24T14:30:22.415373Z"
    }
   },
   "source": [
    "df = df_adult.copy()\n",
    "\n",
    "# process data\n",
    "df = adult_synthesis.preprocess_real_data(df)\n",
    "\n",
    "# split data\n",
    "df_train, df_holdout = preprocessing.split_train_holdout(df, target_column='income', holdout_size=0.2, random_state=RANDOM_STATE)\n",
    "\n",
    "# define your generator \n",
    "generator = PrivBayes(epsilon=EPSILON)\n",
    "\n",
    "# train the generator on the input data\n",
    "generator.fit(df_train)\n",
    "\n",
    "# generate synthetic data with a desired number of rows\n",
    "df_synth = generator.generate(n_records=1000)\n",
    "\n",
    "# post process the synthetic data\n",
    "df_synth = adult_synthesis.postprocess_synthetic_data(df_synth)\n",
    "\n",
    "df_synth.head()"
   ],
   "outputs": [
    {
     "name": "stdout",
     "output_type": "stream",
     "text": [
      "1/11 - Root of network: occupation\n",
      "\n",
      "2/11 - Evaluating next attribute to add to network\n",
      "Number of AttributeParentPair candidates: 10\n",
      "Selected attribute: 'workclass' - with parents: ('occupation',)\n",
      "\n",
      "3/11 - Evaluating next attribute to add to network\n",
      "Number of AttributeParentPair candidates: 14\n",
      "Selected attribute: 'sex' - with parents: ('occupation',)\n",
      "\n",
      "4/11 - Evaluating next attribute to add to network\n",
      "Number of AttributeParentPair candidates: 13\n",
      "Selected attribute: 'relationship' - with parents: ('sex', 'occupation')\n",
      "\n",
      "5/11 - Evaluating next attribute to add to network\n",
      "Number of AttributeParentPair candidates: 16\n",
      "Selected attribute: 'marital-status' - with parents: ('sex', 'relationship')\n",
      "\n",
      "6/11 - Evaluating next attribute to add to network\n",
      "Number of AttributeParentPair candidates: 16\n",
      "Selected attribute: 'income' - with parents: ('workclass', 'marital-status')\n",
      "\n",
      "7/11 - Evaluating next attribute to add to network\n",
      "Number of AttributeParentPair candidates: 15\n",
      "Selected attribute: 'education' - with parents: ('relationship', 'income')\n",
      "\n",
      "8/11 - Evaluating next attribute to add to network\n",
      "Number of AttributeParentPair candidates: 12\n",
      "Selected attribute: 'age' - with parents: ('income',)\n",
      "\n",
      "9/11 - Evaluating next attribute to add to network\n",
      "Number of AttributeParentPair candidates: 10\n",
      "Selected attribute: 'hours-per-week' - with parents: ('sex',)\n",
      "\n",
      "10/11 - Evaluating next attribute to add to network\n",
      "Number of AttributeParentPair candidates: 8\n",
      "Selected attribute: 'race' - with parents: ('occupation', 'income')\n",
      "\n",
      "11/11 - Evaluating next attribute to add to network\n",
      "Number of AttributeParentPair candidates: 1\n",
      "Selected attribute: 'native-country' - with parents: ('sex', 'income')\n",
      "\n",
      "Learned Network Structure\n",
      "\n",
      "Learning conditional probabilities: occupation - with parents None ~ estimated size: 15\n",
      "Learning conditional probabilities: workclass - with parents ('occupation',) ~ estimated size: 135\n",
      "Learning conditional probabilities: sex - with parents ('occupation',) ~ estimated size: 30\n",
      "Learning conditional probabilities: relationship - with parents ('sex', 'occupation') ~ estimated size: 180\n",
      "Learning conditional probabilities: marital-status - with parents ('sex', 'relationship') ~ estimated size: 84\n",
      "Learning conditional probabilities: income - with parents ('workclass', 'marital-status') ~ estimated size: 126\n",
      "Learning conditional probabilities: education - with parents ('relationship', 'income') ~ estimated size: 192\n",
      "Learning conditional probabilities: age - with parents ('income',) ~ estimated size: 142\n",
      "Learning conditional probabilities: hours-per-week - with parents ('sex',) ~ estimated size: 188\n",
      "Learning conditional probabilities: race - with parents ('occupation', 'income') ~ estimated size: 150\n",
      "Learning conditional probabilities: native-country - with parents ('sex', 'income') ~ estimated size: 168\n",
      "Number of records generated: 590 / 1000"
     ]
    },
    {
     "name": "stderr",
     "output_type": "stream",
     "text": [
      "/Users/dknoors/miniconda3/envs/crnsynth/lib/python3.9/site-packages/thomas/core/factors/cpt.py:65: RuntimeWarning: invalid value encountered in divide\n",
      "  self.values = self.values / row_sum\n"
     ]
    },
    {
     "name": "stdout",
     "output_type": "stream",
     "text": [
      "Number of records generated: 1000 / 1000\n",
      "Synthetic Data Generated\n",
      "\n"
     ]
    },
    {
     "data": {
      "text/plain": [
       "   age  hours-per-week workclass     education      marital-status  \\\n",
       "0   76              10   Private     Bachelors  Married-civ-spouse   \n",
       "1   49              42   Private       7th-8th       Never-married   \n",
       "2   38              40   Private  Some-college  Married-civ-spouse   \n",
       "3   40              45   Private           9th  Married-civ-spouse   \n",
       "4   45               5         ?       HS-grad  Married-civ-spouse   \n",
       "\n",
       "         occupation    relationship   race     sex native-country income  \n",
       "0  Transport-moving         Husband  Black    Male  United-States  <=50K  \n",
       "1      Adm-clerical   Not-in-family  Black  Female         Canada  <=50K  \n",
       "2   Exec-managerial         Husband  White    Male  United-States  <=50K  \n",
       "3      Adm-clerical  Other-relative  White  Female  United-States   >50K  \n",
       "4                 ?         Husband  White    Male  United-States   >50K  "
      ],
      "text/html": [
       "<div>\n",
       "<style scoped>\n",
       "    .dataframe tbody tr th:only-of-type {\n",
       "        vertical-align: middle;\n",
       "    }\n",
       "\n",
       "    .dataframe tbody tr th {\n",
       "        vertical-align: top;\n",
       "    }\n",
       "\n",
       "    .dataframe thead th {\n",
       "        text-align: right;\n",
       "    }\n",
       "</style>\n",
       "<table border=\"1\" class=\"dataframe\">\n",
       "  <thead>\n",
       "    <tr style=\"text-align: right;\">\n",
       "      <th></th>\n",
       "      <th>age</th>\n",
       "      <th>hours-per-week</th>\n",
       "      <th>workclass</th>\n",
       "      <th>education</th>\n",
       "      <th>marital-status</th>\n",
       "      <th>occupation</th>\n",
       "      <th>relationship</th>\n",
       "      <th>race</th>\n",
       "      <th>sex</th>\n",
       "      <th>native-country</th>\n",
       "      <th>income</th>\n",
       "    </tr>\n",
       "  </thead>\n",
       "  <tbody>\n",
       "    <tr>\n",
       "      <th>0</th>\n",
       "      <td>76</td>\n",
       "      <td>10</td>\n",
       "      <td>Private</td>\n",
       "      <td>Bachelors</td>\n",
       "      <td>Married-civ-spouse</td>\n",
       "      <td>Transport-moving</td>\n",
       "      <td>Husband</td>\n",
       "      <td>Black</td>\n",
       "      <td>Male</td>\n",
       "      <td>United-States</td>\n",
       "      <td>&lt;=50K</td>\n",
       "    </tr>\n",
       "    <tr>\n",
       "      <th>1</th>\n",
       "      <td>49</td>\n",
       "      <td>42</td>\n",
       "      <td>Private</td>\n",
       "      <td>7th-8th</td>\n",
       "      <td>Never-married</td>\n",
       "      <td>Adm-clerical</td>\n",
       "      <td>Not-in-family</td>\n",
       "      <td>Black</td>\n",
       "      <td>Female</td>\n",
       "      <td>Canada</td>\n",
       "      <td>&lt;=50K</td>\n",
       "    </tr>\n",
       "    <tr>\n",
       "      <th>2</th>\n",
       "      <td>38</td>\n",
       "      <td>40</td>\n",
       "      <td>Private</td>\n",
       "      <td>Some-college</td>\n",
       "      <td>Married-civ-spouse</td>\n",
       "      <td>Exec-managerial</td>\n",
       "      <td>Husband</td>\n",
       "      <td>White</td>\n",
       "      <td>Male</td>\n",
       "      <td>United-States</td>\n",
       "      <td>&lt;=50K</td>\n",
       "    </tr>\n",
       "    <tr>\n",
       "      <th>3</th>\n",
       "      <td>40</td>\n",
       "      <td>45</td>\n",
       "      <td>Private</td>\n",
       "      <td>9th</td>\n",
       "      <td>Married-civ-spouse</td>\n",
       "      <td>Adm-clerical</td>\n",
       "      <td>Other-relative</td>\n",
       "      <td>White</td>\n",
       "      <td>Female</td>\n",
       "      <td>United-States</td>\n",
       "      <td>&gt;50K</td>\n",
       "    </tr>\n",
       "    <tr>\n",
       "      <th>4</th>\n",
       "      <td>45</td>\n",
       "      <td>5</td>\n",
       "      <td>?</td>\n",
       "      <td>HS-grad</td>\n",
       "      <td>Married-civ-spouse</td>\n",
       "      <td>?</td>\n",
       "      <td>Husband</td>\n",
       "      <td>White</td>\n",
       "      <td>Male</td>\n",
       "      <td>United-States</td>\n",
       "      <td>&gt;50K</td>\n",
       "    </tr>\n",
       "  </tbody>\n",
       "</table>\n",
       "</div>"
      ]
     },
     "execution_count": 80,
     "metadata": {},
     "output_type": "execute_result"
    }
   ],
   "execution_count": 80
  },
  {
   "cell_type": "markdown",
   "metadata": {
    "collapsed": false,
    "jupyter": {
     "outputs_hidden": false
    }
   },
   "source": [
    "## Synthetic Data Review\n",
    "Run a suite of metrics to evaluate the utility and privacy of synthetic data."
   ]
  },
  {
   "cell_type": "code",
   "metadata": {
    "ExecuteTime": {
     "end_time": "2024-04-24T09:08:09.721794Z",
     "start_time": "2024-04-24T09:08:09.652334Z"
    }
   },
   "source": [
    "# metrics can either be a list or dictionary\n",
    "metrics = ALL_METRICS\n",
    "metrics"
   ],
   "outputs": [
    {
     "data": {
      "text/plain": [
       "{'privacy': [DistanceClosestRecord({'encoder': 'ordinal', 'quantile': 0.5, 'metric': 'gower', 'categorical_columns': None}),\n",
       "  NearestNeighborDistanceRatio({'encoder': 'ordinal', 'quantile': 0.5, 'metric': 'gower', 'n_neighbors': 2, 'categorical_columns': None}),\n",
       "  CategoricalCAPScore({'encoder': 'ordinal', 'categorical_columns': None, 'frac_sensitive': 0.5, 'random_state': None})],\n",
       " 'utility': [ContingencySimilarityScore({'encoder': None, 'categorical_columns': None}),\n",
       "  FeatureCorrelation({'encoder': None, 'numerical_columns': None}),\n",
       "  CorrelationSimilarityScore({'encoder': None, 'numerical_columns': None})]}"
      ]
     },
     "execution_count": 28,
     "metadata": {},
     "output_type": "execute_result"
    }
   ],
   "execution_count": 28
  },
  {
   "cell_type": "code",
   "metadata": {
    "collapsed": false,
    "jupyter": {
     "outputs_hidden": false
    },
    "ExecuteTime": {
     "end_time": "2024-04-24T09:08:25.806628Z",
     "start_time": "2024-04-24T09:08:09.722774Z"
    }
   },
   "source": [
    "# metrics that have any of the parameters below are updated with the following values\n",
    "# alternatively, you can set the values for each metric individually as well\n",
    "metric_kwargs = {\n",
    "    'categorical_columns': adult_synthesis.NOMINAL_COLUMNS,\n",
    "    'numerical_columns': adult_synthesis.ORDINAL_COLUMNS,\n",
    "    'frac_sensitive': 0.5,\n",
    "    'random_state': RANDOM_STATE,\n",
    "}\n",
    "\n",
    "# define number of jobs for sequential (n_jobs == 1) or parallel computation (n_jobs > 1 or -1 for all cores)\n",
    "n_jobs = -1 \n",
    "\n",
    "synth_review = SyntheticDataReview(metrics=metrics, metric_kwargs=metric_kwargs, encoder='ordinal', n_jobs=n_jobs, verbose=VERBOSE)\n",
    "scores = synth_review.compute(df_train, df_synth, df_holdout)\n",
    "scores"
   ],
   "outputs": [
    {
     "data": {
      "text/plain": [
       "{'privacy': {'DistanceClosestRecord': {'holdout': 0.0031013367760234613,\n",
       "   'synth': 0.10548587908972329},\n",
       "  'NearestNeighborDistanceRatio': {'holdout': 0.6242069835342642,\n",
       "   'synth': 0.7947300522973817},\n",
       "  'CategoricalCAPScore': {'score': 0.7905672980781999}},\n",
       " 'utility': {'ContingencySimilarityScore': {'score': 0.8683820638820638},\n",
       "  'FeatureCorrelation': {'score': 0.842010244181217},\n",
       "  'CorrelationSimilarityScore': {'score': 0.9848911363172838}}}"
      ]
     },
     "execution_count": 29,
     "metadata": {},
     "output_type": "execute_result"
    }
   ],
   "execution_count": 29
  },
  {
   "cell_type": "markdown",
   "metadata": {
    "collapsed": false,
    "jupyter": {
     "outputs_hidden": false
    }
   },
   "source": [
    "After computation scores can also be accessed via the `scores_` attribute or as dataframe using `.score_as_dataframe()`."
   ]
  },
  {
   "cell_type": "code",
   "metadata": {
    "collapsed": false,
    "jupyter": {
     "outputs_hidden": false
    },
    "ExecuteTime": {
     "end_time": "2024-04-24T09:08:25.831811Z",
     "start_time": "2024-04-24T09:08:25.808184Z"
    }
   },
   "source": [
    "synth_review.scores_"
   ],
   "outputs": [
    {
     "data": {
      "text/plain": [
       "{'privacy': {'DistanceClosestRecord': {'holdout': 0.0031013367760234613,\n",
       "   'synth': 0.10548587908972329},\n",
       "  'NearestNeighborDistanceRatio': {'holdout': 0.6242069835342642,\n",
       "   'synth': 0.7947300522973817},\n",
       "  'CategoricalCAPScore': {'score': 0.7905672980781999}},\n",
       " 'utility': {'ContingencySimilarityScore': {'score': 0.8683820638820638},\n",
       "  'FeatureCorrelation': {'score': 0.842010244181217},\n",
       "  'CorrelationSimilarityScore': {'score': 0.9848911363172838}}}"
      ]
     },
     "execution_count": 30,
     "metadata": {},
     "output_type": "execute_result"
    }
   ],
   "execution_count": 30
  },
  {
   "cell_type": "code",
   "metadata": {
    "ExecuteTime": {
     "end_time": "2024-04-24T09:08:25.849261Z",
     "start_time": "2024-04-24T09:08:25.832638Z"
    }
   },
   "source": "synth_review.score_as_dataframe(name='Privbayes')",
   "outputs": [
    {
     "data": {
      "text/plain": [
       "                                              Privbayes\n",
       "privacy_DistanceClosestRecord_holdout          0.003101\n",
       "privacy_DistanceClosestRecord_synth            0.105486\n",
       "privacy_NearestNeighborDistanceRatio_holdout   0.624207\n",
       "privacy_NearestNeighborDistanceRatio_synth     0.794730\n",
       "privacy_CategoricalCAPScore_score              0.790567\n",
       "utility_ContingencySimilarityScore_score       0.868382\n",
       "utility_FeatureCorrelation_score               0.842010\n",
       "utility_CorrelationSimilarityScore_score       0.984891"
      ],
      "text/html": [
       "<div>\n",
       "<style scoped>\n",
       "    .dataframe tbody tr th:only-of-type {\n",
       "        vertical-align: middle;\n",
       "    }\n",
       "\n",
       "    .dataframe tbody tr th {\n",
       "        vertical-align: top;\n",
       "    }\n",
       "\n",
       "    .dataframe thead th {\n",
       "        text-align: right;\n",
       "    }\n",
       "</style>\n",
       "<table border=\"1\" class=\"dataframe\">\n",
       "  <thead>\n",
       "    <tr style=\"text-align: right;\">\n",
       "      <th></th>\n",
       "      <th>Privbayes</th>\n",
       "    </tr>\n",
       "  </thead>\n",
       "  <tbody>\n",
       "    <tr>\n",
       "      <th>privacy_DistanceClosestRecord_holdout</th>\n",
       "      <td>0.003101</td>\n",
       "    </tr>\n",
       "    <tr>\n",
       "      <th>privacy_DistanceClosestRecord_synth</th>\n",
       "      <td>0.105486</td>\n",
       "    </tr>\n",
       "    <tr>\n",
       "      <th>privacy_NearestNeighborDistanceRatio_holdout</th>\n",
       "      <td>0.624207</td>\n",
       "    </tr>\n",
       "    <tr>\n",
       "      <th>privacy_NearestNeighborDistanceRatio_synth</th>\n",
       "      <td>0.794730</td>\n",
       "    </tr>\n",
       "    <tr>\n",
       "      <th>privacy_CategoricalCAPScore_score</th>\n",
       "      <td>0.790567</td>\n",
       "    </tr>\n",
       "    <tr>\n",
       "      <th>utility_ContingencySimilarityScore_score</th>\n",
       "      <td>0.868382</td>\n",
       "    </tr>\n",
       "    <tr>\n",
       "      <th>utility_FeatureCorrelation_score</th>\n",
       "      <td>0.842010</td>\n",
       "    </tr>\n",
       "    <tr>\n",
       "      <th>utility_CorrelationSimilarityScore_score</th>\n",
       "      <td>0.984891</td>\n",
       "    </tr>\n",
       "  </tbody>\n",
       "</table>\n",
       "</div>"
      ]
     },
     "execution_count": 31,
     "metadata": {},
     "output_type": "execute_result"
    }
   ],
   "execution_count": 31
  },
  {
   "cell_type": "markdown",
   "metadata": {
    "collapsed": false,
    "jupyter": {
     "outputs_hidden": false
    }
   },
   "source": [
    "You can see how the metrics within the `SyntheticDataBenchmark` class are affected by the `metic_kwargs` parameters and computation on the data."
   ]
  },
  {
   "cell_type": "code",
   "metadata": {
    "collapsed": false,
    "jupyter": {
     "outputs_hidden": false
    },
    "ExecuteTime": {
     "end_time": "2024-04-24T09:08:25.865960Z",
     "start_time": "2024-04-24T09:08:25.850683Z"
    }
   },
   "source": [
    "synth_review.metrics"
   ],
   "outputs": [
    {
     "data": {
      "text/plain": [
       "{'privacy': [DistanceClosestRecord({'encoder': None, 'quantile': 0.5, 'metric': 'gower', 'categorical_columns': ['workclass', 'education', 'marital-status', 'occupation', 'relationship', 'race', 'sex', 'native-country', 'income']}),\n",
       "  NearestNeighborDistanceRatio({'encoder': None, 'quantile': 0.5, 'metric': 'gower', 'n_neighbors': 2, 'categorical_columns': ['workclass', 'education', 'marital-status', 'occupation', 'relationship', 'race', 'sex', 'native-country', 'income']}),\n",
       "  CategoricalCAPScore({'encoder': None, 'categorical_columns': ['workclass', 'education', 'marital-status', 'occupation', 'relationship', 'race', 'sex', 'native-country', 'income'], 'frac_sensitive': 0.5, 'random_state': 42})],\n",
       " 'utility': [ContingencySimilarityScore({'encoder': None, 'categorical_columns': ['workclass', 'education', 'marital-status', 'occupation', 'relationship', 'race', 'sex', 'native-country', 'income']}),\n",
       "  FeatureCorrelation({'encoder': None, 'numerical_columns': ['age', 'hours-per-week']}),\n",
       "  CorrelationSimilarityScore({'encoder': None, 'numerical_columns': ['age', 'hours-per-week']})]}"
      ]
     },
     "execution_count": 32,
     "metadata": {},
     "output_type": "execute_result"
    }
   ],
   "execution_count": 32
  },
  {
   "cell_type": "markdown",
   "metadata": {},
   "source": [
    "## Benchmarking\n",
    "We can benchmark a selection of generators by creating synthetic datasets for each and compare their performance."
   ]
  },
  {
   "cell_type": "code",
   "metadata": {
    "ExecuteTime": {
     "end_time": "2024-04-24T14:35:51.594940Z",
     "start_time": "2024-04-24T14:35:06.470066Z"
    }
   },
   "source": [
    "# define generator selection\n",
    "generators = [MarginalGenerator(epsilon=0.1), PrivBayes(epsilon=0.1), PrivBayes(epsilon=1)]\n",
    "\n",
    "# optional: reviewer to run a suite of metrics and combine results for all generated synthetic datasets\n",
    "synth_review = SyntheticDataReview(metrics=metrics, metric_kwargs=metric_kwargs, encoder='ordinal', n_jobs=n_jobs, verbose=VERBOSE)\n",
    "\n",
    "benchmark.benchmark_generators(\n",
    "    data_real=df_train,\n",
    "    data_holdout=df_holdout,    \n",
    "    generators=generators,\n",
    "    path_out = paths.PATH_RESULTS / 'adult',\n",
    "    n_records=1000,\n",
    "    reviewer=synth_review,\n",
    "    fname_param='epsilon',\n",
    "    verbose=VERBOSE\n",
    ")\n"
   ],
   "outputs": [
    {
     "name": "stdout",
     "output_type": "stream",
     "text": [
      "Running generator MarginalGenerator\n",
      "Fitting generator MarginalGenerator on input data\n",
      "Marginal fitted: age\n",
      "Marginal fitted: hours-per-week\n",
      "Marginal fitted: workclass\n",
      "Marginal fitted: education\n",
      "Marginal fitted: marital-status\n",
      "Marginal fitted: occupation\n",
      "Marginal fitted: relationship\n",
      "Marginal fitted: race\n",
      "Marginal fitted: sex\n",
      "Marginal fitted: native-country\n",
      "Marginal fitted: income\n",
      "Generator fitted. Generating 1000 records\n",
      "Column sampled: age\n",
      "Column sampled: hours-per-week\n",
      "Column sampled: workclass\n",
      "Column sampled: education\n",
      "Column sampled: marital-status\n",
      "Column sampled: occupation\n",
      "Column sampled: relationship\n",
      "Column sampled: race\n",
      "Column sampled: sex\n",
      "Column sampled: native-country\n",
      "Column sampled: income\n",
      "Saved to disk: /Users/dknoors/Projects/synthesis-dk/crn-synth/results/adult/configs/0_MarginalGenerator_epsilon0.1.json\n",
      "Saved synthetic data, generator and configs for 0_MarginalGenerator_epsilon0.1 at /Users/dknoors/Projects/synthesis-dk/crn-synth/results/adult\n",
      "Running reviewer for 0_MarginalGenerator_epsilon0.1\n",
      "Running generator PrivBayes\n",
      "Fitting generator PrivBayes on input data\n",
      "1/11 - Root of network: occupation\n",
      "\n",
      "2/11 - Evaluating next attribute to add to network\n",
      "Number of AttributeParentPair candidates: 10\n",
      "Selected attribute: 'race' - with parents: None\n",
      "\n",
      "3/11 - Evaluating next attribute to add to network\n",
      "Number of AttributeParentPair candidates: 9\n",
      "Selected attribute: 'age' - with parents: None\n",
      "\n",
      "4/11 - Evaluating next attribute to add to network\n",
      "Number of AttributeParentPair candidates: 8\n",
      "Selected attribute: 'relationship' - with parents: None\n",
      "\n",
      "5/11 - Evaluating next attribute to add to network\n",
      "Number of AttributeParentPair candidates: 9\n",
      "Selected attribute: 'sex' - with parents: ('relationship',)\n",
      "\n",
      "6/11 - Evaluating next attribute to add to network\n",
      "Number of AttributeParentPair candidates: 7\n",
      "Selected attribute: 'marital-status' - with parents: ('sex',)\n",
      "\n",
      "7/11 - Evaluating next attribute to add to network\n",
      "Number of AttributeParentPair candidates: 7\n",
      "Selected attribute: 'income' - with parents: ('marital-status',)\n",
      "\n",
      "8/11 - Evaluating next attribute to add to network\n",
      "Number of AttributeParentPair candidates: 5\n",
      "Selected attribute: 'education' - with parents: None\n",
      "\n",
      "9/11 - Evaluating next attribute to add to network\n",
      "Number of AttributeParentPair candidates: 4\n",
      "Selected attribute: 'hours-per-week' - with parents: None\n",
      "\n",
      "10/11 - Evaluating next attribute to add to network\n",
      "Number of AttributeParentPair candidates: 3\n",
      "Selected attribute: 'workclass' - with parents: ('income',)\n",
      "\n",
      "11/11 - Evaluating next attribute to add to network\n",
      "Number of AttributeParentPair candidates: 1\n",
      "Selected attribute: 'native-country' - with parents: None\n",
      "\n",
      "Learned Network Structure\n",
      "\n",
      "Learning conditional probabilities: occupation - with parents None ~ estimated size: 15\n",
      "Learning conditional probabilities: race - with parents None ~ estimated size: 5\n",
      "Learning conditional probabilities: age - with parents None ~ estimated size: 71\n",
      "Learning conditional probabilities: relationship - with parents None ~ estimated size: 6\n",
      "Learning conditional probabilities: sex - with parents ('relationship',) ~ estimated size: 12\n",
      "Learning conditional probabilities: marital-status - with parents ('sex',) ~ estimated size: 14\n",
      "Learning conditional probabilities: income - with parents ('marital-status',) ~ estimated size: 14\n",
      "Learning conditional probabilities: education - with parents None ~ estimated size: 16\n",
      "Learning conditional probabilities: hours-per-week - with parents None ~ estimated size: 94\n",
      "Learning conditional probabilities: workclass - with parents ('income',) ~ estimated size: 18\n",
      "Learning conditional probabilities: native-country - with parents None ~ estimated size: 42\n",
      "Generator fitted. Generating 1000 records\n",
      "Number of records generated: 1000 / 1000\n",
      "Synthetic Data Generated\n",
      "\n",
      "Saved to disk: /Users/dknoors/Projects/synthesis-dk/crn-synth/results/adult/configs/1_PrivBayes_epsilon0.1.json\n",
      "Saved synthetic data, generator and configs for 1_PrivBayes_epsilon0.1 at /Users/dknoors/Projects/synthesis-dk/crn-synth/results/adult\n",
      "Running reviewer for 1_PrivBayes_epsilon0.1\n",
      "Running generator PrivBayes\n",
      "Fitting generator PrivBayes on input data\n",
      "1/11 - Root of network: marital-status\n",
      "\n",
      "2/11 - Evaluating next attribute to add to network\n",
      "Number of AttributeParentPair candidates: 10\n",
      "Selected attribute: 'relationship' - with parents: ('marital-status',)\n",
      "\n",
      "3/11 - Evaluating next attribute to add to network\n",
      "Number of AttributeParentPair candidates: 13\n",
      "Selected attribute: 'sex' - with parents: ('marital-status', 'relationship')\n",
      "\n",
      "4/11 - Evaluating next attribute to add to network\n",
      "Number of AttributeParentPair candidates: 12\n",
      "Selected attribute: 'occupation' - with parents: ('sex', 'relationship')\n",
      "\n",
      "5/11 - Evaluating next attribute to add to network\n",
      "Number of AttributeParentPair candidates: 14\n",
      "Selected attribute: 'workclass' - with parents: ('occupation',)\n",
      "\n",
      "6/11 - Evaluating next attribute to add to network\n",
      "Number of AttributeParentPair candidates: 16\n",
      "Selected attribute: 'income' - with parents: ('occupation', 'relationship')\n",
      "\n",
      "7/11 - Evaluating next attribute to add to network\n",
      "Number of AttributeParentPair candidates: 15\n",
      "Selected attribute: 'education' - with parents: ('relationship', 'income')\n",
      "\n",
      "8/11 - Evaluating next attribute to add to network\n",
      "Number of AttributeParentPair candidates: 12\n",
      "Selected attribute: 'age' - with parents: ('income',)\n",
      "\n",
      "9/11 - Evaluating next attribute to add to network\n",
      "Number of AttributeParentPair candidates: 10\n",
      "Selected attribute: 'hours-per-week' - with parents: ('sex',)\n",
      "\n",
      "10/11 - Evaluating next attribute to add to network\n",
      "Number of AttributeParentPair candidates: 8\n",
      "Selected attribute: 'race' - with parents: ('occupation', 'income')\n",
      "\n",
      "11/11 - Evaluating next attribute to add to network\n",
      "Number of AttributeParentPair candidates: 1\n",
      "Selected attribute: 'native-country' - with parents: ('sex', 'income')\n",
      "\n",
      "Learned Network Structure\n",
      "\n",
      "Learning conditional probabilities: marital-status - with parents None ~ estimated size: 7\n",
      "Learning conditional probabilities: relationship - with parents ('marital-status',) ~ estimated size: 42\n",
      "Learning conditional probabilities: sex - with parents ('marital-status', 'relationship') ~ estimated size: 84\n",
      "Learning conditional probabilities: occupation - with parents ('sex', 'relationship') ~ estimated size: 180\n",
      "Learning conditional probabilities: workclass - with parents ('occupation',) ~ estimated size: 135\n",
      "Learning conditional probabilities: income - with parents ('occupation', 'relationship') ~ estimated size: 180\n",
      "Learning conditional probabilities: education - with parents ('relationship', 'income') ~ estimated size: 192\n",
      "Learning conditional probabilities: age - with parents ('income',) ~ estimated size: 142\n",
      "Learning conditional probabilities: hours-per-week - with parents ('sex',) ~ estimated size: 188\n",
      "Learning conditional probabilities: race - with parents ('occupation', 'income') ~ estimated size: 150\n",
      "Learning conditional probabilities: native-country - with parents ('sex', 'income') ~ estimated size: 168\n",
      "Generator fitted. Generating 1000 records\n",
      "Number of records generated: 617 / 1000"
     ]
    },
    {
     "name": "stderr",
     "output_type": "stream",
     "text": [
      "/Users/dknoors/miniconda3/envs/crnsynth/lib/python3.9/site-packages/thomas/core/factors/cpt.py:65: RuntimeWarning: invalid value encountered in divide\n",
      "  self.values = self.values / row_sum\n",
      "/Users/dknoors/miniconda3/envs/crnsynth/lib/python3.9/site-packages/thomas/core/factors/cpt.py:65: RuntimeWarning: invalid value encountered in divide\n",
      "  self.values = self.values / row_sum\n"
     ]
    },
    {
     "name": "stdout",
     "output_type": "stream",
     "text": [
      "Number of records generated: 1000 / 1000\n",
      "Synthetic Data Generated\n",
      "\n",
      "Saved to disk: /Users/dknoors/Projects/synthesis-dk/crn-synth/results/adult/configs/2_PrivBayes_epsilon1.json\n",
      "Saved synthetic data, generator and configs for 2_PrivBayes_epsilon1 at /Users/dknoors/Projects/synthesis-dk/crn-synth/results/adult\n",
      "Running reviewer for 2_PrivBayes_epsilon1\n",
      "Saved scores at /Users/dknoors/Projects/synthesis-dk/crn-synth/results/adult/reports/scores.csv\n"
     ]
    }
   ],
   "execution_count": 85
  },
  {
   "metadata": {},
   "cell_type": "markdown",
   "source": "## Load and review results"
  },
  {
   "metadata": {
    "ExecuteTime": {
     "end_time": "2024-04-24T14:36:17.613118Z",
     "start_time": "2024-04-24T14:36:17.584646Z"
    }
   },
   "cell_type": "code",
   "source": [
    "# load results\n",
    "scores_benchmark = pd.read_csv(paths.PATH_RESULTS / 'adult/reports/scores.csv')\n",
    "scores_benchmark"
   ],
   "outputs": [
    {
     "data": {
      "text/plain": [
       "                                         metric  \\\n",
       "0         privacy_DistanceClosestRecord_holdout   \n",
       "1           privacy_DistanceClosestRecord_synth   \n",
       "2  privacy_NearestNeighborDistanceRatio_holdout   \n",
       "3    privacy_NearestNeighborDistanceRatio_synth   \n",
       "4             privacy_CategoricalCAPScore_score   \n",
       "5      utility_ContingencySimilarityScore_score   \n",
       "6              utility_FeatureCorrelation_score   \n",
       "7      utility_CorrelationSimilarityScore_score   \n",
       "\n",
       "   0_MarginalGenerator_epsilon0.1  1_PrivBayes_epsilon0.1  \\\n",
       "0                        0.003101                0.003101   \n",
       "1                        1.000000                0.991522   \n",
       "2                        0.624207                0.624207   \n",
       "3                        0.937875                0.927293   \n",
       "4                        0.967370                0.994094   \n",
       "5                        0.859009                0.844560   \n",
       "6                        0.799162                0.817108   \n",
       "7                        0.962402                0.971919   \n",
       "\n",
       "   2_PrivBayes_epsilon1  \n",
       "0              0.003101  \n",
       "1              0.085904  \n",
       "2              0.624207  \n",
       "3              0.791771  \n",
       "4              0.953864  \n",
       "5              0.883557  \n",
       "6              0.849146  \n",
       "7              0.964151  "
      ],
      "text/html": [
       "<div>\n",
       "<style scoped>\n",
       "    .dataframe tbody tr th:only-of-type {\n",
       "        vertical-align: middle;\n",
       "    }\n",
       "\n",
       "    .dataframe tbody tr th {\n",
       "        vertical-align: top;\n",
       "    }\n",
       "\n",
       "    .dataframe thead th {\n",
       "        text-align: right;\n",
       "    }\n",
       "</style>\n",
       "<table border=\"1\" class=\"dataframe\">\n",
       "  <thead>\n",
       "    <tr style=\"text-align: right;\">\n",
       "      <th></th>\n",
       "      <th>metric</th>\n",
       "      <th>0_MarginalGenerator_epsilon0.1</th>\n",
       "      <th>1_PrivBayes_epsilon0.1</th>\n",
       "      <th>2_PrivBayes_epsilon1</th>\n",
       "    </tr>\n",
       "  </thead>\n",
       "  <tbody>\n",
       "    <tr>\n",
       "      <th>0</th>\n",
       "      <td>privacy_DistanceClosestRecord_holdout</td>\n",
       "      <td>0.003101</td>\n",
       "      <td>0.003101</td>\n",
       "      <td>0.003101</td>\n",
       "    </tr>\n",
       "    <tr>\n",
       "      <th>1</th>\n",
       "      <td>privacy_DistanceClosestRecord_synth</td>\n",
       "      <td>1.000000</td>\n",
       "      <td>0.991522</td>\n",
       "      <td>0.085904</td>\n",
       "    </tr>\n",
       "    <tr>\n",
       "      <th>2</th>\n",
       "      <td>privacy_NearestNeighborDistanceRatio_holdout</td>\n",
       "      <td>0.624207</td>\n",
       "      <td>0.624207</td>\n",
       "      <td>0.624207</td>\n",
       "    </tr>\n",
       "    <tr>\n",
       "      <th>3</th>\n",
       "      <td>privacy_NearestNeighborDistanceRatio_synth</td>\n",
       "      <td>0.937875</td>\n",
       "      <td>0.927293</td>\n",
       "      <td>0.791771</td>\n",
       "    </tr>\n",
       "    <tr>\n",
       "      <th>4</th>\n",
       "      <td>privacy_CategoricalCAPScore_score</td>\n",
       "      <td>0.967370</td>\n",
       "      <td>0.994094</td>\n",
       "      <td>0.953864</td>\n",
       "    </tr>\n",
       "    <tr>\n",
       "      <th>5</th>\n",
       "      <td>utility_ContingencySimilarityScore_score</td>\n",
       "      <td>0.859009</td>\n",
       "      <td>0.844560</td>\n",
       "      <td>0.883557</td>\n",
       "    </tr>\n",
       "    <tr>\n",
       "      <th>6</th>\n",
       "      <td>utility_FeatureCorrelation_score</td>\n",
       "      <td>0.799162</td>\n",
       "      <td>0.817108</td>\n",
       "      <td>0.849146</td>\n",
       "    </tr>\n",
       "    <tr>\n",
       "      <th>7</th>\n",
       "      <td>utility_CorrelationSimilarityScore_score</td>\n",
       "      <td>0.962402</td>\n",
       "      <td>0.971919</td>\n",
       "      <td>0.964151</td>\n",
       "    </tr>\n",
       "  </tbody>\n",
       "</table>\n",
       "</div>"
      ]
     },
     "execution_count": 86,
     "metadata": {},
     "output_type": "execute_result"
    }
   ],
   "execution_count": 86
  },
  {
   "metadata": {
    "ExecuteTime": {
     "end_time": "2024-04-24T14:36:21.797004Z",
     "start_time": "2024-04-24T14:36:21.771588Z"
    }
   },
   "cell_type": "code",
   "source": [
    "# load saved generator\n",
    "pb_reload = PrivBayes(epsilon=0.1).load(paths.PATH_RESULTS / 'adult/generators/2_PrivBayes_epsilon1.pkl')\n",
    "pb_reload.model.network_"
   ],
   "outputs": [
    {
     "data": {
      "text/plain": [
       "[APPair(attribute='marital-status', parents=None),\n",
       " APPair(attribute='relationship', parents=('marital-status',)),\n",
       " APPair(attribute='sex', parents=('marital-status', 'relationship')),\n",
       " APPair(attribute='occupation', parents=('sex', 'relationship')),\n",
       " APPair(attribute='workclass', parents=('occupation',)),\n",
       " APPair(attribute='income', parents=('occupation', 'relationship')),\n",
       " APPair(attribute='education', parents=('relationship', 'income')),\n",
       " APPair(attribute='age', parents=('income',)),\n",
       " APPair(attribute='hours-per-week', parents=('sex',)),\n",
       " APPair(attribute='race', parents=('occupation', 'income')),\n",
       " APPair(attribute='native-country', parents=('sex', 'income'))]"
      ]
     },
     "execution_count": 87,
     "metadata": {},
     "output_type": "execute_result"
    }
   ],
   "execution_count": 87
  },
  {
   "metadata": {
    "ExecuteTime": {
     "end_time": "2024-04-24T14:36:53.838821Z",
     "start_time": "2024-04-24T14:36:53.816118Z"
    }
   },
   "cell_type": "code",
   "source": [
    "# load config\n",
    "config = load.load_json(paths.PATH_RESULTS / 'adult/configs/0_MarginalGenerator_epsilon0.1.json')\n",
    "config"
   ],
   "outputs": [
    {
     "name": "stdout",
     "output_type": "stream",
     "text": [
      "Loaded: /Users/dknoors/Projects/synthesis-dk/crn-synth/results/adult/configs/0_MarginalGenerator_epsilon0.1.json\n"
     ]
    },
    {
     "data": {
      "text/plain": [
       "{'model': {'epsilon': 0.1,\n",
       "  'verbose': 1,\n",
       "  'columns_': ['age',\n",
       "   'hours-per-week',\n",
       "   'workclass',\n",
       "   'education',\n",
       "   'marital-status',\n",
       "   'occupation',\n",
       "   'relationship',\n",
       "   'race',\n",
       "   'sex',\n",
       "   'native-country',\n",
       "   'income'],\n",
       "  'n_records_fit_': 26048,\n",
       "  'dtypes_fit_': {},\n",
       "  'model_': {'age': {'31': 0.02953113503180167,\n",
       "    '23': 0.020206850348045247,\n",
       "    '36': 0.02440254790165928,\n",
       "    '35': 0.01588863780532297,\n",
       "    '28': 0.023892853531741684,\n",
       "    '34': 0.04283531904345958,\n",
       "    '37': 0.03515129824025246,\n",
       "    '27': 0.016135739678395038,\n",
       "    '30': 0.035155427714805586,\n",
       "    '33': 0.0,\n",
       "    '25': 0.030597987474757376,\n",
       "    '32': 0.03788621682140433,\n",
       "    '38': 0.011745251300373686,\n",
       "    '39': 0.016883122659789043,\n",
       "    '29': 0.01938241244400488,\n",
       "    '41': 0.0042284603625428385,\n",
       "    '40': 0.008994927184385241,\n",
       "    '26': 0.03019003752357534,\n",
       "    '42': 0.023120106232622874,\n",
       "    '43': 0.008038548346137302,\n",
       "    '24': 0.03225537850400474,\n",
       "    '20': 0.0,\n",
       "    '22': 0.006547798003392347,\n",
       "    '46': 0.03653459109185568,\n",
       "    '44': 0.04191512580064833,\n",
       "    '19': 0.027300349787570483,\n",
       "    '45': 0.0071320170376799495,\n",
       "    '21': 0.024251650769019934,\n",
       "    '47': 0.008738956310485222,\n",
       "    '50': 0.009359172234040631,\n",
       "    '51': 0.024944616631801222,\n",
       "    '49': 0.014829686909225396,\n",
       "    '18': 0.020153706004953267,\n",
       "    '48': 0.013355225586516228,\n",
       "    '52': 0.02892250911030357,\n",
       "    '53': 0.018355220207229173,\n",
       "    '55': 0.02258593928945376,\n",
       "    '54': 0.006835354216103995,\n",
       "    '17': 0.02552701302769782,\n",
       "    '58': 0.03599352969805894,\n",
       "    '56': 0.009875600159402942,\n",
       "    '57': 9.06244514785471e-05,\n",
       "    '59': 0.0013535193148886836,\n",
       "    '60': 0.005279217270689706,\n",
       "    '61': 0.008557478917582816,\n",
       "    '62': 0.004343465405807855,\n",
       "    '63': 0.0022592576312234314,\n",
       "    '64': 0.01012006329016758,\n",
       "    '65': 0.014387565217545114,\n",
       "    '67': 0.012332699944470109,\n",
       "    '66': 0.0030504082205116247,\n",
       "    '68': 0.0018528758025783145,\n",
       "    '69': 0.0,\n",
       "    '70': 0.0,\n",
       "    '71': 0.0,\n",
       "    '73': 0.0052851869260432055,\n",
       "    '72': 0.0018094431723432122,\n",
       "    '74': 0.0,\n",
       "    '90': 0.007508845122269759,\n",
       "    '75': 0.03457854950511255,\n",
       "    '76': 0.0018423207592257796,\n",
       "    '77': 0.0,\n",
       "    '80': 0.0062258089971004285,\n",
       "    '78': 0.010698722736118058,\n",
       "    '79': 0.0,\n",
       "    '81': 0.001479447172312925,\n",
       "    '82': 0.0015038748949711231,\n",
       "    '84': 0.005695756234179224,\n",
       "    '83': 0.010064548988859886,\n",
       "    '88': 0.0,\n",
       "    '85': 0.0},\n",
       "   'hours-per-week': {'40': 0.3605278704162054,\n",
       "    '50': 0.06984639793430565,\n",
       "    '45': 0.04570753255950298,\n",
       "    '60': 0.02374948055356589,\n",
       "    '35': 0.04307456276615475,\n",
       "    '20': 0.03287209980808845,\n",
       "    '30': 0.02422089793157664,\n",
       "    '55': 0.001940021061306558,\n",
       "    '25': 0.01800278390167694,\n",
       "    '48': 0.0023442742662241694,\n",
       "    '38': 0.005779746779588336,\n",
       "    '15': 0.008006339429831937,\n",
       "    '70': 0.0060721374632288615,\n",
       "    '10': 0.005297018388742235,\n",
       "    '32': 0.006392020963592853,\n",
       "    '65': 0.009803593235410305,\n",
       "    '24': 0.006575558399955334,\n",
       "    '44': 0.009434558328756885,\n",
       "    '36': 0.009748250610828851,\n",
       "    '16': 0.00884220902428686,\n",
       "    '42': 0.0,\n",
       "    '12': 0.011275162048376934,\n",
       "    '8': 0.003881787861658689,\n",
       "    '37': 0.0065789069549214655,\n",
       "    '43': 0.0,\n",
       "    '80': 0.003846734181257896,\n",
       "    '52': 0.001725662607310787,\n",
       "    '56': 0.0,\n",
       "    '99': 0.013603661851225825,\n",
       "    '28': 0.029062339846095908,\n",
       "    '72': 0.004865315364711615,\n",
       "    '75': 0.003852922450922406,\n",
       "    '18': 0.0060817733372290515,\n",
       "    '46': 0.0,\n",
       "    '6': 0.005954325841463359,\n",
       "    '5': 0.01899653833764804,\n",
       "    '4': 0.007826046768388864,\n",
       "    '84': 0.01391126290036332,\n",
       "    '22': 0.0,\n",
       "    '47': 0.0,\n",
       "    '33': 0.00038478666645653164,\n",
       "    '54': 0.001190707051228856,\n",
       "    '3': 0.0003747942232372276,\n",
       "    '14': 0.0,\n",
       "    '41': 0.0,\n",
       "    '39': 0.010406262605159271,\n",
       "    '27': 0.0018638276524290493,\n",
       "    '90': 0.0,\n",
       "    '26': 0.006801954457933778,\n",
       "    '2': 0.011271052431525621,\n",
       "    '49': 0.0,\n",
       "    '34': 0.0,\n",
       "    '21': 0.0,\n",
       "    '58': 0.0,\n",
       "    '17': 0.0,\n",
       "    '13': 0.0,\n",
       "    '7': 0.003154966458382749,\n",
       "    '53': 0.0,\n",
       "    '62': 0.0,\n",
       "    '1': 0.0,\n",
       "    '57': 0.0,\n",
       "    '66': 0.0012004013780027298,\n",
       "    '9': 0.0,\n",
       "    '23': 0.001823591697173402,\n",
       "    '19': 0.0,\n",
       "    '51': 0.0,\n",
       "    '85': 0.017034639808492374,\n",
       "    '64': 0.0,\n",
       "    '68': 0.006144180437463066,\n",
       "    '63': 0.0,\n",
       "    '98': 0.0,\n",
       "    '11': 0.0098288506631304,\n",
       "    '78': 0.0051842096538765505,\n",
       "    '29': 0.0,\n",
       "    '96': 0.00936614880084483,\n",
       "    '77': 0.00014933571321770243,\n",
       "    '31': 0.007869905255351828,\n",
       "    '59': 0.02173025739472562,\n",
       "    '76': 0.0,\n",
       "    '67': 0.021078568002502327,\n",
       "    '89': 0.006753770091380488,\n",
       "    '95': 0.0,\n",
       "    '97': 0.0,\n",
       "    '81': 8.577407835401419e-05,\n",
       "    '88': 0.016542677659809903,\n",
       "    '86': 0.00665577281755781,\n",
       "    '87': 0.002986530239556782,\n",
       "    '91': 0.00041724058780303426,\n",
       "    '92': 0.0,\n",
       "    '94': 0.0,\n",
       "    '82': 0.0,\n",
       "    '74': 0.0,\n",
       "    '73': 0.0,\n",
       "    '61': 0.0},\n",
       "   'workclass': {'Private': 0.6878906729175468,\n",
       "    'Self-emp-not-inc': 0.08388675694051156,\n",
       "    'Local-gov': 0.04821370247390968,\n",
       "    '?': 0.06136463952907137,\n",
       "    'State-gov': 0.03715857753197727,\n",
       "    'Self-emp-inc': 0.035411759982097966,\n",
       "    'Federal-gov': 0.0460738906248854,\n",
       "    'Without-pay': 0.0,\n",
       "    'Never-worked': 0.0},\n",
       "   'education': {'HS-grad': 0.30653886951809783,\n",
       "    'Some-college': 0.22027553853109583,\n",
       "    'Bachelors': 0.1493731654138158,\n",
       "    'Masters': 0.050643334604901266,\n",
       "    'Assoc-voc': 0.04504770893117178,\n",
       "    '11th': 0.05016614972998723,\n",
       "    'Assoc-acdm': 0.035316008233040125,\n",
       "    '10th': 0.02471436798846884,\n",
       "    '7th-8th': 0.009506661836350317,\n",
       "    'Prof-school': 0.011154287597979625,\n",
       "    '9th': 0.006558186303807458,\n",
       "    '12th': 0.024380400285533583,\n",
       "    'Doctorate': 0.009535875844521273,\n",
       "    '5th-6th': 0.022271120759337914,\n",
       "    '1st-4th': 0.02845150745932772,\n",
       "    'Preschool': 0.006066816962563361},\n",
       "   'marital-status': {'Married-civ-spouse': 0.45651928590921625,\n",
       "    'Never-married': 0.33860341151344703,\n",
       "    'Divorced': 0.14128268310344844,\n",
       "    'Separated': 0.025853248443374235,\n",
       "    'Widowed': 0.028710897957033955,\n",
       "    'Married-spouse-absent': 0.009030473073480202,\n",
       "    'Married-AF-spouse': 0.0},\n",
       "   'occupation': {'Prof-specialty': 0.13427212286427612,\n",
       "    'Craft-repair': 0.14213262468831758,\n",
       "    'Exec-managerial': 0.13020974050453799,\n",
       "    'Adm-clerical': 0.11357208534403532,\n",
       "    'Sales': 0.1228458995420138,\n",
       "    'Other-service': 0.1001607752303523,\n",
       "    'Machine-op-inspct': 0.05056511269340601,\n",
       "    '?': 0.04821622604264563,\n",
       "    'Transport-moving': 0.055734956604308696,\n",
       "    'Handlers-cleaners': 0.03116500838681185,\n",
       "    'Farming-fishing': 0.017472335620967748,\n",
       "    'Tech-support': 0.013800672560984698,\n",
       "    'Protective-serv': 0.029070904109746054,\n",
       "    'Priv-house-serv': 0.010781535807596256,\n",
       "    'Armed-Forces': 0.0},\n",
       "   'relationship': {'Husband': 0.40588360678869606,\n",
       "    'Not-in-family': 0.24620122499785987,\n",
       "    'Own-child': 0.16052684335360948,\n",
       "    'Unmarried': 0.11331420779804922,\n",
       "    'Wife': 0.0507077210881612,\n",
       "    'Other-relative': 0.02336639597362414},\n",
       "   'race': {'White': 0.9196967250308999,\n",
       "    'Black': 0.054585406462306245,\n",
       "    'Asian-Pac-Islander': 0.013944204541155886,\n",
       "    'Amer-Indian-Eskimo': 0.0006991041587108864,\n",
       "    'Other': 0.011074559806927021},\n",
       "   'sex': {'Male': 0.6751344593248801, 'Female': 0.3248655406751199},\n",
       "   'native-country': {'United-States': 0.6866162839407177,\n",
       "    'Mexico': 0.006621748113114379,\n",
       "    '?': 0.019453701530178894,\n",
       "    'Philippines': 0.0,\n",
       "    'Germany': 0.007314229011352769,\n",
       "    'Canada': 0.035663901426655174,\n",
       "    'Puerto-Rico': 0.01784980871869621,\n",
       "    'El-Salvador': 0.017429246767394442,\n",
       "    'Cuba': 0.0,\n",
       "    'India': 0.024544748104045035,\n",
       "    'England': 0.04023166128668191,\n",
       "    'South': 0.0,\n",
       "    'China': 0.0011827486098448452,\n",
       "    'Jamaica': 0.012707055894845352,\n",
       "    'Italy': 0.0012600762948616567,\n",
       "    'Dominican-Republic': 0.02951223045913558,\n",
       "    'Vietnam': 0.0,\n",
       "    'Columbia': 0.0007075908655809848,\n",
       "    'Poland': 0.0,\n",
       "    'Japan': 0.012160581318524015,\n",
       "    'Taiwan': 0.009201176624890077,\n",
       "    'Guatemala': 0.0,\n",
       "    'Haiti': 0.015104689980136737,\n",
       "    'Iran': 0.0,\n",
       "    'Portugal': 0.0011611542483910503,\n",
       "    'France': 0.0,\n",
       "    'Greece': 0.0,\n",
       "    'Ecuador': 0.004868894174149723,\n",
       "    'Peru': 0.005644594224319464,\n",
       "    'Nicaragua': 0.008984325407775415,\n",
       "    'Ireland': 0.0,\n",
       "    'Hong': 0.0,\n",
       "    'Laos': 0.0,\n",
       "    'Cambodia': 0.010642998402775737,\n",
       "    'Trinadad&Tobago': 0.0,\n",
       "    'Hungary': 0.0,\n",
       "    'Thailand': 0.003546795965487491,\n",
       "    'Outlying-US(Guam-USVI-etc)': 0.0,\n",
       "    'Honduras': 0.019624697882722707,\n",
       "    'Scotland': 0.0,\n",
       "    'Yugoslavia': 0.007923413623050308,\n",
       "    'Holand-Netherlands': 4.1647124672265136e-05},\n",
       "   'income': {'<=50K': 0.7557111852846066, '>50K': 0.2442888147153935}}},\n",
       " 'epsilon': 0.1}"
      ]
     },
     "execution_count": 89,
     "metadata": {},
     "output_type": "execute_result"
    }
   ],
   "execution_count": 89
  }
 ],
 "metadata": {
  "kernelspec": {
   "display_name": "Python 3 (ipykernel)",
   "language": "python",
   "name": "python3"
  },
  "language_info": {
   "codemirror_mode": {
    "name": "ipython",
    "version": 3
   },
   "file_extension": ".py",
   "mimetype": "text/x-python",
   "name": "python",
   "nbconvert_exporter": "python",
   "pygments_lexer": "ipython3",
   "version": "3.9.18"
  }
 },
 "nbformat": 4,
 "nbformat_minor": 4
}
