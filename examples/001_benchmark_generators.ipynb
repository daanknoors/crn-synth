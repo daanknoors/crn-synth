{
 "cells": [
  {
   "cell_type": "markdown",
   "metadata": {},
   "source": [
    "# Benchmark generators\n",
    "Run a suite of metrics to evaluate the utility and privacy of synthetic data."
   ]
  },
  {
   "cell_type": "markdown",
   "metadata": {},
   "source": [
    "## Load libraries and define settings"
   ]
  },
  {
   "cell_type": "code",
   "metadata": {
    "ExecuteTime": {
     "end_time": "2024-04-19T14:55:59.824681Z",
     "start_time": "2024-04-19T14:55:59.821550Z"
    }
   },
   "source": [
    "# general dependencies\n",
    "import numpy as np\n",
    "import pandas as pd\n",
    "import warnings\n",
    "import matplotlib.pyplot as plt\n",
    "import seaborn as sns\n",
    "import sys\n",
    "import os\n",
    "from pathlib import Path"
   ],
   "outputs": [],
   "execution_count": 2
  },
  {
   "cell_type": "code",
   "metadata": {
    "ExecuteTime": {
     "end_time": "2024-04-19T14:56:00.345681Z",
     "start_time": "2024-04-19T14:56:00.022235Z"
    }
   },
   "source": [
    "# package\n",
    "from crnsynth.generators.marginal_generator import MarginalGenerator\n",
    "from crnsynth.generators.privbayes import PrivBayes\n",
    "\n",
    "from crnsynth.processing import preprocessing\n",
    "\n",
    "from crnsynth.metrics import PRIVACY_METRICS, ALL_METRICS\n",
    "from crnsynth.benchmark.review import SyntheticDataReview\n",
    "from crnsynth.benchmark import benchmark\n",
    "from crnsynth.serialization import paths"
   ],
   "outputs": [],
   "execution_count": 3
  },
  {
   "cell_type": "code",
   "metadata": {
    "collapsed": false,
    "jupyter": {
     "outputs_hidden": false
    },
    "ExecuteTime": {
     "end_time": "2024-04-19T14:56:00.350142Z",
     "start_time": "2024-04-19T14:56:00.346724Z"
    }
   },
   "source": [
    "from examples import adult_synthesis"
   ],
   "outputs": [],
   "execution_count": 4
  },
  {
   "cell_type": "code",
   "metadata": {
    "ExecuteTime": {
     "end_time": "2024-04-19T14:56:00.367584Z",
     "start_time": "2024-04-19T14:56:00.350833Z"
    }
   },
   "source": [
    "# ignore deprecation warning\n",
    "warnings.filterwarnings(\"ignore\", category=DeprecationWarning) \n",
    "\n",
    "# autoreload changes from local files\n",
    "%load_ext autoreload\n",
    "%autoreload 2\n",
    "\n",
    "# pandas show full output\n",
    "pd.set_option('display.max_rows', 500)\n",
    "pd.set_option('display.max_columns', 200)"
   ],
   "outputs": [],
   "execution_count": 5
  },
  {
   "cell_type": "code",
   "metadata": {
    "ExecuteTime": {
     "end_time": "2024-04-19T14:56:00.477569Z",
     "start_time": "2024-04-19T14:56:00.462103Z"
    }
   },
   "source": [
    "# privacy budget for differentially private algorithms\n",
    "EPSILON = 1\n",
    "\n",
    "# other params\n",
    "RANDOM_STATE = 42\n",
    "VERBOSE = 1"
   ],
   "outputs": [],
   "execution_count": 6
  },
  {
   "cell_type": "markdown",
   "metadata": {},
   "source": [
    "## Load and process dataset"
   ]
  },
  {
   "cell_type": "code",
   "metadata": {
    "ExecuteTime": {
     "end_time": "2024-04-19T14:56:00.998128Z",
     "start_time": "2024-04-19T14:56:00.946296Z"
    }
   },
   "source": [
    "df_adult = pd.read_csv(adult_synthesis.PATH_ADULT)\n",
    "df_adult.head()\n"
   ],
   "outputs": [
    {
     "data": {
      "text/plain": [
       "   age         workclass  fnlwgt  education  education-num  \\\n",
       "0   39         State-gov   77516  Bachelors             13   \n",
       "1   50  Self-emp-not-inc   83311  Bachelors             13   \n",
       "2   38           Private  215646    HS-grad              9   \n",
       "3   53           Private  234721       11th              7   \n",
       "4   28           Private  338409  Bachelors             13   \n",
       "\n",
       "       marital-status         occupation   relationship   race     sex  \\\n",
       "0       Never-married       Adm-clerical  Not-in-family  White    Male   \n",
       "1  Married-civ-spouse    Exec-managerial        Husband  White    Male   \n",
       "2            Divorced  Handlers-cleaners  Not-in-family  White    Male   \n",
       "3  Married-civ-spouse  Handlers-cleaners        Husband  Black    Male   \n",
       "4  Married-civ-spouse     Prof-specialty           Wife  Black  Female   \n",
       "\n",
       "   capital-gain  capital-loss  hours-per-week native-country income  \n",
       "0          2174             0              40  United-States  <=50K  \n",
       "1             0             0              13  United-States  <=50K  \n",
       "2             0             0              40  United-States  <=50K  \n",
       "3             0             0              40  United-States  <=50K  \n",
       "4             0             0              40           Cuba  <=50K  "
      ],
      "text/html": [
       "<div>\n",
       "<style scoped>\n",
       "    .dataframe tbody tr th:only-of-type {\n",
       "        vertical-align: middle;\n",
       "    }\n",
       "\n",
       "    .dataframe tbody tr th {\n",
       "        vertical-align: top;\n",
       "    }\n",
       "\n",
       "    .dataframe thead th {\n",
       "        text-align: right;\n",
       "    }\n",
       "</style>\n",
       "<table border=\"1\" class=\"dataframe\">\n",
       "  <thead>\n",
       "    <tr style=\"text-align: right;\">\n",
       "      <th></th>\n",
       "      <th>age</th>\n",
       "      <th>workclass</th>\n",
       "      <th>fnlwgt</th>\n",
       "      <th>education</th>\n",
       "      <th>education-num</th>\n",
       "      <th>marital-status</th>\n",
       "      <th>occupation</th>\n",
       "      <th>relationship</th>\n",
       "      <th>race</th>\n",
       "      <th>sex</th>\n",
       "      <th>capital-gain</th>\n",
       "      <th>capital-loss</th>\n",
       "      <th>hours-per-week</th>\n",
       "      <th>native-country</th>\n",
       "      <th>income</th>\n",
       "    </tr>\n",
       "  </thead>\n",
       "  <tbody>\n",
       "    <tr>\n",
       "      <th>0</th>\n",
       "      <td>39</td>\n",
       "      <td>State-gov</td>\n",
       "      <td>77516</td>\n",
       "      <td>Bachelors</td>\n",
       "      <td>13</td>\n",
       "      <td>Never-married</td>\n",
       "      <td>Adm-clerical</td>\n",
       "      <td>Not-in-family</td>\n",
       "      <td>White</td>\n",
       "      <td>Male</td>\n",
       "      <td>2174</td>\n",
       "      <td>0</td>\n",
       "      <td>40</td>\n",
       "      <td>United-States</td>\n",
       "      <td>&lt;=50K</td>\n",
       "    </tr>\n",
       "    <tr>\n",
       "      <th>1</th>\n",
       "      <td>50</td>\n",
       "      <td>Self-emp-not-inc</td>\n",
       "      <td>83311</td>\n",
       "      <td>Bachelors</td>\n",
       "      <td>13</td>\n",
       "      <td>Married-civ-spouse</td>\n",
       "      <td>Exec-managerial</td>\n",
       "      <td>Husband</td>\n",
       "      <td>White</td>\n",
       "      <td>Male</td>\n",
       "      <td>0</td>\n",
       "      <td>0</td>\n",
       "      <td>13</td>\n",
       "      <td>United-States</td>\n",
       "      <td>&lt;=50K</td>\n",
       "    </tr>\n",
       "    <tr>\n",
       "      <th>2</th>\n",
       "      <td>38</td>\n",
       "      <td>Private</td>\n",
       "      <td>215646</td>\n",
       "      <td>HS-grad</td>\n",
       "      <td>9</td>\n",
       "      <td>Divorced</td>\n",
       "      <td>Handlers-cleaners</td>\n",
       "      <td>Not-in-family</td>\n",
       "      <td>White</td>\n",
       "      <td>Male</td>\n",
       "      <td>0</td>\n",
       "      <td>0</td>\n",
       "      <td>40</td>\n",
       "      <td>United-States</td>\n",
       "      <td>&lt;=50K</td>\n",
       "    </tr>\n",
       "    <tr>\n",
       "      <th>3</th>\n",
       "      <td>53</td>\n",
       "      <td>Private</td>\n",
       "      <td>234721</td>\n",
       "      <td>11th</td>\n",
       "      <td>7</td>\n",
       "      <td>Married-civ-spouse</td>\n",
       "      <td>Handlers-cleaners</td>\n",
       "      <td>Husband</td>\n",
       "      <td>Black</td>\n",
       "      <td>Male</td>\n",
       "      <td>0</td>\n",
       "      <td>0</td>\n",
       "      <td>40</td>\n",
       "      <td>United-States</td>\n",
       "      <td>&lt;=50K</td>\n",
       "    </tr>\n",
       "    <tr>\n",
       "      <th>4</th>\n",
       "      <td>28</td>\n",
       "      <td>Private</td>\n",
       "      <td>338409</td>\n",
       "      <td>Bachelors</td>\n",
       "      <td>13</td>\n",
       "      <td>Married-civ-spouse</td>\n",
       "      <td>Prof-specialty</td>\n",
       "      <td>Wife</td>\n",
       "      <td>Black</td>\n",
       "      <td>Female</td>\n",
       "      <td>0</td>\n",
       "      <td>0</td>\n",
       "      <td>40</td>\n",
       "      <td>Cuba</td>\n",
       "      <td>&lt;=50K</td>\n",
       "    </tr>\n",
       "  </tbody>\n",
       "</table>\n",
       "</div>"
      ]
     },
     "execution_count": 7,
     "metadata": {},
     "output_type": "execute_result"
    }
   ],
   "execution_count": 7
  },
  {
   "cell_type": "markdown",
   "metadata": {},
   "source": [
    "## Generate\n",
    "Here we show how step by step how to generate synthetic data."
   ]
  },
  {
   "cell_type": "code",
   "metadata": {
    "ExecuteTime": {
     "end_time": "2024-04-19T14:56:02.849562Z",
     "start_time": "2024-04-19T14:56:01.794791Z"
    }
   },
   "source": [
    "df = df_adult.copy()\n",
    "\n",
    "# process data\n",
    "df = adult_synthesis.preprocess_real_data(df)\n",
    "\n",
    "# split data\n",
    "df_train, df_holdout = preprocessing.split_train_holdout(df, target_column='income', holdout_size=0.2, random_state=RANDOM_STATE)\n",
    "\n",
    "# define your generator \n",
    "generator = PrivBayes(epsilon=EPSILON)\n",
    "\n",
    "# train the generator on the input data\n",
    "generator.fit(df_train)\n",
    "\n",
    "# generate synthetic data with a desired number of rows\n",
    "df_synth = generator.generate(n_records=1000)\n",
    "\n",
    "# post process the synthetic data\n",
    "df_synth = adult_synthesis.postprocess_synthetic_data(df_synth)\n",
    "\n",
    "df_synth.head()"
   ],
   "outputs": [
    {
     "name": "stdout",
     "output_type": "stream",
     "text": [
      "1/11 - Root of network: relationship\n",
      "\n",
      "2/11 - Evaluating next attribute to add to network\n",
      "Number of AttributeParentPair candidates: 10\n",
      "Selected attribute: 'marital-status' - with parents: ('relationship',)\n",
      "\n",
      "3/11 - Evaluating next attribute to add to network\n",
      "Number of AttributeParentPair candidates: 13\n",
      "Selected attribute: 'sex' - with parents: ('relationship', 'marital-status')\n",
      "\n",
      "4/11 - Evaluating next attribute to add to network\n",
      "Number of AttributeParentPair candidates: 12\n",
      "Selected attribute: 'occupation' - with parents: ('sex', 'relationship')\n",
      "\n",
      "5/11 - Evaluating next attribute to add to network\n",
      "Number of AttributeParentPair candidates: 14\n",
      "Selected attribute: 'workclass' - with parents: ('occupation',)\n",
      "\n",
      "6/11 - Evaluating next attribute to add to network\n",
      "Number of AttributeParentPair candidates: 16\n",
      "Selected attribute: 'income' - with parents: ('occupation', 'relationship')\n",
      "\n",
      "7/11 - Evaluating next attribute to add to network\n",
      "Number of AttributeParentPair candidates: 15\n",
      "Selected attribute: 'education' - with parents: ('income', 'relationship')\n",
      "\n",
      "8/11 - Evaluating next attribute to add to network\n",
      "Number of AttributeParentPair candidates: 12\n",
      "Selected attribute: 'age' - with parents: ('income',)\n",
      "\n",
      "9/11 - Evaluating next attribute to add to network\n",
      "Number of AttributeParentPair candidates: 10\n",
      "Selected attribute: 'hours-per-week' - with parents: ('sex',)\n",
      "\n",
      "10/11 - Evaluating next attribute to add to network\n",
      "Number of AttributeParentPair candidates: 8\n",
      "Selected attribute: 'race' - with parents: ('sex', 'income', 'relationship')\n",
      "\n",
      "11/11 - Evaluating next attribute to add to network\n",
      "Number of AttributeParentPair candidates: 1\n",
      "Selected attribute: 'native-country' - with parents: ('sex', 'income')\n",
      "\n",
      "Learned Network Structure\n",
      "\n",
      "Learning conditional probabilities: relationship - with parents None ~ estimated size: 6\n",
      "Learning conditional probabilities: marital-status - with parents ('relationship',) ~ estimated size: 42\n",
      "Learning conditional probabilities: sex - with parents ('relationship', 'marital-status') ~ estimated size: 84\n",
      "Learning conditional probabilities: occupation - with parents ('sex', 'relationship') ~ estimated size: 180\n",
      "Learning conditional probabilities: workclass - with parents ('occupation',) ~ estimated size: 135\n",
      "Learning conditional probabilities: income - with parents ('occupation', 'relationship') ~ estimated size: 180\n",
      "Learning conditional probabilities: education - with parents ('income', 'relationship') ~ estimated size: 192\n",
      "Learning conditional probabilities: age - with parents ('income',) ~ estimated size: 142\n",
      "Learning conditional probabilities: hours-per-week - with parents ('sex',) ~ estimated size: 188\n",
      "Learning conditional probabilities: race - with parents ('sex', 'income', 'relationship') ~ estimated size: 120\n",
      "Learning conditional probabilities: native-country - with parents ('sex', 'income') ~ estimated size: 168\n",
      "Number of records generated: 592 / 1000"
     ]
    },
    {
     "name": "stderr",
     "output_type": "stream",
     "text": [
      "/Users/dknoors/miniconda3/envs/crnsynth/lib/python3.9/site-packages/thomas/core/factors/cpt.py:65: RuntimeWarning: invalid value encountered in divide\n",
      "  self.values = self.values / row_sum\n",
      "/Users/dknoors/miniconda3/envs/crnsynth/lib/python3.9/site-packages/thomas/core/factors/cpt.py:65: RuntimeWarning: invalid value encountered in divide\n",
      "  self.values = self.values / row_sum\n"
     ]
    },
    {
     "name": "stdout",
     "output_type": "stream",
     "text": [
      "Number of records generated: 1000 / 1000\n",
      "Synthetic Data Generated\n",
      "\n"
     ]
    },
    {
     "data": {
      "text/plain": [
       "   age  hours-per-week workclass     education      marital-status  \\\n",
       "0   39              30   Private  Some-college       Never-married   \n",
       "1   19              44   Private  Some-college  Married-civ-spouse   \n",
       "2   19              40   Private       HS-grad            Divorced   \n",
       "3   18              86         ?  Some-college            Divorced   \n",
       "4   30              50   Private    Assoc-acdm       Never-married   \n",
       "\n",
       "          occupation relationship                race     sex native-country  \\\n",
       "0       Craft-repair    Own-child               White    Male  United-States   \n",
       "1  Handlers-cleaners      Husband               White    Male    El-Salvador   \n",
       "2       Craft-repair    Unmarried               White  Female  United-States   \n",
       "3                  ?    Unmarried               White  Female  United-States   \n",
       "4  Machine-op-inspct    Own-child  Amer-Indian-Eskimo  Female       Columbia   \n",
       "\n",
       "  income  \n",
       "0  <=50K  \n",
       "1  <=50K  \n",
       "2  <=50K  \n",
       "3  <=50K  \n",
       "4  <=50K  "
      ],
      "text/html": [
       "<div>\n",
       "<style scoped>\n",
       "    .dataframe tbody tr th:only-of-type {\n",
       "        vertical-align: middle;\n",
       "    }\n",
       "\n",
       "    .dataframe tbody tr th {\n",
       "        vertical-align: top;\n",
       "    }\n",
       "\n",
       "    .dataframe thead th {\n",
       "        text-align: right;\n",
       "    }\n",
       "</style>\n",
       "<table border=\"1\" class=\"dataframe\">\n",
       "  <thead>\n",
       "    <tr style=\"text-align: right;\">\n",
       "      <th></th>\n",
       "      <th>age</th>\n",
       "      <th>hours-per-week</th>\n",
       "      <th>workclass</th>\n",
       "      <th>education</th>\n",
       "      <th>marital-status</th>\n",
       "      <th>occupation</th>\n",
       "      <th>relationship</th>\n",
       "      <th>race</th>\n",
       "      <th>sex</th>\n",
       "      <th>native-country</th>\n",
       "      <th>income</th>\n",
       "    </tr>\n",
       "  </thead>\n",
       "  <tbody>\n",
       "    <tr>\n",
       "      <th>0</th>\n",
       "      <td>39</td>\n",
       "      <td>30</td>\n",
       "      <td>Private</td>\n",
       "      <td>Some-college</td>\n",
       "      <td>Never-married</td>\n",
       "      <td>Craft-repair</td>\n",
       "      <td>Own-child</td>\n",
       "      <td>White</td>\n",
       "      <td>Male</td>\n",
       "      <td>United-States</td>\n",
       "      <td>&lt;=50K</td>\n",
       "    </tr>\n",
       "    <tr>\n",
       "      <th>1</th>\n",
       "      <td>19</td>\n",
       "      <td>44</td>\n",
       "      <td>Private</td>\n",
       "      <td>Some-college</td>\n",
       "      <td>Married-civ-spouse</td>\n",
       "      <td>Handlers-cleaners</td>\n",
       "      <td>Husband</td>\n",
       "      <td>White</td>\n",
       "      <td>Male</td>\n",
       "      <td>El-Salvador</td>\n",
       "      <td>&lt;=50K</td>\n",
       "    </tr>\n",
       "    <tr>\n",
       "      <th>2</th>\n",
       "      <td>19</td>\n",
       "      <td>40</td>\n",
       "      <td>Private</td>\n",
       "      <td>HS-grad</td>\n",
       "      <td>Divorced</td>\n",
       "      <td>Craft-repair</td>\n",
       "      <td>Unmarried</td>\n",
       "      <td>White</td>\n",
       "      <td>Female</td>\n",
       "      <td>United-States</td>\n",
       "      <td>&lt;=50K</td>\n",
       "    </tr>\n",
       "    <tr>\n",
       "      <th>3</th>\n",
       "      <td>18</td>\n",
       "      <td>86</td>\n",
       "      <td>?</td>\n",
       "      <td>Some-college</td>\n",
       "      <td>Divorced</td>\n",
       "      <td>?</td>\n",
       "      <td>Unmarried</td>\n",
       "      <td>White</td>\n",
       "      <td>Female</td>\n",
       "      <td>United-States</td>\n",
       "      <td>&lt;=50K</td>\n",
       "    </tr>\n",
       "    <tr>\n",
       "      <th>4</th>\n",
       "      <td>30</td>\n",
       "      <td>50</td>\n",
       "      <td>Private</td>\n",
       "      <td>Assoc-acdm</td>\n",
       "      <td>Never-married</td>\n",
       "      <td>Machine-op-inspct</td>\n",
       "      <td>Own-child</td>\n",
       "      <td>Amer-Indian-Eskimo</td>\n",
       "      <td>Female</td>\n",
       "      <td>Columbia</td>\n",
       "      <td>&lt;=50K</td>\n",
       "    </tr>\n",
       "  </tbody>\n",
       "</table>\n",
       "</div>"
      ]
     },
     "execution_count": 8,
     "metadata": {},
     "output_type": "execute_result"
    }
   ],
   "execution_count": 8
  },
  {
   "cell_type": "markdown",
   "metadata": {
    "collapsed": false,
    "jupyter": {
     "outputs_hidden": false
    }
   },
   "source": [
    "## Synthetic Data Review\n",
    "Run a suite of metrics to evaluate the utility and privacy of synthetic data."
   ]
  },
  {
   "cell_type": "code",
   "metadata": {
    "ExecuteTime": {
     "end_time": "2024-04-19T14:56:03.137319Z",
     "start_time": "2024-04-19T14:56:03.121705Z"
    }
   },
   "source": [
    "# metrics can either be a list or dictionary\n",
    "metrics = ALL_METRICS\n",
    "metrics"
   ],
   "outputs": [
    {
     "data": {
      "text/plain": [
       "{'privacy': [DistanceClosestRecord({'encoder': 'ordinal', 'quantile': 0.5, 'metric': 'gower', 'categorical_columns': None}),\n",
       "  NearestNeighborDistanceRatio({'encoder': 'ordinal', 'quantile': 0.5, 'metric': 'gower', 'n_neighbors': 2, 'categorical_columns': None}),\n",
       "  CategoricalCAPScore({'encoder': 'ordinal', 'categorical_columns': None, 'frac_sensitive': 0.5, 'random_state': None})]}"
      ]
     },
     "execution_count": 9,
     "metadata": {},
     "output_type": "execute_result"
    }
   ],
   "execution_count": 9
  },
  {
   "cell_type": "code",
   "metadata": {
    "collapsed": false,
    "jupyter": {
     "outputs_hidden": false
    },
    "ExecuteTime": {
     "end_time": "2024-04-19T14:56:19.993458Z",
     "start_time": "2024-04-19T14:56:04.206497Z"
    }
   },
   "source": [
    "# metrics that have any of the parameters below are updated with the following values\n",
    "# alternatively, you can set the values for each metric individually as well\n",
    "metric_kwargs = {\n",
    "    'categorical_columns': adult_synthesis.NOMINAL_COLUMNS,\n",
    "    'frac_sensitive': 0.5,\n",
    "    'random_state': RANDOM_STATE,\n",
    "}\n",
    "\n",
    "# define number of jobs for sequential (n_jobs == 1) or parallel computation (n_jobs > 1 or -1 for all cores)\n",
    "n_jobs = -1 \n",
    "\n",
    "synth_review = SyntheticDataReview(metrics=metrics, metric_kwargs=metric_kwargs, encoder='ordinal', n_jobs=n_jobs, verbose=VERBOSE)\n",
    "scores = synth_review.compute(df_train, df_synth, df_holdout)\n",
    "scores"
   ],
   "outputs": [
    {
     "data": {
      "text/plain": [
       "{'privacy': {'DistanceClosestRecord': {'holdout': 0.0031013367760234613,\n",
       "   'synth': 0.07022481592845455},\n",
       "  'NearestNeighborDistanceRatio': {'holdout': 0.6242069835342642,\n",
       "   'synth': 0.8147354192497644},\n",
       "  'CategoricalCAPScore': {'score': 0.9645891978997194}}}"
      ]
     },
     "execution_count": 10,
     "metadata": {},
     "output_type": "execute_result"
    }
   ],
   "execution_count": 10
  },
  {
   "cell_type": "markdown",
   "metadata": {
    "collapsed": false,
    "jupyter": {
     "outputs_hidden": false
    }
   },
   "source": [
    "After computation scores can also be accessed via the `scores_` attribute or as dataframe using `.score_as_dataframe()`."
   ]
  },
  {
   "cell_type": "code",
   "metadata": {
    "collapsed": false,
    "jupyter": {
     "outputs_hidden": false
    },
    "ExecuteTime": {
     "end_time": "2024-04-19T14:56:20.016728Z",
     "start_time": "2024-04-19T14:56:19.994889Z"
    }
   },
   "source": [
    "synth_review.scores_"
   ],
   "outputs": [
    {
     "data": {
      "text/plain": [
       "{'privacy': {'DistanceClosestRecord': {'holdout': 0.0031013367760234613,\n",
       "   'synth': 0.07022481592845455},\n",
       "  'NearestNeighborDistanceRatio': {'holdout': 0.6242069835342642,\n",
       "   'synth': 0.8147354192497644},\n",
       "  'CategoricalCAPScore': {'score': 0.9645891978997194}}}"
      ]
     },
     "execution_count": 11,
     "metadata": {},
     "output_type": "execute_result"
    }
   ],
   "execution_count": 11
  },
  {
   "cell_type": "code",
   "metadata": {
    "ExecuteTime": {
     "end_time": "2024-04-19T14:56:20.035487Z",
     "start_time": "2024-04-19T14:56:20.017530Z"
    }
   },
   "source": "synth_review.score_as_dataframe(name='Privbayes')",
   "outputs": [
    {
     "data": {
      "text/plain": [
       "                                              Privbayes\n",
       "privacy_DistanceClosestRecord_holdout          0.003101\n",
       "privacy_DistanceClosestRecord_synth            0.070225\n",
       "privacy_NearestNeighborDistanceRatio_holdout   0.624207\n",
       "privacy_NearestNeighborDistanceRatio_synth     0.814735\n",
       "privacy_CategoricalCAPScore_score              0.964589"
      ],
      "text/html": [
       "<div>\n",
       "<style scoped>\n",
       "    .dataframe tbody tr th:only-of-type {\n",
       "        vertical-align: middle;\n",
       "    }\n",
       "\n",
       "    .dataframe tbody tr th {\n",
       "        vertical-align: top;\n",
       "    }\n",
       "\n",
       "    .dataframe thead th {\n",
       "        text-align: right;\n",
       "    }\n",
       "</style>\n",
       "<table border=\"1\" class=\"dataframe\">\n",
       "  <thead>\n",
       "    <tr style=\"text-align: right;\">\n",
       "      <th></th>\n",
       "      <th>Privbayes</th>\n",
       "    </tr>\n",
       "  </thead>\n",
       "  <tbody>\n",
       "    <tr>\n",
       "      <th>privacy_DistanceClosestRecord_holdout</th>\n",
       "      <td>0.003101</td>\n",
       "    </tr>\n",
       "    <tr>\n",
       "      <th>privacy_DistanceClosestRecord_synth</th>\n",
       "      <td>0.070225</td>\n",
       "    </tr>\n",
       "    <tr>\n",
       "      <th>privacy_NearestNeighborDistanceRatio_holdout</th>\n",
       "      <td>0.624207</td>\n",
       "    </tr>\n",
       "    <tr>\n",
       "      <th>privacy_NearestNeighborDistanceRatio_synth</th>\n",
       "      <td>0.814735</td>\n",
       "    </tr>\n",
       "    <tr>\n",
       "      <th>privacy_CategoricalCAPScore_score</th>\n",
       "      <td>0.964589</td>\n",
       "    </tr>\n",
       "  </tbody>\n",
       "</table>\n",
       "</div>"
      ]
     },
     "execution_count": 12,
     "metadata": {},
     "output_type": "execute_result"
    }
   ],
   "execution_count": 12
  },
  {
   "cell_type": "markdown",
   "metadata": {
    "collapsed": false,
    "jupyter": {
     "outputs_hidden": false
    }
   },
   "source": [
    "You can see how the metrics within the `SyntheticDataBenchmark` class are affected by the `metic_kwargs` parameters and computation on the data."
   ]
  },
  {
   "cell_type": "code",
   "metadata": {
    "collapsed": false,
    "jupyter": {
     "outputs_hidden": false
    },
    "ExecuteTime": {
     "end_time": "2024-04-19T14:56:20.049859Z",
     "start_time": "2024-04-19T14:56:20.036873Z"
    }
   },
   "source": [
    "synth_review.metrics"
   ],
   "outputs": [
    {
     "data": {
      "text/plain": [
       "{'privacy': [DistanceClosestRecord({'encoder': None, 'quantile': 0.5, 'metric': 'gower', 'categorical_columns': ['workclass', 'education', 'marital-status', 'occupation', 'relationship', 'race', 'sex', 'native-country', 'income']}),\n",
       "  NearestNeighborDistanceRatio({'encoder': None, 'quantile': 0.5, 'metric': 'gower', 'n_neighbors': 2, 'categorical_columns': ['workclass', 'education', 'marital-status', 'occupation', 'relationship', 'race', 'sex', 'native-country', 'income']}),\n",
       "  CategoricalCAPScore({'encoder': None, 'categorical_columns': ['workclass', 'education', 'marital-status', 'occupation', 'relationship', 'race', 'sex', 'native-country', 'income'], 'frac_sensitive': 0.5, 'random_state': 42})]}"
      ]
     },
     "execution_count": 13,
     "metadata": {},
     "output_type": "execute_result"
    }
   ],
   "execution_count": 13
  },
  {
   "cell_type": "markdown",
   "metadata": {},
   "source": [
    "## Benchmarking\n",
    "We can benchmark a selection of generators by creating synthetic datasets for each and compare their performance."
   ]
  },
  {
   "cell_type": "code",
   "metadata": {
    "ExecuteTime": {
     "end_time": "2024-04-19T14:57:06.257869Z",
     "start_time": "2024-04-19T14:56:20.050467Z"
    }
   },
   "source": [
    "# define generator selection\n",
    "generators = [MarginalGenerator(epsilon=0.1), PrivBayes(epsilon=0.1), PrivBayes(epsilon=1)]\n",
    "\n",
    "# optional: reviewer to run a suite of metrics and combine results for all generated synthetic datasets\n",
    "synth_review = SyntheticDataReview(metrics=metrics, metric_kwargs=metric_kwargs, encoder='ordinal', n_jobs=n_jobs, verbose=VERBOSE)\n",
    "\n",
    "benchmark.benchmark_generators(\n",
    "    data_real=df_train,\n",
    "    data_holdout=df_holdout,    \n",
    "    generators=generators,\n",
    "    path_out = paths.PATH_RESULTS / 'adult',\n",
    "    n_records=1000,\n",
    "    reviewer=synth_review,\n",
    "    fname_param='epsilon',\n",
    "    verbose=VERBOSE\n",
    ")\n"
   ],
   "outputs": [
    {
     "name": "stdout",
     "output_type": "stream",
     "text": [
      "Running generator MarginalGenerator\n",
      "Fitting generator MarginalGenerator on input data\n",
      "Marginal fitted: age\n",
      "Marginal fitted: hours-per-week\n",
      "Marginal fitted: workclass\n",
      "Marginal fitted: education\n",
      "Marginal fitted: marital-status\n",
      "Marginal fitted: occupation\n",
      "Marginal fitted: relationship\n",
      "Marginal fitted: race\n",
      "Marginal fitted: sex\n",
      "Marginal fitted: native-country\n",
      "Marginal fitted: income\n",
      "Generator fitted. Generating 1000 records\n",
      "Column sampled: age\n",
      "Column sampled: hours-per-week\n",
      "Column sampled: workclass\n",
      "Column sampled: education\n",
      "Column sampled: marital-status\n",
      "Column sampled: occupation\n",
      "Column sampled: relationship\n",
      "Column sampled: race\n",
      "Column sampled: sex\n",
      "Column sampled: native-country\n",
      "Column sampled: income\n",
      "Saved synthetic data and generator for 0_MarginalGenerator_epsilon0.1 at /Users/dknoors/Projects/synthesis-dk/crn-synth/results/adult\n",
      "Running reviewer for 0_MarginalGenerator_epsilon0.1\n",
      "Running generator PrivBayes\n",
      "Fitting generator PrivBayes on input data\n",
      "1/11 - Root of network: marital-status\n",
      "\n",
      "2/11 - Evaluating next attribute to add to network\n",
      "Number of AttributeParentPair candidates: 10\n",
      "Selected attribute: 'sex' - with parents: ('marital-status',)\n",
      "\n",
      "3/11 - Evaluating next attribute to add to network\n",
      "Number of AttributeParentPair candidates: 10\n",
      "Selected attribute: 'relationship' - with parents: ('sex',)\n",
      "\n",
      "4/11 - Evaluating next attribute to add to network\n",
      "Number of AttributeParentPair candidates: 10\n",
      "Selected attribute: 'education' - with parents: None\n",
      "\n",
      "5/11 - Evaluating next attribute to add to network\n",
      "Number of AttributeParentPair candidates: 9\n",
      "Selected attribute: 'income' - with parents: ('relationship',)\n",
      "\n",
      "6/11 - Evaluating next attribute to add to network\n",
      "Number of AttributeParentPair candidates: 7\n",
      "Selected attribute: 'workclass' - with parents: ('income',)\n",
      "\n",
      "7/11 - Evaluating next attribute to add to network\n",
      "Number of AttributeParentPair candidates: 5\n",
      "Selected attribute: 'occupation' - with parents: None\n",
      "\n",
      "8/11 - Evaluating next attribute to add to network\n",
      "Number of AttributeParentPair candidates: 4\n",
      "Selected attribute: 'hours-per-week' - with parents: None\n",
      "\n",
      "9/11 - Evaluating next attribute to add to network\n",
      "Number of AttributeParentPair candidates: 3\n",
      "Selected attribute: 'native-country' - with parents: None\n",
      "\n",
      "10/11 - Evaluating next attribute to add to network\n",
      "Number of AttributeParentPair candidates: 2\n",
      "Selected attribute: 'race' - with parents: ('sex', 'income')\n",
      "\n",
      "11/11 - Evaluating next attribute to add to network\n",
      "Number of AttributeParentPair candidates: 1\n",
      "Selected attribute: 'age' - with parents: None\n",
      "\n",
      "Learned Network Structure\n",
      "\n",
      "Learning conditional probabilities: marital-status - with parents None ~ estimated size: 7\n",
      "Learning conditional probabilities: sex - with parents ('marital-status',) ~ estimated size: 14\n",
      "Learning conditional probabilities: relationship - with parents ('sex',) ~ estimated size: 12\n",
      "Learning conditional probabilities: education - with parents None ~ estimated size: 16\n",
      "Learning conditional probabilities: income - with parents ('relationship',) ~ estimated size: 12\n",
      "Learning conditional probabilities: workclass - with parents ('income',) ~ estimated size: 18\n",
      "Learning conditional probabilities: occupation - with parents None ~ estimated size: 15\n",
      "Learning conditional probabilities: hours-per-week - with parents None ~ estimated size: 94\n",
      "Learning conditional probabilities: native-country - with parents None ~ estimated size: 42\n",
      "Learning conditional probabilities: race - with parents ('sex', 'income') ~ estimated size: 20\n",
      "Learning conditional probabilities: age - with parents None ~ estimated size: 71\n",
      "Generator fitted. Generating 1000 records\n",
      "Number of records generated: 1000 / 1000\n",
      "Synthetic Data Generated\n",
      "\n",
      "Saved synthetic data and generator for 1_PrivBayes_epsilon0.1 at /Users/dknoors/Projects/synthesis-dk/crn-synth/results/adult\n",
      "Running reviewer for 1_PrivBayes_epsilon0.1\n",
      "Running generator PrivBayes\n",
      "Fitting generator PrivBayes on input data\n",
      "1/11 - Root of network: hours-per-week\n",
      "\n",
      "2/11 - Evaluating next attribute to add to network\n",
      "Number of AttributeParentPair candidates: 10\n",
      "Selected attribute: 'sex' - with parents: ('hours-per-week',)\n",
      "\n",
      "3/11 - Evaluating next attribute to add to network\n",
      "Number of AttributeParentPair candidates: 10\n",
      "Selected attribute: 'relationship' - with parents: ('sex',)\n",
      "\n",
      "4/11 - Evaluating next attribute to add to network\n",
      "Number of AttributeParentPair candidates: 9\n",
      "Selected attribute: 'marital-status' - with parents: ('sex', 'relationship')\n",
      "\n",
      "5/11 - Evaluating next attribute to add to network\n",
      "Number of AttributeParentPair candidates: 12\n",
      "Selected attribute: 'occupation' - with parents: ('sex', 'relationship')\n",
      "\n",
      "6/11 - Evaluating next attribute to add to network\n",
      "Number of AttributeParentPair candidates: 14\n",
      "Selected attribute: 'workclass' - with parents: ('occupation',)\n",
      "\n",
      "7/11 - Evaluating next attribute to add to network\n",
      "Number of AttributeParentPair candidates: 16\n",
      "Selected attribute: 'income' - with parents: ('workclass', 'marital-status')\n",
      "\n",
      "8/11 - Evaluating next attribute to add to network\n",
      "Number of AttributeParentPair candidates: 13\n",
      "Selected attribute: 'education' - with parents: ('income', 'relationship')\n",
      "\n",
      "9/11 - Evaluating next attribute to add to network\n",
      "Number of AttributeParentPair candidates: 10\n",
      "Selected attribute: 'age' - with parents: ('income',)\n",
      "\n",
      "10/11 - Evaluating next attribute to add to network\n",
      "Number of AttributeParentPair candidates: 8\n",
      "Selected attribute: 'race' - with parents: ('sex', 'occupation')\n",
      "\n",
      "11/11 - Evaluating next attribute to add to network\n",
      "Number of AttributeParentPair candidates: 1\n",
      "Selected attribute: 'native-country' - with parents: ('sex', 'income')\n",
      "\n",
      "Learned Network Structure\n",
      "\n",
      "Learning conditional probabilities: hours-per-week - with parents None ~ estimated size: 94\n",
      "Learning conditional probabilities: sex - with parents ('hours-per-week',) ~ estimated size: 188\n",
      "Learning conditional probabilities: relationship - with parents ('sex',) ~ estimated size: 12\n",
      "Learning conditional probabilities: marital-status - with parents ('sex', 'relationship') ~ estimated size: 84\n",
      "Learning conditional probabilities: occupation - with parents ('sex', 'relationship') ~ estimated size: 180\n",
      "Learning conditional probabilities: workclass - with parents ('occupation',) ~ estimated size: 135\n",
      "Learning conditional probabilities: income - with parents ('workclass', 'marital-status') ~ estimated size: 126\n",
      "Learning conditional probabilities: education - with parents ('income', 'relationship') ~ estimated size: 192\n",
      "Learning conditional probabilities: age - with parents ('income',) ~ estimated size: 142\n",
      "Learning conditional probabilities: race - with parents ('sex', 'occupation') ~ estimated size: 150\n",
      "Learning conditional probabilities: native-country - with parents ('sex', 'income') ~ estimated size: 168\n",
      "Generator fitted. Generating 1000 records\n",
      "Number of records generated: 515 / 1000"
     ]
    },
    {
     "name": "stderr",
     "output_type": "stream",
     "text": [
      "/Users/dknoors/miniconda3/envs/crnsynth/lib/python3.9/site-packages/thomas/core/factors/cpt.py:65: RuntimeWarning: invalid value encountered in divide\n",
      "  self.values = self.values / row_sum\n",
      "/Users/dknoors/miniconda3/envs/crnsynth/lib/python3.9/site-packages/thomas/core/factors/cpt.py:65: RuntimeWarning: invalid value encountered in divide\n",
      "  self.values = self.values / row_sum\n"
     ]
    },
    {
     "name": "stdout",
     "output_type": "stream",
     "text": [
      "Number of records generated: 1000 / 1000\n",
      "Synthetic Data Generated\n",
      "\n",
      "Saved synthetic data and generator for 2_PrivBayes_epsilon1 at /Users/dknoors/Projects/synthesis-dk/crn-synth/results/adult\n",
      "Running reviewer for 2_PrivBayes_epsilon1\n",
      "Saved scores at /Users/dknoors/Projects/synthesis-dk/crn-synth/results/adult/reports/scores.csv\n"
     ]
    }
   ],
   "execution_count": 14
  },
  {
   "metadata": {
    "ExecuteTime": {
     "end_time": "2024-04-19T14:57:06.276575Z",
     "start_time": "2024-04-19T14:57:06.258754Z"
    }
   },
   "cell_type": "code",
   "source": [
    "# load results\n",
    "scores_benchmark = pd.read_csv(paths.PATH_RESULTS / 'adult/reports/scores.csv')\n",
    "scores_benchmark"
   ],
   "outputs": [
    {
     "data": {
      "text/plain": [
       "                                         metric  \\\n",
       "0         privacy_DistanceClosestRecord_holdout   \n",
       "1           privacy_DistanceClosestRecord_synth   \n",
       "2  privacy_NearestNeighborDistanceRatio_holdout   \n",
       "3    privacy_NearestNeighborDistanceRatio_synth   \n",
       "4             privacy_CategoricalCAPScore_score   \n",
       "\n",
       "   0_MarginalGenerator_epsilon0.1  1_PrivBayes_epsilon0.1  \\\n",
       "0                        0.003101                0.003101   \n",
       "1                        0.829048                0.874992   \n",
       "2                        0.624207                0.624207   \n",
       "3                        0.933264                0.920203   \n",
       "4                        0.977537                0.962037   \n",
       "\n",
       "   2_PrivBayes_epsilon1  \n",
       "0              0.003101  \n",
       "1              0.073154  \n",
       "2              0.624207  \n",
       "3              0.774144  \n",
       "4              0.982125  "
      ],
      "text/html": [
       "<div>\n",
       "<style scoped>\n",
       "    .dataframe tbody tr th:only-of-type {\n",
       "        vertical-align: middle;\n",
       "    }\n",
       "\n",
       "    .dataframe tbody tr th {\n",
       "        vertical-align: top;\n",
       "    }\n",
       "\n",
       "    .dataframe thead th {\n",
       "        text-align: right;\n",
       "    }\n",
       "</style>\n",
       "<table border=\"1\" class=\"dataframe\">\n",
       "  <thead>\n",
       "    <tr style=\"text-align: right;\">\n",
       "      <th></th>\n",
       "      <th>metric</th>\n",
       "      <th>0_MarginalGenerator_epsilon0.1</th>\n",
       "      <th>1_PrivBayes_epsilon0.1</th>\n",
       "      <th>2_PrivBayes_epsilon1</th>\n",
       "    </tr>\n",
       "  </thead>\n",
       "  <tbody>\n",
       "    <tr>\n",
       "      <th>0</th>\n",
       "      <td>privacy_DistanceClosestRecord_holdout</td>\n",
       "      <td>0.003101</td>\n",
       "      <td>0.003101</td>\n",
       "      <td>0.003101</td>\n",
       "    </tr>\n",
       "    <tr>\n",
       "      <th>1</th>\n",
       "      <td>privacy_DistanceClosestRecord_synth</td>\n",
       "      <td>0.829048</td>\n",
       "      <td>0.874992</td>\n",
       "      <td>0.073154</td>\n",
       "    </tr>\n",
       "    <tr>\n",
       "      <th>2</th>\n",
       "      <td>privacy_NearestNeighborDistanceRatio_holdout</td>\n",
       "      <td>0.624207</td>\n",
       "      <td>0.624207</td>\n",
       "      <td>0.624207</td>\n",
       "    </tr>\n",
       "    <tr>\n",
       "      <th>3</th>\n",
       "      <td>privacy_NearestNeighborDistanceRatio_synth</td>\n",
       "      <td>0.933264</td>\n",
       "      <td>0.920203</td>\n",
       "      <td>0.774144</td>\n",
       "    </tr>\n",
       "    <tr>\n",
       "      <th>4</th>\n",
       "      <td>privacy_CategoricalCAPScore_score</td>\n",
       "      <td>0.977537</td>\n",
       "      <td>0.962037</td>\n",
       "      <td>0.982125</td>\n",
       "    </tr>\n",
       "  </tbody>\n",
       "</table>\n",
       "</div>"
      ]
     },
     "execution_count": 15,
     "metadata": {},
     "output_type": "execute_result"
    }
   ],
   "execution_count": 15
  },
  {
   "metadata": {
    "ExecuteTime": {
     "end_time": "2024-04-19T11:16:08.768787Z",
     "start_time": "2024-04-19T11:16:08.747538Z"
    }
   },
   "cell_type": "code",
   "source": [
    "# load saved generator\n",
    "pb_reload = PrivBayes(epsilon=1).load(paths.PATH_RESULTS / 'adult/generators/2_PrivBayes_epsilon1.pkl')\n",
    "pb_reload.model_\n"
   ],
   "outputs": [
    {
     "data": {
      "text/plain": [
       "<BayesianNetwork name='PrivBayes'>\n",
       "  <Node RV='workclass' description='' states=['Private', 'Self-emp-not-inc', 'Local-gov', '?', 'State-gov', 'Self-emp-inc', 'Federal-gov', 'Without-pay', 'Never-worked'] />\n",
       "  <Node RV='occupation' description='' states=['?', 'Adm-clerical', 'Armed-Forces', 'Craft-repair', 'Exec-managerial', 'Farming-fishing', 'Handlers-cleaners', 'Machine-op-inspct', 'Other-service', 'Priv-house-serv', 'Prof-specialty', 'Protective-serv', 'Sales', 'Tech-support', 'Transport-moving'] />\n",
       "  <Node RV='sex' description='' states=['Female', 'Male'] />\n",
       "  <Node RV='relationship' description='' states=['Husband', 'Not-in-family', 'Other-relative', 'Own-child', 'Unmarried', 'Wife'] />\n",
       "  <Node RV='marital-status' description='' states=['Divorced', 'Married-AF-spouse', 'Married-civ-spouse', 'Married-spouse-absent', 'Never-married', 'Separated', 'Widowed'] />\n",
       "  <Node RV='income' description='' states=['<=50K', '>50K'] />\n",
       "  <Node RV='education' description='' states=['10th', '11th', '12th', '1st-4th', '5th-6th', '7th-8th', '9th', 'Assoc-acdm', 'Assoc-voc', 'Bachelors', 'Doctorate', 'HS-grad', 'Masters', 'Preschool', 'Prof-school', 'Some-college'] />\n",
       "  <Node RV='age' description='' states=[17, 18, 19, 20, 21, 22, 23, 24, 25, 26, 27, 28, 29, 30, 31, 32, 33, 34, 35, 36, 37, 38, 39, 40, 41, 42, 43, 44, 45, 46, 47, 48, 49, 50, 51, 52, 53, 54, 55, 56, 57, 58, 59, 60, 61, 62, 63, 64, 65, 66, 67, 68, 69, 70, 71, 72, 73, 74, 75, 76, 77, 78, 79, 80, 81, 82, 83, 84, 85, 88, 90] />\n",
       "  <Node RV='hours-per-week' description='' states=[1, 2, 3, 4, 5, 6, 7, 8, 9, 10, 11, 12, 13, 14, 15, 16, 17, 18, 19, 20, 21, 22, 23, 24, 25, 26, 27, 28, 29, 30, 31, 32, 33, 34, 35, 36, 37, 38, 39, 40, 41, 42, 43, 44, 45, 46, 47, 48, 49, 50, 51, 52, 53, 54, 55, 56, 57, 58, 59, 60, 61, 62, 63, 64, 65, 66, 67, 68, 70, 72, 73, 74, 75, 76, 77, 78, 80, 81, 82, 84, 85, 86, 87, 88, 89, 90, 91, 92, 94, 95, 96, 97, 98, 99] />\n",
       "  <Node RV='race' description='' states=['Amer-Indian-Eskimo', 'Asian-Pac-Islander', 'Black', 'Other', 'White'] />\n",
       "  <Node RV='native-country' description='' states=['?', 'Cambodia', 'Canada', 'China', 'Columbia', 'Cuba', 'Dominican-Republic', 'Ecuador', 'El-Salvador', 'England', 'France', 'Germany', 'Greece', 'Guatemala', 'Haiti', 'Holand-Netherlands', 'Honduras', 'Hong', 'Hungary', 'India', 'Iran', 'Ireland', 'Italy', 'Jamaica', 'Japan', 'Laos', 'Mexico', 'Nicaragua', 'Outlying-US(Guam-USVI-etc)', 'Peru', 'Philippines', 'Poland', 'Portugal', 'Puerto-Rico', 'Scotland', 'South', 'Taiwan', 'Thailand', 'Trinadad&Tobago', 'United-States', 'Vietnam', 'Yugoslavia'] />\n",
       "</BayesianNetwork>"
      ]
     },
     "execution_count": 72,
     "metadata": {},
     "output_type": "execute_result"
    }
   ],
   "execution_count": 72
  },
  {
   "metadata": {},
   "cell_type": "code",
   "outputs": [],
   "execution_count": null,
   "source": ""
  }
 ],
 "metadata": {
  "kernelspec": {
   "display_name": "Python 3 (ipykernel)",
   "language": "python",
   "name": "python3"
  },
  "language_info": {
   "codemirror_mode": {
    "name": "ipython",
    "version": 3
   },
   "file_extension": ".py",
   "mimetype": "text/x-python",
   "name": "python",
   "nbconvert_exporter": "python",
   "pygments_lexer": "ipython3",
   "version": "3.9.18"
  }
 },
 "nbformat": 4,
 "nbformat_minor": 4
}
